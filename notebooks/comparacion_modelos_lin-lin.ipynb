{
 "cells": [
  {
   "cell_type": "code",
   "execution_count": 1,
   "metadata": {},
   "outputs": [
    {
     "name": "stderr",
     "output_type": "stream",
     "text": [
      "Using TensorFlow backend.\n"
     ]
    }
   ],
   "source": [
    "import pandas as pd\n",
    "import tensorflow as tf\n",
    "import custom_metrics as cm\n",
    "import sklearn as sk\n",
    "import numpy as np\n",
    "import math\n",
    "import seaborn as sns\n",
    "import data_preprocessing as dp\n",
    "import expenditure_predictor as ep\n",
    "import matplotlib.pyplot as plt\n",
    "import feature_selection as fs\n",
    "import keras\n",
    "from keras.models import load_model\n",
    "from sklearn import preprocessing\n",
    "from sklearn.ensemble import RandomForestRegressor\n",
    "from tensorflow.python.keras import layers\n",
    "from sklearn.metrics import r2_score\n",
    "from sklearn.preprocessing import MinMaxScaler, StandardScaler\n",
    "from sklearn.linear_model import LinearRegression\n",
    "from sklearn.tree import DecisionTreeRegressor\n",
    "from sklearn.decomposition import PCA\n",
    "from sklearn import preprocessing\n",
    "from sklearn import svm"
   ]
  },
  {
   "cell_type": "code",
   "execution_count": 7,
   "metadata": {},
   "outputs": [],
   "source": [
    "# Esta función tiene la red con la configuración obtenida por el algoritmo evolutivo.\n",
    "def get_model(train_dataset):\n",
    "    \n",
    "    model = keras.Sequential([\n",
    "        layers.Dense(27, activation=tf.nn.relu, input_shape=[len(train_dataset.keys())]),\n",
    "        layers.Dense(36, activation=tf.nn.relu),\n",
    "        layers.Dense(27, activation=tf.nn.relu),\n",
    "        layers.Dense(53, activation=tf.nn.relu),\n",
    "        layers.Dense(45, activation=tf.nn.relu),\n",
    "        layers.Dense(56, activation=tf.nn.relu),\n",
    "        layers.Dense(20, activation=tf.nn.relu),\n",
    "        layers.Dense(1)\n",
    "    ])\n",
    "    optimizer = tf.keras.optimizers.Adadelta(lr=0.043)\n",
    "    model.compile(loss='mae',\n",
    "                  optimizer=optimizer,\n",
    "                  metrics=['mae', 'mse'], )\n",
    "    return model"
   ]
  },
  {
   "cell_type": "markdown",
   "metadata": {},
   "source": [
    "# Comparación entre modelos - Especificación lin-lin\n",
    "\n",
    "En este notebook aprovecharemos para llevar a cabo la comparación entre todos los conjuntos de variables obtenidos en el notebook seleccion_de_caracteristicas"
   ]
  },
  {
   "cell_type": "markdown",
   "metadata": {},
   "source": [
    "# Subconjunto Literatura con selección por correlación 0.1\n"
   ]
  },
  {
   "cell_type": "markdown",
   "metadata": {},
   "source": [
    "### Subconjunto Literatura - Regresión Lineal con constante"
   ]
  },
  {
   "cell_type": "code",
   "execution_count": 8,
   "metadata": {},
   "outputs": [],
   "source": [
    "literatura_corr1 = ['NOCHES', 'PERSONAS_TOTAL', 'INGRESOS', 'EDAD', 'ACTIV_PISCINA',\n",
    "                    'ACTIV_PARQUES_OCIO', 'ALOJ_CATEG_HOTEL4', 'ALOJ_CATEG_HOTEL5',\n",
    "                    'ALOJ_CATEG_PROPIA', 'PAQUETE_TURISTICO_ALGUNO_GRATIS',\n",
    "                    'PAQUETE_TURISTICO_SI', 'NACIONALIDAD_ESP724']"
   ]
  },
  {
   "cell_type": "markdown",
   "metadata": {},
   "source": [
    "#### Antes de evaluar los modelos con estas variables, vamos a echar un vistazo a su FIV para asegurarnos de que no haya multicolinealidad"
   ]
  },
  {
   "cell_type": "code",
   "execution_count": 9,
   "metadata": {
    "scrolled": true
   },
   "outputs": [
    {
     "name": "stderr",
     "output_type": "stream",
     "text": [
      "C:\\Users\\amct2\\PycharmProjects\\tfg\\data_preprocessing.py:84: UserWarning: Boolean Series key will be reindexed to match DataFrame index.\n",
      "  x = x[(y > q1 - IQR)]\n"
     ]
    },
    {
     "name": "stdout",
     "output_type": "stream",
     "text": [
      "(35767, 15)\n",
      "         VIF                        variables\n",
      "0   1.136865                           NOCHES\n",
      "1   1.094268                   PERSONAS_TOTAL\n",
      "2   1.084179                         INGRESOS\n",
      "3   1.149057                             EDAD\n",
      "4   1.208634                    ACTIV_PISCINA\n",
      "5   1.079405               ACTIV_PARQUES_OCIO\n",
      "6   1.227226                ALOJ_CATEG_HOTEL4\n",
      "7   1.085073                ALOJ_CATEG_HOTEL5\n",
      "8   2.198275                ALOJ_CATEG_PROPIA\n",
      "9   2.238674  PAQUETE_TURISTICO_ALGUNO_GRATIS\n",
      "10  1.350105             PAQUETE_TURISTICO_SI\n",
      "11  1.333411              NACIONALIDAD_ESP724\n",
      "12  1.265152              NACIONALIDAD_GBR826\n",
      "13  1.285426              NACIONALIDAD_DEU276\n",
      "<bound method NDFrame.head of          NOCHES  PERSONAS_TOTAL  INGRESOS      EDAD  ACTIV_PISCINA  \\\n",
      "0     -0.353816       -0.405225 -1.549827 -0.107326       0.851542   \n",
      "1     -0.096492        0.440875 -0.414888 -0.242379       0.851542   \n",
      "2      0.418155       -0.405225 -1.549827  1.715889      -1.174340   \n",
      "3     -1.125787       -0.405225 -0.414888 -1.052697      -1.174340   \n",
      "4     -0.353816        1.286975  0.743213 -0.444959       0.851542   \n",
      "...         ...             ...       ...       ...            ...   \n",
      "37899 -0.868463       -0.405225  0.743213  1.040624       0.851542   \n",
      "37900  1.447450        0.440875  1.345426  0.297832       0.851542   \n",
      "37901  0.675479       -0.405225 -0.414888 -1.052697       0.851542   \n",
      "37902 -0.353816       -0.405225 -0.414888 -1.187750       0.851542   \n",
      "37903  1.447450        1.286975 -0.414888  0.567938       0.851542   \n",
      "\n",
      "       ACTIV_PARQUES_OCIO  ALOJ_CATEG_HOTEL4  ALOJ_CATEG_HOTEL5  \\\n",
      "0               -0.428341          -0.741325          -0.250571   \n",
      "1               -0.428341           1.348936          -0.250571   \n",
      "2               -0.428341          -0.741325          -0.250571   \n",
      "3               -0.428341           1.348936          -0.250571   \n",
      "4               -0.428341          -0.741325          -0.250571   \n",
      "...                   ...                ...                ...   \n",
      "37899            2.334591           1.348936          -0.250571   \n",
      "37900           -0.428341           1.348936          -0.250571   \n",
      "37901           -0.428341           1.348936          -0.250571   \n",
      "37902            2.334591          -0.741325          -0.250571   \n",
      "37903            2.334591          -0.741325          -0.250571   \n",
      "\n",
      "       ALOJ_CATEG_PROPIA  PAQUETE_TURISTICO_ALGUNO_GRATIS  \\\n",
      "0               3.469780                         2.816526   \n",
      "1              -0.288203                        -0.355047   \n",
      "2              -0.288203                        -0.355047   \n",
      "3              -0.288203                        -0.355047   \n",
      "4              -0.288203                        -0.355047   \n",
      "...                  ...                              ...   \n",
      "37899          -0.288203                        -0.355047   \n",
      "37900          -0.288203                        -0.355047   \n",
      "37901          -0.288203                        -0.355047   \n",
      "37902          -0.288203                        -0.355047   \n",
      "37903          -0.288203                        -0.355047   \n",
      "\n",
      "       PAQUETE_TURISTICO_SI  NACIONALIDAD_ESP724  NACIONALIDAD_GBR826  \\\n",
      "0                 -1.071105             2.194056            -0.605615   \n",
      "1                 -1.071105            -0.455777            -0.605615   \n",
      "2                 -1.071105            -0.455777            -0.605615   \n",
      "3                 -1.071105            -0.455777             1.651213   \n",
      "4                 -1.071105             2.194056            -0.605615   \n",
      "...                     ...                  ...                  ...   \n",
      "37899              0.933615            -0.455777             1.651213   \n",
      "37900             -1.071105            -0.455777             1.651213   \n",
      "37901              0.933615            -0.455777            -0.605615   \n",
      "37902              0.933615            -0.455777            -0.605615   \n",
      "37903             -1.071105            -0.455777            -0.605615   \n",
      "\n",
      "       NACIONALIDAD_DEU276  \n",
      "0                -0.456448  \n",
      "1                -0.456448  \n",
      "2                 2.190831  \n",
      "3                -0.456448  \n",
      "4                -0.456448  \n",
      "...                    ...  \n",
      "37899            -0.456448  \n",
      "37900            -0.456448  \n",
      "37901            -0.456448  \n",
      "37902            -0.456448  \n",
      "37903            -0.456448  \n",
      "\n",
      "[35767 rows x 14 columns]>\n"
     ]
    }
   ],
   "source": [
    "X = dp.load_dataset('./datos/GASTO_TURISTICO_2018_ORIGINAL_2.csv', ';', ',', predictors=literatura_corr1, dummies=True, desglose=False)\n",
    "print(X.shape)\n",
    "scaler = StandardScaler()\n",
    "\n",
    "y = X.pop('GASTO')\n",
    "X = pd.DataFrame(scaler.fit_transform(X.values), columns=X.columns, index=X.index)\n",
    "fs.check_vif(X)\n",
    "print(X.head)"
   ]
  },
  {
   "cell_type": "markdown",
   "metadata": {},
   "source": [
    "En principio parece que no hemos detectado ningún FIV alarmante (en torno a 5), por lo que procederemos a predecir con nuestro subconjunto."
   ]
  },
  {
   "cell_type": "code",
   "execution_count": 11,
   "metadata": {},
   "outputs": [],
   "source": [
    "X['GASTO'] = y\n",
    "\n",
    "train_dataset, test_dataset = dp.split_dataset(X)\n",
    "train_labels = train_dataset.pop('GASTO')\n",
    "test_labels = test_dataset.pop('GASTO')"
   ]
  },
  {
   "cell_type": "markdown",
   "metadata": {},
   "source": [
    "### Subconjunto Literatura por correlación 0.1 - Regresión Lineal con constante"
   ]
  },
  {
   "cell_type": "code",
   "execution_count": 24,
   "metadata": {
    "scrolled": true
   },
   "outputs": [
    {
     "name": "stdout",
     "output_type": "stream",
     "text": [
      "----Resultados sobre TRAIN----\n",
      "R2:  0.5063263182214464\n",
      "Adjusted R2:  0.5061053692366133\n",
      "MAPE: 59.21196196366437\n",
      "----Resultados sobre TEST----\n",
      "R2:  0.5044853791796562\n",
      "Adjusted R2:  0.5038194394943785\n",
      "MAPE: 59.45415516367362\n"
     ]
    },
    {
     "data": {
      "image/png": "[encoded data removed]",
      "text/plain": [
       "<Figure size 432x288 with 1 Axes>"
      ]
     },
     "metadata": {
      "needs_background": "light"
     },
     "output_type": "display_data"
    },
    {
     "data": {
      "text/plain": [
       "0.5044853791796562"
      ]
     },
     "execution_count": 24,
     "metadata": {},
     "output_type": "execute_result"
    }
   ],
   "source": [
    "lr = LinearRegression(fit_intercept=True)\n",
    "lr.fit(train_dataset, train_labels)\n",
    "cm.evaluate_lin_lin(test_dataset, test_labels, train_dataset, train_labels, lr)"
   ]
  },
  {
   "cell_type": "markdown",
   "metadata": {},
   "source": [
    "### Subconjunto Literatura con correlación 0.1 - Red Neuronal "
   ]
  },
  {
   "cell_type": "code",
   "execution_count": 25,
   "metadata": {
    "scrolled": true
   },
   "outputs": [
    {
     "name": "stdout",
     "output_type": "stream",
     "text": [
      "_________________________________________________________________\n",
      "Layer (type)                 Output Shape              Param #   \n",
      "=================================================================\n",
      "dense_4 (Dense)              (None, 64)                832       \n",
      "_________________________________________________________________\n",
      "dense_5 (Dense)              (None, 64)                4160      \n",
      "_________________________________________________________________\n",
      "dense_6 (Dense)              (None, 64)                4160      \n",
      "_________________________________________________________________\n",
      "dense_7 (Dense)              (None, 1)                 65        \n",
      "=================================================================\n",
      "Total params: 9,217\n",
      "Trainable params: 9,217\n",
      "Non-trainable params: 0\n",
      "_________________________________________________________________\n",
      "None\n",
      "Train on 17972 samples, validate on 8853 samples\n",
      "Epoch 1/250\n",
      " - 1s - loss: 673.1383 - mean_absolute_error: 673.1382 - mean_squared_error: 844994.1250 - val_loss: 637.7649 - val_mean_absolute_error: 637.7650 - val_mean_squared_error: 765896.8125\n",
      "Epoch 2/250\n",
      " - 1s - loss: 641.4477 - mean_absolute_error: 641.4479 - mean_squared_error: 763320.3125 - val_loss: 635.0580 - val_mean_absolute_error: 635.0583 - val_mean_squared_error: 755647.8750\n",
      "Epoch 3/250\n",
      " - 1s - loss: 638.6185 - mean_absolute_error: 638.6186 - mean_squared_error: 755390.0625 - val_loss: 632.2658 - val_mean_absolute_error: 632.2656 - val_mean_squared_error: 750643.0625\n",
      "Epoch 4/250\n",
      " - 1s - loss: 635.7981 - mean_absolute_error: 635.7982 - mean_squared_error: 749836.6875 - val_loss: 633.1618 - val_mean_absolute_error: 633.1622 - val_mean_squared_error: 753710.1250\n",
      "Epoch 5/250\n",
      " - 1s - loss: 635.4554 - mean_absolute_error: 635.4550 - mean_squared_error: 747938.0625 - val_loss: 631.2400 - val_mean_absolute_error: 631.2397 - val_mean_squared_error: 752072.6250\n",
      "Epoch 6/250\n",
      " - 1s - loss: 634.4413 - mean_absolute_error: 634.4410 - mean_squared_error: 747135.5625 - val_loss: 629.9977 - val_mean_absolute_error: 629.9979 - val_mean_squared_error: 745294.3750\n",
      "Epoch 7/250\n",
      " - 1s - loss: 633.6199 - mean_absolute_error: 633.6196 - mean_squared_error: 744461.5000 - val_loss: 630.6653 - val_mean_absolute_error: 630.6653 - val_mean_squared_error: 749712.5000\n",
      "Epoch 8/250\n",
      " - 1s - loss: 633.1377 - mean_absolute_error: 633.1379 - mean_squared_error: 745383.0625 - val_loss: 630.7927 - val_mean_absolute_error: 630.7927 - val_mean_squared_error: 745398.8125\n",
      "Epoch 9/250\n",
      " - 1s - loss: 632.4868 - mean_absolute_error: 632.4868 - mean_squared_error: 741627.9375 - val_loss: 630.6321 - val_mean_absolute_error: 630.6322 - val_mean_squared_error: 748282.5000\n",
      "Epoch 10/250\n",
      " - 1s - loss: 632.0860 - mean_absolute_error: 632.0864 - mean_squared_error: 741677.6250 - val_loss: 630.1850 - val_mean_absolute_error: 630.1855 - val_mean_squared_error: 744479.8750\n",
      "Epoch 11/250\n",
      " - 1s - loss: 631.6602 - mean_absolute_error: 631.6600 - mean_squared_error: 741615.6875 - val_loss: 629.4747 - val_mean_absolute_error: 629.4749 - val_mean_squared_error: 743963.8125\n",
      "Epoch 12/250\n",
      " - 1s - loss: 631.1013 - mean_absolute_error: 631.1011 - mean_squared_error: 738937.8750 - val_loss: 631.3121 - val_mean_absolute_error: 631.3121 - val_mean_squared_error: 744731.6875\n",
      "Epoch 13/250\n",
      " - 1s - loss: 630.8494 - mean_absolute_error: 630.8495 - mean_squared_error: 738684.5625 - val_loss: 628.8517 - val_mean_absolute_error: 628.8516 - val_mean_squared_error: 741632.7500\n",
      "Epoch 14/250\n",
      " - 1s - loss: 630.1711 - mean_absolute_error: 630.1713 - mean_squared_error: 737027.2500 - val_loss: 629.4488 - val_mean_absolute_error: 629.4491 - val_mean_squared_error: 746331.6250\n",
      "Epoch 15/250\n",
      " - 1s - loss: 629.9964 - mean_absolute_error: 629.9961 - mean_squared_error: 737387.0000 - val_loss: 628.8970 - val_mean_absolute_error: 628.8971 - val_mean_squared_error: 741894.1875\n",
      "Epoch 16/250\n",
      " - 1s - loss: 629.7296 - mean_absolute_error: 629.7295 - mean_squared_error: 735439.3125 - val_loss: 628.7502 - val_mean_absolute_error: 628.7502 - val_mean_squared_error: 742483.8125\n",
      "Epoch 17/250\n",
      " - 1s - loss: 629.0949 - mean_absolute_error: 629.0946 - mean_squared_error: 735727.5625 - val_loss: 628.4049 - val_mean_absolute_error: 628.4050 - val_mean_squared_error: 743824.3750\n",
      "Epoch 18/250\n",
      " - 1s - loss: 628.6105 - mean_absolute_error: 628.6104 - mean_squared_error: 734190.1250 - val_loss: 627.9268 - val_mean_absolute_error: 627.9267 - val_mean_squared_error: 737346.2500\n",
      "Epoch 19/250\n",
      " - 1s - loss: 628.4338 - mean_absolute_error: 628.4340 - mean_squared_error: 732488.9375 - val_loss: 627.9079 - val_mean_absolute_error: 627.9078 - val_mean_squared_error: 742029.7500\n",
      "Epoch 20/250\n",
      " - 1s - loss: 627.7411 - mean_absolute_error: 627.7408 - mean_squared_error: 731727.3750 - val_loss: 627.7699 - val_mean_absolute_error: 627.7700 - val_mean_squared_error: 739703.6250\n",
      "Epoch 21/250\n",
      " - 1s - loss: 627.2730 - mean_absolute_error: 627.2728 - mean_squared_error: 730963.0000 - val_loss: 626.9934 - val_mean_absolute_error: 626.9937 - val_mean_squared_error: 739400.6250\n",
      "Epoch 22/250\n",
      " - 1s - loss: 626.7227 - mean_absolute_error: 626.7230 - mean_squared_error: 728552.1250 - val_loss: 627.5756 - val_mean_absolute_error: 627.5758 - val_mean_squared_error: 744029.9375\n",
      "Epoch 23/250\n",
      " - 1s - loss: 626.5242 - mean_absolute_error: 626.5238 - mean_squared_error: 729851.6875 - val_loss: 627.2989 - val_mean_absolute_error: 627.2988 - val_mean_squared_error: 736890.7500\n",
      "Epoch 24/250\n",
      " - 1s - loss: 625.8638 - mean_absolute_error: 625.8637 - mean_squared_error: 727951.4375 - val_loss: 626.3838 - val_mean_absolute_error: 626.3837 - val_mean_squared_error: 735875.0000\n",
      "Epoch 25/250\n",
      " - 1s - loss: 625.3892 - mean_absolute_error: 625.3891 - mean_squared_error: 726500.2500 - val_loss: 625.7366 - val_mean_absolute_error: 625.7364 - val_mean_squared_error: 737106.0625\n",
      "Epoch 26/250\n",
      " - 1s - loss: 625.1503 - mean_absolute_error: 625.1501 - mean_squared_error: 727197.7500 - val_loss: 625.8141 - val_mean_absolute_error: 625.8140 - val_mean_squared_error: 732723.5625\n",
      "Epoch 27/250\n",
      " - 1s - loss: 624.3618 - mean_absolute_error: 624.3617 - mean_squared_error: 724809.4375 - val_loss: 627.0731 - val_mean_absolute_error: 627.0732 - val_mean_squared_error: 741075.2500\n",
      "Epoch 28/250\n",
      " - 1s - loss: 623.9863 - mean_absolute_error: 623.9862 - mean_squared_error: 722801.5000 - val_loss: 625.6842 - val_mean_absolute_error: 625.6841 - val_mean_squared_error: 739060.2500\n",
      "Epoch 29/250\n",
      " - 1s - loss: 623.5577 - mean_absolute_error: 623.5573 - mean_squared_error: 722171.1250 - val_loss: 626.9556 - val_mean_absolute_error: 626.9554 - val_mean_squared_error: 734870.9375\n",
      "Epoch 30/250\n",
      " - 1s - loss: 623.3361 - mean_absolute_error: 623.3364 - mean_squared_error: 721584.3750 - val_loss: 624.1885 - val_mean_absolute_error: 624.1887 - val_mean_squared_error: 732515.6250\n",
      "Epoch 31/250\n",
      " - 1s - loss: 622.7334 - mean_absolute_error: 622.7333 - mean_squared_error: 720566.1250 - val_loss: 624.1608 - val_mean_absolute_error: 624.1609 - val_mean_squared_error: 734226.5000\n",
      "Epoch 32/250\n",
      " - 1s - loss: 622.4891 - mean_absolute_error: 622.4886 - mean_squared_error: 720518.6875 - val_loss: 623.5987 - val_mean_absolute_error: 623.5987 - val_mean_squared_error: 733439.3750\n",
      "Epoch 33/250\n",
      " - 1s - loss: 621.9282 - mean_absolute_error: 621.9281 - mean_squared_error: 719384.6250 - val_loss: 623.9129 - val_mean_absolute_error: 623.9128 - val_mean_squared_error: 732515.0625\n",
      "Epoch 34/250\n",
      " - 1s - loss: 621.5899 - mean_absolute_error: 621.5898 - mean_squared_error: 717823.7500 - val_loss: 623.6862 - val_mean_absolute_error: 623.6862 - val_mean_squared_error: 729964.8750\n",
      "Epoch 35/250\n",
      " - 1s - loss: 621.2536 - mean_absolute_error: 621.2536 - mean_squared_error: 716929.0000 - val_loss: 623.5048 - val_mean_absolute_error: 623.5049 - val_mean_squared_error: 729090.8125\n",
      "Epoch 36/250\n",
      " - 1s - loss: 620.9754 - mean_absolute_error: 620.9754 - mean_squared_error: 716392.8125 - val_loss: 623.0878 - val_mean_absolute_error: 623.0877 - val_mean_squared_error: 728605.7500\n",
      "Epoch 37/250\n",
      " - 1s - loss: 620.8267 - mean_absolute_error: 620.8266 - mean_squared_error: 715244.8125 - val_loss: 623.2480 - val_mean_absolute_error: 623.2481 - val_mean_squared_error: 733344.5625\n"
     ]
    },
    {
     "name": "stdout",
     "output_type": "stream",
     "text": [
      "Epoch 38/250\n",
      " - 1s - loss: 620.3913 - mean_absolute_error: 620.3915 - mean_squared_error: 715462.0000 - val_loss: 622.9712 - val_mean_absolute_error: 622.9709 - val_mean_squared_error: 727990.4375\n",
      "Epoch 39/250\n",
      " - 1s - loss: 620.1807 - mean_absolute_error: 620.1808 - mean_squared_error: 714173.8125 - val_loss: 622.8371 - val_mean_absolute_error: 622.8371 - val_mean_squared_error: 727839.1250\n",
      "Epoch 40/250\n",
      " - 1s - loss: 619.8119 - mean_absolute_error: 619.8120 - mean_squared_error: 713694.8125 - val_loss: 623.1390 - val_mean_absolute_error: 623.1388 - val_mean_squared_error: 733277.1875\n",
      "Epoch 41/250\n",
      " - 1s - loss: 619.4442 - mean_absolute_error: 619.4443 - mean_squared_error: 713944.9375 - val_loss: 623.1722 - val_mean_absolute_error: 623.1723 - val_mean_squared_error: 727251.1875\n",
      "Epoch 42/250\n",
      " - 1s - loss: 619.2926 - mean_absolute_error: 619.2926 - mean_squared_error: 712114.7500 - val_loss: 627.1855 - val_mean_absolute_error: 627.1859 - val_mean_squared_error: 730337.8750\n",
      "Epoch 43/250\n",
      " - 1s - loss: 619.3608 - mean_absolute_error: 619.3606 - mean_squared_error: 711754.8750 - val_loss: 622.6416 - val_mean_absolute_error: 622.6415 - val_mean_squared_error: 729778.5000\n",
      "Epoch 44/250\n",
      " - 1s - loss: 619.0707 - mean_absolute_error: 619.0704 - mean_squared_error: 711797.4375 - val_loss: 624.7925 - val_mean_absolute_error: 624.7925 - val_mean_squared_error: 727997.7500\n",
      "Epoch 45/250\n",
      " - 1s - loss: 618.8337 - mean_absolute_error: 618.8337 - mean_squared_error: 710730.5625 - val_loss: 622.2411 - val_mean_absolute_error: 622.2413 - val_mean_squared_error: 728400.0000\n",
      "Epoch 46/250\n",
      " - 1s - loss: 618.5539 - mean_absolute_error: 618.5538 - mean_squared_error: 711190.1875 - val_loss: 622.5564 - val_mean_absolute_error: 622.5565 - val_mean_squared_error: 725330.2500\n",
      "Epoch 47/250\n",
      " - 1s - loss: 618.6166 - mean_absolute_error: 618.6165 - mean_squared_error: 710330.3125 - val_loss: 622.3955 - val_mean_absolute_error: 622.3953 - val_mean_squared_error: 729045.0000\n",
      "Epoch 48/250\n",
      " - 1s - loss: 618.1912 - mean_absolute_error: 618.1911 - mean_squared_error: 709534.3750 - val_loss: 622.2886 - val_mean_absolute_error: 622.2888 - val_mean_squared_error: 729805.6250\n",
      "Epoch 49/250\n",
      " - 1s - loss: 617.9968 - mean_absolute_error: 617.9966 - mean_squared_error: 709999.8750 - val_loss: 622.2326 - val_mean_absolute_error: 622.2325 - val_mean_squared_error: 728288.8750\n",
      "Epoch 50/250\n",
      " - 1s - loss: 618.1793 - mean_absolute_error: 618.1794 - mean_squared_error: 709465.4375 - val_loss: 623.8118 - val_mean_absolute_error: 623.8118 - val_mean_squared_error: 727201.2500\n",
      "Epoch 51/250\n",
      " - 1s - loss: 617.8465 - mean_absolute_error: 617.8466 - mean_squared_error: 708775.9375 - val_loss: 621.9603 - val_mean_absolute_error: 621.9604 - val_mean_squared_error: 727331.5000\n",
      "Epoch 52/250\n",
      " - 1s - loss: 617.6213 - mean_absolute_error: 617.6214 - mean_squared_error: 708135.6875 - val_loss: 623.0482 - val_mean_absolute_error: 623.0484 - val_mean_squared_error: 725471.8750\n",
      "Epoch 53/250\n",
      " - 1s - loss: 617.3094 - mean_absolute_error: 617.3094 - mean_squared_error: 706630.2500 - val_loss: 621.4158 - val_mean_absolute_error: 621.4158 - val_mean_squared_error: 725328.5000\n",
      "Epoch 54/250\n",
      " - 1s - loss: 617.2302 - mean_absolute_error: 617.2301 - mean_squared_error: 707532.4375 - val_loss: 621.5537 - val_mean_absolute_error: 621.5535 - val_mean_squared_error: 725483.7500\n",
      "Epoch 55/250\n",
      " - 1s - loss: 617.2124 - mean_absolute_error: 617.2122 - mean_squared_error: 707939.9375 - val_loss: 621.5434 - val_mean_absolute_error: 621.5435 - val_mean_squared_error: 725531.8750\n",
      "Epoch 56/250\n",
      " - 1s - loss: 616.7454 - mean_absolute_error: 616.7451 - mean_squared_error: 706086.3125 - val_loss: 622.6868 - val_mean_absolute_error: 622.6867 - val_mean_squared_error: 724885.0625\n",
      "Epoch 57/250\n",
      " - 1s - loss: 616.5073 - mean_absolute_error: 616.5071 - mean_squared_error: 705913.5625 - val_loss: 622.0423 - val_mean_absolute_error: 622.0422 - val_mean_squared_error: 724823.8750\n",
      "Epoch 58/250\n",
      " - 1s - loss: 616.5397 - mean_absolute_error: 616.5395 - mean_squared_error: 705777.8750 - val_loss: 620.6867 - val_mean_absolute_error: 620.6869 - val_mean_squared_error: 722196.4375\n",
      "Epoch 59/250\n",
      " - 1s - loss: 616.3426 - mean_absolute_error: 616.3423 - mean_squared_error: 705103.7500 - val_loss: 620.7188 - val_mean_absolute_error: 620.7188 - val_mean_squared_error: 723248.8125\n",
      "Epoch 60/250\n",
      " - 1s - loss: 615.8281 - mean_absolute_error: 615.8278 - mean_squared_error: 704147.3750 - val_loss: 623.5408 - val_mean_absolute_error: 623.5409 - val_mean_squared_error: 725119.5625\n",
      "Epoch 61/250\n",
      " - 1s - loss: 615.9219 - mean_absolute_error: 615.9222 - mean_squared_error: 704241.5000 - val_loss: 621.1250 - val_mean_absolute_error: 621.1247 - val_mean_squared_error: 723679.5000\n",
      "Epoch 62/250\n",
      " - 1s - loss: 615.7069 - mean_absolute_error: 615.7068 - mean_squared_error: 704699.3125 - val_loss: 622.0253 - val_mean_absolute_error: 622.0252 - val_mean_squared_error: 722658.0625\n",
      "Epoch 63/250\n",
      " - 1s - loss: 615.7660 - mean_absolute_error: 615.7661 - mean_squared_error: 704047.8125 - val_loss: 620.4806 - val_mean_absolute_error: 620.4804 - val_mean_squared_error: 722424.8750\n",
      "Epoch 64/250\n",
      " - 1s - loss: 615.3070 - mean_absolute_error: 615.3075 - mean_squared_error: 703047.2500 - val_loss: 620.1282 - val_mean_absolute_error: 620.1281 - val_mean_squared_error: 724128.7500\n",
      "Epoch 65/250\n",
      " - 1s - loss: 615.1772 - mean_absolute_error: 615.1769 - mean_squared_error: 703081.8750 - val_loss: 620.0291 - val_mean_absolute_error: 620.0291 - val_mean_squared_error: 723183.0625\n",
      "Epoch 66/250\n",
      " - 1s - loss: 615.0786 - mean_absolute_error: 615.0784 - mean_squared_error: 702922.8125 - val_loss: 620.8077 - val_mean_absolute_error: 620.8075 - val_mean_squared_error: 726660.8125\n",
      "Epoch 67/250\n",
      " - 1s - loss: 614.7533 - mean_absolute_error: 614.7532 - mean_squared_error: 702642.1875 - val_loss: 621.7935 - val_mean_absolute_error: 621.7936 - val_mean_squared_error: 722784.1875\n",
      "Epoch 68/250\n",
      " - 1s - loss: 614.9418 - mean_absolute_error: 614.9416 - mean_squared_error: 702308.8750 - val_loss: 620.6762 - val_mean_absolute_error: 620.6763 - val_mean_squared_error: 724948.1875\n",
      "Epoch 69/250\n",
      " - 1s - loss: 614.7283 - mean_absolute_error: 614.7286 - mean_squared_error: 701758.8750 - val_loss: 620.1652 - val_mean_absolute_error: 620.1653 - val_mean_squared_error: 723275.1250\n",
      "Epoch 70/250\n",
      " - 1s - loss: 614.4875 - mean_absolute_error: 614.4874 - mean_squared_error: 701909.2500 - val_loss: 620.1157 - val_mean_absolute_error: 620.1158 - val_mean_squared_error: 724702.8750\n",
      "Epoch 71/250\n",
      " - 1s - loss: 614.3881 - mean_absolute_error: 614.3882 - mean_squared_error: 701189.6875 - val_loss: 620.6332 - val_mean_absolute_error: 620.6333 - val_mean_squared_error: 723998.0625\n",
      "Epoch 72/250\n",
      " - 1s - loss: 614.1498 - mean_absolute_error: 614.1501 - mean_squared_error: 701089.1250 - val_loss: 619.8666 - val_mean_absolute_error: 619.8667 - val_mean_squared_error: 721235.2500\n",
      "Epoch 73/250\n",
      " - 1s - loss: 614.1045 - mean_absolute_error: 614.1048 - mean_squared_error: 701398.8125 - val_loss: 620.6058 - val_mean_absolute_error: 620.6058 - val_mean_squared_error: 719492.9375\n",
      "Epoch 74/250\n",
      " - 1s - loss: 613.9382 - mean_absolute_error: 613.9380 - mean_squared_error: 700268.5000 - val_loss: 621.1845 - val_mean_absolute_error: 621.1843 - val_mean_squared_error: 722330.3750\n",
      "Epoch 75/250\n",
      " - 1s - loss: 614.0026 - mean_absolute_error: 614.0029 - mean_squared_error: 700264.8125 - val_loss: 620.1545 - val_mean_absolute_error: 620.1547 - val_mean_squared_error: 722700.0000\n",
      "Epoch 76/250\n",
      " - 1s - loss: 613.6965 - mean_absolute_error: 613.6966 - mean_squared_error: 699547.7500 - val_loss: 620.4498 - val_mean_absolute_error: 620.4497 - val_mean_squared_error: 723863.0625\n",
      "Epoch 77/250\n",
      " - 1s - loss: 613.8168 - mean_absolute_error: 613.8172 - mean_squared_error: 699819.5625 - val_loss: 620.0388 - val_mean_absolute_error: 620.0390 - val_mean_squared_error: 722715.9375\n",
      "Epoch 78/250\n",
      " - 1s - loss: 613.3940 - mean_absolute_error: 613.3936 - mean_squared_error: 699918.7500 - val_loss: 619.6327 - val_mean_absolute_error: 619.6330 - val_mean_squared_error: 720237.1250\n",
      "Epoch 79/250\n",
      " - 1s - loss: 613.3979 - mean_absolute_error: 613.3977 - mean_squared_error: 699287.0000 - val_loss: 620.1280 - val_mean_absolute_error: 620.1282 - val_mean_squared_error: 725102.0625\n"
     ]
    },
    {
     "name": "stdout",
     "output_type": "stream",
     "text": [
      "Epoch 80/250\n",
      " - 1s - loss: 613.3297 - mean_absolute_error: 613.3297 - mean_squared_error: 699532.5000 - val_loss: 620.0866 - val_mean_absolute_error: 620.0864 - val_mean_squared_error: 722943.1875\n",
      "Epoch 81/250\n",
      " - 1s - loss: 613.3647 - mean_absolute_error: 613.3646 - mean_squared_error: 699050.3125 - val_loss: 620.1137 - val_mean_absolute_error: 620.1140 - val_mean_squared_error: 722520.1875\n",
      "Epoch 82/250\n",
      " - 1s - loss: 613.2869 - mean_absolute_error: 613.2869 - mean_squared_error: 699829.8125 - val_loss: 619.5397 - val_mean_absolute_error: 619.5399 - val_mean_squared_error: 719538.1250\n",
      "Epoch 83/250\n",
      " - 1s - loss: 612.9603 - mean_absolute_error: 612.9604 - mean_squared_error: 697383.5625 - val_loss: 621.1192 - val_mean_absolute_error: 621.1194 - val_mean_squared_error: 724705.0625\n",
      "Epoch 84/250\n",
      " - 1s - loss: 612.9582 - mean_absolute_error: 612.9584 - mean_squared_error: 698684.9375 - val_loss: 620.1385 - val_mean_absolute_error: 620.1382 - val_mean_squared_error: 721123.2500\n",
      "Epoch 85/250\n",
      " - 1s - loss: 612.8858 - mean_absolute_error: 612.8860 - mean_squared_error: 697985.8750 - val_loss: 620.3212 - val_mean_absolute_error: 620.3211 - val_mean_squared_error: 725156.8750\n",
      "Epoch 86/250\n",
      " - 1s - loss: 612.7045 - mean_absolute_error: 612.7042 - mean_squared_error: 698097.6250 - val_loss: 620.7528 - val_mean_absolute_error: 620.7526 - val_mean_squared_error: 722377.3750\n",
      "Epoch 87/250\n",
      " - 1s - loss: 612.7980 - mean_absolute_error: 612.7981 - mean_squared_error: 698625.2500 - val_loss: 620.6115 - val_mean_absolute_error: 620.6113 - val_mean_squared_error: 720248.8125\n",
      "Epoch 88/250\n",
      " - 1s - loss: 612.7492 - mean_absolute_error: 612.7495 - mean_squared_error: 697587.8125 - val_loss: 619.8105 - val_mean_absolute_error: 619.8105 - val_mean_squared_error: 721920.4375\n",
      "Epoch 89/250\n",
      " - 1s - loss: 612.5405 - mean_absolute_error: 612.5401 - mean_squared_error: 698386.6875 - val_loss: 619.4050 - val_mean_absolute_error: 619.4052 - val_mean_squared_error: 720468.0000\n",
      "Epoch 90/250\n",
      " - 1s - loss: 612.4604 - mean_absolute_error: 612.4608 - mean_squared_error: 697512.6250 - val_loss: 619.7064 - val_mean_absolute_error: 619.7062 - val_mean_squared_error: 720254.5625\n",
      "Epoch 91/250\n",
      " - 1s - loss: 612.1103 - mean_absolute_error: 612.1104 - mean_squared_error: 697428.5000 - val_loss: 621.5504 - val_mean_absolute_error: 621.5505 - val_mean_squared_error: 720447.0625\n",
      "Epoch 92/250\n",
      " - 1s - loss: 612.3398 - mean_absolute_error: 612.3397 - mean_squared_error: 697348.3750 - val_loss: 619.3472 - val_mean_absolute_error: 619.3470 - val_mean_squared_error: 719240.5625\n",
      "Epoch 93/250\n",
      " - 1s - loss: 612.0358 - mean_absolute_error: 612.0356 - mean_squared_error: 696484.1875 - val_loss: 621.0819 - val_mean_absolute_error: 621.0821 - val_mean_squared_error: 727697.7500\n",
      "Epoch 94/250\n",
      " - 1s - loss: 612.0783 - mean_absolute_error: 612.0787 - mean_squared_error: 696485.1250 - val_loss: 620.4406 - val_mean_absolute_error: 620.4404 - val_mean_squared_error: 721806.5000\n",
      "Epoch 95/250\n",
      " - 1s - loss: 612.0450 - mean_absolute_error: 612.0451 - mean_squared_error: 697187.3125 - val_loss: 620.9562 - val_mean_absolute_error: 620.9559 - val_mean_squared_error: 720582.1875\n",
      "Epoch 96/250\n",
      " - 1s - loss: 611.9633 - mean_absolute_error: 611.9634 - mean_squared_error: 696838.1250 - val_loss: 619.6301 - val_mean_absolute_error: 619.6302 - val_mean_squared_error: 720009.6875\n",
      "Epoch 97/250\n",
      " - 1s - loss: 611.8669 - mean_absolute_error: 611.8669 - mean_squared_error: 696873.7500 - val_loss: 620.6606 - val_mean_absolute_error: 620.6608 - val_mean_squared_error: 718465.1875\n",
      "Epoch 98/250\n",
      " - 1s - loss: 611.5423 - mean_absolute_error: 611.5424 - mean_squared_error: 695992.9375 - val_loss: 620.0992 - val_mean_absolute_error: 620.0992 - val_mean_squared_error: 718697.0000\n",
      "Epoch 99/250\n",
      " - 1s - loss: 611.2999 - mean_absolute_error: 611.2999 - mean_squared_error: 695064.8750 - val_loss: 620.7530 - val_mean_absolute_error: 620.7528 - val_mean_squared_error: 720774.2500\n",
      "Epoch 100/250\n",
      " - 1s - loss: 611.7572 - mean_absolute_error: 611.7573 - mean_squared_error: 695802.9375 - val_loss: 619.2941 - val_mean_absolute_error: 619.2940 - val_mean_squared_error: 720086.0000\n",
      "Epoch 101/250\n",
      " - 1s - loss: 611.5797 - mean_absolute_error: 611.5798 - mean_squared_error: 696098.7500 - val_loss: 619.5151 - val_mean_absolute_error: 619.5149 - val_mean_squared_error: 717773.5000\n",
      "Epoch 102/250\n",
      " - 1s - loss: 611.4136 - mean_absolute_error: 611.4136 - mean_squared_error: 695278.3125 - val_loss: 619.5825 - val_mean_absolute_error: 619.5824 - val_mean_squared_error: 720853.5625\n",
      "Epoch 103/250\n",
      " - 1s - loss: 611.3597 - mean_absolute_error: 611.3598 - mean_squared_error: 695405.9375 - val_loss: 619.8999 - val_mean_absolute_error: 619.9000 - val_mean_squared_error: 718300.0625\n",
      "Epoch 104/250\n",
      " - 1s - loss: 611.2474 - mean_absolute_error: 611.2473 - mean_squared_error: 695269.2500 - val_loss: 619.1254 - val_mean_absolute_error: 619.1252 - val_mean_squared_error: 719809.3750\n",
      "Epoch 105/250\n",
      " - 1s - loss: 611.2840 - mean_absolute_error: 611.2841 - mean_squared_error: 695397.6875 - val_loss: 619.0750 - val_mean_absolute_error: 619.0750 - val_mean_squared_error: 717331.5625\n",
      "Epoch 106/250\n",
      " - 1s - loss: 611.1130 - mean_absolute_error: 611.1129 - mean_squared_error: 694560.5625 - val_loss: 619.2802 - val_mean_absolute_error: 619.2805 - val_mean_squared_error: 718383.1875\n",
      "Epoch 107/250\n",
      " - 1s - loss: 611.0715 - mean_absolute_error: 611.0715 - mean_squared_error: 694249.8750 - val_loss: 619.6062 - val_mean_absolute_error: 619.6059 - val_mean_squared_error: 720697.8125\n",
      "Epoch 108/250\n",
      " - 1s - loss: 610.9419 - mean_absolute_error: 610.9421 - mean_squared_error: 694582.6875 - val_loss: 619.5491 - val_mean_absolute_error: 619.5491 - val_mean_squared_error: 722815.8125\n",
      "Epoch 109/250\n",
      " - 1s - loss: 610.9788 - mean_absolute_error: 610.9788 - mean_squared_error: 694075.4375 - val_loss: 619.1699 - val_mean_absolute_error: 619.1697 - val_mean_squared_error: 718699.6875\n",
      "Epoch 110/250\n",
      " - 1s - loss: 610.8132 - mean_absolute_error: 610.8135 - mean_squared_error: 694784.8125 - val_loss: 619.8999 - val_mean_absolute_error: 619.9000 - val_mean_squared_error: 717827.0625\n",
      "Epoch 111/250\n",
      " - 1s - loss: 610.6332 - mean_absolute_error: 610.6332 - mean_squared_error: 693612.1875 - val_loss: 619.8665 - val_mean_absolute_error: 619.8664 - val_mean_squared_error: 723990.5000\n",
      "Epoch 112/250\n",
      " - 1s - loss: 610.4485 - mean_absolute_error: 610.4485 - mean_squared_error: 693568.8125 - val_loss: 619.7210 - val_mean_absolute_error: 619.7210 - val_mean_squared_error: 721502.2500\n",
      "Epoch 113/250\n",
      " - 1s - loss: 610.7166 - mean_absolute_error: 610.7169 - mean_squared_error: 694212.5000 - val_loss: 619.0099 - val_mean_absolute_error: 619.0101 - val_mean_squared_error: 719973.1250\n",
      "Epoch 114/250\n",
      " - 1s - loss: 610.3668 - mean_absolute_error: 610.3667 - mean_squared_error: 694126.6875 - val_loss: 618.8342 - val_mean_absolute_error: 618.8343 - val_mean_squared_error: 716840.2500\n",
      "Epoch 115/250\n",
      " - 1s - loss: 610.4881 - mean_absolute_error: 610.4882 - mean_squared_error: 693587.5625 - val_loss: 618.9074 - val_mean_absolute_error: 618.9073 - val_mean_squared_error: 718863.7500\n",
      "Epoch 116/250\n",
      " - 1s - loss: 610.4212 - mean_absolute_error: 610.4210 - mean_squared_error: 692937.0625 - val_loss: 619.6105 - val_mean_absolute_error: 619.6105 - val_mean_squared_error: 720010.1875\n",
      "Epoch 117/250\n",
      " - 1s - loss: 610.4612 - mean_absolute_error: 610.4607 - mean_squared_error: 693389.5625 - val_loss: 619.3748 - val_mean_absolute_error: 619.3746 - val_mean_squared_error: 719893.6875\n",
      "Epoch 118/250\n",
      " - 1s - loss: 610.0803 - mean_absolute_error: 610.0803 - mean_squared_error: 693698.0000 - val_loss: 618.8873 - val_mean_absolute_error: 618.8875 - val_mean_squared_error: 717409.3750\n",
      "Epoch 119/250\n",
      " - 1s - loss: 610.0933 - mean_absolute_error: 610.0934 - mean_squared_error: 692697.1250 - val_loss: 619.0020 - val_mean_absolute_error: 619.0020 - val_mean_squared_error: 717230.5000\n",
      "Epoch 120/250\n",
      " - 1s - loss: 610.0744 - mean_absolute_error: 610.0745 - mean_squared_error: 693010.5625 - val_loss: 618.9796 - val_mean_absolute_error: 618.9799 - val_mean_squared_error: 719622.5000\n",
      "Epoch 121/250\n",
      " - 1s - loss: 609.8405 - mean_absolute_error: 609.8406 - mean_squared_error: 692684.8750 - val_loss: 619.2138 - val_mean_absolute_error: 619.2138 - val_mean_squared_error: 717312.0625\n"
     ]
    },
    {
     "name": "stdout",
     "output_type": "stream",
     "text": [
      "Epoch 122/250\n",
      " - 1s - loss: 609.9821 - mean_absolute_error: 609.9819 - mean_squared_error: 692391.5625 - val_loss: 619.0832 - val_mean_absolute_error: 619.0832 - val_mean_squared_error: 717749.3125\n",
      "Epoch 123/250\n",
      " - 1s - loss: 609.7282 - mean_absolute_error: 609.7283 - mean_squared_error: 692322.3125 - val_loss: 618.6070 - val_mean_absolute_error: 618.6071 - val_mean_squared_error: 717337.0000\n",
      "Epoch 124/250\n",
      " - 1s - loss: 609.6816 - mean_absolute_error: 609.6815 - mean_squared_error: 692203.0625 - val_loss: 619.7611 - val_mean_absolute_error: 619.7613 - val_mean_squared_error: 723305.2500\n",
      "Epoch 125/250\n",
      " - 1s - loss: 609.8740 - mean_absolute_error: 609.8738 - mean_squared_error: 692270.5000 - val_loss: 619.1924 - val_mean_absolute_error: 619.1924 - val_mean_squared_error: 716863.4375\n",
      "Epoch 126/250\n",
      " - 1s - loss: 609.5803 - mean_absolute_error: 609.5803 - mean_squared_error: 691992.1875 - val_loss: 618.5025 - val_mean_absolute_error: 618.5024 - val_mean_squared_error: 717805.1250\n",
      "Epoch 127/250\n",
      " - 1s - loss: 609.4841 - mean_absolute_error: 609.4841 - mean_squared_error: 691734.3750 - val_loss: 618.9888 - val_mean_absolute_error: 618.9889 - val_mean_squared_error: 718039.9375\n",
      "Epoch 128/250\n",
      " - 1s - loss: 609.4542 - mean_absolute_error: 609.4544 - mean_squared_error: 691678.1250 - val_loss: 618.3944 - val_mean_absolute_error: 618.3944 - val_mean_squared_error: 718291.6250\n",
      "Epoch 129/250\n",
      " - 1s - loss: 609.5317 - mean_absolute_error: 609.5320 - mean_squared_error: 692289.8750 - val_loss: 618.9144 - val_mean_absolute_error: 618.9144 - val_mean_squared_error: 714708.2500\n",
      "Epoch 130/250\n",
      " - 1s - loss: 609.1243 - mean_absolute_error: 609.1244 - mean_squared_error: 690848.3125 - val_loss: 618.8115 - val_mean_absolute_error: 618.8113 - val_mean_squared_error: 720226.1875\n",
      "Epoch 131/250\n",
      " - 1s - loss: 609.2856 - mean_absolute_error: 609.2856 - mean_squared_error: 691567.5625 - val_loss: 618.9687 - val_mean_absolute_error: 618.9688 - val_mean_squared_error: 721816.6875\n",
      "Epoch 132/250\n",
      " - 1s - loss: 609.2923 - mean_absolute_error: 609.2922 - mean_squared_error: 691550.5625 - val_loss: 618.3474 - val_mean_absolute_error: 618.3476 - val_mean_squared_error: 717592.8750\n",
      "Epoch 133/250\n",
      " - 1s - loss: 609.1372 - mean_absolute_error: 609.1375 - mean_squared_error: 692043.8125 - val_loss: 618.4249 - val_mean_absolute_error: 618.4249 - val_mean_squared_error: 714980.5000\n",
      "Epoch 134/250\n",
      " - 1s - loss: 609.0408 - mean_absolute_error: 609.0408 - mean_squared_error: 690644.1250 - val_loss: 618.9689 - val_mean_absolute_error: 618.9688 - val_mean_squared_error: 719928.6250\n",
      "Epoch 135/250\n",
      " - 1s - loss: 609.0276 - mean_absolute_error: 609.0274 - mean_squared_error: 691423.4375 - val_loss: 618.1269 - val_mean_absolute_error: 618.1270 - val_mean_squared_error: 717563.3125\n",
      "Epoch 136/250\n",
      " - 1s - loss: 608.8576 - mean_absolute_error: 608.8574 - mean_squared_error: 691196.4375 - val_loss: 618.2740 - val_mean_absolute_error: 618.2739 - val_mean_squared_error: 717105.0000\n",
      "Epoch 137/250\n",
      " - 1s - loss: 608.8361 - mean_absolute_error: 608.8362 - mean_squared_error: 690629.6250 - val_loss: 617.8029 - val_mean_absolute_error: 617.8027 - val_mean_squared_error: 715885.8750\n",
      "Epoch 138/250\n",
      " - 1s - loss: 608.8858 - mean_absolute_error: 608.8860 - mean_squared_error: 690950.9375 - val_loss: 619.1538 - val_mean_absolute_error: 619.1539 - val_mean_squared_error: 715276.1250\n",
      "Epoch 139/250\n",
      " - 1s - loss: 608.6559 - mean_absolute_error: 608.6558 - mean_squared_error: 690973.8750 - val_loss: 617.7803 - val_mean_absolute_error: 617.7803 - val_mean_squared_error: 715319.0625\n",
      "Epoch 140/250\n",
      " - 1s - loss: 608.6057 - mean_absolute_error: 608.6055 - mean_squared_error: 689808.7500 - val_loss: 618.3480 - val_mean_absolute_error: 618.3479 - val_mean_squared_error: 716529.0000\n",
      "Epoch 141/250\n",
      " - 1s - loss: 608.6114 - mean_absolute_error: 608.6115 - mean_squared_error: 690690.0625 - val_loss: 618.3533 - val_mean_absolute_error: 618.3533 - val_mean_squared_error: 714926.3750\n",
      "Epoch 142/250\n",
      " - 1s - loss: 608.3760 - mean_absolute_error: 608.3756 - mean_squared_error: 689934.5625 - val_loss: 619.1463 - val_mean_absolute_error: 619.1463 - val_mean_squared_error: 716748.6250\n",
      "Epoch 143/250\n",
      " - 1s - loss: 608.3674 - mean_absolute_error: 608.3675 - mean_squared_error: 690035.2500 - val_loss: 619.0684 - val_mean_absolute_error: 619.0685 - val_mean_squared_error: 715823.8125\n",
      "Epoch 144/250\n",
      " - 1s - loss: 608.2803 - mean_absolute_error: 608.2801 - mean_squared_error: 690413.0000 - val_loss: 619.4577 - val_mean_absolute_error: 619.4577 - val_mean_squared_error: 714916.5000\n",
      "Epoch 145/250\n",
      " - 1s - loss: 608.3147 - mean_absolute_error: 608.3150 - mean_squared_error: 689669.7500 - val_loss: 617.6256 - val_mean_absolute_error: 617.6258 - val_mean_squared_error: 716397.3125\n",
      "Epoch 146/250\n",
      " - 1s - loss: 608.2889 - mean_absolute_error: 608.2889 - mean_squared_error: 689767.4375 - val_loss: 617.7357 - val_mean_absolute_error: 617.7357 - val_mean_squared_error: 715176.2500\n",
      "Epoch 147/250\n",
      " - 1s - loss: 608.1168 - mean_absolute_error: 608.1168 - mean_squared_error: 689735.3125 - val_loss: 618.3438 - val_mean_absolute_error: 618.3438 - val_mean_squared_error: 716720.2500\n",
      "Epoch 148/250\n",
      " - 1s - loss: 608.0727 - mean_absolute_error: 608.0731 - mean_squared_error: 689731.1250 - val_loss: 618.0057 - val_mean_absolute_error: 618.0056 - val_mean_squared_error: 715679.4375\n",
      "Epoch 149/250\n",
      " - 1s - loss: 607.9844 - mean_absolute_error: 607.9846 - mean_squared_error: 688697.7500 - val_loss: 618.2635 - val_mean_absolute_error: 618.2636 - val_mean_squared_error: 715661.3125\n",
      "Epoch 150/250\n",
      " - 1s - loss: 607.7983 - mean_absolute_error: 607.7985 - mean_squared_error: 688770.9375 - val_loss: 619.0433 - val_mean_absolute_error: 619.0434 - val_mean_squared_error: 722701.5625\n",
      "Epoch 151/250\n",
      " - 1s - loss: 607.9985 - mean_absolute_error: 607.9987 - mean_squared_error: 689233.6250 - val_loss: 617.5163 - val_mean_absolute_error: 617.5164 - val_mean_squared_error: 716542.8125\n",
      "Epoch 152/250\n",
      " - 1s - loss: 607.8687 - mean_absolute_error: 607.8689 - mean_squared_error: 689307.3125 - val_loss: 617.4797 - val_mean_absolute_error: 617.4799 - val_mean_squared_error: 714704.3750\n",
      "Epoch 153/250\n",
      " - 1s - loss: 607.7382 - mean_absolute_error: 607.7383 - mean_squared_error: 689084.5625 - val_loss: 618.3219 - val_mean_absolute_error: 618.3221 - val_mean_squared_error: 715538.3750\n",
      "Epoch 154/250\n",
      " - 1s - loss: 607.6208 - mean_absolute_error: 607.6209 - mean_squared_error: 689467.8750 - val_loss: 617.8653 - val_mean_absolute_error: 617.8653 - val_mean_squared_error: 715131.7500\n",
      "Epoch 155/250\n",
      " - 1s - loss: 607.5893 - mean_absolute_error: 607.5893 - mean_squared_error: 688669.1250 - val_loss: 617.3461 - val_mean_absolute_error: 617.3461 - val_mean_squared_error: 715128.0625\n",
      "Epoch 156/250\n",
      " - 1s - loss: 607.3777 - mean_absolute_error: 607.3779 - mean_squared_error: 688416.8125 - val_loss: 617.6404 - val_mean_absolute_error: 617.6401 - val_mean_squared_error: 718767.8750\n",
      "Epoch 157/250\n",
      " - 1s - loss: 607.4168 - mean_absolute_error: 607.4166 - mean_squared_error: 688308.3750 - val_loss: 617.1885 - val_mean_absolute_error: 617.1886 - val_mean_squared_error: 713747.7500\n",
      "Epoch 158/250\n",
      " - 1s - loss: 607.3917 - mean_absolute_error: 607.3918 - mean_squared_error: 687990.0000 - val_loss: 617.4434 - val_mean_absolute_error: 617.4436 - val_mean_squared_error: 714157.2500\n",
      "Epoch 159/250\n",
      " - 1s - loss: 607.3761 - mean_absolute_error: 607.3759 - mean_squared_error: 688336.9375 - val_loss: 617.2180 - val_mean_absolute_error: 617.2185 - val_mean_squared_error: 713949.1250\n",
      "Epoch 160/250\n",
      " - 1s - loss: 607.0698 - mean_absolute_error: 607.0701 - mean_squared_error: 687231.1250 - val_loss: 617.8517 - val_mean_absolute_error: 617.8514 - val_mean_squared_error: 716389.1250\n",
      "Epoch 161/250\n",
      " - 1s - loss: 607.1679 - mean_absolute_error: 607.1680 - mean_squared_error: 687891.1250 - val_loss: 617.3271 - val_mean_absolute_error: 617.3268 - val_mean_squared_error: 714217.1250\n",
      "Epoch 162/250\n",
      " - 1s - loss: 607.0457 - mean_absolute_error: 607.0458 - mean_squared_error: 687486.0000 - val_loss: 617.1064 - val_mean_absolute_error: 617.1064 - val_mean_squared_error: 713528.6875\n",
      "Epoch 163/250\n",
      " - 1s - loss: 606.9481 - mean_absolute_error: 606.9480 - mean_squared_error: 687643.3750 - val_loss: 618.7891 - val_mean_absolute_error: 618.7891 - val_mean_squared_error: 713644.2500\n"
     ]
    },
    {
     "name": "stdout",
     "output_type": "stream",
     "text": [
      "Epoch 164/250\n",
      " - 1s - loss: 606.8524 - mean_absolute_error: 606.8522 - mean_squared_error: 687451.1875 - val_loss: 617.1936 - val_mean_absolute_error: 617.1938 - val_mean_squared_error: 712279.8750\n",
      "Epoch 165/250\n",
      " - 1s - loss: 606.5778 - mean_absolute_error: 606.5777 - mean_squared_error: 686516.6250 - val_loss: 617.4247 - val_mean_absolute_error: 617.4250 - val_mean_squared_error: 713502.6875\n",
      "Epoch 166/250\n",
      " - 1s - loss: 606.7118 - mean_absolute_error: 606.7117 - mean_squared_error: 686798.5625 - val_loss: 617.3231 - val_mean_absolute_error: 617.3231 - val_mean_squared_error: 716061.3750\n",
      "Epoch 167/250\n",
      " - 1s - loss: 606.6580 - mean_absolute_error: 606.6578 - mean_squared_error: 687082.1875 - val_loss: 617.3680 - val_mean_absolute_error: 617.3677 - val_mean_squared_error: 713742.4375\n",
      "Epoch 168/250\n",
      " - 1s - loss: 606.6043 - mean_absolute_error: 606.6044 - mean_squared_error: 686676.8125 - val_loss: 616.9309 - val_mean_absolute_error: 616.9310 - val_mean_squared_error: 715016.6875\n",
      "Epoch 169/250\n",
      " - 1s - loss: 606.5060 - mean_absolute_error: 606.5060 - mean_squared_error: 686869.6250 - val_loss: 616.6992 - val_mean_absolute_error: 616.6996 - val_mean_squared_error: 710777.0000\n",
      "Epoch 170/250\n",
      " - 1s - loss: 606.4366 - mean_absolute_error: 606.4367 - mean_squared_error: 685805.4375 - val_loss: 616.9206 - val_mean_absolute_error: 616.9207 - val_mean_squared_error: 713969.0000\n",
      "Epoch 171/250\n",
      " - 1s - loss: 606.3523 - mean_absolute_error: 606.3524 - mean_squared_error: 686399.4375 - val_loss: 617.8469 - val_mean_absolute_error: 617.8468 - val_mean_squared_error: 719063.8750\n",
      "Epoch 172/250\n",
      " - 1s - loss: 606.2446 - mean_absolute_error: 606.2447 - mean_squared_error: 686540.8125 - val_loss: 616.0406 - val_mean_absolute_error: 616.0407 - val_mean_squared_error: 712699.9375\n",
      "Epoch 173/250\n",
      " - 1s - loss: 606.1440 - mean_absolute_error: 606.1440 - mean_squared_error: 686502.9375 - val_loss: 616.3426 - val_mean_absolute_error: 616.3428 - val_mean_squared_error: 713693.4375\n",
      "Epoch 174/250\n",
      " - 1s - loss: 606.0037 - mean_absolute_error: 606.0037 - mean_squared_error: 685870.2500 - val_loss: 615.8146 - val_mean_absolute_error: 615.8146 - val_mean_squared_error: 713036.5000\n",
      "Epoch 175/250\n",
      " - 1s - loss: 605.9107 - mean_absolute_error: 605.9109 - mean_squared_error: 685789.3125 - val_loss: 616.1437 - val_mean_absolute_error: 616.1437 - val_mean_squared_error: 713390.1250\n",
      "Epoch 176/250\n",
      " - 1s - loss: 605.7472 - mean_absolute_error: 605.7477 - mean_squared_error: 684860.1875 - val_loss: 615.8827 - val_mean_absolute_error: 615.8826 - val_mean_squared_error: 712932.3750\n",
      "Epoch 177/250\n",
      " - 1s - loss: 605.8351 - mean_absolute_error: 605.8350 - mean_squared_error: 685365.5000 - val_loss: 616.5017 - val_mean_absolute_error: 616.5015 - val_mean_squared_error: 715617.3125\n",
      "Epoch 178/250\n",
      " - 1s - loss: 605.9042 - mean_absolute_error: 605.9041 - mean_squared_error: 685099.3750 - val_loss: 616.3010 - val_mean_absolute_error: 616.3012 - val_mean_squared_error: 713607.1875\n",
      "Epoch 179/250\n",
      " - 1s - loss: 605.1893 - mean_absolute_error: 605.1892 - mean_squared_error: 684476.3750 - val_loss: 615.7578 - val_mean_absolute_error: 615.7579 - val_mean_squared_error: 713229.5625\n",
      "Epoch 180/250\n",
      " - 1s - loss: 605.6326 - mean_absolute_error: 605.6323 - mean_squared_error: 684646.6875 - val_loss: 616.0408 - val_mean_absolute_error: 616.0410 - val_mean_squared_error: 711745.1875\n",
      "Epoch 181/250\n",
      " - 1s - loss: 605.2871 - mean_absolute_error: 605.2872 - mean_squared_error: 683193.6250 - val_loss: 616.8372 - val_mean_absolute_error: 616.8372 - val_mean_squared_error: 716318.3750\n",
      "Epoch 182/250\n",
      " - 1s - loss: 605.3194 - mean_absolute_error: 605.3197 - mean_squared_error: 684188.0625 - val_loss: 615.8340 - val_mean_absolute_error: 615.8340 - val_mean_squared_error: 714372.6875\n",
      "Epoch 183/250\n",
      " - 1s - loss: 605.2480 - mean_absolute_error: 605.2479 - mean_squared_error: 684160.4375 - val_loss: 616.2409 - val_mean_absolute_error: 616.2410 - val_mean_squared_error: 715768.6250\n",
      "Epoch 184/250\n",
      " - 1s - loss: 605.1323 - mean_absolute_error: 605.1320 - mean_squared_error: 684216.7500 - val_loss: 615.5182 - val_mean_absolute_error: 615.5181 - val_mean_squared_error: 710741.2500\n",
      "Epoch 185/250\n",
      " - 1s - loss: 605.1045 - mean_absolute_error: 605.1047 - mean_squared_error: 684045.8125 - val_loss: 616.3106 - val_mean_absolute_error: 616.3110 - val_mean_squared_error: 712288.1250\n",
      "Epoch 186/250\n",
      " - 1s - loss: 604.9994 - mean_absolute_error: 604.9995 - mean_squared_error: 683563.9375 - val_loss: 616.4229 - val_mean_absolute_error: 616.4226 - val_mean_squared_error: 715800.2500\n",
      "Epoch 187/250\n",
      " - 1s - loss: 604.9870 - mean_absolute_error: 604.9874 - mean_squared_error: 684107.3125 - val_loss: 615.5778 - val_mean_absolute_error: 615.5777 - val_mean_squared_error: 711941.6875\n",
      "Epoch 188/250\n",
      " - 1s - loss: 604.7969 - mean_absolute_error: 604.7973 - mean_squared_error: 683073.2500 - val_loss: 615.6403 - val_mean_absolute_error: 615.6403 - val_mean_squared_error: 711531.1875\n",
      "Epoch 189/250\n",
      " - 1s - loss: 604.7760 - mean_absolute_error: 604.7758 - mean_squared_error: 682796.5000 - val_loss: 615.8634 - val_mean_absolute_error: 615.8632 - val_mean_squared_error: 713356.0000\n",
      "Epoch 190/250\n",
      " - 1s - loss: 604.6819 - mean_absolute_error: 604.6823 - mean_squared_error: 683532.7500 - val_loss: 616.2595 - val_mean_absolute_error: 616.2597 - val_mean_squared_error: 713348.3750\n",
      "Epoch 191/250\n",
      " - 1s - loss: 604.7541 - mean_absolute_error: 604.7542 - mean_squared_error: 683179.6875 - val_loss: 615.5688 - val_mean_absolute_error: 615.5685 - val_mean_squared_error: 712768.5000\n",
      "Epoch 192/250\n",
      " - 1s - loss: 604.6175 - mean_absolute_error: 604.6178 - mean_squared_error: 683012.9375 - val_loss: 616.1879 - val_mean_absolute_error: 616.1879 - val_mean_squared_error: 714572.6875\n",
      "Epoch 193/250\n",
      " - 1s - loss: 604.5750 - mean_absolute_error: 604.5755 - mean_squared_error: 682919.5000 - val_loss: 615.6190 - val_mean_absolute_error: 615.6187 - val_mean_squared_error: 710913.3750\n",
      "Epoch 194/250\n",
      " - 1s - loss: 604.4827 - mean_absolute_error: 604.4828 - mean_squared_error: 682815.2500 - val_loss: 615.6067 - val_mean_absolute_error: 615.6070 - val_mean_squared_error: 711244.0000\n",
      "----Resultados sobre TRAIN----\n",
      "R2:  0.5496766198518213\n",
      "Adjusted R2:  0.549475072762392\n",
      "MAPE: 48.61215586745604\n",
      "----Resultados sobre TEST----\n",
      "R2:  0.5353538763040351\n",
      "Adjusted R2:  0.5347294218875998\n",
      "MAPE: 49.122038209302225\n"
     ]
    },
    {
     "data": {
      "image/png": "[encoded data removed]",
      "text/plain": [
       "<Figure size 432x288 with 1 Axes>"
      ]
     },
     "metadata": {
      "needs_background": "light"
     },
     "output_type": "display_data"
    },
    {
     "data": {
      "text/plain": [
       "0.5353538763040351"
      ]
     },
     "execution_count": 25,
     "metadata": {},
     "output_type": "execute_result"
    }
   ],
   "source": [
    "model = ep.build_model(train_dataset)\n",
    "print(model.summary())\n",
    "ep.train_model(model, train_dataset, train_labels, 250)\n",
    "cm.evaluate_lin_lin(test_dataset, test_labels, train_dataset, train_labels, model)"
   ]
  },
  {
   "cell_type": "markdown",
   "metadata": {},
   "source": [
    "### Subconjunto Literatura por correlación 0.1 - Random Forest"
   ]
  },
  {
   "cell_type": "code",
   "execution_count": 26,
   "metadata": {
    "scrolled": true
   },
   "outputs": [
    {
     "name": "stderr",
     "output_type": "stream",
     "text": [
      "[Parallel(n_jobs=4)]: Using backend ThreadingBackend with 4 concurrent workers.\n",
      "[Parallel(n_jobs=4)]: Done  42 tasks      | elapsed:  2.2min\n",
      "[Parallel(n_jobs=4)]: Done 100 out of 100 | elapsed:  5.3min finished\n",
      "[Parallel(n_jobs=4)]: Using backend ThreadingBackend with 4 concurrent workers.\n",
      "[Parallel(n_jobs=4)]: Done  42 tasks      | elapsed:    0.0s\n",
      "[Parallel(n_jobs=4)]: Done 100 out of 100 | elapsed:    0.2s finished\n",
      "[Parallel(n_jobs=4)]: Using backend ThreadingBackend with 4 concurrent workers.\n",
      "[Parallel(n_jobs=4)]: Done  42 tasks      | elapsed:    0.0s\n",
      "[Parallel(n_jobs=4)]: Done 100 out of 100 | elapsed:    0.0s finished\n"
     ]
    },
    {
     "name": "stdout",
     "output_type": "stream",
     "text": [
      "----Resultados sobre TRAIN----\n",
      "R2:  0.8551168051878216\n",
      "Adjusted R2:  0.8550519611501614\n",
      "MAPE: 26.009002286553795\n",
      "----Resultados sobre TEST----\n",
      "R2:  0.4592994681401438\n",
      "Adjusted R2:  0.45857280150532254\n",
      "MAPE: 55.03678315093373\n"
     ]
    },
    {
     "data": {
      "image/png": "[encoded data removed]",
      "text/plain": [
       "<Figure size 432x288 with 1 Axes>"
      ]
     },
     "metadata": {
      "needs_background": "light"
     },
     "output_type": "display_data"
    },
    {
     "data": {
      "text/plain": [
       "0.4592994681401438"
      ]
     },
     "execution_count": 26,
     "metadata": {},
     "output_type": "execute_result"
    }
   ],
   "source": [
    "regressor = RandomForestRegressor(100, criterion=\"mae\", verbose=1, n_jobs=4)\n",
    "regressor.fit(train_dataset, train_labels)\n",
    "cm.evaluate_lin_lin(test_dataset, test_labels, train_dataset, train_labels, regressor)"
   ]
  },
  {
   "cell_type": "markdown",
   "metadata": {},
   "source": [
    "### Subconjunto Literatura por correlación 0.1 - Regresión de Soporte Vectorial"
   ]
  },
  {
   "cell_type": "code",
   "execution_count": 27,
   "metadata": {
    "scrolled": false
   },
   "outputs": [
    {
     "name": "stdout",
     "output_type": "stream",
     "text": [
      "----Resultados sobre TRAIN----\n",
      "R2:  0.5018780043618141\n",
      "Adjusted R2:  0.5016550644860995\n",
      "MAPE: 57.41714227253283\n",
      "----Resultados sobre TEST----\n",
      "R2:  0.5003814488868057\n",
      "Adjusted R2:  0.49970999378395453\n",
      "MAPE: 57.52015585855603\n"
     ]
    },
    {
     "data": {
      "image/png": "[encoded data removed]",
      "text/plain": [
       "<Figure size 432x288 with 1 Axes>"
      ]
     },
     "metadata": {
      "needs_background": "light"
     },
     "output_type": "display_data"
    },
    {
     "data": {
      "text/plain": [
       "0.5003814488868057"
      ]
     },
     "execution_count": 27,
     "metadata": {},
     "output_type": "execute_result"
    }
   ],
   "source": [
    "svr = svm.SVR(kernel='linear')\n",
    "svr.fit(train_dataset, train_labels)\n",
    "cm.evaluate_lin_lin(test_dataset, test_labels, train_dataset, train_labels, svr)"
   ]
  },
  {
   "cell_type": "markdown",
   "metadata": {},
   "source": [
    "# Subconjunto Literatura con RFE DecisionTreee\n"
   ]
  },
  {
   "cell_type": "markdown",
   "metadata": {},
   "source": [
    "### Subconjunto Literatura RFE - Regresión Lineal con constante"
   ]
  },
  {
   "cell_type": "code",
   "execution_count": 14,
   "metadata": {},
   "outputs": [],
   "source": [
    "literatura_rfe = ['NOCHES', 'PERSONAS_TOTAL', 'INGRESOS', 'EDAD', 'ACTIV_PISCINA',\n",
    "                  'ACTIV_PASEAR', 'ACTIV_ISLA', 'SEXO', 'ACTIV_GASTRONOMIA_CANARIA',\n",
    "                  'ISLA_ES705', 'ISLA_ES709', 'PAQUETE_TURISTICO_PAGADO_POR_SEPARADO']"
   ]
  },
  {
   "cell_type": "markdown",
   "metadata": {},
   "source": [
    "#### Antes de evaluar los modelos con estas variables, vamos a echar un vistazo a su FIV para asegurarnos de que no haya multicolinealidad"
   ]
  },
  {
   "cell_type": "code",
   "execution_count": 15,
   "metadata": {},
   "outputs": [
    {
     "name": "stderr",
     "output_type": "stream",
     "text": [
      "c:\\users\\amct2\\appdata\\local\\programs\\python\\python36\\lib\\site-packages\\IPython\\core\\interactiveshell.py:3254: DtypeWarning: Columns (140,141,142,143) have mixed types.Specify dtype option on import or set low_memory=False.\n",
      "  if (await self.run_code(code, result,  async_=asy)):\n",
      "C:\\Users\\amct2\\PycharmProjects\\tfg\\data_preprocessing.py:84: UserWarning: Boolean Series key will be reindexed to match DataFrame index.\n",
      "  x = x[(y > q1 - IQR)]\n"
     ]
    },
    {
     "name": "stdout",
     "output_type": "stream",
     "text": [
      "(35767, 13)\n",
      "         VIF                              variables\n",
      "0   1.048762                                 NOCHES\n",
      "1   1.064137                         PERSONAS_TOTAL\n",
      "2   1.047677                               INGRESOS\n",
      "3   1.122442                                   EDAD\n",
      "4   1.090171                          ACTIV_PISCINA\n",
      "5   1.113979                           ACTIV_PASEAR\n",
      "6   1.148693                             ACTIV_ISLA\n",
      "7   1.024825                                   SEXO\n",
      "8   1.093536              ACTIV_GASTRONOMIA_CANARIA\n",
      "9   1.282467                             ISLA_ES705\n",
      "10  1.292805                             ISLA_ES709\n",
      "11  1.034764  PAQUETE_TURISTICO_PAGADO_POR_SEPARADO\n"
     ]
    }
   ],
   "source": [
    "X = dp.load_dataset('./datos/GASTO_TURISTICO_2018_ORIGINAL_2.csv', ';', ',', predictors=literatura_rfe, dummies=True, desglose=False)\n",
    "print(X.shape)\n",
    "scaler = StandardScaler()\n",
    "\n",
    "y = X.pop('GASTO')\n",
    "X = pd.DataFrame(scaler.fit_transform(X.values), columns=X.columns, index=X.index)\n",
    "fs.check_vif(X)"
   ]
  },
  {
   "cell_type": "markdown",
   "metadata": {},
   "source": [
    "En principio parece que no hemos detectado ningún FIV alarmante (en torno a 5), por lo que procederemos a predecir con nuestro subconjunto."
   ]
  },
  {
   "cell_type": "code",
   "execution_count": 16,
   "metadata": {},
   "outputs": [],
   "source": [
    "X['GASTO'] = y\n",
    "\n",
    "train_dataset, test_dataset = dp.split_dataset(X)\n",
    "train_labels = train_dataset.pop('GASTO')\n",
    "test_labels = test_dataset.pop('GASTO')"
   ]
  },
  {
   "cell_type": "markdown",
   "metadata": {},
   "source": [
    "### Subconjunto Literatura RFE  - Red Neuronal "
   ]
  },
  {
   "cell_type": "code",
   "execution_count": 17,
   "metadata": {
    "scrolled": true
   },
   "outputs": [
    {
     "name": "stdout",
     "output_type": "stream",
     "text": [
      "Train on 17972 samples, validate on 8853 samples\n",
      "Epoch 1/250\n",
      " - 1s - loss: 783.7345 - mean_absolute_error: 783.7346 - mean_squared_error: 1090451.5000 - val_loss: 755.9386 - val_mean_absolute_error: 755.9389 - val_mean_squared_error: 1019074.3125\n",
      "Epoch 2/250\n",
      " - 1s - loss: 744.2785 - mean_absolute_error: 744.2785 - mean_squared_error: 980869.2500 - val_loss: 752.9904 - val_mean_absolute_error: 752.9904 - val_mean_squared_error: 997133.9375\n",
      "Epoch 3/250\n",
      " - 1s - loss: 738.5626 - mean_absolute_error: 738.5621 - mean_squared_error: 962002.1875 - val_loss: 743.4764 - val_mean_absolute_error: 743.4763 - val_mean_squared_error: 982581.2500\n",
      "Epoch 4/250\n",
      " - 1s - loss: 735.3053 - mean_absolute_error: 735.3057 - mean_squared_error: 955826.0625 - val_loss: 745.0541 - val_mean_absolute_error: 745.0541 - val_mean_squared_error: 977286.2500\n",
      "Epoch 5/250\n",
      " - 1s - loss: 733.2963 - mean_absolute_error: 733.2964 - mean_squared_error: 950969.8125 - val_loss: 742.2191 - val_mean_absolute_error: 742.2192 - val_mean_squared_error: 976048.1875\n",
      "Epoch 6/250\n",
      " - 1s - loss: 732.6244 - mean_absolute_error: 732.6244 - mean_squared_error: 949149.9375 - val_loss: 739.6662 - val_mean_absolute_error: 739.6660 - val_mean_squared_error: 970152.0625\n",
      "Epoch 7/250\n",
      " - 1s - loss: 731.0721 - mean_absolute_error: 731.0721 - mean_squared_error: 945525.5000 - val_loss: 738.9337 - val_mean_absolute_error: 738.9337 - val_mean_squared_error: 963485.1875\n",
      "Epoch 8/250\n",
      " - 1s - loss: 730.2324 - mean_absolute_error: 730.2322 - mean_squared_error: 943323.8750 - val_loss: 738.5835 - val_mean_absolute_error: 738.5835 - val_mean_squared_error: 971654.7500\n",
      "Epoch 9/250\n",
      " - 1s - loss: 729.7506 - mean_absolute_error: 729.7504 - mean_squared_error: 941300.1250 - val_loss: 738.7088 - val_mean_absolute_error: 738.7090 - val_mean_squared_error: 974109.0000\n",
      "Epoch 10/250\n",
      " - 1s - loss: 728.9269 - mean_absolute_error: 728.9268 - mean_squared_error: 940100.0000 - val_loss: 739.0116 - val_mean_absolute_error: 739.0115 - val_mean_squared_error: 972758.9375\n",
      "Epoch 11/250\n",
      " - 1s - loss: 728.6051 - mean_absolute_error: 728.6053 - mean_squared_error: 940594.4375 - val_loss: 737.9347 - val_mean_absolute_error: 737.9345 - val_mean_squared_error: 965787.8125\n",
      "Epoch 12/250\n",
      " - 1s - loss: 728.5808 - mean_absolute_error: 728.5806 - mean_squared_error: 939020.6250 - val_loss: 737.5905 - val_mean_absolute_error: 737.5905 - val_mean_squared_error: 967032.2500\n",
      "Epoch 13/250\n",
      " - 1s - loss: 727.3765 - mean_absolute_error: 727.3762 - mean_squared_error: 934920.8125 - val_loss: 737.0558 - val_mean_absolute_error: 737.0556 - val_mean_squared_error: 971173.6250\n",
      "Epoch 14/250\n",
      " - 1s - loss: 727.4129 - mean_absolute_error: 727.4128 - mean_squared_error: 938619.4375 - val_loss: 736.1520 - val_mean_absolute_error: 736.1519 - val_mean_squared_error: 963425.8125\n",
      "Epoch 15/250\n",
      " - 1s - loss: 727.0462 - mean_absolute_error: 727.0462 - mean_squared_error: 935827.7500 - val_loss: 736.3164 - val_mean_absolute_error: 736.3161 - val_mean_squared_error: 962668.8750\n",
      "Epoch 16/250\n",
      " - 1s - loss: 726.5167 - mean_absolute_error: 726.5166 - mean_squared_error: 935979.2500 - val_loss: 735.9912 - val_mean_absolute_error: 735.9913 - val_mean_squared_error: 965692.3125\n",
      "Epoch 17/250\n",
      " - 1s - loss: 726.2092 - mean_absolute_error: 726.2093 - mean_squared_error: 935453.5625 - val_loss: 736.8866 - val_mean_absolute_error: 736.8868 - val_mean_squared_error: 964637.9375\n",
      "Epoch 18/250\n",
      " - 1s - loss: 725.8878 - mean_absolute_error: 725.8877 - mean_squared_error: 934395.0000 - val_loss: 736.9751 - val_mean_absolute_error: 736.9750 - val_mean_squared_error: 965366.5625\n",
      "Epoch 19/250\n",
      " - 1s - loss: 725.8364 - mean_absolute_error: 725.8366 - mean_squared_error: 934480.3125 - val_loss: 735.8120 - val_mean_absolute_error: 735.8120 - val_mean_squared_error: 963932.8750\n",
      "Epoch 20/250\n",
      " - 1s - loss: 725.3084 - mean_absolute_error: 725.3084 - mean_squared_error: 934727.6250 - val_loss: 735.5535 - val_mean_absolute_error: 735.5536 - val_mean_squared_error: 963933.5625\n",
      "Epoch 21/250\n",
      " - 1s - loss: 724.8785 - mean_absolute_error: 724.8787 - mean_squared_error: 933299.3750 - val_loss: 736.0823 - val_mean_absolute_error: 736.0821 - val_mean_squared_error: 960001.9375\n",
      "Epoch 22/250\n",
      " - 1s - loss: 724.7090 - mean_absolute_error: 724.7091 - mean_squared_error: 933010.6875 - val_loss: 737.2464 - val_mean_absolute_error: 737.2463 - val_mean_squared_error: 964248.5000\n",
      "Epoch 23/250\n",
      " - 1s - loss: 724.3038 - mean_absolute_error: 724.3038 - mean_squared_error: 932380.6250 - val_loss: 735.4809 - val_mean_absolute_error: 735.4813 - val_mean_squared_error: 965234.5000\n",
      "Epoch 24/250\n",
      " - 1s - loss: 723.7927 - mean_absolute_error: 723.7922 - mean_squared_error: 931110.1875 - val_loss: 735.2096 - val_mean_absolute_error: 735.2097 - val_mean_squared_error: 961477.6875\n",
      "Epoch 25/250\n",
      " - 1s - loss: 722.9087 - mean_absolute_error: 722.9090 - mean_squared_error: 930562.6875 - val_loss: 737.1967 - val_mean_absolute_error: 737.1965 - val_mean_squared_error: 963153.7500\n",
      "Epoch 26/250\n",
      " - 1s - loss: 722.6854 - mean_absolute_error: 722.6850 - mean_squared_error: 928643.9375 - val_loss: 734.3472 - val_mean_absolute_error: 734.3470 - val_mean_squared_error: 962814.6875\n",
      "Epoch 27/250\n",
      " - 1s - loss: 722.3107 - mean_absolute_error: 722.3109 - mean_squared_error: 928492.6250 - val_loss: 733.2951 - val_mean_absolute_error: 733.2950 - val_mean_squared_error: 961095.5625\n",
      "Epoch 28/250\n",
      " - 1s - loss: 721.4159 - mean_absolute_error: 721.4163 - mean_squared_error: 927275.5625 - val_loss: 733.2552 - val_mean_absolute_error: 733.2550 - val_mean_squared_error: 952124.6875\n",
      "Epoch 29/250\n",
      " - 1s - loss: 720.9574 - mean_absolute_error: 720.9574 - mean_squared_error: 926419.3750 - val_loss: 731.3045 - val_mean_absolute_error: 731.3046 - val_mean_squared_error: 952234.8750\n",
      "Epoch 30/250\n",
      " - 1s - loss: 720.1665 - mean_absolute_error: 720.1662 - mean_squared_error: 922776.8750 - val_loss: 733.3817 - val_mean_absolute_error: 733.3817 - val_mean_squared_error: 954421.8750\n",
      "Epoch 31/250\n",
      " - 1s - loss: 719.6443 - mean_absolute_error: 719.6437 - mean_squared_error: 922967.5000 - val_loss: 731.3435 - val_mean_absolute_error: 731.3433 - val_mean_squared_error: 952978.1250\n",
      "Epoch 32/250\n",
      " - 1s - loss: 718.7666 - mean_absolute_error: 718.7665 - mean_squared_error: 921266.5625 - val_loss: 732.8795 - val_mean_absolute_error: 732.8794 - val_mean_squared_error: 955504.3125\n",
      "Epoch 33/250\n",
      " - 1s - loss: 718.1708 - mean_absolute_error: 718.1709 - mean_squared_error: 920958.1250 - val_loss: 731.6345 - val_mean_absolute_error: 731.6346 - val_mean_squared_error: 949879.9375\n",
      "Epoch 34/250\n",
      " - 1s - loss: 717.1597 - mean_absolute_error: 717.1597 - mean_squared_error: 916765.0000 - val_loss: 731.2088 - val_mean_absolute_error: 731.2089 - val_mean_squared_error: 951098.8750\n",
      "Epoch 35/250\n",
      " - 1s - loss: 716.7644 - mean_absolute_error: 716.7644 - mean_squared_error: 917569.6875 - val_loss: 729.6991 - val_mean_absolute_error: 729.6990 - val_mean_squared_error: 949442.6875\n",
      "Epoch 36/250\n",
      " - 1s - loss: 716.0761 - mean_absolute_error: 716.0762 - mean_squared_error: 915178.6875 - val_loss: 730.6008 - val_mean_absolute_error: 730.6003 - val_mean_squared_error: 948110.3750\n",
      "Epoch 37/250\n",
      " - 1s - loss: 715.1609 - mean_absolute_error: 715.1608 - mean_squared_error: 913628.8750 - val_loss: 727.7671 - val_mean_absolute_error: 727.7674 - val_mean_squared_error: 944295.6875\n",
      "Epoch 38/250\n",
      " - 1s - loss: 714.7039 - mean_absolute_error: 714.7037 - mean_squared_error: 912153.8125 - val_loss: 727.5482 - val_mean_absolute_error: 727.5484 - val_mean_squared_error: 946278.1875\n",
      "Epoch 39/250\n",
      " - 1s - loss: 713.7903 - mean_absolute_error: 713.7903 - mean_squared_error: 911761.2500 - val_loss: 727.7841 - val_mean_absolute_error: 727.7842 - val_mean_squared_error: 946615.6250\n",
      "Epoch 40/250\n",
      " - 1s - loss: 713.1597 - mean_absolute_error: 713.1595 - mean_squared_error: 910207.5000 - val_loss: 728.9250 - val_mean_absolute_error: 728.9246 - val_mean_squared_error: 942566.2500\n",
      "Epoch 41/250\n",
      " - 1s - loss: 712.8423 - mean_absolute_error: 712.8424 - mean_squared_error: 908573.3125 - val_loss: 727.0144 - val_mean_absolute_error: 727.0145 - val_mean_squared_error: 942697.3750\n",
      "Epoch 42/250\n",
      " - 1s - loss: 712.3097 - mean_absolute_error: 712.3097 - mean_squared_error: 907735.2500 - val_loss: 725.2796 - val_mean_absolute_error: 725.2795 - val_mean_squared_error: 938878.1875\n"
     ]
    },
    {
     "name": "stdout",
     "output_type": "stream",
     "text": [
      "Epoch 43/250\n",
      " - 1s - loss: 711.7014 - mean_absolute_error: 711.7014 - mean_squared_error: 906132.5000 - val_loss: 725.4994 - val_mean_absolute_error: 725.4994 - val_mean_squared_error: 938406.2500\n",
      "Epoch 44/250\n",
      " - 1s - loss: 711.1654 - mean_absolute_error: 711.1654 - mean_squared_error: 904623.8125 - val_loss: 726.2184 - val_mean_absolute_error: 726.2184 - val_mean_squared_error: 945565.8750\n",
      "Epoch 45/250\n",
      " - 1s - loss: 710.9829 - mean_absolute_error: 710.9831 - mean_squared_error: 904881.7500 - val_loss: 725.2473 - val_mean_absolute_error: 725.2474 - val_mean_squared_error: 941769.3750\n",
      "Epoch 46/250\n",
      " - 1s - loss: 710.3762 - mean_absolute_error: 710.3762 - mean_squared_error: 903748.4375 - val_loss: 724.8219 - val_mean_absolute_error: 724.8219 - val_mean_squared_error: 938469.3125\n",
      "Epoch 47/250\n",
      " - 1s - loss: 709.8923 - mean_absolute_error: 709.8930 - mean_squared_error: 903428.3750 - val_loss: 725.6549 - val_mean_absolute_error: 725.6548 - val_mean_squared_error: 937870.8125\n",
      "Epoch 48/250\n",
      " - 1s - loss: 709.4667 - mean_absolute_error: 709.4666 - mean_squared_error: 902257.4375 - val_loss: 724.1475 - val_mean_absolute_error: 724.1477 - val_mean_squared_error: 936139.6250\n",
      "Epoch 49/250\n",
      " - 1s - loss: 709.3838 - mean_absolute_error: 709.3842 - mean_squared_error: 902013.3750 - val_loss: 724.1314 - val_mean_absolute_error: 724.1312 - val_mean_squared_error: 936286.7500\n",
      "Epoch 50/250\n",
      " - 1s - loss: 709.1214 - mean_absolute_error: 709.1213 - mean_squared_error: 899816.8125 - val_loss: 723.2760 - val_mean_absolute_error: 723.2760 - val_mean_squared_error: 939612.5000\n",
      "Epoch 51/250\n",
      " - 1s - loss: 708.8056 - mean_absolute_error: 708.8057 - mean_squared_error: 901852.8750 - val_loss: 723.3849 - val_mean_absolute_error: 723.3850 - val_mean_squared_error: 935409.0000\n",
      "Epoch 52/250\n",
      " - 1s - loss: 708.3138 - mean_absolute_error: 708.3137 - mean_squared_error: 900245.6250 - val_loss: 722.6841 - val_mean_absolute_error: 722.6841 - val_mean_squared_error: 935790.6875\n",
      "Epoch 53/250\n",
      " - 1s - loss: 708.4207 - mean_absolute_error: 708.4208 - mean_squared_error: 899617.8125 - val_loss: 722.5022 - val_mean_absolute_error: 722.5023 - val_mean_squared_error: 936160.1875\n",
      "Epoch 54/250\n",
      " - 1s - loss: 707.6375 - mean_absolute_error: 707.6372 - mean_squared_error: 898999.0000 - val_loss: 722.4653 - val_mean_absolute_error: 722.4653 - val_mean_squared_error: 930766.3750\n",
      "Epoch 55/250\n",
      " - 1s - loss: 707.6042 - mean_absolute_error: 707.6042 - mean_squared_error: 898512.6875 - val_loss: 721.7007 - val_mean_absolute_error: 721.7004 - val_mean_squared_error: 930557.8750\n",
      "Epoch 56/250\n",
      " - 1s - loss: 707.6012 - mean_absolute_error: 707.6013 - mean_squared_error: 899352.2500 - val_loss: 721.9401 - val_mean_absolute_error: 721.9402 - val_mean_squared_error: 933424.5625\n",
      "Epoch 57/250\n",
      " - 1s - loss: 707.1435 - mean_absolute_error: 707.1436 - mean_squared_error: 898063.9375 - val_loss: 721.3361 - val_mean_absolute_error: 721.3361 - val_mean_squared_error: 934708.7500\n",
      "Epoch 58/250\n",
      " - 1s - loss: 706.9936 - mean_absolute_error: 706.9938 - mean_squared_error: 898458.6250 - val_loss: 722.7165 - val_mean_absolute_error: 722.7163 - val_mean_squared_error: 934109.9375\n",
      "Epoch 59/250\n",
      " - 1s - loss: 706.6165 - mean_absolute_error: 706.6163 - mean_squared_error: 897682.4375 - val_loss: 721.3212 - val_mean_absolute_error: 721.3211 - val_mean_squared_error: 931371.6875\n",
      "Epoch 60/250\n",
      " - 1s - loss: 706.7885 - mean_absolute_error: 706.7886 - mean_squared_error: 897852.7500 - val_loss: 721.2323 - val_mean_absolute_error: 721.2322 - val_mean_squared_error: 933914.0625\n",
      "Epoch 61/250\n",
      " - 1s - loss: 706.8206 - mean_absolute_error: 706.8209 - mean_squared_error: 897465.5000 - val_loss: 720.9689 - val_mean_absolute_error: 720.9692 - val_mean_squared_error: 931800.7500\n",
      "Epoch 62/250\n",
      " - 1s - loss: 706.4929 - mean_absolute_error: 706.4930 - mean_squared_error: 897733.1250 - val_loss: 720.6099 - val_mean_absolute_error: 720.6097 - val_mean_squared_error: 931908.3125\n",
      "Epoch 63/250\n",
      " - 1s - loss: 706.3027 - mean_absolute_error: 706.3026 - mean_squared_error: 896509.9375 - val_loss: 720.7242 - val_mean_absolute_error: 720.7245 - val_mean_squared_error: 934081.7500\n",
      "Epoch 64/250\n",
      " - 1s - loss: 706.0222 - mean_absolute_error: 706.0219 - mean_squared_error: 897777.7500 - val_loss: 721.1475 - val_mean_absolute_error: 721.1473 - val_mean_squared_error: 930019.3125\n",
      "Epoch 65/250\n",
      " - 1s - loss: 705.8828 - mean_absolute_error: 705.8827 - mean_squared_error: 896443.9375 - val_loss: 720.5322 - val_mean_absolute_error: 720.5321 - val_mean_squared_error: 929392.2500\n",
      "Epoch 66/250\n",
      " - 1s - loss: 706.0614 - mean_absolute_error: 706.0612 - mean_squared_error: 895683.0000 - val_loss: 720.4835 - val_mean_absolute_error: 720.4835 - val_mean_squared_error: 933280.9375\n",
      "Epoch 67/250\n",
      " - 1s - loss: 705.7947 - mean_absolute_error: 705.7950 - mean_squared_error: 896871.7500 - val_loss: 720.1110 - val_mean_absolute_error: 720.1111 - val_mean_squared_error: 932529.8750\n",
      "Epoch 68/250\n",
      " - 1s - loss: 705.7751 - mean_absolute_error: 705.7750 - mean_squared_error: 896029.2500 - val_loss: 722.3760 - val_mean_absolute_error: 722.3761 - val_mean_squared_error: 933100.1875\n",
      "Epoch 69/250\n",
      " - 1s - loss: 705.4660 - mean_absolute_error: 705.4658 - mean_squared_error: 896152.7500 - val_loss: 720.4956 - val_mean_absolute_error: 720.4954 - val_mean_squared_error: 934187.0000\n",
      "Epoch 70/250\n",
      " - 1s - loss: 705.2301 - mean_absolute_error: 705.2303 - mean_squared_error: 895149.8125 - val_loss: 720.8311 - val_mean_absolute_error: 720.8312 - val_mean_squared_error: 932049.1875\n",
      "Epoch 71/250\n",
      " - 1s - loss: 705.3188 - mean_absolute_error: 705.3188 - mean_squared_error: 894982.8750 - val_loss: 720.0929 - val_mean_absolute_error: 720.0929 - val_mean_squared_error: 931224.8125\n",
      "Epoch 72/250\n",
      " - 1s - loss: 705.0057 - mean_absolute_error: 705.0055 - mean_squared_error: 895458.8125 - val_loss: 721.7385 - val_mean_absolute_error: 721.7386 - val_mean_squared_error: 931003.5625\n",
      "Epoch 73/250\n",
      " - 1s - loss: 705.2219 - mean_absolute_error: 705.2217 - mean_squared_error: 895386.3750 - val_loss: 719.4276 - val_mean_absolute_error: 719.4277 - val_mean_squared_error: 931288.8750\n",
      "Epoch 74/250\n",
      " - 1s - loss: 704.9094 - mean_absolute_error: 704.9092 - mean_squared_error: 895709.5000 - val_loss: 719.7980 - val_mean_absolute_error: 719.7980 - val_mean_squared_error: 930082.8750\n",
      "Epoch 75/250\n",
      " - 1s - loss: 704.8787 - mean_absolute_error: 704.8785 - mean_squared_error: 894457.9375 - val_loss: 719.0142 - val_mean_absolute_error: 719.0142 - val_mean_squared_error: 929098.6875\n",
      "Epoch 76/250\n",
      " - 1s - loss: 704.6970 - mean_absolute_error: 704.6968 - mean_squared_error: 895087.8125 - val_loss: 719.5286 - val_mean_absolute_error: 719.5287 - val_mean_squared_error: 927782.3750\n",
      "Epoch 77/250\n",
      " - 1s - loss: 704.4236 - mean_absolute_error: 704.4236 - mean_squared_error: 893822.6875 - val_loss: 719.5615 - val_mean_absolute_error: 719.5616 - val_mean_squared_error: 931807.0625\n",
      "Epoch 78/250\n",
      " - 1s - loss: 704.5212 - mean_absolute_error: 704.5215 - mean_squared_error: 894555.0625 - val_loss: 719.4801 - val_mean_absolute_error: 719.4800 - val_mean_squared_error: 929982.9375\n",
      "Epoch 79/250\n",
      " - 1s - loss: 704.3266 - mean_absolute_error: 704.3262 - mean_squared_error: 894584.5625 - val_loss: 719.3447 - val_mean_absolute_error: 719.3448 - val_mean_squared_error: 928252.3125\n",
      "Epoch 80/250\n",
      " - 1s - loss: 704.3614 - mean_absolute_error: 704.3613 - mean_squared_error: 893636.5625 - val_loss: 719.3913 - val_mean_absolute_error: 719.3911 - val_mean_squared_error: 929624.4375\n",
      "Epoch 81/250\n",
      " - 1s - loss: 704.1691 - mean_absolute_error: 704.1691 - mean_squared_error: 893517.0625 - val_loss: 719.5043 - val_mean_absolute_error: 719.5039 - val_mean_squared_error: 929083.6875\n",
      "Epoch 82/250\n",
      " - 1s - loss: 703.9734 - mean_absolute_error: 703.9734 - mean_squared_error: 894068.6250 - val_loss: 719.7261 - val_mean_absolute_error: 719.7260 - val_mean_squared_error: 928754.4375\n",
      "Epoch 83/250\n",
      " - 1s - loss: 704.0023 - mean_absolute_error: 704.0027 - mean_squared_error: 893563.7500 - val_loss: 718.9587 - val_mean_absolute_error: 718.9586 - val_mean_squared_error: 928947.4375\n",
      "Epoch 84/250\n",
      " - 1s - loss: 703.7988 - mean_absolute_error: 703.7985 - mean_squared_error: 891754.8125 - val_loss: 720.5508 - val_mean_absolute_error: 720.5507 - val_mean_squared_error: 932780.7500\n"
     ]
    },
    {
     "name": "stdout",
     "output_type": "stream",
     "text": [
      "Epoch 85/250\n",
      " - 1s - loss: 703.8789 - mean_absolute_error: 703.8790 - mean_squared_error: 893235.1250 - val_loss: 719.2612 - val_mean_absolute_error: 719.2607 - val_mean_squared_error: 930961.9375\n",
      "Epoch 86/250\n",
      " - 1s - loss: 703.7795 - mean_absolute_error: 703.7797 - mean_squared_error: 893305.0000 - val_loss: 718.8013 - val_mean_absolute_error: 718.8013 - val_mean_squared_error: 930789.3750\n",
      "Epoch 87/250\n",
      " - 1s - loss: 703.7176 - mean_absolute_error: 703.7178 - mean_squared_error: 892793.4375 - val_loss: 719.5889 - val_mean_absolute_error: 719.5889 - val_mean_squared_error: 932799.0625\n",
      "Epoch 88/250\n",
      " - 1s - loss: 703.5406 - mean_absolute_error: 703.5406 - mean_squared_error: 892836.8125 - val_loss: 719.6013 - val_mean_absolute_error: 719.6012 - val_mean_squared_error: 929777.3125\n",
      "Epoch 89/250\n",
      " - 1s - loss: 703.5420 - mean_absolute_error: 703.5418 - mean_squared_error: 892687.9375 - val_loss: 718.7462 - val_mean_absolute_error: 718.7460 - val_mean_squared_error: 927700.9375\n",
      "Epoch 90/250\n",
      " - 1s - loss: 703.3886 - mean_absolute_error: 703.3887 - mean_squared_error: 892333.3125 - val_loss: 719.2180 - val_mean_absolute_error: 719.2180 - val_mean_squared_error: 930034.7500\n",
      "Epoch 91/250\n",
      " - 1s - loss: 703.3559 - mean_absolute_error: 703.3561 - mean_squared_error: 892332.7500 - val_loss: 719.1820 - val_mean_absolute_error: 719.1818 - val_mean_squared_error: 929732.2500\n",
      "Epoch 92/250\n",
      " - 1s - loss: 703.2039 - mean_absolute_error: 703.2041 - mean_squared_error: 892593.8750 - val_loss: 718.4815 - val_mean_absolute_error: 718.4812 - val_mean_squared_error: 927512.0000\n",
      "Epoch 93/250\n",
      " - 1s - loss: 703.1313 - mean_absolute_error: 703.1313 - mean_squared_error: 891157.8125 - val_loss: 719.7906 - val_mean_absolute_error: 719.7905 - val_mean_squared_error: 932470.5625\n",
      "Epoch 94/250\n",
      " - 1s - loss: 703.1746 - mean_absolute_error: 703.1746 - mean_squared_error: 892366.8125 - val_loss: 719.0095 - val_mean_absolute_error: 719.0092 - val_mean_squared_error: 931729.8750\n",
      "Epoch 95/250\n",
      " - 1s - loss: 703.1069 - mean_absolute_error: 703.1069 - mean_squared_error: 893132.2500 - val_loss: 719.3373 - val_mean_absolute_error: 719.3371 - val_mean_squared_error: 927659.6250\n",
      "Epoch 96/250\n",
      " - 1s - loss: 703.1016 - mean_absolute_error: 703.1017 - mean_squared_error: 891362.9375 - val_loss: 718.5340 - val_mean_absolute_error: 718.5341 - val_mean_squared_error: 928086.7500\n",
      "Epoch 97/250\n",
      " - 1s - loss: 702.8066 - mean_absolute_error: 702.8068 - mean_squared_error: 892112.4375 - val_loss: 719.0524 - val_mean_absolute_error: 719.0525 - val_mean_squared_error: 929087.6875\n",
      "Epoch 98/250\n",
      " - 1s - loss: 702.7449 - mean_absolute_error: 702.7450 - mean_squared_error: 891904.6250 - val_loss: 719.5194 - val_mean_absolute_error: 719.5196 - val_mean_squared_error: 931349.6250\n",
      "Epoch 99/250\n",
      " - 1s - loss: 702.6784 - mean_absolute_error: 702.6786 - mean_squared_error: 891184.0625 - val_loss: 719.6106 - val_mean_absolute_error: 719.6108 - val_mean_squared_error: 931756.9375\n",
      "Epoch 100/250\n",
      " - 1s - loss: 702.6713 - mean_absolute_error: 702.6707 - mean_squared_error: 892226.5625 - val_loss: 718.4242 - val_mean_absolute_error: 718.4243 - val_mean_squared_error: 926873.0000\n",
      "Epoch 101/250\n",
      " - 1s - loss: 702.5660 - mean_absolute_error: 702.5662 - mean_squared_error: 892110.4375 - val_loss: 718.6287 - val_mean_absolute_error: 718.6290 - val_mean_squared_error: 928406.5625\n",
      "Epoch 102/250\n",
      " - 1s - loss: 702.5691 - mean_absolute_error: 702.5696 - mean_squared_error: 891257.5625 - val_loss: 718.4515 - val_mean_absolute_error: 718.4519 - val_mean_squared_error: 930064.8750\n",
      "Epoch 103/250\n",
      " - 1s - loss: 702.4773 - mean_absolute_error: 702.4771 - mean_squared_error: 891328.3750 - val_loss: 718.4053 - val_mean_absolute_error: 718.4052 - val_mean_squared_error: 928598.0000\n",
      "Epoch 104/250\n",
      " - 1s - loss: 702.1448 - mean_absolute_error: 702.1452 - mean_squared_error: 890236.8750 - val_loss: 718.2846 - val_mean_absolute_error: 718.2844 - val_mean_squared_error: 929416.6875\n",
      "Epoch 105/250\n",
      " - 1s - loss: 702.4246 - mean_absolute_error: 702.4242 - mean_squared_error: 892014.5625 - val_loss: 718.6726 - val_mean_absolute_error: 718.6727 - val_mean_squared_error: 928399.2500\n",
      "Epoch 106/250\n",
      " - 1s - loss: 702.2034 - mean_absolute_error: 702.2032 - mean_squared_error: 890235.5000 - val_loss: 718.6574 - val_mean_absolute_error: 718.6575 - val_mean_squared_error: 927684.6875\n",
      "Epoch 107/250\n",
      " - 1s - loss: 702.2324 - mean_absolute_error: 702.2326 - mean_squared_error: 890269.1875 - val_loss: 718.5108 - val_mean_absolute_error: 718.5109 - val_mean_squared_error: 929950.5000\n",
      "Epoch 108/250\n",
      " - 1s - loss: 702.0924 - mean_absolute_error: 702.0925 - mean_squared_error: 890347.6875 - val_loss: 718.1500 - val_mean_absolute_error: 718.1500 - val_mean_squared_error: 931250.6875\n",
      "Epoch 109/250\n",
      " - 1s - loss: 702.1303 - mean_absolute_error: 702.1299 - mean_squared_error: 891153.4375 - val_loss: 718.0038 - val_mean_absolute_error: 718.0040 - val_mean_squared_error: 928056.3750\n",
      "Epoch 110/250\n",
      " - 1s - loss: 701.7533 - mean_absolute_error: 701.7530 - mean_squared_error: 890152.1875 - val_loss: 718.9790 - val_mean_absolute_error: 718.9791 - val_mean_squared_error: 928379.8125\n",
      "Epoch 111/250\n",
      " - 1s - loss: 702.0250 - mean_absolute_error: 702.0253 - mean_squared_error: 890349.6250 - val_loss: 718.6540 - val_mean_absolute_error: 718.6539 - val_mean_squared_error: 930470.6250\n",
      "Epoch 112/250\n",
      " - 1s - loss: 701.7910 - mean_absolute_error: 701.7913 - mean_squared_error: 889927.7500 - val_loss: 718.4714 - val_mean_absolute_error: 718.4714 - val_mean_squared_error: 930604.8750\n",
      "Epoch 113/250\n",
      " - 1s - loss: 701.7634 - mean_absolute_error: 701.7634 - mean_squared_error: 890665.7500 - val_loss: 718.0048 - val_mean_absolute_error: 718.0045 - val_mean_squared_error: 926450.6875\n",
      "Epoch 114/250\n",
      " - 1s - loss: 701.6638 - mean_absolute_error: 701.6641 - mean_squared_error: 889222.0000 - val_loss: 718.2684 - val_mean_absolute_error: 718.2686 - val_mean_squared_error: 928848.0000\n",
      "Epoch 115/250\n",
      " - 1s - loss: 701.7451 - mean_absolute_error: 701.7451 - mean_squared_error: 890110.3750 - val_loss: 718.0299 - val_mean_absolute_error: 718.0298 - val_mean_squared_error: 928179.6875\n",
      "Epoch 116/250\n",
      " - 1s - loss: 701.5362 - mean_absolute_error: 701.5357 - mean_squared_error: 889697.3750 - val_loss: 718.6151 - val_mean_absolute_error: 718.6150 - val_mean_squared_error: 928930.2500\n",
      "Epoch 117/250\n",
      " - 1s - loss: 701.6911 - mean_absolute_error: 701.6906 - mean_squared_error: 890666.5000 - val_loss: 718.0605 - val_mean_absolute_error: 718.0603 - val_mean_squared_error: 925987.4375\n",
      "Epoch 118/250\n",
      " - 1s - loss: 701.5337 - mean_absolute_error: 701.5339 - mean_squared_error: 889181.0625 - val_loss: 717.9527 - val_mean_absolute_error: 717.9527 - val_mean_squared_error: 927265.6875\n",
      "Epoch 119/250\n",
      " - 1s - loss: 701.2744 - mean_absolute_error: 701.2748 - mean_squared_error: 888936.2500 - val_loss: 718.1297 - val_mean_absolute_error: 718.1302 - val_mean_squared_error: 929798.5000\n",
      "Epoch 120/250\n",
      " - 1s - loss: 701.4674 - mean_absolute_error: 701.4677 - mean_squared_error: 889690.6250 - val_loss: 717.9788 - val_mean_absolute_error: 717.9786 - val_mean_squared_error: 928153.5625\n",
      "Epoch 121/250\n",
      " - 1s - loss: 701.2822 - mean_absolute_error: 701.2819 - mean_squared_error: 889283.0625 - val_loss: 718.1926 - val_mean_absolute_error: 718.1924 - val_mean_squared_error: 925526.5625\n",
      "Epoch 122/250\n",
      " - 1s - loss: 701.1986 - mean_absolute_error: 701.1984 - mean_squared_error: 889589.0625 - val_loss: 718.5016 - val_mean_absolute_error: 718.5016 - val_mean_squared_error: 926080.1875\n",
      "Epoch 123/250\n",
      " - 1s - loss: 701.1296 - mean_absolute_error: 701.1296 - mean_squared_error: 888459.3125 - val_loss: 719.0415 - val_mean_absolute_error: 719.0416 - val_mean_squared_error: 930582.8750\n",
      "Epoch 124/250\n",
      " - 1s - loss: 701.2176 - mean_absolute_error: 701.2170 - mean_squared_error: 889569.6875 - val_loss: 717.9868 - val_mean_absolute_error: 717.9863 - val_mean_squared_error: 927201.0000\n",
      "Epoch 125/250\n",
      " - 1s - loss: 701.2623 - mean_absolute_error: 701.2618 - mean_squared_error: 889443.2500 - val_loss: 718.2006 - val_mean_absolute_error: 718.2003 - val_mean_squared_error: 929994.9375\n",
      "Epoch 126/250\n",
      " - 1s - loss: 701.1720 - mean_absolute_error: 701.1719 - mean_squared_error: 889624.1250 - val_loss: 717.8613 - val_mean_absolute_error: 717.8610 - val_mean_squared_error: 925735.8125\n"
     ]
    },
    {
     "name": "stdout",
     "output_type": "stream",
     "text": [
      "Epoch 127/250\n",
      " - 1s - loss: 700.9316 - mean_absolute_error: 700.9317 - mean_squared_error: 888982.6875 - val_loss: 717.6643 - val_mean_absolute_error: 717.6646 - val_mean_squared_error: 928667.3750\n",
      "Epoch 128/250\n",
      " - 1s - loss: 700.8511 - mean_absolute_error: 700.8508 - mean_squared_error: 889247.4375 - val_loss: 718.6215 - val_mean_absolute_error: 718.6212 - val_mean_squared_error: 927912.3125\n",
      "Epoch 129/250\n",
      " - 1s - loss: 701.1250 - mean_absolute_error: 701.1248 - mean_squared_error: 888786.0000 - val_loss: 717.9381 - val_mean_absolute_error: 717.9383 - val_mean_squared_error: 928068.1875\n",
      "Epoch 130/250\n",
      " - 1s - loss: 700.8147 - mean_absolute_error: 700.8152 - mean_squared_error: 889207.5625 - val_loss: 717.7261 - val_mean_absolute_error: 717.7261 - val_mean_squared_error: 925152.8125\n",
      "Epoch 131/250\n",
      " - 1s - loss: 700.8295 - mean_absolute_error: 700.8295 - mean_squared_error: 888505.5625 - val_loss: 718.2855 - val_mean_absolute_error: 718.2851 - val_mean_squared_error: 927169.8125\n",
      "Epoch 132/250\n",
      " - 1s - loss: 700.7996 - mean_absolute_error: 700.8000 - mean_squared_error: 888508.9375 - val_loss: 718.0637 - val_mean_absolute_error: 718.0638 - val_mean_squared_error: 926130.5000\n",
      "Epoch 133/250\n",
      " - 1s - loss: 700.7924 - mean_absolute_error: 700.7924 - mean_squared_error: 888123.1250 - val_loss: 718.1298 - val_mean_absolute_error: 718.1297 - val_mean_squared_error: 926614.2500\n",
      "Epoch 134/250\n",
      " - 1s - loss: 700.7498 - mean_absolute_error: 700.7496 - mean_squared_error: 887631.8750 - val_loss: 718.0576 - val_mean_absolute_error: 718.0575 - val_mean_squared_error: 927562.5000\n",
      "Epoch 135/250\n",
      " - 1s - loss: 700.5985 - mean_absolute_error: 700.5981 - mean_squared_error: 889130.2500 - val_loss: 717.7719 - val_mean_absolute_error: 717.7713 - val_mean_squared_error: 924811.3750\n",
      "Epoch 136/250\n",
      " - 1s - loss: 700.6412 - mean_absolute_error: 700.6410 - mean_squared_error: 887880.1250 - val_loss: 717.5955 - val_mean_absolute_error: 717.5954 - val_mean_squared_error: 925183.6250\n",
      "Epoch 137/250\n",
      " - 1s - loss: 700.4801 - mean_absolute_error: 700.4800 - mean_squared_error: 888216.6250 - val_loss: 717.6525 - val_mean_absolute_error: 717.6528 - val_mean_squared_error: 923787.0625\n",
      "Epoch 138/250\n",
      " - 1s - loss: 700.3630 - mean_absolute_error: 700.3629 - mean_squared_error: 887610.7500 - val_loss: 717.4139 - val_mean_absolute_error: 717.4138 - val_mean_squared_error: 926007.0625\n",
      "Epoch 139/250\n",
      " - 1s - loss: 700.3906 - mean_absolute_error: 700.3909 - mean_squared_error: 887706.4375 - val_loss: 718.6115 - val_mean_absolute_error: 718.6116 - val_mean_squared_error: 931087.8125\n",
      "Epoch 140/250\n",
      " - 1s - loss: 700.4536 - mean_absolute_error: 700.4533 - mean_squared_error: 888470.0625 - val_loss: 718.3526 - val_mean_absolute_error: 718.3524 - val_mean_squared_error: 929026.7500\n",
      "Epoch 141/250\n",
      " - 1s - loss: 700.2096 - mean_absolute_error: 700.2097 - mean_squared_error: 887421.0000 - val_loss: 717.8398 - val_mean_absolute_error: 717.8397 - val_mean_squared_error: 929071.9375\n",
      "Epoch 142/250\n",
      " - 1s - loss: 700.3148 - mean_absolute_error: 700.3146 - mean_squared_error: 888411.1250 - val_loss: 717.1467 - val_mean_absolute_error: 717.1470 - val_mean_squared_error: 925587.5625\n",
      "Epoch 143/250\n",
      " - 1s - loss: 700.2034 - mean_absolute_error: 700.2034 - mean_squared_error: 887339.6875 - val_loss: 717.5988 - val_mean_absolute_error: 717.5988 - val_mean_squared_error: 927297.2500\n",
      "Epoch 144/250\n",
      " - 1s - loss: 700.0848 - mean_absolute_error: 700.0851 - mean_squared_error: 887665.7500 - val_loss: 717.8160 - val_mean_absolute_error: 717.8158 - val_mean_squared_error: 927765.5625\n",
      "Epoch 145/250\n",
      " - 1s - loss: 700.0551 - mean_absolute_error: 700.0554 - mean_squared_error: 888249.3750 - val_loss: 717.5839 - val_mean_absolute_error: 717.5840 - val_mean_squared_error: 926213.2500\n",
      "Epoch 146/250\n",
      " - 1s - loss: 699.9881 - mean_absolute_error: 699.9880 - mean_squared_error: 886167.2500 - val_loss: 717.8372 - val_mean_absolute_error: 717.8370 - val_mean_squared_error: 928655.7500\n",
      "Epoch 147/250\n",
      " - 1s - loss: 700.1649 - mean_absolute_error: 700.1647 - mean_squared_error: 888121.6875 - val_loss: 717.8599 - val_mean_absolute_error: 717.8604 - val_mean_squared_error: 928177.8125\n",
      "Epoch 148/250\n",
      " - 1s - loss: 700.0211 - mean_absolute_error: 700.0210 - mean_squared_error: 887457.0625 - val_loss: 718.3521 - val_mean_absolute_error: 718.3521 - val_mean_squared_error: 927680.0625\n",
      "Epoch 149/250\n",
      " - 1s - loss: 700.0227 - mean_absolute_error: 700.0229 - mean_squared_error: 887810.4375 - val_loss: 717.7610 - val_mean_absolute_error: 717.7611 - val_mean_squared_error: 925487.2500\n",
      "Epoch 150/250\n",
      " - 1s - loss: 699.9614 - mean_absolute_error: 699.9610 - mean_squared_error: 887697.7500 - val_loss: 717.5980 - val_mean_absolute_error: 717.5982 - val_mean_squared_error: 926291.8125\n",
      "Epoch 151/250\n",
      " - 1s - loss: 699.8275 - mean_absolute_error: 699.8273 - mean_squared_error: 886778.6875 - val_loss: 717.4760 - val_mean_absolute_error: 717.4761 - val_mean_squared_error: 927673.6250\n",
      "Epoch 152/250\n",
      " - 1s - loss: 699.9061 - mean_absolute_error: 699.9064 - mean_squared_error: 888138.0000 - val_loss: 717.6247 - val_mean_absolute_error: 717.6247 - val_mean_squared_error: 926041.3750\n",
      "----Resultados sobre TRAIN----\n",
      "R2:  0.41423381997124276\n",
      "Adjusted R2:  0.4139716539948014\n",
      "MAPE: 59.06870201545029\n",
      "----Resultados sobre TEST----\n",
      "R2:  0.3996080252929266\n",
      "Adjusted R2:  0.39880113720954824\n",
      "MAPE: 58.78903114599914\n"
     ]
    },
    {
     "data": {
      "image/png": "[encoded data removed]",
      "text/plain": [
       "<Figure size 432x288 with 1 Axes>"
      ]
     },
     "metadata": {
      "needs_background": "light"
     },
     "output_type": "display_data"
    },
    {
     "data": {
      "text/plain": [
       "0.3996080252929266"
      ]
     },
     "execution_count": 17,
     "metadata": {},
     "output_type": "execute_result"
    }
   ],
   "source": [
    "model = ep.build_model(train_dataset)\n",
    "ep.train_model(model, train_dataset, train_labels, 250)\n",
    "cm.evaluate_lin_lin(test_dataset, test_labels, train_dataset, train_labels, model)"
   ]
  },
  {
   "cell_type": "markdown",
   "metadata": {},
   "source": [
    "### Subconjunto Literatura RFE  - Regresión Lineal con constante"
   ]
  },
  {
   "cell_type": "code",
   "execution_count": 18,
   "metadata": {
    "scrolled": true
   },
   "outputs": [
    {
     "name": "stdout",
     "output_type": "stream",
     "text": [
      "----Resultados sobre TRAIN----\n",
      "R2:  0.36910843685200234\n",
      "Adjusted R2:  0.3688260745232773\n",
      "MAPE: 74.09306113483059\n",
      "----Resultados sobre TEST----\n",
      "R2:  0.37153751998673945\n",
      "Adjusted R2:  0.3706929069550271\n",
      "MAPE: 72.80715948099694\n"
     ]
    },
    {
     "data": {
      "image/png": "[encoded data removed]",
      "text/plain": [
       "<Figure size 432x288 with 1 Axes>"
      ]
     },
     "metadata": {
      "needs_background": "light"
     },
     "output_type": "display_data"
    },
    {
     "data": {
      "text/plain": [
       "0.37153751998673945"
      ]
     },
     "execution_count": 18,
     "metadata": {},
     "output_type": "execute_result"
    }
   ],
   "source": [
    "lr = LinearRegression(fit_intercept=True)\n",
    "lr.fit(train_dataset, train_labels)\n",
    "cm.evaluate_lin_lin(test_dataset, test_labels, train_dataset, train_labels, lr)"
   ]
  },
  {
   "cell_type": "markdown",
   "metadata": {},
   "source": [
    "### Subconjunto Literatura RFE  - Random Forest"
   ]
  },
  {
   "cell_type": "code",
   "execution_count": 19,
   "metadata": {
    "scrolled": true
   },
   "outputs": [
    {
     "name": "stderr",
     "output_type": "stream",
     "text": [
      "[Parallel(n_jobs=4)]: Using backend ThreadingBackend with 4 concurrent workers.\n",
      "[Parallel(n_jobs=4)]: Done  42 tasks      | elapsed:  1.8min\n",
      "[Parallel(n_jobs=4)]: Done 100 out of 100 | elapsed:  4.0min finished\n",
      "[Parallel(n_jobs=4)]: Using backend ThreadingBackend with 4 concurrent workers.\n",
      "[Parallel(n_jobs=4)]: Done  42 tasks      | elapsed:    0.0s\n",
      "[Parallel(n_jobs=4)]: Done 100 out of 100 | elapsed:    0.1s finished\n",
      "[Parallel(n_jobs=4)]: Using backend ThreadingBackend with 4 concurrent workers.\n",
      "[Parallel(n_jobs=4)]: Done  42 tasks      | elapsed:    0.0s\n",
      "[Parallel(n_jobs=4)]: Done 100 out of 100 | elapsed:    0.0s finished\n"
     ]
    },
    {
     "name": "stdout",
     "output_type": "stream",
     "text": [
      "----Resultados sobre TRAIN----\n",
      "R2:  0.8794729482591898\n",
      "Adjusted R2:  0.8794190050762534\n",
      "MAPE: 26.81827411137665\n",
      "----Resultados sobre TEST----\n",
      "R2:  0.3547390091180197\n",
      "Adjusted R2:  0.3538718199713533\n",
      "MAPE: 64.1515905465618\n"
     ]
    },
    {
     "data": {
      "image/png": "[encoded data removed]",
      "text/plain": [
       "<Figure size 432x288 with 1 Axes>"
      ]
     },
     "metadata": {
      "needs_background": "light"
     },
     "output_type": "display_data"
    },
    {
     "data": {
      "text/plain": [
       "0.3547390091180197"
      ]
     },
     "execution_count": 19,
     "metadata": {},
     "output_type": "execute_result"
    }
   ],
   "source": [
    "regressor = RandomForestRegressor(100, criterion=\"mae\", verbose=1, n_jobs=4)\n",
    "regressor.fit(train_dataset, train_labels)\n",
    "cm.evaluate_lin_lin(test_dataset, test_labels, train_dataset, train_labels, regressor)"
   ]
  },
  {
   "cell_type": "markdown",
   "metadata": {},
   "source": [
    "### Subconjunto Literatura RFE - Regresión de Soporte Vectorial"
   ]
  },
  {
   "cell_type": "code",
   "execution_count": 20,
   "metadata": {
    "scrolled": true
   },
   "outputs": [
    {
     "name": "stdout",
     "output_type": "stream",
     "text": [
      "----Resultados sobre TRAIN----\n",
      "R2:  0.364142053373152\n",
      "Adjusted R2:  0.3638574682858955\n",
      "MAPE: 70.39922043534162\n",
      "----Resultados sobre TEST----\n",
      "R2:  0.36601777961073334\n",
      "Adjusted R2:  0.36516574840402805\n",
      "MAPE: 69.12209559669186\n"
     ]
    },
    {
     "data": {
      "image/png": "[encoded data removed]",
      "text/plain": [
       "<Figure size 432x288 with 1 Axes>"
      ]
     },
     "metadata": {
      "needs_background": "light"
     },
     "output_type": "display_data"
    },
    {
     "data": {
      "text/plain": [
       "0.36601777961073334"
      ]
     },
     "execution_count": 20,
     "metadata": {},
     "output_type": "execute_result"
    }
   ],
   "source": [
    "svr = svm.SVR(kernel='linear')\n",
    "svr.fit(train_dataset, train_labels)\n",
    "cm.evaluate_lin_lin(test_dataset, test_labels, train_dataset, train_labels, svr)"
   ]
  },
  {
   "cell_type": "markdown",
   "metadata": {},
   "source": [
    "# Subconjunto Literatura con RF\n"
   ]
  },
  {
   "cell_type": "markdown",
   "metadata": {},
   "source": [
    "### Subconjunto Literatura RF - Regresión Lineal con constante"
   ]
  },
  {
   "cell_type": "code",
   "execution_count": 7,
   "metadata": {},
   "outputs": [],
   "source": [
    "literatura_rf100 = ['EDAD', 'NOCHES', 'PERSONAS_TOTAL', 'INGRESOS', 'SEXO', 'ACTIV_PLAYA', \n",
    "                    'ACTIV_ISLA', 'PRIMERA_VISITA_CANARIAS', 'ACTIV_PASEAR', \n",
    "                    'ACTIV_PISCINA', 'ACTIV_GASTRONOMIA_CANARIA', 'ACTIV_OCIO']"
   ]
  },
  {
   "cell_type": "markdown",
   "metadata": {},
   "source": [
    "#### Antes de evaluar los modelos con estas variables, vamos a echar un vistazo a su FIV para asegurarnos de que no haya multicolinealidad"
   ]
  },
  {
   "cell_type": "code",
   "execution_count": 8,
   "metadata": {},
   "outputs": [
    {
     "name": "stderr",
     "output_type": "stream",
     "text": [
      "c:\\users\\amct2\\appdata\\local\\programs\\python\\python36\\lib\\site-packages\\IPython\\core\\interactiveshell.py:3254: DtypeWarning: Columns (140,141,142,143) have mixed types.Specify dtype option on import or set low_memory=False.\n",
      "  if (await self.run_code(code, result,  async_=asy)):\n",
      "C:\\Users\\amct2\\PycharmProjects\\tfg\\data_preprocessing.py:84: UserWarning: Boolean Series key will be reindexed to match DataFrame index.\n",
      "  x = x[(y > q1 - IQR)]\n"
     ]
    },
    {
     "name": "stdout",
     "output_type": "stream",
     "text": [
      "(35767, 13)\n",
      "         VIF                  variables\n",
      "0   1.219937                       EDAD\n",
      "1   1.062578                     NOCHES\n",
      "2   1.066991             PERSONAS_TOTAL\n",
      "3   1.053754                   INGRESOS\n",
      "4   1.024180                       SEXO\n",
      "5   1.142317                ACTIV_PLAYA\n",
      "6   1.163508                 ACTIV_ISLA\n",
      "7   1.091509    PRIMERA_VISITA_CANARIAS\n",
      "8   1.132425               ACTIV_PASEAR\n",
      "9   1.114058              ACTIV_PISCINA\n",
      "10  1.099140  ACTIV_GASTRONOMIA_CANARIA\n",
      "11  1.059736                 ACTIV_OCIO\n"
     ]
    }
   ],
   "source": [
    "X = dp.load_dataset('./datos/GASTO_TURISTICO_2018_ORIGINAL_2.csv', ';', ',', predictors=literatura_rf100, dummies=True, desglose=False)\n",
    "print(X.shape)\n",
    "scaler = StandardScaler()\n",
    "\n",
    "y = X.pop('GASTO')\n",
    "X = pd.DataFrame(scaler.fit_transform(X.values), columns=X.columns, index=X.index)\n",
    "fs.check_vif(X)"
   ]
  },
  {
   "cell_type": "markdown",
   "metadata": {},
   "source": [
    "En principio parece que no hemos detectado ningún FIV alarmante (en torno a 5), por lo que procederemos a predecir con nuestro subconjunto."
   ]
  },
  {
   "cell_type": "code",
   "execution_count": 9,
   "metadata": {},
   "outputs": [],
   "source": [
    "X['GASTO'] = y\n",
    "\n",
    "train_dataset, test_dataset = dp.split_dataset(X)\n",
    "train_labels = train_dataset.pop('GASTO')\n",
    "test_labels = test_dataset.pop('GASTO')"
   ]
  },
  {
   "cell_type": "markdown",
   "metadata": {},
   "source": [
    "### Subconjunto Literatura  RF - Red Neuronal "
   ]
  },
  {
   "cell_type": "code",
   "execution_count": 10,
   "metadata": {
    "scrolled": true
   },
   "outputs": [
    {
     "name": "stdout",
     "output_type": "stream",
     "text": [
      "WARNING:tensorflow:From c:\\users\\amct2\\appdata\\local\\programs\\python\\python36\\lib\\site-packages\\tensorflow\\python\\ops\\resource_variable_ops.py:435: colocate_with (from tensorflow.python.framework.ops) is deprecated and will be removed in a future version.\n",
      "Instructions for updating:\n",
      "Colocations handled automatically by placer.\n",
      "Train on 17972 samples, validate on 8853 samples\n",
      "WARNING:tensorflow:From c:\\users\\amct2\\appdata\\local\\programs\\python\\python36\\lib\\site-packages\\tensorflow\\python\\ops\\math_ops.py:3066: to_int32 (from tensorflow.python.ops.math_ops) is deprecated and will be removed in a future version.\n",
      "Instructions for updating:\n",
      "Use tf.cast instead.\n",
      "Epoch 1/250\n",
      " - 1s - loss: 793.3525 - mean_absolute_error: 793.3525 - mean_squared_error: 1101695.5000 - val_loss: 774.1321 - val_mean_absolute_error: 774.1320 - val_mean_squared_error: 1058426.1250\n",
      "Epoch 2/250\n",
      " - 1s - loss: 763.8261 - mean_absolute_error: 763.8263 - mean_squared_error: 1018485.5000 - val_loss: 766.8231 - val_mean_absolute_error: 766.8235 - val_mean_squared_error: 1032352.5625\n",
      "Epoch 3/250\n",
      " - 1s - loss: 760.8611 - mean_absolute_error: 760.8610 - mean_squared_error: 1009420.9375 - val_loss: 769.1324 - val_mean_absolute_error: 769.1321 - val_mean_squared_error: 1041434.3750\n",
      "Epoch 4/250\n",
      " - 1s - loss: 758.1076 - mean_absolute_error: 758.1077 - mean_squared_error: 1004621.6250 - val_loss: 765.8472 - val_mean_absolute_error: 765.8473 - val_mean_squared_error: 1023947.8125\n",
      "Epoch 5/250\n",
      " - 1s - loss: 757.1782 - mean_absolute_error: 757.1785 - mean_squared_error: 1001665.7500 - val_loss: 766.5616 - val_mean_absolute_error: 766.5616 - val_mean_squared_error: 1034349.0625\n",
      "Epoch 6/250\n",
      " - 1s - loss: 755.4851 - mean_absolute_error: 755.4854 - mean_squared_error: 997729.2500 - val_loss: 771.7166 - val_mean_absolute_error: 771.7164 - val_mean_squared_error: 1045378.0625\n",
      "Epoch 7/250\n",
      " - 1s - loss: 753.4895 - mean_absolute_error: 753.4896 - mean_squared_error: 996304.8125 - val_loss: 759.5852 - val_mean_absolute_error: 759.5851 - val_mean_squared_error: 1006553.6875\n",
      "Epoch 8/250\n",
      " - 1s - loss: 748.6935 - mean_absolute_error: 748.6930 - mean_squared_error: 981436.1875 - val_loss: 755.6473 - val_mean_absolute_error: 755.6472 - val_mean_squared_error: 1005292.0000\n",
      "Epoch 9/250\n",
      " - 1s - loss: 743.6765 - mean_absolute_error: 743.6763 - mean_squared_error: 972310.1250 - val_loss: 756.4604 - val_mean_absolute_error: 756.4605 - val_mean_squared_error: 1006713.8125\n",
      "Epoch 10/250\n",
      " - 1s - loss: 740.6969 - mean_absolute_error: 740.6970 - mean_squared_error: 963419.1250 - val_loss: 753.7011 - val_mean_absolute_error: 753.7009 - val_mean_squared_error: 994465.5000\n",
      "Epoch 11/250\n",
      " - 1s - loss: 738.9296 - mean_absolute_error: 738.9291 - mean_squared_error: 956512.5000 - val_loss: 752.0417 - val_mean_absolute_error: 752.0418 - val_mean_squared_error: 993409.0625\n",
      "Epoch 12/250\n",
      " - 1s - loss: 737.4595 - mean_absolute_error: 737.4594 - mean_squared_error: 953384.7500 - val_loss: 754.8471 - val_mean_absolute_error: 754.8470 - val_mean_squared_error: 1000979.6250\n",
      "Epoch 13/250\n",
      " - 1s - loss: 736.8829 - mean_absolute_error: 736.8828 - mean_squared_error: 949642.0000 - val_loss: 752.7694 - val_mean_absolute_error: 752.7695 - val_mean_squared_error: 990703.3750\n",
      "Epoch 14/250\n",
      " - 1s - loss: 736.5128 - mean_absolute_error: 736.5129 - mean_squared_error: 949382.0000 - val_loss: 751.7258 - val_mean_absolute_error: 751.7258 - val_mean_squared_error: 989257.3125\n",
      "Epoch 15/250\n",
      " - 1s - loss: 735.7562 - mean_absolute_error: 735.7564 - mean_squared_error: 947739.2500 - val_loss: 750.1835 - val_mean_absolute_error: 750.1835 - val_mean_squared_error: 989622.1250\n",
      "Epoch 16/250\n",
      " - 1s - loss: 735.2126 - mean_absolute_error: 735.2127 - mean_squared_error: 947717.5000 - val_loss: 751.8336 - val_mean_absolute_error: 751.8336 - val_mean_squared_error: 993438.0000\n",
      "Epoch 17/250\n",
      " - 1s - loss: 735.1671 - mean_absolute_error: 735.1671 - mean_squared_error: 945768.7500 - val_loss: 752.5959 - val_mean_absolute_error: 752.5959 - val_mean_squared_error: 989518.1875\n",
      "Epoch 18/250\n",
      " - 1s - loss: 734.4747 - mean_absolute_error: 734.4745 - mean_squared_error: 945298.0000 - val_loss: 751.4470 - val_mean_absolute_error: 751.4469 - val_mean_squared_error: 990050.3750\n",
      "Epoch 19/250\n",
      " - 1s - loss: 734.4894 - mean_absolute_error: 734.4893 - mean_squared_error: 945122.3125 - val_loss: 749.8074 - val_mean_absolute_error: 749.8075 - val_mean_squared_error: 983604.2500\n",
      "Epoch 20/250\n",
      " - 1s - loss: 733.9281 - mean_absolute_error: 733.9281 - mean_squared_error: 943690.5625 - val_loss: 751.9813 - val_mean_absolute_error: 751.9815 - val_mean_squared_error: 989615.8750\n",
      "Epoch 21/250\n",
      " - 1s - loss: 733.7393 - mean_absolute_error: 733.7394 - mean_squared_error: 943872.0625 - val_loss: 751.1325 - val_mean_absolute_error: 751.1326 - val_mean_squared_error: 987051.6875\n",
      "Epoch 22/250\n",
      " - 1s - loss: 732.9398 - mean_absolute_error: 732.9394 - mean_squared_error: 941067.6875 - val_loss: 752.4559 - val_mean_absolute_error: 752.4557 - val_mean_squared_error: 989843.3125\n",
      "Epoch 23/250\n",
      " - 1s - loss: 732.8800 - mean_absolute_error: 732.8800 - mean_squared_error: 943136.5625 - val_loss: 752.5372 - val_mean_absolute_error: 752.5372 - val_mean_squared_error: 987058.7500\n",
      "Epoch 24/250\n",
      " - 1s - loss: 732.5070 - mean_absolute_error: 732.5069 - mean_squared_error: 941001.9375 - val_loss: 750.9288 - val_mean_absolute_error: 750.9289 - val_mean_squared_error: 987298.5000\n",
      "Epoch 25/250\n",
      " - 1s - loss: 732.4997 - mean_absolute_error: 732.4996 - mean_squared_error: 940945.6250 - val_loss: 750.1840 - val_mean_absolute_error: 750.1840 - val_mean_squared_error: 986694.9375\n",
      "Epoch 26/250\n",
      " - 1s - loss: 732.8534 - mean_absolute_error: 732.8535 - mean_squared_error: 942667.6875 - val_loss: 749.3671 - val_mean_absolute_error: 749.3669 - val_mean_squared_error: 983491.1250\n",
      "Epoch 27/250\n",
      " - 1s - loss: 732.1549 - mean_absolute_error: 732.1550 - mean_squared_error: 940041.2500 - val_loss: 750.3505 - val_mean_absolute_error: 750.3502 - val_mean_squared_error: 984726.3125\n",
      "Epoch 28/250\n",
      " - 1s - loss: 732.2816 - mean_absolute_error: 732.2816 - mean_squared_error: 941187.5000 - val_loss: 749.8191 - val_mean_absolute_error: 749.8190 - val_mean_squared_error: 986518.9375\n",
      "Epoch 29/250\n",
      " - 1s - loss: 731.9110 - mean_absolute_error: 731.9113 - mean_squared_error: 940774.3125 - val_loss: 750.5092 - val_mean_absolute_error: 750.5095 - val_mean_squared_error: 983291.9375\n",
      "Epoch 30/250\n",
      " - 1s - loss: 731.7371 - mean_absolute_error: 731.7368 - mean_squared_error: 939939.6875 - val_loss: 750.1084 - val_mean_absolute_error: 750.1088 - val_mean_squared_error: 987271.1250\n",
      "Epoch 31/250\n",
      " - 1s - loss: 731.5955 - mean_absolute_error: 731.5953 - mean_squared_error: 939637.1250 - val_loss: 750.2948 - val_mean_absolute_error: 750.2948 - val_mean_squared_error: 987442.3125\n",
      "Epoch 32/250\n",
      " - 1s - loss: 731.5606 - mean_absolute_error: 731.5607 - mean_squared_error: 939454.3750 - val_loss: 749.3451 - val_mean_absolute_error: 749.3453 - val_mean_squared_error: 983724.0625\n",
      "Epoch 33/250\n",
      " - 1s - loss: 731.3290 - mean_absolute_error: 731.3289 - mean_squared_error: 939131.9375 - val_loss: 749.8917 - val_mean_absolute_error: 749.8918 - val_mean_squared_error: 984309.6875\n",
      "Epoch 34/250\n",
      " - 1s - loss: 731.3542 - mean_absolute_error: 731.3536 - mean_squared_error: 938824.9375 - val_loss: 749.1641 - val_mean_absolute_error: 749.1637 - val_mean_squared_error: 983915.6875\n",
      "Epoch 35/250\n",
      " - 1s - loss: 730.8198 - mean_absolute_error: 730.8196 - mean_squared_error: 938908.6250 - val_loss: 748.9237 - val_mean_absolute_error: 748.9235 - val_mean_squared_error: 981960.8125\n",
      "Epoch 36/250\n",
      " - 1s - loss: 730.7727 - mean_absolute_error: 730.7723 - mean_squared_error: 938268.2500 - val_loss: 749.5298 - val_mean_absolute_error: 749.5300 - val_mean_squared_error: 979970.7500\n",
      "Epoch 37/250\n",
      " - 1s - loss: 730.5523 - mean_absolute_error: 730.5522 - mean_squared_error: 937441.0000 - val_loss: 748.8179 - val_mean_absolute_error: 748.8181 - val_mean_squared_error: 982116.8750\n",
      "Epoch 38/250\n",
      " - 1s - loss: 730.2806 - mean_absolute_error: 730.2805 - mean_squared_error: 936891.3750 - val_loss: 748.5934 - val_mean_absolute_error: 748.5936 - val_mean_squared_error: 980670.1250\n",
      "Epoch 39/250\n",
      " - 1s - loss: 730.3915 - mean_absolute_error: 730.3913 - mean_squared_error: 936886.9375 - val_loss: 748.2808 - val_mean_absolute_error: 748.2805 - val_mean_squared_error: 980910.3125\n"
     ]
    },
    {
     "name": "stdout",
     "output_type": "stream",
     "text": [
      "Epoch 40/250\n",
      " - 1s - loss: 730.1716 - mean_absolute_error: 730.1718 - mean_squared_error: 937327.0625 - val_loss: 748.9119 - val_mean_absolute_error: 748.9121 - val_mean_squared_error: 984072.3125\n",
      "Epoch 41/250\n",
      " - 1s - loss: 730.2438 - mean_absolute_error: 730.2435 - mean_squared_error: 936747.7500 - val_loss: 749.0909 - val_mean_absolute_error: 749.0910 - val_mean_squared_error: 981830.9375\n",
      "Epoch 42/250\n",
      " - 1s - loss: 730.0173 - mean_absolute_error: 730.0168 - mean_squared_error: 936941.9375 - val_loss: 749.2297 - val_mean_absolute_error: 749.2300 - val_mean_squared_error: 980844.7500\n",
      "Epoch 43/250\n",
      " - 1s - loss: 729.7097 - mean_absolute_error: 729.7096 - mean_squared_error: 935701.6250 - val_loss: 749.4084 - val_mean_absolute_error: 749.4085 - val_mean_squared_error: 982481.9375\n",
      "Epoch 44/250\n",
      " - 1s - loss: 729.8085 - mean_absolute_error: 729.8083 - mean_squared_error: 936716.9375 - val_loss: 747.7147 - val_mean_absolute_error: 747.7150 - val_mean_squared_error: 980205.1250\n",
      "Epoch 45/250\n",
      " - 1s - loss: 729.5360 - mean_absolute_error: 729.5363 - mean_squared_error: 935099.8125 - val_loss: 748.9559 - val_mean_absolute_error: 748.9562 - val_mean_squared_error: 981602.5000\n",
      "Epoch 46/250\n",
      " - 1s - loss: 729.5794 - mean_absolute_error: 729.5792 - mean_squared_error: 935967.0625 - val_loss: 748.3434 - val_mean_absolute_error: 748.3435 - val_mean_squared_error: 977819.9375\n",
      "Epoch 47/250\n",
      " - 1s - loss: 729.5584 - mean_absolute_error: 729.5580 - mean_squared_error: 934378.5000 - val_loss: 748.3662 - val_mean_absolute_error: 748.3660 - val_mean_squared_error: 981559.6875\n",
      "Epoch 48/250\n",
      " - 1s - loss: 729.3369 - mean_absolute_error: 729.3369 - mean_squared_error: 935826.0625 - val_loss: 748.0471 - val_mean_absolute_error: 748.0471 - val_mean_squared_error: 979117.7500\n",
      "Epoch 49/250\n",
      " - 1s - loss: 729.0985 - mean_absolute_error: 729.0983 - mean_squared_error: 934254.0625 - val_loss: 748.4732 - val_mean_absolute_error: 748.4731 - val_mean_squared_error: 978869.5000\n",
      "Epoch 50/250\n",
      " - 1s - loss: 729.0029 - mean_absolute_error: 729.0027 - mean_squared_error: 934051.4375 - val_loss: 747.7529 - val_mean_absolute_error: 747.7529 - val_mean_squared_error: 981039.7500\n",
      "Epoch 51/250\n",
      " - 1s - loss: 729.0282 - mean_absolute_error: 729.0280 - mean_squared_error: 934255.0625 - val_loss: 747.6310 - val_mean_absolute_error: 747.6306 - val_mean_squared_error: 978305.7500\n",
      "Epoch 52/250\n",
      " - 1s - loss: 728.7786 - mean_absolute_error: 728.7786 - mean_squared_error: 933073.2500 - val_loss: 748.2744 - val_mean_absolute_error: 748.2744 - val_mean_squared_error: 980125.7500\n",
      "Epoch 53/250\n",
      " - 1s - loss: 728.8481 - mean_absolute_error: 728.8485 - mean_squared_error: 933859.2500 - val_loss: 747.9957 - val_mean_absolute_error: 747.9956 - val_mean_squared_error: 981676.0625\n",
      "Epoch 54/250\n",
      " - 1s - loss: 728.4580 - mean_absolute_error: 728.4580 - mean_squared_error: 934352.3125 - val_loss: 748.1453 - val_mean_absolute_error: 748.1454 - val_mean_squared_error: 980202.9375\n",
      "Epoch 55/250\n",
      " - 1s - loss: 728.2435 - mean_absolute_error: 728.2436 - mean_squared_error: 934043.6250 - val_loss: 747.6299 - val_mean_absolute_error: 747.6299 - val_mean_squared_error: 981372.8750\n",
      "Epoch 56/250\n",
      " - 1s - loss: 728.6779 - mean_absolute_error: 728.6786 - mean_squared_error: 933976.0625 - val_loss: 747.8162 - val_mean_absolute_error: 747.8165 - val_mean_squared_error: 979664.5000\n",
      "Epoch 57/250\n",
      " - 1s - loss: 728.3630 - mean_absolute_error: 728.3632 - mean_squared_error: 933231.8750 - val_loss: 748.0532 - val_mean_absolute_error: 748.0535 - val_mean_squared_error: 979587.2500\n",
      "Epoch 58/250\n",
      " - 1s - loss: 728.3540 - mean_absolute_error: 728.3540 - mean_squared_error: 934090.0625 - val_loss: 747.1401 - val_mean_absolute_error: 747.1401 - val_mean_squared_error: 978465.6250\n",
      "Epoch 59/250\n",
      " - 1s - loss: 728.3703 - mean_absolute_error: 728.3706 - mean_squared_error: 932565.4375 - val_loss: 747.1041 - val_mean_absolute_error: 747.1038 - val_mean_squared_error: 979200.0000\n",
      "Epoch 60/250\n",
      " - 1s - loss: 728.2133 - mean_absolute_error: 728.2135 - mean_squared_error: 933197.0625 - val_loss: 747.4189 - val_mean_absolute_error: 747.4187 - val_mean_squared_error: 980202.8125\n",
      "Epoch 61/250\n",
      " - 1s - loss: 727.8207 - mean_absolute_error: 727.8212 - mean_squared_error: 932731.0625 - val_loss: 746.9330 - val_mean_absolute_error: 746.9331 - val_mean_squared_error: 980098.8125\n",
      "Epoch 62/250\n",
      " - 1s - loss: 728.0894 - mean_absolute_error: 728.0893 - mean_squared_error: 933475.5000 - val_loss: 746.9184 - val_mean_absolute_error: 746.9184 - val_mean_squared_error: 978234.9375\n",
      "Epoch 63/250\n",
      " - 1s - loss: 727.9413 - mean_absolute_error: 727.9414 - mean_squared_error: 932745.6875 - val_loss: 747.2351 - val_mean_absolute_error: 747.2353 - val_mean_squared_error: 980135.8125\n",
      "Epoch 64/250\n",
      " - 1s - loss: 727.6564 - mean_absolute_error: 727.6565 - mean_squared_error: 932031.1875 - val_loss: 747.4515 - val_mean_absolute_error: 747.4514 - val_mean_squared_error: 978892.3125\n",
      "Epoch 65/250\n",
      " - 1s - loss: 727.5319 - mean_absolute_error: 727.5315 - mean_squared_error: 932046.6875 - val_loss: 746.8181 - val_mean_absolute_error: 746.8179 - val_mean_squared_error: 978532.1250\n",
      "Epoch 66/250\n",
      " - 1s - loss: 727.5454 - mean_absolute_error: 727.5451 - mean_squared_error: 931666.1250 - val_loss: 747.8948 - val_mean_absolute_error: 747.8944 - val_mean_squared_error: 978705.3750\n",
      "Epoch 67/250\n",
      " - 1s - loss: 727.3454 - mean_absolute_error: 727.3452 - mean_squared_error: 931108.8125 - val_loss: 746.4418 - val_mean_absolute_error: 746.4421 - val_mean_squared_error: 978885.0000\n",
      "Epoch 68/250\n",
      " - 1s - loss: 727.5027 - mean_absolute_error: 727.5030 - mean_squared_error: 931698.1875 - val_loss: 747.8769 - val_mean_absolute_error: 747.8768 - val_mean_squared_error: 980165.0000\n",
      "Epoch 69/250\n",
      " - 1s - loss: 727.0935 - mean_absolute_error: 727.0940 - mean_squared_error: 931199.7500 - val_loss: 746.2192 - val_mean_absolute_error: 746.2190 - val_mean_squared_error: 977299.8125\n",
      "Epoch 70/250\n",
      " - 1s - loss: 726.8891 - mean_absolute_error: 726.8895 - mean_squared_error: 929560.2500 - val_loss: 746.9640 - val_mean_absolute_error: 746.9641 - val_mean_squared_error: 979799.5000\n",
      "Epoch 71/250\n",
      " - 1s - loss: 727.0844 - mean_absolute_error: 727.0839 - mean_squared_error: 930274.3750 - val_loss: 746.4564 - val_mean_absolute_error: 746.4565 - val_mean_squared_error: 977498.6250\n",
      "Epoch 72/250\n",
      " - 1s - loss: 726.8983 - mean_absolute_error: 726.8979 - mean_squared_error: 931588.0000 - val_loss: 746.7466 - val_mean_absolute_error: 746.7462 - val_mean_squared_error: 976242.6875\n",
      "Epoch 73/250\n",
      " - 1s - loss: 726.8558 - mean_absolute_error: 726.8558 - mean_squared_error: 929196.1250 - val_loss: 746.0535 - val_mean_absolute_error: 746.0536 - val_mean_squared_error: 978687.9375\n",
      "Epoch 74/250\n",
      " - 1s - loss: 726.6821 - mean_absolute_error: 726.6822 - mean_squared_error: 929788.1875 - val_loss: 746.1501 - val_mean_absolute_error: 746.1502 - val_mean_squared_error: 978681.0625\n",
      "Epoch 75/250\n",
      " - 1s - loss: 726.6477 - mean_absolute_error: 726.6482 - mean_squared_error: 930472.2500 - val_loss: 746.8316 - val_mean_absolute_error: 746.8317 - val_mean_squared_error: 977970.8750\n",
      "Epoch 76/250\n",
      " - 1s - loss: 726.3702 - mean_absolute_error: 726.3706 - mean_squared_error: 929709.4375 - val_loss: 746.1660 - val_mean_absolute_error: 746.1663 - val_mean_squared_error: 977417.0625\n",
      "Epoch 77/250\n",
      " - 1s - loss: 726.5129 - mean_absolute_error: 726.5128 - mean_squared_error: 929198.6875 - val_loss: 745.9177 - val_mean_absolute_error: 745.9173 - val_mean_squared_error: 977149.4375\n",
      "Epoch 78/250\n",
      " - 1s - loss: 726.3254 - mean_absolute_error: 726.3255 - mean_squared_error: 929768.8750 - val_loss: 746.4560 - val_mean_absolute_error: 746.4559 - val_mean_squared_error: 979222.4375\n",
      "Epoch 79/250\n",
      " - 1s - loss: 726.2919 - mean_absolute_error: 726.2919 - mean_squared_error: 930462.1250 - val_loss: 746.3868 - val_mean_absolute_error: 746.3867 - val_mean_squared_error: 976198.6250\n",
      "Epoch 80/250\n",
      " - 1s - loss: 725.8744 - mean_absolute_error: 725.8745 - mean_squared_error: 928518.1875 - val_loss: 745.9333 - val_mean_absolute_error: 745.9333 - val_mean_squared_error: 976033.3750\n",
      "Epoch 81/250\n",
      " - 1s - loss: 726.0363 - mean_absolute_error: 726.0356 - mean_squared_error: 927952.7500 - val_loss: 745.9998 - val_mean_absolute_error: 745.9999 - val_mean_squared_error: 975926.5000\n"
     ]
    },
    {
     "name": "stdout",
     "output_type": "stream",
     "text": [
      "Epoch 82/250\n",
      " - 1s - loss: 726.0617 - mean_absolute_error: 726.0618 - mean_squared_error: 927961.6250 - val_loss: 744.9284 - val_mean_absolute_error: 744.9285 - val_mean_squared_error: 974824.3125\n",
      "Epoch 83/250\n",
      " - 1s - loss: 725.8650 - mean_absolute_error: 725.8645 - mean_squared_error: 928886.8750 - val_loss: 746.3308 - val_mean_absolute_error: 746.3307 - val_mean_squared_error: 975093.1250\n",
      "Epoch 84/250\n",
      " - 1s - loss: 725.5931 - mean_absolute_error: 725.5932 - mean_squared_error: 927262.1250 - val_loss: 746.1668 - val_mean_absolute_error: 746.1666 - val_mean_squared_error: 977002.0625\n",
      "Epoch 85/250\n",
      " - 1s - loss: 725.6203 - mean_absolute_error: 725.6207 - mean_squared_error: 928944.3750 - val_loss: 745.2240 - val_mean_absolute_error: 745.2238 - val_mean_squared_error: 975702.5625\n",
      "Epoch 86/250\n",
      " - 1s - loss: 725.5205 - mean_absolute_error: 725.5211 - mean_squared_error: 927177.6875 - val_loss: 745.2900 - val_mean_absolute_error: 745.2901 - val_mean_squared_error: 976830.6250\n",
      "Epoch 87/250\n",
      " - 1s - loss: 725.3849 - mean_absolute_error: 725.3846 - mean_squared_error: 926740.5000 - val_loss: 745.6178 - val_mean_absolute_error: 745.6177 - val_mean_squared_error: 976913.9375\n",
      "Epoch 88/250\n",
      " - 1s - loss: 725.2548 - mean_absolute_error: 725.2546 - mean_squared_error: 927893.1875 - val_loss: 744.5529 - val_mean_absolute_error: 744.5530 - val_mean_squared_error: 975637.7500\n",
      "Epoch 89/250\n",
      " - 1s - loss: 725.0753 - mean_absolute_error: 725.0751 - mean_squared_error: 927146.5625 - val_loss: 744.4379 - val_mean_absolute_error: 744.4379 - val_mean_squared_error: 975068.0000\n",
      "Epoch 90/250\n",
      " - 1s - loss: 725.0001 - mean_absolute_error: 725.0005 - mean_squared_error: 926722.1250 - val_loss: 744.4568 - val_mean_absolute_error: 744.4570 - val_mean_squared_error: 974876.5625\n",
      "Epoch 91/250\n",
      " - 1s - loss: 724.5825 - mean_absolute_error: 724.5826 - mean_squared_error: 925243.3125 - val_loss: 744.2902 - val_mean_absolute_error: 744.2903 - val_mean_squared_error: 975051.3125\n",
      "Epoch 92/250\n",
      " - 1s - loss: 724.6016 - mean_absolute_error: 724.6016 - mean_squared_error: 925717.7500 - val_loss: 745.5045 - val_mean_absolute_error: 745.5046 - val_mean_squared_error: 976340.4375\n",
      "Epoch 93/250\n",
      " - 1s - loss: 724.5719 - mean_absolute_error: 724.5716 - mean_squared_error: 925732.3125 - val_loss: 744.2825 - val_mean_absolute_error: 744.2828 - val_mean_squared_error: 972495.4375\n",
      "Epoch 94/250\n",
      " - 1s - loss: 724.3372 - mean_absolute_error: 724.3367 - mean_squared_error: 924718.7500 - val_loss: 744.5052 - val_mean_absolute_error: 744.5053 - val_mean_squared_error: 972577.0000\n",
      "Epoch 95/250\n",
      " - 1s - loss: 724.2276 - mean_absolute_error: 724.2275 - mean_squared_error: 924328.1875 - val_loss: 743.9921 - val_mean_absolute_error: 743.9921 - val_mean_squared_error: 971747.3125\n",
      "Epoch 96/250\n",
      " - 1s - loss: 723.7340 - mean_absolute_error: 723.7341 - mean_squared_error: 924184.6875 - val_loss: 743.8044 - val_mean_absolute_error: 743.8044 - val_mean_squared_error: 971373.6250\n",
      "Epoch 97/250\n",
      " - 1s - loss: 723.3093 - mean_absolute_error: 723.3093 - mean_squared_error: 923041.7500 - val_loss: 743.7166 - val_mean_absolute_error: 743.7166 - val_mean_squared_error: 970109.5625\n",
      "Epoch 98/250\n",
      " - 1s - loss: 722.9065 - mean_absolute_error: 722.9063 - mean_squared_error: 921712.6250 - val_loss: 742.5555 - val_mean_absolute_error: 742.5556 - val_mean_squared_error: 973011.8125\n",
      "Epoch 99/250\n",
      " - 1s - loss: 722.4981 - mean_absolute_error: 722.4982 - mean_squared_error: 922284.9375 - val_loss: 741.6742 - val_mean_absolute_error: 741.6744 - val_mean_squared_error: 966464.6875\n",
      "Epoch 100/250\n",
      " - 1s - loss: 721.7660 - mean_absolute_error: 721.7661 - mean_squared_error: 919961.4375 - val_loss: 741.7030 - val_mean_absolute_error: 741.7032 - val_mean_squared_error: 966047.5625\n",
      "Epoch 101/250\n",
      " - 1s - loss: 721.2545 - mean_absolute_error: 721.2545 - mean_squared_error: 918138.3125 - val_loss: 740.6282 - val_mean_absolute_error: 740.6282 - val_mean_squared_error: 965566.4375\n",
      "Epoch 102/250\n",
      " - 1s - loss: 720.6840 - mean_absolute_error: 720.6838 - mean_squared_error: 917123.2500 - val_loss: 738.9887 - val_mean_absolute_error: 738.9885 - val_mean_squared_error: 963300.1250\n",
      "Epoch 103/250\n",
      " - 1s - loss: 719.7642 - mean_absolute_error: 719.7640 - mean_squared_error: 914739.9375 - val_loss: 738.8769 - val_mean_absolute_error: 738.8769 - val_mean_squared_error: 962169.8125\n",
      "Epoch 104/250\n",
      " - 1s - loss: 719.3630 - mean_absolute_error: 719.3630 - mean_squared_error: 913586.4375 - val_loss: 737.7126 - val_mean_absolute_error: 737.7125 - val_mean_squared_error: 960276.9375\n",
      "Epoch 105/250\n",
      " - 1s - loss: 718.6236 - mean_absolute_error: 718.6238 - mean_squared_error: 912776.0625 - val_loss: 736.8694 - val_mean_absolute_error: 736.8694 - val_mean_squared_error: 957149.8125\n",
      "Epoch 106/250\n",
      " - 1s - loss: 718.0715 - mean_absolute_error: 718.0721 - mean_squared_error: 910667.8750 - val_loss: 736.4016 - val_mean_absolute_error: 736.4016 - val_mean_squared_error: 955620.5000\n",
      "Epoch 107/250\n",
      " - 1s - loss: 717.4552 - mean_absolute_error: 717.4553 - mean_squared_error: 909775.0000 - val_loss: 735.6297 - val_mean_absolute_error: 735.6297 - val_mean_squared_error: 953998.5625\n",
      "Epoch 108/250\n",
      " - 1s - loss: 716.7534 - mean_absolute_error: 716.7530 - mean_squared_error: 907979.4375 - val_loss: 734.9556 - val_mean_absolute_error: 734.9553 - val_mean_squared_error: 951343.6875\n",
      "Epoch 109/250\n",
      " - 1s - loss: 716.5727 - mean_absolute_error: 716.5725 - mean_squared_error: 907461.2500 - val_loss: 734.6522 - val_mean_absolute_error: 734.6522 - val_mean_squared_error: 949369.6875\n",
      "Epoch 110/250\n",
      " - 1s - loss: 715.8489 - mean_absolute_error: 715.8489 - mean_squared_error: 906329.6250 - val_loss: 734.5884 - val_mean_absolute_error: 734.5884 - val_mean_squared_error: 950905.6875\n",
      "Epoch 111/250\n",
      " - 1s - loss: 715.9088 - mean_absolute_error: 715.9087 - mean_squared_error: 906814.8125 - val_loss: 734.0443 - val_mean_absolute_error: 734.0445 - val_mean_squared_error: 948398.3125\n",
      "Epoch 112/250\n",
      " - 1s - loss: 715.2907 - mean_absolute_error: 715.2914 - mean_squared_error: 904343.5000 - val_loss: 733.7358 - val_mean_absolute_error: 733.7360 - val_mean_squared_error: 949063.5000\n",
      "Epoch 113/250\n",
      " - 1s - loss: 715.0392 - mean_absolute_error: 715.0390 - mean_squared_error: 905565.1250 - val_loss: 734.5682 - val_mean_absolute_error: 734.5682 - val_mean_squared_error: 948378.4375\n",
      "Epoch 114/250\n",
      " - 1s - loss: 714.7063 - mean_absolute_error: 714.7063 - mean_squared_error: 904523.1250 - val_loss: 733.2520 - val_mean_absolute_error: 733.2521 - val_mean_squared_error: 947892.6875\n",
      "Epoch 115/250\n",
      " - 1s - loss: 714.3096 - mean_absolute_error: 714.3095 - mean_squared_error: 903471.0000 - val_loss: 733.6581 - val_mean_absolute_error: 733.6581 - val_mean_squared_error: 946124.1250\n",
      "Epoch 116/250\n",
      " - 1s - loss: 714.0432 - mean_absolute_error: 714.0428 - mean_squared_error: 901955.1875 - val_loss: 732.7477 - val_mean_absolute_error: 732.7480 - val_mean_squared_error: 949881.6875\n",
      "Epoch 117/250\n",
      " - 1s - loss: 713.8809 - mean_absolute_error: 713.8804 - mean_squared_error: 902887.1875 - val_loss: 732.1658 - val_mean_absolute_error: 732.1655 - val_mean_squared_error: 945940.1250\n",
      "Epoch 118/250\n",
      " - 1s - loss: 713.5212 - mean_absolute_error: 713.5215 - mean_squared_error: 902253.3125 - val_loss: 732.7975 - val_mean_absolute_error: 732.7974 - val_mean_squared_error: 944668.5625\n",
      "Epoch 119/250\n",
      " - 1s - loss: 713.5438 - mean_absolute_error: 713.5441 - mean_squared_error: 901960.1875 - val_loss: 732.2145 - val_mean_absolute_error: 732.2146 - val_mean_squared_error: 947973.1875\n",
      "Epoch 120/250\n",
      " - 1s - loss: 713.3433 - mean_absolute_error: 713.3432 - mean_squared_error: 902163.8750 - val_loss: 731.8400 - val_mean_absolute_error: 731.8399 - val_mean_squared_error: 947010.6250\n",
      "Epoch 121/250\n",
      " - 1s - loss: 713.1545 - mean_absolute_error: 713.1545 - mean_squared_error: 900956.3750 - val_loss: 733.6772 - val_mean_absolute_error: 733.6772 - val_mean_squared_error: 946939.3125\n",
      "Epoch 122/250\n",
      " - 1s - loss: 713.1141 - mean_absolute_error: 713.1140 - mean_squared_error: 901684.2500 - val_loss: 732.5379 - val_mean_absolute_error: 732.5379 - val_mean_squared_error: 944533.4375\n",
      "Epoch 123/250\n",
      " - 1s - loss: 712.7623 - mean_absolute_error: 712.7624 - mean_squared_error: 900243.3125 - val_loss: 732.5445 - val_mean_absolute_error: 732.5443 - val_mean_squared_error: 949843.8750\n"
     ]
    },
    {
     "name": "stdout",
     "output_type": "stream",
     "text": [
      "Epoch 124/250\n",
      " - 1s - loss: 712.6835 - mean_absolute_error: 712.6837 - mean_squared_error: 900867.2500 - val_loss: 731.9379 - val_mean_absolute_error: 731.9382 - val_mean_squared_error: 946196.8750\n",
      "Epoch 125/250\n",
      " - 1s - loss: 712.5690 - mean_absolute_error: 712.5690 - mean_squared_error: 900475.1875 - val_loss: 731.7473 - val_mean_absolute_error: 731.7476 - val_mean_squared_error: 945158.0625\n",
      "Epoch 126/250\n",
      " - 1s - loss: 712.3986 - mean_absolute_error: 712.3987 - mean_squared_error: 900545.3750 - val_loss: 731.5437 - val_mean_absolute_error: 731.5439 - val_mean_squared_error: 942281.8750\n",
      "Epoch 127/250\n",
      " - 1s - loss: 712.0775 - mean_absolute_error: 712.0778 - mean_squared_error: 899718.3125 - val_loss: 732.4533 - val_mean_absolute_error: 732.4532 - val_mean_squared_error: 943216.6875\n",
      "Epoch 128/250\n",
      " - 1s - loss: 711.9541 - mean_absolute_error: 711.9539 - mean_squared_error: 899589.9375 - val_loss: 733.5190 - val_mean_absolute_error: 733.5187 - val_mean_squared_error: 944662.6875\n",
      "Epoch 129/250\n",
      " - 1s - loss: 711.9228 - mean_absolute_error: 711.9229 - mean_squared_error: 900096.4375 - val_loss: 731.7473 - val_mean_absolute_error: 731.7475 - val_mean_squared_error: 948164.5625\n",
      "Epoch 130/250\n",
      " - 1s - loss: 712.0589 - mean_absolute_error: 712.0585 - mean_squared_error: 899639.8750 - val_loss: 732.1459 - val_mean_absolute_error: 732.1459 - val_mean_squared_error: 946560.9375\n",
      "Epoch 131/250\n",
      " - 1s - loss: 711.6468 - mean_absolute_error: 711.6465 - mean_squared_error: 899338.1875 - val_loss: 731.7255 - val_mean_absolute_error: 731.7255 - val_mean_squared_error: 943760.0625\n",
      "Epoch 132/250\n",
      " - 1s - loss: 711.8780 - mean_absolute_error: 711.8782 - mean_squared_error: 899166.8750 - val_loss: 731.4430 - val_mean_absolute_error: 731.4429 - val_mean_squared_error: 944849.7500\n",
      "Epoch 133/250\n",
      " - 1s - loss: 711.5775 - mean_absolute_error: 711.5770 - mean_squared_error: 899152.2500 - val_loss: 732.1642 - val_mean_absolute_error: 732.1640 - val_mean_squared_error: 943699.5625\n",
      "Epoch 134/250\n",
      " - 1s - loss: 711.5074 - mean_absolute_error: 711.5073 - mean_squared_error: 899023.3125 - val_loss: 731.4714 - val_mean_absolute_error: 731.4714 - val_mean_squared_error: 943874.5000\n",
      "Epoch 135/250\n",
      " - 1s - loss: 711.4592 - mean_absolute_error: 711.4592 - mean_squared_error: 898601.8750 - val_loss: 731.5129 - val_mean_absolute_error: 731.5127 - val_mean_squared_error: 945376.2500\n",
      "Epoch 136/250\n",
      " - 1s - loss: 711.3679 - mean_absolute_error: 711.3679 - mean_squared_error: 899025.7500 - val_loss: 732.2437 - val_mean_absolute_error: 732.2434 - val_mean_squared_error: 944399.2500\n",
      "Epoch 137/250\n",
      " - 1s - loss: 711.0525 - mean_absolute_error: 711.0522 - mean_squared_error: 898186.3750 - val_loss: 730.8704 - val_mean_absolute_error: 730.8706 - val_mean_squared_error: 943291.6875\n",
      "Epoch 138/250\n",
      " - 1s - loss: 710.8693 - mean_absolute_error: 710.8696 - mean_squared_error: 897831.0000 - val_loss: 731.9387 - val_mean_absolute_error: 731.9391 - val_mean_squared_error: 943714.6250\n",
      "Epoch 139/250\n",
      " - 1s - loss: 711.0960 - mean_absolute_error: 711.0960 - mean_squared_error: 898089.8750 - val_loss: 731.4267 - val_mean_absolute_error: 731.4267 - val_mean_squared_error: 942654.5625\n",
      "Epoch 140/250\n",
      " - 1s - loss: 710.5756 - mean_absolute_error: 710.5760 - mean_squared_error: 896909.9375 - val_loss: 731.6001 - val_mean_absolute_error: 731.6003 - val_mean_squared_error: 942383.0625\n",
      "Epoch 141/250\n",
      " - 1s - loss: 710.8413 - mean_absolute_error: 710.8409 - mean_squared_error: 897898.0625 - val_loss: 731.2759 - val_mean_absolute_error: 731.2761 - val_mean_squared_error: 943600.3750\n",
      "Epoch 142/250\n",
      " - 1s - loss: 710.7687 - mean_absolute_error: 710.7690 - mean_squared_error: 897963.3125 - val_loss: 731.0386 - val_mean_absolute_error: 731.0383 - val_mean_squared_error: 942033.7500\n",
      "Epoch 143/250\n",
      " - 1s - loss: 710.4808 - mean_absolute_error: 710.4809 - mean_squared_error: 897202.0000 - val_loss: 730.7658 - val_mean_absolute_error: 730.7659 - val_mean_squared_error: 941233.3750\n",
      "Epoch 144/250\n",
      " - 1s - loss: 710.1675 - mean_absolute_error: 710.1680 - mean_squared_error: 895408.6875 - val_loss: 731.4302 - val_mean_absolute_error: 731.4300 - val_mean_squared_error: 942938.6250\n",
      "Epoch 145/250\n",
      " - 1s - loss: 710.4528 - mean_absolute_error: 710.4529 - mean_squared_error: 896683.1875 - val_loss: 731.4561 - val_mean_absolute_error: 731.4559 - val_mean_squared_error: 942754.8125\n",
      "Epoch 146/250\n",
      " - 1s - loss: 710.4701 - mean_absolute_error: 710.4698 - mean_squared_error: 896700.0625 - val_loss: 730.9070 - val_mean_absolute_error: 730.9072 - val_mean_squared_error: 941093.8125\n",
      "Epoch 147/250\n",
      " - 1s - loss: 710.2563 - mean_absolute_error: 710.2564 - mean_squared_error: 896064.0625 - val_loss: 730.9873 - val_mean_absolute_error: 730.9872 - val_mean_squared_error: 943275.0625\n",
      "Epoch 148/250\n",
      " - 1s - loss: 709.9398 - mean_absolute_error: 709.9396 - mean_squared_error: 896311.3125 - val_loss: 730.7411 - val_mean_absolute_error: 730.7410 - val_mean_squared_error: 944929.6875\n",
      "Epoch 149/250\n",
      " - 1s - loss: 709.9478 - mean_absolute_error: 709.9475 - mean_squared_error: 896923.1250 - val_loss: 730.9741 - val_mean_absolute_error: 730.9738 - val_mean_squared_error: 941587.0000\n",
      "Epoch 150/250\n",
      " - 1s - loss: 709.7050 - mean_absolute_error: 709.7051 - mean_squared_error: 895941.8125 - val_loss: 731.2039 - val_mean_absolute_error: 731.2042 - val_mean_squared_error: 942282.5000\n",
      "Epoch 151/250\n",
      " - 1s - loss: 709.7616 - mean_absolute_error: 709.7610 - mean_squared_error: 896726.4375 - val_loss: 730.6799 - val_mean_absolute_error: 730.6801 - val_mean_squared_error: 942500.6250\n",
      "Epoch 152/250\n",
      " - 1s - loss: 709.5400 - mean_absolute_error: 709.5400 - mean_squared_error: 894807.0000 - val_loss: 730.8849 - val_mean_absolute_error: 730.8846 - val_mean_squared_error: 944443.3125\n",
      "Epoch 153/250\n",
      " - 1s - loss: 709.7208 - mean_absolute_error: 709.7205 - mean_squared_error: 895377.7500 - val_loss: 730.9485 - val_mean_absolute_error: 730.9484 - val_mean_squared_error: 942190.0625\n",
      "Epoch 154/250\n",
      " - 1s - loss: 709.6271 - mean_absolute_error: 709.6272 - mean_squared_error: 895584.1250 - val_loss: 731.3110 - val_mean_absolute_error: 731.3109 - val_mean_squared_error: 940216.7500\n",
      "Epoch 155/250\n",
      " - 1s - loss: 709.4223 - mean_absolute_error: 709.4221 - mean_squared_error: 894499.3750 - val_loss: 731.4953 - val_mean_absolute_error: 731.4955 - val_mean_squared_error: 941761.3125\n",
      "Epoch 156/250\n",
      " - 1s - loss: 709.4017 - mean_absolute_error: 709.4015 - mean_squared_error: 894604.3750 - val_loss: 730.4658 - val_mean_absolute_error: 730.4658 - val_mean_squared_error: 940953.3750\n",
      "Epoch 157/250\n",
      " - 1s - loss: 709.1875 - mean_absolute_error: 709.1876 - mean_squared_error: 894664.2500 - val_loss: 731.5992 - val_mean_absolute_error: 731.5989 - val_mean_squared_error: 941545.3750\n",
      "Epoch 158/250\n",
      " - 1s - loss: 709.2110 - mean_absolute_error: 709.2109 - mean_squared_error: 894963.1875 - val_loss: 730.8282 - val_mean_absolute_error: 730.8281 - val_mean_squared_error: 942682.4375\n",
      "Epoch 159/250\n",
      " - 1s - loss: 709.2667 - mean_absolute_error: 709.2672 - mean_squared_error: 894340.6250 - val_loss: 730.6459 - val_mean_absolute_error: 730.6459 - val_mean_squared_error: 941792.6875\n",
      "Epoch 160/250\n",
      " - 1s - loss: 708.7738 - mean_absolute_error: 708.7734 - mean_squared_error: 893654.0625 - val_loss: 731.0656 - val_mean_absolute_error: 731.0658 - val_mean_squared_error: 941171.3750\n",
      "Epoch 161/250\n",
      " - 1s - loss: 708.8089 - mean_absolute_error: 708.8089 - mean_squared_error: 893752.2500 - val_loss: 730.5502 - val_mean_absolute_error: 730.5503 - val_mean_squared_error: 939341.6250\n",
      "Epoch 162/250\n",
      " - 1s - loss: 708.7875 - mean_absolute_error: 708.7875 - mean_squared_error: 892982.3750 - val_loss: 730.6189 - val_mean_absolute_error: 730.6185 - val_mean_squared_error: 943196.0625\n",
      "Epoch 163/250\n",
      " - 1s - loss: 708.8292 - mean_absolute_error: 708.8290 - mean_squared_error: 893432.1250 - val_loss: 731.2784 - val_mean_absolute_error: 731.2783 - val_mean_squared_error: 941240.5625\n",
      "Epoch 164/250\n",
      " - 1s - loss: 708.7458 - mean_absolute_error: 708.7460 - mean_squared_error: 892812.9375 - val_loss: 731.4633 - val_mean_absolute_error: 731.4630 - val_mean_squared_error: 942518.8125\n",
      "Epoch 165/250\n",
      " - 1s - loss: 708.5166 - mean_absolute_error: 708.5170 - mean_squared_error: 893267.0625 - val_loss: 732.1395 - val_mean_absolute_error: 732.1395 - val_mean_squared_error: 941871.6250\n"
     ]
    },
    {
     "name": "stdout",
     "output_type": "stream",
     "text": [
      "Epoch 166/250\n",
      " - 1s - loss: 708.6517 - mean_absolute_error: 708.6514 - mean_squared_error: 893870.1250 - val_loss: 730.4123 - val_mean_absolute_error: 730.4124 - val_mean_squared_error: 939434.7500\n",
      "Epoch 167/250\n",
      " - 1s - loss: 708.6268 - mean_absolute_error: 708.6269 - mean_squared_error: 893126.4375 - val_loss: 730.1405 - val_mean_absolute_error: 730.1404 - val_mean_squared_error: 939865.5000\n",
      "Epoch 168/250\n",
      " - 1s - loss: 708.3440 - mean_absolute_error: 708.3439 - mean_squared_error: 892111.3125 - val_loss: 731.2337 - val_mean_absolute_error: 731.2338 - val_mean_squared_error: 940285.3125\n",
      "Epoch 169/250\n",
      " - 1s - loss: 708.3342 - mean_absolute_error: 708.3343 - mean_squared_error: 892714.2500 - val_loss: 730.5146 - val_mean_absolute_error: 730.5148 - val_mean_squared_error: 939180.2500\n",
      "Epoch 170/250\n",
      " - 1s - loss: 708.1305 - mean_absolute_error: 708.1306 - mean_squared_error: 892029.6250 - val_loss: 731.4404 - val_mean_absolute_error: 731.4406 - val_mean_squared_error: 939581.9375\n",
      "Epoch 171/250\n",
      " - 1s - loss: 708.1992 - mean_absolute_error: 708.1990 - mean_squared_error: 891348.6875 - val_loss: 730.3296 - val_mean_absolute_error: 730.3300 - val_mean_squared_error: 941376.2500\n",
      "Epoch 172/250\n",
      " - 1s - loss: 708.1170 - mean_absolute_error: 708.1172 - mean_squared_error: 892964.6875 - val_loss: 731.0162 - val_mean_absolute_error: 731.0165 - val_mean_squared_error: 938698.8750\n",
      "Epoch 173/250\n",
      " - 1s - loss: 708.0710 - mean_absolute_error: 708.0707 - mean_squared_error: 891472.4375 - val_loss: 729.8436 - val_mean_absolute_error: 729.8437 - val_mean_squared_error: 939243.1250\n",
      "Epoch 174/250\n",
      " - 1s - loss: 708.0345 - mean_absolute_error: 708.0344 - mean_squared_error: 891848.8750 - val_loss: 731.0928 - val_mean_absolute_error: 731.0927 - val_mean_squared_error: 939495.1250\n",
      "Epoch 175/250\n",
      " - 1s - loss: 707.7980 - mean_absolute_error: 707.7982 - mean_squared_error: 891772.1875 - val_loss: 730.9455 - val_mean_absolute_error: 730.9457 - val_mean_squared_error: 942541.6250\n",
      "Epoch 176/250\n",
      " - 1s - loss: 707.8270 - mean_absolute_error: 707.8269 - mean_squared_error: 891270.4375 - val_loss: 731.1020 - val_mean_absolute_error: 731.1020 - val_mean_squared_error: 941896.6250\n",
      "Epoch 177/250\n",
      " - 1s - loss: 707.7249 - mean_absolute_error: 707.7249 - mean_squared_error: 891910.6875 - val_loss: 730.4291 - val_mean_absolute_error: 730.4288 - val_mean_squared_error: 938567.9375\n",
      "Epoch 178/250\n",
      " - 1s - loss: 707.6469 - mean_absolute_error: 707.6467 - mean_squared_error: 891007.6875 - val_loss: 730.4374 - val_mean_absolute_error: 730.4376 - val_mean_squared_error: 938636.1250\n",
      "Epoch 179/250\n",
      " - 1s - loss: 707.5205 - mean_absolute_error: 707.5203 - mean_squared_error: 891295.3125 - val_loss: 730.6213 - val_mean_absolute_error: 730.6213 - val_mean_squared_error: 939491.1875\n",
      "Epoch 180/250\n",
      " - 1s - loss: 707.6554 - mean_absolute_error: 707.6555 - mean_squared_error: 890565.0000 - val_loss: 729.9893 - val_mean_absolute_error: 729.9893 - val_mean_squared_error: 939062.8125\n",
      "Epoch 181/250\n",
      " - 1s - loss: 707.5570 - mean_absolute_error: 707.5571 - mean_squared_error: 891358.1875 - val_loss: 729.9593 - val_mean_absolute_error: 729.9592 - val_mean_squared_error: 939453.7500\n",
      "Epoch 182/250\n",
      " - 1s - loss: 707.3466 - mean_absolute_error: 707.3466 - mean_squared_error: 890169.0625 - val_loss: 730.0558 - val_mean_absolute_error: 730.0560 - val_mean_squared_error: 938316.5000\n",
      "Epoch 183/250\n",
      " - 1s - loss: 707.2130 - mean_absolute_error: 707.2131 - mean_squared_error: 890548.4375 - val_loss: 730.1569 - val_mean_absolute_error: 730.1566 - val_mean_squared_error: 938821.8125\n",
      "----Resultados sobre TRAIN----\n",
      "R2:  0.40973838700588305\n",
      "Adjusted R2:  0.40947420904989584\n",
      "MAPE: 60.50948044695406\n",
      "----Resultados sobre TEST----\n",
      "R2:  0.3953194198436668\n",
      "Adjusted R2:  0.3945067681512179\n",
      "MAPE: 60.8911237660599\n"
     ]
    },
    {
     "data": {
      "image/png": "[encoded data removed]",
      "text/plain": [
       "<Figure size 432x288 with 1 Axes>"
      ]
     },
     "metadata": {
      "needs_background": "light"
     },
     "output_type": "display_data"
    },
    {
     "data": {
      "text/plain": [
       "0.3953194198436668"
      ]
     },
     "execution_count": 10,
     "metadata": {},
     "output_type": "execute_result"
    }
   ],
   "source": [
    "model = ep.build_model(train_dataset)\n",
    "ep.train_model(model, train_dataset, train_labels, 250)\n",
    "cm.evaluate_lin_lin(test_dataset, test_labels, train_dataset, train_labels, model)"
   ]
  },
  {
   "cell_type": "markdown",
   "metadata": {},
   "source": [
    "### Subconjunto Literatura RF - Regresión Lineal con constante"
   ]
  },
  {
   "cell_type": "code",
   "execution_count": 11,
   "metadata": {
    "scrolled": true
   },
   "outputs": [
    {
     "name": "stdout",
     "output_type": "stream",
     "text": [
      "----Resultados sobre TRAIN----\n",
      "R2:  0.3687856398429532\n",
      "Adjusted R2:  0.3685031330429426\n",
      "MAPE: 73.84374346847756\n",
      "----Resultados sobre TEST----\n",
      "R2:  0.3706972607896809\n",
      "Adjusted R2:  0.3698515185038119\n",
      "MAPE: 72.53535183320666\n"
     ]
    },
    {
     "data": {
      "image/png": "[encoded data removed]",
      "text/plain": [
       "<Figure size 432x288 with 1 Axes>"
      ]
     },
     "metadata": {
      "needs_background": "light"
     },
     "output_type": "display_data"
    },
    {
     "data": {
      "text/plain": [
       "0.3706972607896809"
      ]
     },
     "execution_count": 11,
     "metadata": {},
     "output_type": "execute_result"
    }
   ],
   "source": [
    "lr = LinearRegression(fit_intercept=True)\n",
    "lr.fit(train_dataset, train_labels)\n",
    "cm.evaluate_lin_lin(test_dataset, test_labels, train_dataset, train_labels, lr)"
   ]
  },
  {
   "cell_type": "markdown",
   "metadata": {},
   "source": [
    "### Subconjunto Literatura RF - Random Forest"
   ]
  },
  {
   "cell_type": "code",
   "execution_count": 12,
   "metadata": {
    "scrolled": true
   },
   "outputs": [
    {
     "name": "stderr",
     "output_type": "stream",
     "text": [
      "[Parallel(n_jobs=4)]: Using backend ThreadingBackend with 4 concurrent workers.\n",
      "[Parallel(n_jobs=4)]: Done  42 tasks      | elapsed:  1.9min\n",
      "[Parallel(n_jobs=4)]: Done 100 out of 100 | elapsed:  4.1min finished\n",
      "[Parallel(n_jobs=4)]: Using backend ThreadingBackend with 4 concurrent workers.\n",
      "[Parallel(n_jobs=4)]: Done  42 tasks      | elapsed:    0.0s\n",
      "[Parallel(n_jobs=4)]: Done 100 out of 100 | elapsed:    0.1s finished\n",
      "[Parallel(n_jobs=4)]: Using backend ThreadingBackend with 4 concurrent workers.\n",
      "[Parallel(n_jobs=4)]: Done  42 tasks      | elapsed:    0.0s\n",
      "[Parallel(n_jobs=4)]: Done 100 out of 100 | elapsed:    0.0s finished\n"
     ]
    },
    {
     "name": "stdout",
     "output_type": "stream",
     "text": [
      "----Resultados sobre TRAIN----\n",
      "R2:  0.8724170263414934\n",
      "Adjusted R2:  0.8723599252045435\n",
      "MAPE: 28.16123323283457\n",
      "----Resultados sobre TEST----\n",
      "R2:  0.3382484435610943\n",
      "Adjusted R2:  0.3373590921581078\n",
      "MAPE: 66.8246703854989\n"
     ]
    },
    {
     "data": {
      "image/png": "[encoded data removed]",
      "text/plain": [
       "<Figure size 432x288 with 1 Axes>"
      ]
     },
     "metadata": {
      "needs_background": "light"
     },
     "output_type": "display_data"
    },
    {
     "data": {
      "text/plain": [
       "0.3382484435610943"
      ]
     },
     "execution_count": 12,
     "metadata": {},
     "output_type": "execute_result"
    }
   ],
   "source": [
    "regressor = RandomForestRegressor(100, criterion=\"mae\", verbose=1, n_jobs=4)\n",
    "regressor.fit(train_dataset, train_labels)\n",
    "cm.evaluate_lin_lin(test_dataset, test_labels, train_dataset, train_labels, regressor)"
   ]
  },
  {
   "cell_type": "markdown",
   "metadata": {},
   "source": [
    "### Subconjunto Literatura RF - Regresión de Soporte Vectorial"
   ]
  },
  {
   "cell_type": "code",
   "execution_count": 13,
   "metadata": {
    "scrolled": false
   },
   "outputs": [
    {
     "name": "stdout",
     "output_type": "stream",
     "text": [
      "----Resultados sobre TRAIN----\n",
      "R2:  0.3639853849985687\n",
      "Adjusted R2:  0.3637007297926901\n",
      "MAPE: 68.91629077549788\n",
      "----Resultados sobre TEST----\n",
      "R2:  0.36481621147657717\n",
      "Adjusted R2:  0.3639625654398114\n",
      "MAPE: 67.73025052002258\n"
     ]
    },
    {
     "data": {
      "image/png": "[encoded data removed]",
      "text/plain": [
       "<Figure size 432x288 with 1 Axes>"
      ]
     },
     "metadata": {
      "needs_background": "light"
     },
     "output_type": "display_data"
    },
    {
     "data": {
      "text/plain": [
       "0.36481621147657717"
      ]
     },
     "execution_count": 13,
     "metadata": {},
     "output_type": "execute_result"
    }
   ],
   "source": [
    "svr = svm.SVR(kernel='linear')\n",
    "svr.fit(train_dataset, train_labels)\n",
    "cm.evaluate_lin_lin(test_dataset, test_labels, train_dataset, train_labels, svr)"
   ]
  },
  {
   "cell_type": "markdown",
   "metadata": {},
   "source": [
    "# Subconjunto Todo con filtro correlación 0.1\n"
   ]
  },
  {
   "cell_type": "code",
   "execution_count": 68,
   "metadata": {},
   "outputs": [],
   "source": [
    "todo_corr = ['TRIMESTRE_2018Q3', 'TIPO_PENSION_SOLO_ALOJAMIENTO', 'SERV_TRANSFERS',\n",
    "             'PROPOSITO_NEGOCIOS_TRABAJO', 'PERSONAS_TOTAL',\n",
    "             'PAQUETE_TURISTICO_SI', 'NOCHES_TF', 'NOCHES_LZ', 'NOCHES',\n",
    "             'NACIONALIDAD_ESP724', 'MOTIVACION_1_DISFRUTAR_FAMILIA', 'INGRESOS',\n",
    "             'HORAS_DIA', 'GRATIS_ALOJ', 'EDAD', 'COMPRA_ALOJ_COMPANNIA_ALOJAMIENTO',\n",
    "             'COMPANNIA_SOLO', 'COMPANNIA_OTROS_FAMILIARES', 'COMPANNIA_HIJOS',\n",
    "             'CANAL_TOUROPERADOR_AGENCIA_VIAJE', 'ANTELACION_VIAJE_MAS_DE_6_MESES',\n",
    "             'ANTELACION_VIAJE_1-15_DIAS', 'ALOJ_CATEG_PARTICULAR',\n",
    "             'ALOJ_CATEG_HOTEL5', 'ACTIV_PISCINA', 'ACTIV_PARQUES_OCIO']"
   ]
  },
  {
   "cell_type": "markdown",
   "metadata": {},
   "source": [
    "#### Antes de evaluar los modelos con estas variables, vamos a echar un vistazo a su FIV para asegurarnos de que no haya multicolinealidad"
   ]
  },
  {
   "cell_type": "code",
   "execution_count": 69,
   "metadata": {
    "scrolled": true
   },
   "outputs": [
    {
     "name": "stderr",
     "output_type": "stream",
     "text": [
      "c:\\users\\amct2\\appdata\\local\\programs\\python\\python36\\lib\\site-packages\\IPython\\core\\interactiveshell.py:3254: DtypeWarning: Columns (140,141,142,143) have mixed types.Specify dtype option on import or set low_memory=False.\n",
      "  if (await self.run_code(code, result,  async_=asy)):\n",
      "C:\\Users\\amct2\\PycharmProjects\\tfg\\data_preprocessing.py:84: UserWarning: Boolean Series key will be reindexed to match DataFrame index.\n",
      "  x = x[(y > q1 - IQR)]\n"
     ]
    },
    {
     "name": "stdout",
     "output_type": "stream",
     "text": [
      "(35767, 27)\n",
      "         VIF                          variables\n",
      "0   1.118424                   TRIMESTRE_2018Q3\n",
      "1   1.288767      TIPO_PENSION_SOLO_ALOJAMIENTO\n",
      "2   2.063816                     SERV_TRANSFERS\n",
      "3   1.156468         PROPOSITO_NEGOCIOS_TRABAJO\n",
      "4   1.979072                     PERSONAS_TOTAL\n",
      "5   2.704209               PAQUETE_TURISTICO_SI\n",
      "6   1.278403                          NOCHES_TF\n",
      "7   1.174109                          NOCHES_LZ\n",
      "8   1.327974                             NOCHES\n",
      "9   1.258623                NACIONALIDAD_ESP724\n",
      "10  1.234424     MOTIVACION_1_DISFRUTAR_FAMILIA\n",
      "11  1.092209                           INGRESOS\n",
      "12  1.180330                          HORAS_DIA\n",
      "13  1.509314                        GRATIS_ALOJ\n",
      "14  1.209182                               EDAD\n",
      "15  1.413858  COMPRA_ALOJ_COMPANNIA_ALOJAMIENTO\n",
      "16  1.392374                     COMPANNIA_SOLO\n",
      "17  1.257466         COMPANNIA_OTROS_FAMILIARES\n",
      "18  1.686063                    COMPANNIA_HIJOS\n",
      "19  1.198588   CANAL_TOUROPERADOR_AGENCIA_VIAJE\n",
      "20  1.109407    ANTELACION_VIAJE_MAS_DE_6_MESES\n",
      "21  1.084800         ANTELACION_VIAJE_1-15_DIAS\n",
      "22  1.156966              ALOJ_CATEG_PARTICULAR\n",
      "23  1.057925                  ALOJ_CATEG_HOTEL5\n",
      "24  1.183287                      ACTIV_PISCINA\n",
      "25  1.138011                 ACTIV_PARQUES_OCIO\n"
     ]
    }
   ],
   "source": [
    "X = dp.load_dataset('./datos/GASTO_TURISTICO_2018_ORIGINAL_2.csv', ';', ',', predictors=todo_corr, dummies=True, desglose=False)\n",
    "print(X.shape)\n",
    "scaler = StandardScaler()\n",
    "\n",
    "y = X.pop('GASTO')\n",
    "X = pd.DataFrame(scaler.fit_transform(X.values), columns=X.columns, index=X.index)\n",
    "fs.check_vif(X)"
   ]
  },
  {
   "cell_type": "markdown",
   "metadata": {},
   "source": [
    "En principio parece que no hemos detectado ningún FIV alarmante (en torno a 5), por lo que procederemos a predecir con nuestro subconjunto."
   ]
  },
  {
   "cell_type": "code",
   "execution_count": 70,
   "metadata": {},
   "outputs": [],
   "source": [
    "X['GASTO'] = y\n",
    "\n",
    "train_dataset, test_dataset = dp.split_dataset(X)\n",
    "train_labels = train_dataset.pop('GASTO')\n",
    "test_labels = test_dataset.pop('GASTO')"
   ]
  },
  {
   "cell_type": "markdown",
   "metadata": {},
   "source": [
    "### Subconjunto Todo con correlación 0.1 - Red Neuronal "
   ]
  },
  {
   "cell_type": "code",
   "execution_count": 72,
   "metadata": {
    "scrolled": true
   },
   "outputs": [
    {
     "name": "stdout",
     "output_type": "stream",
     "text": [
      "Train on 17972 samples, validate on 8853 samples\n",
      "Epoch 1/250\n",
      " - 1s - loss: 661.8658 - mean_absolute_error: 661.8660 - mean_squared_error: 821666.8750 - val_loss: 639.6275 - val_mean_absolute_error: 639.6275 - val_mean_squared_error: 775591.6875\n",
      "Epoch 2/250\n",
      " - 1s - loss: 625.1137 - mean_absolute_error: 625.1139 - mean_squared_error: 728092.6875 - val_loss: 629.2135 - val_mean_absolute_error: 629.2135 - val_mean_squared_error: 745162.7500\n",
      "Epoch 3/250\n",
      " - 1s - loss: 620.8834 - mean_absolute_error: 620.8833 - mean_squared_error: 720154.1250 - val_loss: 630.1512 - val_mean_absolute_error: 630.1511 - val_mean_squared_error: 736897.5000\n",
      "Epoch 4/250\n",
      " - 1s - loss: 618.2769 - mean_absolute_error: 618.2773 - mean_squared_error: 711388.9375 - val_loss: 631.4741 - val_mean_absolute_error: 631.4741 - val_mean_squared_error: 737568.0625\n",
      "Epoch 5/250\n",
      " - 1s - loss: 616.5777 - mean_absolute_error: 616.5776 - mean_squared_error: 708474.6875 - val_loss: 637.0240 - val_mean_absolute_error: 637.0242 - val_mean_squared_error: 744499.3750\n",
      "Epoch 6/250\n",
      " - 1s - loss: 614.3925 - mean_absolute_error: 614.3920 - mean_squared_error: 706183.6875 - val_loss: 629.1566 - val_mean_absolute_error: 629.1569 - val_mean_squared_error: 736943.8750\n",
      "Epoch 7/250\n",
      " - 1s - loss: 613.6211 - mean_absolute_error: 613.6213 - mean_squared_error: 703892.8125 - val_loss: 625.7746 - val_mean_absolute_error: 625.7747 - val_mean_squared_error: 729389.0000\n",
      "Epoch 8/250\n",
      " - 1s - loss: 612.9438 - mean_absolute_error: 612.9437 - mean_squared_error: 704266.8750 - val_loss: 625.9428 - val_mean_absolute_error: 625.9424 - val_mean_squared_error: 729281.0000\n",
      "Epoch 9/250\n",
      " - 1s - loss: 612.0915 - mean_absolute_error: 612.0918 - mean_squared_error: 701705.8125 - val_loss: 624.7500 - val_mean_absolute_error: 624.7501 - val_mean_squared_error: 735307.0625\n",
      "Epoch 10/250\n",
      " - 1s - loss: 611.3078 - mean_absolute_error: 611.3084 - mean_squared_error: 700129.5625 - val_loss: 624.3812 - val_mean_absolute_error: 624.3815 - val_mean_squared_error: 730332.6250\n",
      "Epoch 11/250\n",
      " - 1s - loss: 610.4263 - mean_absolute_error: 610.4265 - mean_squared_error: 698592.0625 - val_loss: 625.2126 - val_mean_absolute_error: 625.2127 - val_mean_squared_error: 728253.3125\n",
      "Epoch 12/250\n",
      " - 1s - loss: 609.5118 - mean_absolute_error: 609.5119 - mean_squared_error: 697285.0625 - val_loss: 625.4756 - val_mean_absolute_error: 625.4758 - val_mean_squared_error: 728040.3750\n",
      "Epoch 13/250\n",
      " - 1s - loss: 608.8506 - mean_absolute_error: 608.8510 - mean_squared_error: 697218.6250 - val_loss: 624.6207 - val_mean_absolute_error: 624.6208 - val_mean_squared_error: 730075.3125\n",
      "Epoch 14/250\n",
      " - 1s - loss: 608.0972 - mean_absolute_error: 608.0976 - mean_squared_error: 695445.0000 - val_loss: 624.0190 - val_mean_absolute_error: 624.0187 - val_mean_squared_error: 728354.9375\n",
      "Epoch 15/250\n",
      " - 1s - loss: 607.5069 - mean_absolute_error: 607.5071 - mean_squared_error: 693900.9375 - val_loss: 623.9227 - val_mean_absolute_error: 623.9227 - val_mean_squared_error: 726690.3125\n",
      "Epoch 16/250\n",
      " - 1s - loss: 607.4667 - mean_absolute_error: 607.4669 - mean_squared_error: 694278.7500 - val_loss: 623.8828 - val_mean_absolute_error: 623.8829 - val_mean_squared_error: 725930.6875\n",
      "Epoch 17/250\n",
      " - 1s - loss: 606.4305 - mean_absolute_error: 606.4305 - mean_squared_error: 693917.7500 - val_loss: 628.3070 - val_mean_absolute_error: 628.3073 - val_mean_squared_error: 729084.6250\n",
      "Epoch 18/250\n",
      " - 1s - loss: 606.3066 - mean_absolute_error: 606.3070 - mean_squared_error: 692083.2500 - val_loss: 624.8053 - val_mean_absolute_error: 624.8052 - val_mean_squared_error: 734649.5000\n",
      "Epoch 19/250\n",
      " - 1s - loss: 605.5243 - mean_absolute_error: 605.5240 - mean_squared_error: 690919.7500 - val_loss: 624.1331 - val_mean_absolute_error: 624.1332 - val_mean_squared_error: 727706.2500\n",
      "Epoch 20/250\n",
      " - 1s - loss: 605.2090 - mean_absolute_error: 605.2093 - mean_squared_error: 690152.1250 - val_loss: 624.0126 - val_mean_absolute_error: 624.0126 - val_mean_squared_error: 732013.6875\n",
      "Epoch 21/250\n",
      " - 1s - loss: 604.7163 - mean_absolute_error: 604.7163 - mean_squared_error: 690161.7500 - val_loss: 623.3919 - val_mean_absolute_error: 623.3919 - val_mean_squared_error: 725877.8125\n",
      "Epoch 22/250\n",
      " - 1s - loss: 603.9548 - mean_absolute_error: 603.9546 - mean_squared_error: 688440.5625 - val_loss: 623.8948 - val_mean_absolute_error: 623.8949 - val_mean_squared_error: 726251.0625\n",
      "Epoch 23/250\n",
      " - 1s - loss: 603.9318 - mean_absolute_error: 603.9320 - mean_squared_error: 688046.3750 - val_loss: 622.4464 - val_mean_absolute_error: 622.4467 - val_mean_squared_error: 725505.3750\n",
      "Epoch 24/250\n",
      " - 1s - loss: 603.2638 - mean_absolute_error: 603.2640 - mean_squared_error: 687686.5625 - val_loss: 623.4707 - val_mean_absolute_error: 623.4708 - val_mean_squared_error: 729008.6250\n",
      "Epoch 25/250\n",
      " - 1s - loss: 602.7300 - mean_absolute_error: 602.7299 - mean_squared_error: 686721.9375 - val_loss: 622.6547 - val_mean_absolute_error: 622.6548 - val_mean_squared_error: 726970.4375\n",
      "Epoch 26/250\n",
      " - 1s - loss: 602.3254 - mean_absolute_error: 602.3254 - mean_squared_error: 685568.4375 - val_loss: 622.7338 - val_mean_absolute_error: 622.7341 - val_mean_squared_error: 723444.9375\n",
      "Epoch 27/250\n",
      " - 1s - loss: 601.6485 - mean_absolute_error: 601.6484 - mean_squared_error: 684910.6875 - val_loss: 622.2235 - val_mean_absolute_error: 622.2235 - val_mean_squared_error: 724943.3750\n",
      "Epoch 28/250\n",
      " - 1s - loss: 601.2919 - mean_absolute_error: 601.2919 - mean_squared_error: 684435.7500 - val_loss: 622.3342 - val_mean_absolute_error: 622.3344 - val_mean_squared_error: 725035.8750\n",
      "Epoch 29/250\n",
      " - 1s - loss: 600.7552 - mean_absolute_error: 600.7554 - mean_squared_error: 682981.0625 - val_loss: 623.0951 - val_mean_absolute_error: 623.0951 - val_mean_squared_error: 726040.3125\n",
      "Epoch 30/250\n",
      " - 1s - loss: 600.2159 - mean_absolute_error: 600.2155 - mean_squared_error: 682905.8750 - val_loss: 622.6258 - val_mean_absolute_error: 622.6260 - val_mean_squared_error: 723417.0000\n",
      "Epoch 31/250\n",
      " - 1s - loss: 599.7940 - mean_absolute_error: 599.7933 - mean_squared_error: 681528.0625 - val_loss: 622.2926 - val_mean_absolute_error: 622.2927 - val_mean_squared_error: 724643.3750\n",
      "Epoch 32/250\n",
      " - 1s - loss: 598.9189 - mean_absolute_error: 598.9189 - mean_squared_error: 680006.8750 - val_loss: 624.0700 - val_mean_absolute_error: 624.0703 - val_mean_squared_error: 728333.5000\n",
      "Epoch 33/250\n",
      " - 1s - loss: 598.7642 - mean_absolute_error: 598.7642 - mean_squared_error: 680208.3750 - val_loss: 622.1494 - val_mean_absolute_error: 622.1493 - val_mean_squared_error: 722991.6250\n",
      "Epoch 34/250\n",
      " - 1s - loss: 598.1110 - mean_absolute_error: 598.1113 - mean_squared_error: 677997.5000 - val_loss: 626.8253 - val_mean_absolute_error: 626.8251 - val_mean_squared_error: 728759.3125\n",
      "Epoch 35/250\n",
      " - 1s - loss: 597.7190 - mean_absolute_error: 597.7188 - mean_squared_error: 677624.8750 - val_loss: 621.8421 - val_mean_absolute_error: 621.8422 - val_mean_squared_error: 724556.2500\n",
      "Epoch 36/250\n",
      " - 1s - loss: 597.1518 - mean_absolute_error: 597.1516 - mean_squared_error: 677029.5625 - val_loss: 622.7088 - val_mean_absolute_error: 622.7087 - val_mean_squared_error: 725168.1250\n",
      "Epoch 37/250\n",
      " - 1s - loss: 596.5623 - mean_absolute_error: 596.5621 - mean_squared_error: 676288.5625 - val_loss: 625.1119 - val_mean_absolute_error: 625.1119 - val_mean_squared_error: 723568.6875\n",
      "Epoch 38/250\n",
      " - 1s - loss: 596.1207 - mean_absolute_error: 596.1206 - mean_squared_error: 675284.8750 - val_loss: 622.2705 - val_mean_absolute_error: 622.2704 - val_mean_squared_error: 720298.1875\n",
      "Epoch 39/250\n",
      " - 1s - loss: 595.4381 - mean_absolute_error: 595.4381 - mean_squared_error: 673381.7500 - val_loss: 621.7304 - val_mean_absolute_error: 621.7302 - val_mean_squared_error: 725385.1250\n",
      "Epoch 40/250\n",
      " - 1s - loss: 594.9880 - mean_absolute_error: 594.9882 - mean_squared_error: 673604.9375 - val_loss: 622.1827 - val_mean_absolute_error: 622.1827 - val_mean_squared_error: 724990.3125\n",
      "Epoch 41/250\n",
      " - 1s - loss: 594.2685 - mean_absolute_error: 594.2687 - mean_squared_error: 671671.7500 - val_loss: 622.2020 - val_mean_absolute_error: 622.2021 - val_mean_squared_error: 726580.0625\n",
      "Epoch 42/250\n",
      " - 1s - loss: 594.0604 - mean_absolute_error: 594.0602 - mean_squared_error: 671276.3750 - val_loss: 622.5734 - val_mean_absolute_error: 622.5734 - val_mean_squared_error: 723571.4375\n"
     ]
    },
    {
     "name": "stdout",
     "output_type": "stream",
     "text": [
      "Epoch 43/250\n",
      " - 1s - loss: 593.3951 - mean_absolute_error: 593.3951 - mean_squared_error: 670156.0000 - val_loss: 622.3344 - val_mean_absolute_error: 622.3342 - val_mean_squared_error: 721827.9375\n",
      "Epoch 44/250\n",
      " - 1s - loss: 592.8470 - mean_absolute_error: 592.8470 - mean_squared_error: 670214.7500 - val_loss: 621.0679 - val_mean_absolute_error: 621.0680 - val_mean_squared_error: 720374.7500\n",
      "Epoch 45/250\n",
      " - 1s - loss: 592.5099 - mean_absolute_error: 592.5099 - mean_squared_error: 668300.5000 - val_loss: 622.6754 - val_mean_absolute_error: 622.6753 - val_mean_squared_error: 720394.4375\n",
      "Epoch 46/250\n",
      " - 1s - loss: 592.0469 - mean_absolute_error: 592.0469 - mean_squared_error: 667793.6875 - val_loss: 622.0550 - val_mean_absolute_error: 622.0551 - val_mean_squared_error: 721396.1250\n",
      "Epoch 47/250\n",
      " - 1s - loss: 591.7668 - mean_absolute_error: 591.7671 - mean_squared_error: 667738.6875 - val_loss: 621.6698 - val_mean_absolute_error: 621.6698 - val_mean_squared_error: 722267.1250\n",
      "Epoch 48/250\n",
      " - 1s - loss: 590.9862 - mean_absolute_error: 590.9863 - mean_squared_error: 666031.0000 - val_loss: 620.7010 - val_mean_absolute_error: 620.7009 - val_mean_squared_error: 719210.5625\n",
      "Epoch 49/250\n",
      " - 1s - loss: 590.7545 - mean_absolute_error: 590.7545 - mean_squared_error: 665081.5625 - val_loss: 621.1883 - val_mean_absolute_error: 621.1883 - val_mean_squared_error: 720018.5000\n",
      "Epoch 50/250\n",
      " - 1s - loss: 590.2547 - mean_absolute_error: 590.2547 - mean_squared_error: 665334.0000 - val_loss: 622.1125 - val_mean_absolute_error: 622.1124 - val_mean_squared_error: 718775.0625\n",
      "Epoch 51/250\n",
      " - 1s - loss: 589.7700 - mean_absolute_error: 589.7700 - mean_squared_error: 664155.3750 - val_loss: 623.6260 - val_mean_absolute_error: 623.6263 - val_mean_squared_error: 721751.5000\n",
      "Epoch 52/250\n",
      " - 1s - loss: 589.5183 - mean_absolute_error: 589.5184 - mean_squared_error: 663057.7500 - val_loss: 621.8231 - val_mean_absolute_error: 621.8232 - val_mean_squared_error: 720412.6250\n",
      "Epoch 53/250\n",
      " - 1s - loss: 588.8612 - mean_absolute_error: 588.8613 - mean_squared_error: 662735.8125 - val_loss: 622.3315 - val_mean_absolute_error: 622.3313 - val_mean_squared_error: 721343.6250\n",
      "Epoch 54/250\n",
      " - 1s - loss: 588.4368 - mean_absolute_error: 588.4367 - mean_squared_error: 662187.9375 - val_loss: 621.1661 - val_mean_absolute_error: 621.1660 - val_mean_squared_error: 720010.7500\n",
      "Epoch 55/250\n",
      " - 1s - loss: 588.1437 - mean_absolute_error: 588.1439 - mean_squared_error: 661163.3125 - val_loss: 622.1571 - val_mean_absolute_error: 622.1573 - val_mean_squared_error: 719366.5625\n",
      "Epoch 56/250\n",
      " - 1s - loss: 587.5864 - mean_absolute_error: 587.5865 - mean_squared_error: 660272.3750 - val_loss: 622.5279 - val_mean_absolute_error: 622.5280 - val_mean_squared_error: 718150.6250\n",
      "Epoch 57/250\n",
      " - 1s - loss: 587.5291 - mean_absolute_error: 587.5290 - mean_squared_error: 659994.5000 - val_loss: 622.0541 - val_mean_absolute_error: 622.0539 - val_mean_squared_error: 719197.2500\n",
      "Epoch 58/250\n",
      " - 1s - loss: 587.3328 - mean_absolute_error: 587.3331 - mean_squared_error: 659633.6875 - val_loss: 621.3417 - val_mean_absolute_error: 621.3416 - val_mean_squared_error: 718727.4375\n",
      "----Resultados sobre TRAIN----\n",
      "R2:  0.5585493687774835\n",
      "Adjusted R2:  0.5581210638139869\n",
      "MAPE: 46.6773180473909\n",
      "----Resultados sobre TEST----\n",
      "R2:  0.5338705038280747\n",
      "Adjusted R2:  0.5325110683933612\n",
      "MAPE: 49.48195760713549\n"
     ]
    },
    {
     "data": {
      "image/png": "[encoded data removed]",
      "text/plain": [
       "<Figure size 432x288 with 1 Axes>"
      ]
     },
     "metadata": {
      "needs_background": "light"
     },
     "output_type": "display_data"
    },
    {
     "data": {
      "text/plain": [
       "0.5338705038280747"
      ]
     },
     "execution_count": 72,
     "metadata": {},
     "output_type": "execute_result"
    }
   ],
   "source": [
    "model = ep.build_model(train_dataset)\n",
    "ep.train_model(model, train_dataset, train_labels, 250)\n",
    "cm.evaluate_lin_lin(test_dataset, test_labels, train_dataset, train_labels, model)"
   ]
  },
  {
   "cell_type": "markdown",
   "metadata": {},
   "source": [
    "### SubconjuntoTodo por correlación 0.1 - Regresión Lineal con constante"
   ]
  },
  {
   "cell_type": "code",
   "execution_count": 73,
   "metadata": {
    "scrolled": true
   },
   "outputs": [
    {
     "name": "stdout",
     "output_type": "stream",
     "text": [
      "----Resultados sobre TRAIN----\n",
      "R2:  0.5194919888017953\n",
      "Adjusted R2:  0.5190257895223284\n",
      "MAPE: 56.897654854710375\n",
      "----Resultados sobre TEST----\n",
      "R2:  0.5179251414232833\n",
      "Adjusted R2:  0.5165192024078042\n",
      "MAPE: 57.82507057894558\n"
     ]
    },
    {
     "data": {
      "image/png": "[encoded data removed]",
      "text/plain": [
       "<Figure size 432x288 with 1 Axes>"
      ]
     },
     "metadata": {
      "needs_background": "light"
     },
     "output_type": "display_data"
    },
    {
     "data": {
      "text/plain": [
       "0.5179251414232833"
      ]
     },
     "execution_count": 73,
     "metadata": {},
     "output_type": "execute_result"
    }
   ],
   "source": [
    "lr = LinearRegression(fit_intercept=True)\n",
    "lr.fit(train_dataset, train_labels)\n",
    "cm.evaluate_lin_lin(test_dataset, test_labels, train_dataset, train_labels, lr)"
   ]
  },
  {
   "cell_type": "markdown",
   "metadata": {},
   "source": [
    "### Subconjunto Todo por correlación 0.1 - Random Forest"
   ]
  },
  {
   "cell_type": "code",
   "execution_count": 74,
   "metadata": {
    "scrolled": true
   },
   "outputs": [
    {
     "name": "stderr",
     "output_type": "stream",
     "text": [
      "[Parallel(n_jobs=4)]: Using backend ThreadingBackend with 4 concurrent workers.\n",
      "[Parallel(n_jobs=4)]: Done  42 tasks      | elapsed:  4.5min\n",
      "[Parallel(n_jobs=4)]: Done 100 out of 100 | elapsed: 10.6min finished\n",
      "[Parallel(n_jobs=4)]: Using backend ThreadingBackend with 4 concurrent workers.\n",
      "[Parallel(n_jobs=4)]: Done  42 tasks      | elapsed:    0.0s\n",
      "[Parallel(n_jobs=4)]: Done 100 out of 100 | elapsed:    0.2s finished\n"
     ]
    },
    {
     "name": "stdout",
     "output_type": "stream",
     "text": [
      "----Resultados sobre TRAIN----\n",
      "R2:  0.9310667810175133\n",
      "Adjusted R2:  0.9309999005154779\n",
      "MAPE: 20.01288161186239\n",
      "----Resultados sobre TEST----\n",
      "R2:  0.523011230599501\n",
      "Adjusted R2:  0.5216201248222253\n",
      "MAPE: 52.96362908502288\n"
     ]
    },
    {
     "name": "stderr",
     "output_type": "stream",
     "text": [
      "[Parallel(n_jobs=4)]: Using backend ThreadingBackend with 4 concurrent workers.\n",
      "[Parallel(n_jobs=4)]: Done  42 tasks      | elapsed:    0.0s\n",
      "[Parallel(n_jobs=4)]: Done 100 out of 100 | elapsed:    0.0s finished\n"
     ]
    },
    {
     "data": {
      "image/png": "[encoded data removed]",
      "text/plain": [
       "<Figure size 432x288 with 1 Axes>"
      ]
     },
     "metadata": {
      "needs_background": "light"
     },
     "output_type": "display_data"
    },
    {
     "data": {
      "text/plain": [
       "0.523011230599501"
      ]
     },
     "execution_count": 74,
     "metadata": {},
     "output_type": "execute_result"
    }
   ],
   "source": [
    "regressor = RandomForestRegressor(100, criterion=\"mae\", verbose=1, n_jobs=4)\n",
    "regressor.fit(train_dataset, train_labels)\n",
    "cm.evaluate_lin_lin(test_dataset, test_labels, train_dataset, train_labels, regressor)"
   ]
  },
  {
   "cell_type": "markdown",
   "metadata": {},
   "source": [
    "### Subconjunto Todo por correlación 0.1 - Regresión de Soporte Vectorial"
   ]
  },
  {
   "cell_type": "code",
   "execution_count": 75,
   "metadata": {
    "scrolled": false
   },
   "outputs": [
    {
     "name": "stdout",
     "output_type": "stream",
     "text": [
      "----Resultados sobre TRAIN----\n",
      "R2:  0.5138809224040619\n",
      "Adjusted R2:  0.5134092791464496\n",
      "MAPE: 55.40761081379719\n",
      "----Resultados sobre TEST----\n",
      "R2:  0.5136216269029934\n",
      "Adjusted R2:  0.5122031369758456\n",
      "MAPE: 56.006537062535244\n"
     ]
    },
    {
     "data": {
      "image/png": "[encoded data removed]",
      "text/plain": [
       "<Figure size 432x288 with 1 Axes>"
      ]
     },
     "metadata": {
      "needs_background": "light"
     },
     "output_type": "display_data"
    },
    {
     "data": {
      "text/plain": [
       "0.5136216269029934"
      ]
     },
     "execution_count": 75,
     "metadata": {},
     "output_type": "execute_result"
    }
   ],
   "source": [
    "svr = svm.SVR(kernel='linear')\n",
    "svr.fit(train_dataset, train_labels)\n",
    "cm.evaluate_lin_lin(test_dataset, test_labels, train_dataset, train_labels, svr)"
   ]
  },
  {
   "cell_type": "markdown",
   "metadata": {},
   "source": [
    "# Subconjunto Todo con RF\n"
   ]
  },
  {
   "cell_type": "code",
   "execution_count": 49,
   "metadata": {},
   "outputs": [],
   "source": [
    "todo_rf = ['IMPORTANCIA_OFERTA_CULTURAL', 'IMPORTANCIA_AUTENTICIDAD', 'IMPORTANCIA_VIAJE_SENCILLO', 'IMPORTANCIA_EXOTISMO',\n",
    "         'NOCHES_TF', 'IMPORTANCIA_OFERTA_COMERCIAL', 'VISITAS_TOTAL_FV', 'IMPORTANCIA_EUROPA', 'IMPORTANCIA_DIVERSION',\n",
    "         'RECOMENDAR_CANARIAS', 'IMPORTANCIA_GASTRONOMIA', 'VISITAS_TOTAL_LZ', 'INGRESOS', 'VISITAS_TOTAL_GC',\n",
    "         'VOLVER_A_CANARIAS', 'PERSONAS_HOGAR', 'VISITAS_CANARIAS_5_ANNOS', 'NOCHES', 'HORAS_DIA', 'EDAD']"
   ]
  },
  {
   "cell_type": "markdown",
   "metadata": {},
   "source": [
    "#### Antes de evaluar los modelos con estas variables, vamos a echar un vistazo a su FIV para asegurarnos de que no haya multicolinealidad"
   ]
  },
  {
   "cell_type": "code",
   "execution_count": 50,
   "metadata": {
    "scrolled": true
   },
   "outputs": [
    {
     "name": "stderr",
     "output_type": "stream",
     "text": [
      "c:\\users\\amct2\\appdata\\local\\programs\\python\\python36\\lib\\site-packages\\IPython\\core\\interactiveshell.py:3254: DtypeWarning: Columns (140,141,142,143) have mixed types.Specify dtype option on import or set low_memory=False.\n",
      "  if (await self.run_code(code, result,  async_=asy)):\n",
      "C:\\Users\\amct2\\PycharmProjects\\tfg\\data_preprocessing.py:84: UserWarning: Boolean Series key will be reindexed to match DataFrame index.\n",
      "  x = x[(y > q1 - IQR)]\n"
     ]
    },
    {
     "name": "stdout",
     "output_type": "stream",
     "text": [
      "(35767, 13)\n",
      "         VIF                 variables\n",
      "0   1.127910                 NOCHES_TF\n",
      "1   1.093254          VISITAS_TOTAL_FV\n",
      "2   2.814314       RECOMENDAR_CANARIAS\n",
      "3   1.091927          VISITAS_TOTAL_LZ\n",
      "4   1.057066                  INGRESOS\n",
      "5   1.224232          VISITAS_TOTAL_GC\n",
      "6   2.860595         VOLVER_A_CANARIAS\n",
      "7   1.041735            PERSONAS_HOGAR\n",
      "8   1.349950  VISITAS_CANARIAS_5_ANNOS\n",
      "9   1.170067                    NOCHES\n",
      "10  1.022599                 HORAS_DIA\n",
      "11  1.116687                      EDAD\n"
     ]
    }
   ],
   "source": [
    "X = dp.load_dataset('./datos/GASTO_TURISTICO_2018_ORIGINAL_2.csv', ';', ',', predictors=todo_rf, dummies=True, desglose=False)\n",
    "print(X.shape)\n",
    "scaler = StandardScaler()\n",
    "\n",
    "y = X.pop('GASTO')\n",
    "X = pd.DataFrame(scaler.fit_transform(X.values), columns=X.columns, index=X.index)\n",
    "fs.check_vif(X)"
   ]
  },
  {
   "cell_type": "markdown",
   "metadata": {},
   "source": [
    "En principio parece que no hemos detectado ningún FIV alarmante (en torno a 5), por lo que procederemos a predecir con nuestro subconjunto."
   ]
  },
  {
   "cell_type": "code",
   "execution_count": 42,
   "metadata": {},
   "outputs": [],
   "source": [
    "X['GASTO'] = y\n",
    "\n",
    "train_dataset, test_dataset = dp.split_dataset(X)\n",
    "train_labels = train_dataset.pop('GASTO')\n",
    "test_labels = test_dataset.pop('GASTO')"
   ]
  },
  {
   "cell_type": "markdown",
   "metadata": {},
   "source": [
    "### Subconjunto Todo con Rf - Red Neuronal "
   ]
  },
  {
   "cell_type": "code",
   "execution_count": 43,
   "metadata": {
    "scrolled": true
   },
   "outputs": [
    {
     "name": "stdout",
     "output_type": "stream",
     "text": [
      "Train on 17972 samples, validate on 8853 samples\n",
      "Epoch 1/250\n",
      " - 1s - loss: 900.7782 - mean_absolute_error: 900.7778 - mean_squared_error: 1413537.1250 - val_loss: 859.7411 - val_mean_absolute_error: 859.7413 - val_mean_squared_error: 1262090.3750\n",
      "Epoch 2/250\n",
      " - 1s - loss: 860.9966 - mean_absolute_error: 860.9968 - mean_squared_error: 1277150.7500 - val_loss: 851.8712 - val_mean_absolute_error: 851.8717 - val_mean_squared_error: 1251923.8750\n",
      "Epoch 3/250\n",
      " - 1s - loss: 855.6316 - mean_absolute_error: 855.6318 - mean_squared_error: 1261709.6250 - val_loss: 847.7422 - val_mean_absolute_error: 847.7420 - val_mean_squared_error: 1230099.6250\n",
      "Epoch 4/250\n",
      " - 1s - loss: 851.1177 - mean_absolute_error: 851.1176 - mean_squared_error: 1247222.7500 - val_loss: 842.7178 - val_mean_absolute_error: 842.7175 - val_mean_squared_error: 1225239.7500\n",
      "Epoch 5/250\n",
      " - 1s - loss: 845.6149 - mean_absolute_error: 845.6149 - mean_squared_error: 1227726.6250 - val_loss: 840.1568 - val_mean_absolute_error: 840.1566 - val_mean_squared_error: 1203820.6250\n",
      "Epoch 6/250\n",
      " - 1s - loss: 839.4094 - mean_absolute_error: 839.4098 - mean_squared_error: 1213094.3750 - val_loss: 830.8750 - val_mean_absolute_error: 830.8751 - val_mean_squared_error: 1202779.6250\n",
      "Epoch 7/250\n",
      " - 1s - loss: 834.4543 - mean_absolute_error: 834.4542 - mean_squared_error: 1197569.0000 - val_loss: 825.5566 - val_mean_absolute_error: 825.5568 - val_mean_squared_error: 1170709.3750\n",
      "Epoch 8/250\n",
      " - 1s - loss: 830.6935 - mean_absolute_error: 830.6931 - mean_squared_error: 1185725.6250 - val_loss: 825.0252 - val_mean_absolute_error: 825.0251 - val_mean_squared_error: 1160710.8750\n",
      "Epoch 9/250\n",
      " - 1s - loss: 828.1514 - mean_absolute_error: 828.1517 - mean_squared_error: 1179629.2500 - val_loss: 819.8407 - val_mean_absolute_error: 819.8405 - val_mean_squared_error: 1164258.2500\n",
      "Epoch 10/250\n",
      " - 1s - loss: 826.4278 - mean_absolute_error: 826.4273 - mean_squared_error: 1174867.3750 - val_loss: 818.0734 - val_mean_absolute_error: 818.0734 - val_mean_squared_error: 1160683.5000\n",
      "Epoch 11/250\n",
      " - 1s - loss: 823.9851 - mean_absolute_error: 823.9853 - mean_squared_error: 1167708.1250 - val_loss: 817.7120 - val_mean_absolute_error: 817.7117 - val_mean_squared_error: 1169181.6250\n",
      "Epoch 12/250\n",
      " - 1s - loss: 822.4696 - mean_absolute_error: 822.4697 - mean_squared_error: 1162242.8750 - val_loss: 815.1568 - val_mean_absolute_error: 815.1566 - val_mean_squared_error: 1143255.7500\n",
      "Epoch 13/250\n",
      " - 1s - loss: 820.4307 - mean_absolute_error: 820.4308 - mean_squared_error: 1155876.2500 - val_loss: 813.8850 - val_mean_absolute_error: 813.8853 - val_mean_squared_error: 1151240.3750\n",
      "Epoch 14/250\n",
      " - 1s - loss: 819.2612 - mean_absolute_error: 819.2617 - mean_squared_error: 1154536.6250 - val_loss: 813.0275 - val_mean_absolute_error: 813.0275 - val_mean_squared_error: 1144744.5000\n",
      "Epoch 15/250\n",
      " - 1s - loss: 817.4595 - mean_absolute_error: 817.4598 - mean_squared_error: 1152053.5000 - val_loss: 814.8155 - val_mean_absolute_error: 814.8157 - val_mean_squared_error: 1144224.2500\n",
      "Epoch 16/250\n",
      " - 1s - loss: 816.4908 - mean_absolute_error: 816.4906 - mean_squared_error: 1150095.7500 - val_loss: 811.6613 - val_mean_absolute_error: 811.6611 - val_mean_squared_error: 1146686.0000\n",
      "Epoch 17/250\n",
      " - 1s - loss: 815.7199 - mean_absolute_error: 815.7199 - mean_squared_error: 1148773.8750 - val_loss: 815.5188 - val_mean_absolute_error: 815.5186 - val_mean_squared_error: 1135458.2500\n",
      "Epoch 18/250\n",
      " - 1s - loss: 814.5063 - mean_absolute_error: 814.5059 - mean_squared_error: 1145569.2500 - val_loss: 813.0384 - val_mean_absolute_error: 813.0387 - val_mean_squared_error: 1166041.5000\n",
      "Epoch 19/250\n",
      " - 1s - loss: 814.0232 - mean_absolute_error: 814.0228 - mean_squared_error: 1145518.8750 - val_loss: 809.7247 - val_mean_absolute_error: 809.7247 - val_mean_squared_error: 1141300.1250\n",
      "Epoch 20/250\n",
      " - 1s - loss: 812.7319 - mean_absolute_error: 812.7323 - mean_squared_error: 1142817.6250 - val_loss: 811.0172 - val_mean_absolute_error: 811.0170 - val_mean_squared_error: 1136472.8750\n",
      "Epoch 21/250\n",
      " - 1s - loss: 811.5907 - mean_absolute_error: 811.5906 - mean_squared_error: 1140909.5000 - val_loss: 810.5013 - val_mean_absolute_error: 810.5014 - val_mean_squared_error: 1145486.8750\n",
      "Epoch 22/250\n",
      " - 1s - loss: 811.6442 - mean_absolute_error: 811.6445 - mean_squared_error: 1141312.2500 - val_loss: 809.0952 - val_mean_absolute_error: 809.0953 - val_mean_squared_error: 1137435.6250\n",
      "Epoch 23/250\n",
      " - 1s - loss: 810.5113 - mean_absolute_error: 810.5114 - mean_squared_error: 1139607.0000 - val_loss: 811.6343 - val_mean_absolute_error: 811.6339 - val_mean_squared_error: 1132404.3750\n",
      "Epoch 24/250\n",
      " - 1s - loss: 809.9384 - mean_absolute_error: 809.9383 - mean_squared_error: 1138166.8750 - val_loss: 809.4159 - val_mean_absolute_error: 809.4159 - val_mean_squared_error: 1144962.0000\n",
      "Epoch 25/250\n",
      " - 1s - loss: 809.3598 - mean_absolute_error: 809.3599 - mean_squared_error: 1137573.3750 - val_loss: 807.3226 - val_mean_absolute_error: 807.3226 - val_mean_squared_error: 1136987.0000\n",
      "Epoch 26/250\n",
      " - 1s - loss: 809.0725 - mean_absolute_error: 809.0723 - mean_squared_error: 1136733.1250 - val_loss: 808.1987 - val_mean_absolute_error: 808.1987 - val_mean_squared_error: 1129922.1250\n",
      "Epoch 27/250\n",
      " - 1s - loss: 807.6081 - mean_absolute_error: 807.6083 - mean_squared_error: 1133680.8750 - val_loss: 807.1688 - val_mean_absolute_error: 807.1687 - val_mean_squared_error: 1131769.6250\n",
      "Epoch 28/250\n",
      " - 1s - loss: 807.0095 - mean_absolute_error: 807.0095 - mean_squared_error: 1132356.7500 - val_loss: 807.1806 - val_mean_absolute_error: 807.1805 - val_mean_squared_error: 1135792.0000\n",
      "Epoch 29/250\n",
      " - 1s - loss: 806.7456 - mean_absolute_error: 806.7451 - mean_squared_error: 1132269.1250 - val_loss: 807.0327 - val_mean_absolute_error: 807.0328 - val_mean_squared_error: 1137290.5000\n",
      "Epoch 30/250\n",
      " - 1s - loss: 805.9929 - mean_absolute_error: 805.9932 - mean_squared_error: 1130228.3750 - val_loss: 810.6493 - val_mean_absolute_error: 810.6497 - val_mean_squared_error: 1125483.1250\n",
      "Epoch 31/250\n",
      " - 1s - loss: 805.4374 - mean_absolute_error: 805.4379 - mean_squared_error: 1131118.3750 - val_loss: 807.0067 - val_mean_absolute_error: 807.0068 - val_mean_squared_error: 1124686.1250\n",
      "Epoch 32/250\n",
      " - 1s - loss: 804.5784 - mean_absolute_error: 804.5785 - mean_squared_error: 1128409.8750 - val_loss: 806.8740 - val_mean_absolute_error: 806.8741 - val_mean_squared_error: 1144849.2500\n",
      "Epoch 33/250\n",
      " - 1s - loss: 804.7650 - mean_absolute_error: 804.7652 - mean_squared_error: 1129347.3750 - val_loss: 806.6336 - val_mean_absolute_error: 806.6336 - val_mean_squared_error: 1125263.5000\n",
      "Epoch 34/250\n",
      " - 1s - loss: 804.0483 - mean_absolute_error: 804.0486 - mean_squared_error: 1127674.0000 - val_loss: 805.8294 - val_mean_absolute_error: 805.8293 - val_mean_squared_error: 1129261.2500\n",
      "Epoch 35/250\n",
      " - 1s - loss: 804.0587 - mean_absolute_error: 804.0588 - mean_squared_error: 1128268.8750 - val_loss: 804.9648 - val_mean_absolute_error: 804.9647 - val_mean_squared_error: 1134850.5000\n",
      "Epoch 36/250\n",
      " - 1s - loss: 803.3561 - mean_absolute_error: 803.3563 - mean_squared_error: 1126174.7500 - val_loss: 805.2207 - val_mean_absolute_error: 805.2208 - val_mean_squared_error: 1128050.3750\n",
      "Epoch 37/250\n",
      " - 1s - loss: 802.8681 - mean_absolute_error: 802.8681 - mean_squared_error: 1125378.8750 - val_loss: 806.2450 - val_mean_absolute_error: 806.2450 - val_mean_squared_error: 1123835.7500\n",
      "Epoch 38/250\n",
      " - 1s - loss: 802.6054 - mean_absolute_error: 802.6053 - mean_squared_error: 1126639.0000 - val_loss: 809.3854 - val_mean_absolute_error: 809.3854 - val_mean_squared_error: 1122865.0000\n",
      "Epoch 39/250\n",
      " - 1s - loss: 802.4626 - mean_absolute_error: 802.4625 - mean_squared_error: 1123861.7500 - val_loss: 805.2867 - val_mean_absolute_error: 805.2872 - val_mean_squared_error: 1125098.0000\n",
      "Epoch 40/250\n",
      " - 1s - loss: 801.7399 - mean_absolute_error: 801.7402 - mean_squared_error: 1124217.8750 - val_loss: 807.2273 - val_mean_absolute_error: 807.2271 - val_mean_squared_error: 1129584.3750\n",
      "Epoch 41/250\n",
      " - 1s - loss: 801.9156 - mean_absolute_error: 801.9154 - mean_squared_error: 1123534.6250 - val_loss: 805.2213 - val_mean_absolute_error: 805.2214 - val_mean_squared_error: 1128926.8750\n"
     ]
    },
    {
     "name": "stdout",
     "output_type": "stream",
     "text": [
      "Epoch 42/250\n",
      " - 1s - loss: 801.2958 - mean_absolute_error: 801.2955 - mean_squared_error: 1123495.2500 - val_loss: 804.5614 - val_mean_absolute_error: 804.5613 - val_mean_squared_error: 1132151.2500\n",
      "Epoch 43/250\n",
      " - 1s - loss: 801.7711 - mean_absolute_error: 801.7711 - mean_squared_error: 1123771.5000 - val_loss: 804.2766 - val_mean_absolute_error: 804.2766 - val_mean_squared_error: 1129116.2500\n",
      "Epoch 44/250\n",
      " - 1s - loss: 801.0614 - mean_absolute_error: 801.0610 - mean_squared_error: 1123368.5000 - val_loss: 804.8780 - val_mean_absolute_error: 804.8782 - val_mean_squared_error: 1124916.5000\n",
      "Epoch 45/250\n",
      " - 1s - loss: 800.8277 - mean_absolute_error: 800.8278 - mean_squared_error: 1123687.8750 - val_loss: 806.4820 - val_mean_absolute_error: 806.4819 - val_mean_squared_error: 1121150.3750\n",
      "Epoch 46/250\n",
      " - 1s - loss: 800.6926 - mean_absolute_error: 800.6925 - mean_squared_error: 1121484.7500 - val_loss: 804.2875 - val_mean_absolute_error: 804.2872 - val_mean_squared_error: 1133328.6250\n",
      "Epoch 47/250\n",
      " - 1s - loss: 800.3652 - mean_absolute_error: 800.3652 - mean_squared_error: 1124389.0000 - val_loss: 804.8771 - val_mean_absolute_error: 804.8770 - val_mean_squared_error: 1120511.8750\n",
      "Epoch 48/250\n",
      " - 1s - loss: 800.4152 - mean_absolute_error: 800.4152 - mean_squared_error: 1122312.3750 - val_loss: 805.3735 - val_mean_absolute_error: 805.3731 - val_mean_squared_error: 1122526.7500\n",
      "Epoch 49/250\n",
      " - 1s - loss: 800.2993 - mean_absolute_error: 800.2991 - mean_squared_error: 1121922.8750 - val_loss: 803.4671 - val_mean_absolute_error: 803.4672 - val_mean_squared_error: 1128251.6250\n",
      "Epoch 50/250\n",
      " - 1s - loss: 799.7477 - mean_absolute_error: 799.7473 - mean_squared_error: 1121316.8750 - val_loss: 803.1455 - val_mean_absolute_error: 803.1453 - val_mean_squared_error: 1127481.2500\n",
      "Epoch 51/250\n",
      " - 1s - loss: 799.3845 - mean_absolute_error: 799.3846 - mean_squared_error: 1120809.5000 - val_loss: 803.6256 - val_mean_absolute_error: 803.6257 - val_mean_squared_error: 1133991.0000\n",
      "Epoch 52/250\n",
      " - 1s - loss: 799.4828 - mean_absolute_error: 799.4828 - mean_squared_error: 1121294.2500 - val_loss: 803.6232 - val_mean_absolute_error: 803.6231 - val_mean_squared_error: 1132436.1250\n",
      "Epoch 53/250\n",
      " - 1s - loss: 798.7222 - mean_absolute_error: 798.7222 - mean_squared_error: 1119057.3750 - val_loss: 803.5317 - val_mean_absolute_error: 803.5323 - val_mean_squared_error: 1132775.8750\n",
      "Epoch 54/250\n",
      " - 1s - loss: 798.5738 - mean_absolute_error: 798.5739 - mean_squared_error: 1120512.1250 - val_loss: 805.4452 - val_mean_absolute_error: 805.4453 - val_mean_squared_error: 1118397.1250\n",
      "Epoch 55/250\n",
      " - 1s - loss: 798.9604 - mean_absolute_error: 798.9606 - mean_squared_error: 1119947.2500 - val_loss: 802.9115 - val_mean_absolute_error: 802.9114 - val_mean_squared_error: 1121996.7500\n",
      "Epoch 56/250\n",
      " - 1s - loss: 798.6654 - mean_absolute_error: 798.6650 - mean_squared_error: 1119204.6250 - val_loss: 804.0417 - val_mean_absolute_error: 804.0416 - val_mean_squared_error: 1120897.8750\n",
      "Epoch 57/250\n",
      " - 1s - loss: 798.4108 - mean_absolute_error: 798.4109 - mean_squared_error: 1117800.6250 - val_loss: 803.4495 - val_mean_absolute_error: 803.4495 - val_mean_squared_error: 1138374.5000\n",
      "Epoch 58/250\n",
      " - 1s - loss: 798.3689 - mean_absolute_error: 798.3693 - mean_squared_error: 1119513.2500 - val_loss: 803.6332 - val_mean_absolute_error: 803.6335 - val_mean_squared_error: 1127554.6250\n",
      "Epoch 59/250\n",
      " - 1s - loss: 797.9234 - mean_absolute_error: 797.9237 - mean_squared_error: 1117618.0000 - val_loss: 803.6581 - val_mean_absolute_error: 803.6577 - val_mean_squared_error: 1136016.5000\n",
      "Epoch 60/250\n",
      " - 1s - loss: 798.2098 - mean_absolute_error: 798.2096 - mean_squared_error: 1118270.1250 - val_loss: 802.8104 - val_mean_absolute_error: 802.8105 - val_mean_squared_error: 1125263.2500\n",
      "Epoch 61/250\n",
      " - 1s - loss: 797.4056 - mean_absolute_error: 797.4052 - mean_squared_error: 1117261.3750 - val_loss: 804.2767 - val_mean_absolute_error: 804.2766 - val_mean_squared_error: 1120217.1250\n",
      "Epoch 62/250\n",
      " - 1s - loss: 797.6841 - mean_absolute_error: 797.6840 - mean_squared_error: 1117679.8750 - val_loss: 802.7171 - val_mean_absolute_error: 802.7169 - val_mean_squared_error: 1125645.7500\n",
      "Epoch 63/250\n",
      " - 1s - loss: 797.6705 - mean_absolute_error: 797.6703 - mean_squared_error: 1117602.1250 - val_loss: 803.0578 - val_mean_absolute_error: 803.0576 - val_mean_squared_error: 1135771.6250\n",
      "Epoch 64/250\n",
      " - 1s - loss: 797.4751 - mean_absolute_error: 797.4749 - mean_squared_error: 1116944.5000 - val_loss: 802.6379 - val_mean_absolute_error: 802.6379 - val_mean_squared_error: 1132075.3750\n",
      "Epoch 65/250\n",
      " - 1s - loss: 797.4756 - mean_absolute_error: 797.4755 - mean_squared_error: 1117282.1250 - val_loss: 802.2655 - val_mean_absolute_error: 802.2653 - val_mean_squared_error: 1127964.5000\n",
      "Epoch 66/250\n",
      " - 1s - loss: 797.2430 - mean_absolute_error: 797.2433 - mean_squared_error: 1116647.2500 - val_loss: 802.3049 - val_mean_absolute_error: 802.3051 - val_mean_squared_error: 1127651.2500\n",
      "Epoch 67/250\n",
      " - 1s - loss: 796.9178 - mean_absolute_error: 796.9182 - mean_squared_error: 1115843.7500 - val_loss: 804.5669 - val_mean_absolute_error: 804.5671 - val_mean_squared_error: 1122134.1250\n",
      "Epoch 68/250\n",
      " - 1s - loss: 796.7004 - mean_absolute_error: 796.7005 - mean_squared_error: 1115642.0000 - val_loss: 803.3894 - val_mean_absolute_error: 803.3896 - val_mean_squared_error: 1121748.5000\n",
      "Epoch 69/250\n",
      " - 1s - loss: 796.8081 - mean_absolute_error: 796.8079 - mean_squared_error: 1116646.5000 - val_loss: 806.4118 - val_mean_absolute_error: 806.4118 - val_mean_squared_error: 1120839.8750\n",
      "Epoch 70/250\n",
      " - 1s - loss: 796.6807 - mean_absolute_error: 796.6807 - mean_squared_error: 1116214.7500 - val_loss: 802.0620 - val_mean_absolute_error: 802.0621 - val_mean_squared_error: 1124562.2500\n",
      "Epoch 71/250\n",
      " - 1s - loss: 796.4247 - mean_absolute_error: 796.4246 - mean_squared_error: 1116116.6250 - val_loss: 802.8216 - val_mean_absolute_error: 802.8217 - val_mean_squared_error: 1119066.2500\n",
      "Epoch 72/250\n",
      " - 1s - loss: 796.0730 - mean_absolute_error: 796.0729 - mean_squared_error: 1114167.5000 - val_loss: 804.0214 - val_mean_absolute_error: 804.0217 - val_mean_squared_error: 1146357.1250\n",
      "Epoch 73/250\n",
      " - 1s - loss: 796.0723 - mean_absolute_error: 796.0721 - mean_squared_error: 1115216.8750 - val_loss: 801.7019 - val_mean_absolute_error: 801.7016 - val_mean_squared_error: 1127221.6250\n",
      "Epoch 74/250\n",
      " - 1s - loss: 795.9221 - mean_absolute_error: 795.9219 - mean_squared_error: 1115506.3750 - val_loss: 803.5607 - val_mean_absolute_error: 803.5604 - val_mean_squared_error: 1117387.2500\n",
      "Epoch 75/250\n",
      " - 1s - loss: 795.8040 - mean_absolute_error: 795.8040 - mean_squared_error: 1112477.7500 - val_loss: 803.4746 - val_mean_absolute_error: 803.4744 - val_mean_squared_error: 1120498.8750\n",
      "Epoch 76/250\n",
      " - 1s - loss: 795.6631 - mean_absolute_error: 795.6633 - mean_squared_error: 1113114.7500 - val_loss: 801.4511 - val_mean_absolute_error: 801.4511 - val_mean_squared_error: 1126044.5000\n",
      "Epoch 77/250\n",
      " - 1s - loss: 795.7165 - mean_absolute_error: 795.7167 - mean_squared_error: 1113857.8750 - val_loss: 801.4212 - val_mean_absolute_error: 801.4210 - val_mean_squared_error: 1126280.5000\n",
      "Epoch 78/250\n",
      " - 1s - loss: 795.5981 - mean_absolute_error: 795.5979 - mean_squared_error: 1114337.6250 - val_loss: 801.5917 - val_mean_absolute_error: 801.5916 - val_mean_squared_error: 1127076.8750\n",
      "Epoch 79/250\n",
      " - 1s - loss: 795.2089 - mean_absolute_error: 795.2090 - mean_squared_error: 1114778.0000 - val_loss: 802.3899 - val_mean_absolute_error: 802.3897 - val_mean_squared_error: 1116543.0000\n",
      "Epoch 80/250\n",
      " - 1s - loss: 795.2848 - mean_absolute_error: 795.2844 - mean_squared_error: 1112019.0000 - val_loss: 801.2028 - val_mean_absolute_error: 801.2026 - val_mean_squared_error: 1124239.5000\n",
      "Epoch 81/250\n",
      " - 1s - loss: 795.0495 - mean_absolute_error: 795.0497 - mean_squared_error: 1113256.2500 - val_loss: 802.2310 - val_mean_absolute_error: 802.2309 - val_mean_squared_error: 1118975.5000\n",
      "Epoch 82/250\n",
      " - 1s - loss: 794.9458 - mean_absolute_error: 794.9462 - mean_squared_error: 1112428.6250 - val_loss: 801.4102 - val_mean_absolute_error: 801.4102 - val_mean_squared_error: 1128913.0000\n",
      "Epoch 83/250\n",
      " - 1s - loss: 794.7765 - mean_absolute_error: 794.7767 - mean_squared_error: 1112283.1250 - val_loss: 803.4043 - val_mean_absolute_error: 803.4043 - val_mean_squared_error: 1115419.3750\n"
     ]
    },
    {
     "name": "stdout",
     "output_type": "stream",
     "text": [
      "Epoch 84/250\n",
      " - 1s - loss: 794.6404 - mean_absolute_error: 794.6402 - mean_squared_error: 1112181.5000 - val_loss: 801.5733 - val_mean_absolute_error: 801.5733 - val_mean_squared_error: 1126801.3750\n",
      "Epoch 85/250\n",
      " - 1s - loss: 794.4820 - mean_absolute_error: 794.4819 - mean_squared_error: 1112980.6250 - val_loss: 802.1162 - val_mean_absolute_error: 802.1157 - val_mean_squared_error: 1121828.7500\n",
      "Epoch 86/250\n",
      " - 1s - loss: 794.5707 - mean_absolute_error: 794.5704 - mean_squared_error: 1113221.6250 - val_loss: 801.2207 - val_mean_absolute_error: 801.2208 - val_mean_squared_error: 1125280.8750\n",
      "Epoch 87/250\n",
      " - 1s - loss: 794.5840 - mean_absolute_error: 794.5842 - mean_squared_error: 1112709.5000 - val_loss: 804.4918 - val_mean_absolute_error: 804.4917 - val_mean_squared_error: 1118685.0000\n",
      "Epoch 88/250\n",
      " - 1s - loss: 794.2936 - mean_absolute_error: 794.2929 - mean_squared_error: 1111610.6250 - val_loss: 801.9006 - val_mean_absolute_error: 801.9008 - val_mean_squared_error: 1125157.1250\n",
      "Epoch 89/250\n",
      " - 1s - loss: 793.9265 - mean_absolute_error: 793.9268 - mean_squared_error: 1111574.6250 - val_loss: 800.9372 - val_mean_absolute_error: 800.9371 - val_mean_squared_error: 1125832.2500\n",
      "Epoch 90/250\n",
      " - 1s - loss: 793.8561 - mean_absolute_error: 793.8557 - mean_squared_error: 1110194.8750 - val_loss: 803.3871 - val_mean_absolute_error: 803.3873 - val_mean_squared_error: 1121176.6250\n",
      "Epoch 91/250\n",
      " - 1s - loss: 793.9746 - mean_absolute_error: 793.9750 - mean_squared_error: 1110155.5000 - val_loss: 801.3336 - val_mean_absolute_error: 801.3338 - val_mean_squared_error: 1125408.7500\n",
      "Epoch 92/250\n",
      " - 1s - loss: 793.8826 - mean_absolute_error: 793.8825 - mean_squared_error: 1112274.1250 - val_loss: 800.5513 - val_mean_absolute_error: 800.5513 - val_mean_squared_error: 1125005.0000\n",
      "Epoch 93/250\n",
      " - 1s - loss: 793.9242 - mean_absolute_error: 793.9241 - mean_squared_error: 1110801.5000 - val_loss: 803.2428 - val_mean_absolute_error: 803.2427 - val_mean_squared_error: 1114976.3750\n",
      "Epoch 94/250\n",
      " - 1s - loss: 793.3637 - mean_absolute_error: 793.3640 - mean_squared_error: 1109556.8750 - val_loss: 800.7626 - val_mean_absolute_error: 800.7625 - val_mean_squared_error: 1126339.3750\n",
      "Epoch 95/250\n",
      " - 1s - loss: 793.5240 - mean_absolute_error: 793.5237 - mean_squared_error: 1110017.7500 - val_loss: 802.0828 - val_mean_absolute_error: 802.0827 - val_mean_squared_error: 1117820.5000\n",
      "Epoch 96/250\n",
      " - 1s - loss: 793.1510 - mean_absolute_error: 793.1505 - mean_squared_error: 1110898.3750 - val_loss: 801.0630 - val_mean_absolute_error: 801.0633 - val_mean_squared_error: 1125931.1250\n",
      "Epoch 97/250\n",
      " - 1s - loss: 793.3003 - mean_absolute_error: 793.2997 - mean_squared_error: 1109517.3750 - val_loss: 801.5072 - val_mean_absolute_error: 801.5075 - val_mean_squared_error: 1125180.0000\n",
      "Epoch 98/250\n",
      " - 1s - loss: 792.8659 - mean_absolute_error: 792.8655 - mean_squared_error: 1109563.2500 - val_loss: 801.6234 - val_mean_absolute_error: 801.6234 - val_mean_squared_error: 1117873.2500\n",
      "Epoch 99/250\n",
      " - 1s - loss: 793.1473 - mean_absolute_error: 793.1469 - mean_squared_error: 1110042.1250 - val_loss: 801.8938 - val_mean_absolute_error: 801.8937 - val_mean_squared_error: 1119813.2500\n",
      "Epoch 100/250\n",
      " - 1s - loss: 792.9393 - mean_absolute_error: 792.9393 - mean_squared_error: 1107522.3750 - val_loss: 800.8848 - val_mean_absolute_error: 800.8850 - val_mean_squared_error: 1124428.5000\n",
      "Epoch 101/250\n",
      " - 1s - loss: 792.7023 - mean_absolute_error: 792.7027 - mean_squared_error: 1109092.1250 - val_loss: 800.8791 - val_mean_absolute_error: 800.8790 - val_mean_squared_error: 1121793.8750\n",
      "Epoch 102/250\n",
      " - 1s - loss: 792.6364 - mean_absolute_error: 792.6363 - mean_squared_error: 1109939.1250 - val_loss: 803.7714 - val_mean_absolute_error: 803.7714 - val_mean_squared_error: 1116694.0000\n",
      "----Resultados sobre TRAIN----\n",
      "R2:  0.2791733230408018\n",
      "Adjusted R2:  0.2788507092811602\n",
      "MAPE: 73.8745605680395\n",
      "----Resultados sobre TEST----\n",
      "R2:  0.2612138109742601\n",
      "Adjusted R2:  0.26022092999449653\n",
      "MAPE: 73.44590540826069\n"
     ]
    },
    {
     "data": {
      "image/png": "[encoded data removed]",
      "text/plain": [
       "<Figure size 432x288 with 1 Axes>"
      ]
     },
     "metadata": {
      "needs_background": "light"
     },
     "output_type": "display_data"
    },
    {
     "data": {
      "text/plain": [
       "0.2612138109742601"
      ]
     },
     "execution_count": 43,
     "metadata": {},
     "output_type": "execute_result"
    }
   ],
   "source": [
    "model = ep.build_model(train_dataset)\n",
    "ep.train_model(model, train_dataset, train_labels, 250)\n",
    "cm.evaluate_lin_lin(test_dataset, test_labels, train_dataset, train_labels, model)"
   ]
  },
  {
   "cell_type": "markdown",
   "metadata": {},
   "source": [
    "### SubconjuntoTodo con RF - Regresión Lineal con constante"
   ]
  },
  {
   "cell_type": "code",
   "execution_count": 44,
   "metadata": {
    "scrolled": true
   },
   "outputs": [
    {
     "name": "stdout",
     "output_type": "stream",
     "text": [
      "----Resultados sobre TRAIN----\n",
      "R2:  0.2009279043270229\n",
      "Adjusted R2:  0.20057027098568037\n",
      "MAPE: 92.50495956202074\n",
      "----Resultados sobre TEST----\n",
      "R2:  0.2000594725407896\n",
      "Adjusted R2:  0.1989844040751707\n",
      "MAPE: 90.82966104637097\n"
     ]
    },
    {
     "data": {
      "image/png": "[encoded data removed]",
      "text/plain": [
       "<Figure size 432x288 with 1 Axes>"
      ]
     },
     "metadata": {
      "needs_background": "light"
     },
     "output_type": "display_data"
    },
    {
     "data": {
      "text/plain": [
       "0.2000594725407896"
      ]
     },
     "execution_count": 44,
     "metadata": {},
     "output_type": "execute_result"
    }
   ],
   "source": [
    "lr = LinearRegression(fit_intercept=True)\n",
    "lr.fit(train_dataset, train_labels)\n",
    "cm.evaluate_lin_lin(test_dataset, test_labels, train_dataset, train_labels, lr)"
   ]
  },
  {
   "cell_type": "markdown",
   "metadata": {},
   "source": [
    "### Subconjunto Todo con RF - Random Forest"
   ]
  },
  {
   "cell_type": "code",
   "execution_count": 45,
   "metadata": {
    "scrolled": true
   },
   "outputs": [
    {
     "name": "stderr",
     "output_type": "stream",
     "text": [
      "[Parallel(n_jobs=4)]: Using backend ThreadingBackend with 4 concurrent workers.\n",
      "[Parallel(n_jobs=4)]: Done  42 tasks      | elapsed:  2.5min\n",
      "[Parallel(n_jobs=4)]: Done 100 out of 100 | elapsed:  5.9min finished\n",
      "[Parallel(n_jobs=4)]: Using backend ThreadingBackend with 4 concurrent workers.\n",
      "[Parallel(n_jobs=4)]: Done  42 tasks      | elapsed:    0.0s\n",
      "[Parallel(n_jobs=4)]: Done 100 out of 100 | elapsed:    0.1s finished\n",
      "[Parallel(n_jobs=4)]: Using backend ThreadingBackend with 4 concurrent workers.\n",
      "[Parallel(n_jobs=4)]: Done  42 tasks      | elapsed:    0.0s\n",
      "[Parallel(n_jobs=4)]: Done 100 out of 100 | elapsed:    0.0s finished\n"
     ]
    },
    {
     "name": "stdout",
     "output_type": "stream",
     "text": [
      "----Resultados sobre TRAIN----\n",
      "R2:  0.8845275529623766\n",
      "Adjusted R2:  0.8844758720223329\n",
      "MAPE: 31.0574835952036\n",
      "----Resultados sobre TEST----\n",
      "R2:  0.23971331786347472\n",
      "Adjusted R2:  0.23869154160794348\n",
      "MAPE: 80.3459739861918\n"
     ]
    },
    {
     "data": {
      "image/png": "[encoded data removed]",
      "text/plain": [
       "<Figure size 432x288 with 1 Axes>"
      ]
     },
     "metadata": {
      "needs_background": "light"
     },
     "output_type": "display_data"
    },
    {
     "data": {
      "text/plain": [
       "0.23971331786347472"
      ]
     },
     "execution_count": 45,
     "metadata": {},
     "output_type": "execute_result"
    }
   ],
   "source": [
    "regressor = RandomForestRegressor(100, criterion=\"mae\", verbose=1, n_jobs=4)\n",
    "regressor.fit(train_dataset, train_labels)\n",
    "cm.evaluate_lin_lin(test_dataset, test_labels, train_dataset, train_labels, regressor)"
   ]
  },
  {
   "cell_type": "markdown",
   "metadata": {},
   "source": [
    "### Subconjunto Todo con RF - Regresión de Soporte Vectorial"
   ]
  },
  {
   "cell_type": "code",
   "execution_count": 46,
   "metadata": {
    "scrolled": false
   },
   "outputs": [
    {
     "name": "stdout",
     "output_type": "stream",
     "text": [
      "----Resultados sobre TRAIN----\n",
      "R2:  0.18820948644587765\n",
      "Adjusted R2:  0.18784616083933392\n",
      "MAPE: 84.97164663754323\n",
      "----Resultados sobre TEST----\n",
      "R2:  0.185896764557114\n",
      "Adjusted R2:  0.18480266232558584\n",
      "MAPE: 83.43913257471512\n"
     ]
    },
    {
     "data": {
      "image/png": "[encoded data removed]",
      "text/plain": [
       "<Figure size 432x288 with 1 Axes>"
      ]
     },
     "metadata": {
      "needs_background": "light"
     },
     "output_type": "display_data"
    },
    {
     "data": {
      "text/plain": [
       "0.185896764557114"
      ]
     },
     "execution_count": 46,
     "metadata": {},
     "output_type": "execute_result"
    }
   ],
   "source": [
    "svr = svm.SVR(kernel='linear')\n",
    "svr.fit(train_dataset, train_labels)\n",
    "cm.evaluate_lin_lin(test_dataset, test_labels, train_dataset, train_labels, svr)"
   ]
  },
  {
   "cell_type": "markdown",
   "metadata": {},
   "source": [
    "# KFold training  \n",
    "\n",
    "Vamos a probar la configuración que nos ha dado el algoritmo evolutivo en el notebook darwin con un entrenamiento por validación cruzada"
   ]
  },
  {
   "cell_type": "code",
   "execution_count": 7,
   "metadata": {
    "scrolled": true
   },
   "outputs": [
    {
     "name": "stderr",
     "output_type": "stream",
     "text": [
      "c:\\users\\amct2\\appdata\\local\\programs\\python\\python36\\lib\\site-packages\\IPython\\core\\interactiveshell.py:3254: DtypeWarning: Columns (140,141,142,143) have mixed types.Specify dtype option on import or set low_memory=False.\n",
      "  if (await self.run_code(code, result,  async_=asy)):\n"
     ]
    },
    {
     "name": "stdout",
     "output_type": "stream",
     "text": [
      "(35767, 13)\n"
     ]
    },
    {
     "name": "stderr",
     "output_type": "stream",
     "text": [
      "C:\\Users\\amct2\\PycharmProjects\\tfg\\data_preprocessing.py:84: UserWarning: Boolean Series key will be reindexed to match DataFrame index.\n",
      "  x = x[(y > q1 - IQR)]\n"
     ]
    }
   ],
   "source": [
    "literatura_corr1 = ['NOCHES', 'PERSONAS_TOTAL', 'INGRESOS', 'EDAD', 'ACTIV_PISCINA',\n",
    "                    'ACTIV_PARQUES_OCIO', 'ALOJ_CATEG_HOTEL4', 'ALOJ_CATEG_HOTEL5',\n",
    "                    'ALOJ_CATEG_PROPIA', 'PAQUETE_TURISTICO_ALGUNO_GRATIS',\n",
    "                    'PAQUETE_TURISTICO_SI', 'NACIONALIDAD_ESP724']\n",
    "\n",
    "X = dp.load_dataset('./datos/GASTO_TURISTICO_2018_ORIGINAL_2.csv', ';', ',', predictors=literatura_corr1, dummies=True, desglose=False)\n",
    "print(X.shape)\n",
    "scaler = StandardScaler()\n",
    "\n",
    "y = X.pop('GASTO')\n",
    "X = pd.DataFrame(scaler.fit_transform(X.values), columns=X.columns, index=X.index)\n",
    "\n",
    "X['GASTO'] = y\n",
    "\n",
    "train_dataset, test_dataset = dp.split_dataset(X)\n",
    "train_labels = train_dataset.pop('GASTO')\n",
    "test_labels = test_dataset.pop('GASTO')"
   ]
  },
  {
   "cell_type": "code",
   "execution_count": 8,
   "metadata": {
    "scrolled": true
   },
   "outputs": [
    {
     "name": "stdout",
     "output_type": "stream",
     "text": [
      "Train on 14378 samples, validate on 7082 samples\n",
      "Epoch 1/250\n",
      " - 1s - loss: 1379.6938 - mean_absolute_error: 1379.6935 - mean_squared_error: 3313705.0000 - val_loss: 709.1147 - val_mean_absolute_error: 709.1148 - val_mean_squared_error: 942426.7500\n",
      "Epoch 2/250\n",
      " - 1s - loss: 673.1351 - mean_absolute_error: 673.1345 - mean_squared_error: 832444.5625 - val_loss: 650.3586 - val_mean_absolute_error: 650.3586 - val_mean_squared_error: 799043.3125\n",
      "Epoch 3/250\n",
      " - 1s - loss: 635.4004 - mean_absolute_error: 635.4002 - mean_squared_error: 745939.1250 - val_loss: 624.8545 - val_mean_absolute_error: 624.8546 - val_mean_squared_error: 730542.8750\n",
      "Epoch 4/250\n",
      " - 1s - loss: 629.0476 - mean_absolute_error: 629.0479 - mean_squared_error: 733090.4375 - val_loss: 624.3700 - val_mean_absolute_error: 624.3699 - val_mean_squared_error: 730637.4375\n",
      "Epoch 5/250\n",
      " - 1s - loss: 626.3303 - mean_absolute_error: 626.3304 - mean_squared_error: 726683.8750 - val_loss: 622.2776 - val_mean_absolute_error: 622.2775 - val_mean_squared_error: 723338.0000\n",
      "Epoch 6/250\n",
      " - 1s - loss: 624.9058 - mean_absolute_error: 624.9055 - mean_squared_error: 723421.2500 - val_loss: 622.3121 - val_mean_absolute_error: 622.3121 - val_mean_squared_error: 722621.6875\n",
      "Epoch 7/250\n",
      " - 1s - loss: 624.4371 - mean_absolute_error: 624.4371 - mean_squared_error: 723069.2500 - val_loss: 621.9288 - val_mean_absolute_error: 621.9289 - val_mean_squared_error: 721585.2500\n",
      "Epoch 8/250\n",
      " - 1s - loss: 623.7974 - mean_absolute_error: 623.7972 - mean_squared_error: 721293.8750 - val_loss: 622.2896 - val_mean_absolute_error: 622.2896 - val_mean_squared_error: 724877.2500\n",
      "Epoch 9/250\n",
      " - 1s - loss: 623.8423 - mean_absolute_error: 623.8424 - mean_squared_error: 721501.8125 - val_loss: 621.6889 - val_mean_absolute_error: 621.6888 - val_mean_squared_error: 720317.9375\n",
      "Epoch 10/250\n",
      " - 1s - loss: 623.5318 - mean_absolute_error: 623.5319 - mean_squared_error: 721247.1250 - val_loss: 621.3623 - val_mean_absolute_error: 621.3622 - val_mean_squared_error: 720322.2500\n",
      "Epoch 11/250\n",
      " - 1s - loss: 623.3424 - mean_absolute_error: 623.3425 - mean_squared_error: 720267.1875 - val_loss: 621.4940 - val_mean_absolute_error: 621.4941 - val_mean_squared_error: 719194.7500\n",
      "Epoch 12/250\n",
      " - 1s - loss: 623.1076 - mean_absolute_error: 623.1075 - mean_squared_error: 719786.3125 - val_loss: 621.4690 - val_mean_absolute_error: 621.4690 - val_mean_squared_error: 718921.5000\n",
      "Epoch 13/250\n",
      " - 1s - loss: 622.9088 - mean_absolute_error: 622.9088 - mean_squared_error: 719491.1875 - val_loss: 620.9563 - val_mean_absolute_error: 620.9562 - val_mean_squared_error: 720071.8750\n",
      "Epoch 14/250\n",
      " - 1s - loss: 622.7632 - mean_absolute_error: 622.7630 - mean_squared_error: 718976.9375 - val_loss: 621.0703 - val_mean_absolute_error: 621.0702 - val_mean_squared_error: 718168.4375\n",
      "Epoch 15/250\n",
      " - 1s - loss: 622.5648 - mean_absolute_error: 622.5645 - mean_squared_error: 718997.1875 - val_loss: 620.6867 - val_mean_absolute_error: 620.6869 - val_mean_squared_error: 718250.1250\n",
      "Epoch 16/250\n",
      " - 1s - loss: 622.3819 - mean_absolute_error: 622.3817 - mean_squared_error: 718299.7500 - val_loss: 620.6002 - val_mean_absolute_error: 620.6001 - val_mean_squared_error: 718060.6875\n",
      "Epoch 17/250\n",
      " - 1s - loss: 622.1548 - mean_absolute_error: 622.1545 - mean_squared_error: 717901.5000 - val_loss: 620.3496 - val_mean_absolute_error: 620.3497 - val_mean_squared_error: 718507.5625\n",
      "Epoch 18/250\n",
      " - 1s - loss: 621.9924 - mean_absolute_error: 621.9924 - mean_squared_error: 717410.0625 - val_loss: 620.2643 - val_mean_absolute_error: 620.2641 - val_mean_squared_error: 717727.5625\n",
      "Epoch 19/250\n",
      " - 1s - loss: 621.8780 - mean_absolute_error: 621.8779 - mean_squared_error: 717791.8125 - val_loss: 620.0461 - val_mean_absolute_error: 620.0463 - val_mean_squared_error: 717319.3125\n",
      "Epoch 20/250\n",
      " - 1s - loss: 621.7825 - mean_absolute_error: 621.7826 - mean_squared_error: 717261.6875 - val_loss: 620.0399 - val_mean_absolute_error: 620.0396 - val_mean_squared_error: 716595.0625\n",
      "Epoch 21/250\n",
      " - 1s - loss: 621.4674 - mean_absolute_error: 621.4673 - mean_squared_error: 716643.3750 - val_loss: 619.9450 - val_mean_absolute_error: 619.9451 - val_mean_squared_error: 716380.6875\n",
      "Epoch 22/250\n",
      " - 1s - loss: 621.3114 - mean_absolute_error: 621.3115 - mean_squared_error: 716042.3125 - val_loss: 619.7160 - val_mean_absolute_error: 619.7159 - val_mean_squared_error: 716901.1250\n",
      "Epoch 23/250\n",
      " - 1s - loss: 621.2667 - mean_absolute_error: 621.2667 - mean_squared_error: 716414.3750 - val_loss: 619.6740 - val_mean_absolute_error: 619.6739 - val_mean_squared_error: 715833.3750\n",
      "Epoch 24/250\n",
      " - 1s - loss: 621.0952 - mean_absolute_error: 621.0952 - mean_squared_error: 715812.1250 - val_loss: 619.5109 - val_mean_absolute_error: 619.5107 - val_mean_squared_error: 716991.0625\n",
      "Epoch 25/250\n",
      " - 1s - loss: 620.9026 - mean_absolute_error: 620.9026 - mean_squared_error: 715875.8750 - val_loss: 619.4468 - val_mean_absolute_error: 619.4467 - val_mean_squared_error: 715428.5000\n",
      "Epoch 26/250\n",
      " - 1s - loss: 620.7627 - mean_absolute_error: 620.7627 - mean_squared_error: 715089.5000 - val_loss: 619.4234 - val_mean_absolute_error: 619.4235 - val_mean_squared_error: 715030.8750\n",
      "Epoch 27/250\n",
      " - 1s - loss: 620.6429 - mean_absolute_error: 620.6426 - mean_squared_error: 714804.0625 - val_loss: 619.1791 - val_mean_absolute_error: 619.1792 - val_mean_squared_error: 715632.8750\n",
      "Epoch 28/250\n",
      " - 1s - loss: 620.5097 - mean_absolute_error: 620.5095 - mean_squared_error: 714529.3750 - val_loss: 619.0544 - val_mean_absolute_error: 619.0542 - val_mean_squared_error: 715098.3750\n",
      "Epoch 29/250\n",
      " - 1s - loss: 620.2601 - mean_absolute_error: 620.2601 - mean_squared_error: 714558.5000 - val_loss: 619.3518 - val_mean_absolute_error: 619.3519 - val_mean_squared_error: 714233.6250\n",
      "Epoch 30/250\n",
      " - 1s - loss: 620.1451 - mean_absolute_error: 620.1454 - mean_squared_error: 713882.7500 - val_loss: 618.9451 - val_mean_absolute_error: 618.9451 - val_mean_squared_error: 715806.3750\n",
      "Epoch 31/250\n",
      " - 1s - loss: 619.8742 - mean_absolute_error: 619.8743 - mean_squared_error: 713327.7500 - val_loss: 619.5371 - val_mean_absolute_error: 619.5370 - val_mean_squared_error: 720050.3125\n",
      "Epoch 32/250\n",
      " - 1s - loss: 620.0968 - mean_absolute_error: 620.0969 - mean_squared_error: 714419.5625 - val_loss: 618.6657 - val_mean_absolute_error: 618.6656 - val_mean_squared_error: 714239.8125\n",
      "Epoch 33/250\n",
      " - 1s - loss: 619.8240 - mean_absolute_error: 619.8242 - mean_squared_error: 713841.8750 - val_loss: 618.4635 - val_mean_absolute_error: 618.4634 - val_mean_squared_error: 714281.6875\n",
      "Epoch 34/250\n",
      " - 1s - loss: 619.7726 - mean_absolute_error: 619.7723 - mean_squared_error: 713283.8750 - val_loss: 618.3730 - val_mean_absolute_error: 618.3728 - val_mean_squared_error: 714033.7500\n",
      "Epoch 35/250\n",
      " - 1s - loss: 619.6043 - mean_absolute_error: 619.6043 - mean_squared_error: 713198.8125 - val_loss: 618.2982 - val_mean_absolute_error: 618.2979 - val_mean_squared_error: 713793.3125\n",
      "Epoch 36/250\n",
      " - 1s - loss: 619.4558 - mean_absolute_error: 619.4557 - mean_squared_error: 712892.2500 - val_loss: 618.6616 - val_mean_absolute_error: 618.6616 - val_mean_squared_error: 713255.3750\n",
      "Epoch 37/250\n",
      " - 1s - loss: 619.4070 - mean_absolute_error: 619.4069 - mean_squared_error: 712740.3125 - val_loss: 618.2163 - val_mean_absolute_error: 618.2164 - val_mean_squared_error: 714652.5000\n",
      "Epoch 38/250\n",
      " - 1s - loss: 619.2483 - mean_absolute_error: 619.2479 - mean_squared_error: 712891.4375 - val_loss: 618.4428 - val_mean_absolute_error: 618.4429 - val_mean_squared_error: 712821.8125\n",
      "Epoch 39/250\n",
      " - 1s - loss: 619.0927 - mean_absolute_error: 619.0931 - mean_squared_error: 712607.0000 - val_loss: 618.3284 - val_mean_absolute_error: 618.3284 - val_mean_squared_error: 712886.3125\n",
      "Epoch 40/250\n",
      " - 1s - loss: 618.9788 - mean_absolute_error: 618.9783 - mean_squared_error: 712057.3125 - val_loss: 617.9219 - val_mean_absolute_error: 617.9222 - val_mean_squared_error: 713217.5625\n",
      "Epoch 41/250\n",
      " - 1s - loss: 618.8580 - mean_absolute_error: 618.8581 - mean_squared_error: 711865.8125 - val_loss: 617.8667 - val_mean_absolute_error: 617.8667 - val_mean_squared_error: 714496.3750\n",
      "Epoch 42/250\n",
      " - 1s - loss: 618.6374 - mean_absolute_error: 618.6371 - mean_squared_error: 711432.8750 - val_loss: 617.7954 - val_mean_absolute_error: 617.7951 - val_mean_squared_error: 714493.8125\n"
     ]
    },
    {
     "name": "stdout",
     "output_type": "stream",
     "text": [
      "Epoch 43/250\n",
      " - 1s - loss: 618.6302 - mean_absolute_error: 618.6302 - mean_squared_error: 711045.5625 - val_loss: 617.5809 - val_mean_absolute_error: 617.5810 - val_mean_squared_error: 713966.6250\n",
      "Epoch 44/250\n",
      " - 1s - loss: 618.4381 - mean_absolute_error: 618.4379 - mean_squared_error: 711465.8125 - val_loss: 617.6810 - val_mean_absolute_error: 617.6810 - val_mean_squared_error: 712449.9375\n",
      "Epoch 45/250\n",
      " - 1s - loss: 618.3214 - mean_absolute_error: 618.3218 - mean_squared_error: 711035.0625 - val_loss: 617.5001 - val_mean_absolute_error: 617.5001 - val_mean_squared_error: 713815.5000\n",
      "Epoch 46/250\n",
      " - 1s - loss: 618.1874 - mean_absolute_error: 618.1873 - mean_squared_error: 710788.3125 - val_loss: 617.3949 - val_mean_absolute_error: 617.3950 - val_mean_squared_error: 713044.3125\n",
      "Epoch 47/250\n",
      " - 1s - loss: 618.1100 - mean_absolute_error: 618.1099 - mean_squared_error: 710719.1875 - val_loss: 617.3367 - val_mean_absolute_error: 617.3366 - val_mean_squared_error: 713717.7500\n",
      "Epoch 48/250\n",
      " - 1s - loss: 617.9239 - mean_absolute_error: 617.9241 - mean_squared_error: 710478.8125 - val_loss: 617.2221 - val_mean_absolute_error: 617.2220 - val_mean_squared_error: 711781.5625\n",
      "Epoch 49/250\n",
      " - 1s - loss: 617.9720 - mean_absolute_error: 617.9722 - mean_squared_error: 710025.0625 - val_loss: 617.1008 - val_mean_absolute_error: 617.1008 - val_mean_squared_error: 711432.1250\n",
      "Epoch 50/250\n",
      " - 1s - loss: 617.8319 - mean_absolute_error: 617.8320 - mean_squared_error: 709996.4375 - val_loss: 617.0397 - val_mean_absolute_error: 617.0398 - val_mean_squared_error: 712698.5000\n",
      "Epoch 51/250\n",
      " - 1s - loss: 617.7224 - mean_absolute_error: 617.7225 - mean_squared_error: 710050.5000 - val_loss: 617.6192 - val_mean_absolute_error: 617.6193 - val_mean_squared_error: 711019.5625\n",
      "Epoch 52/250\n",
      " - 1s - loss: 617.7196 - mean_absolute_error: 617.7192 - mean_squared_error: 709858.0625 - val_loss: 617.1007 - val_mean_absolute_error: 617.1009 - val_mean_squared_error: 711234.5625\n",
      "Epoch 53/250\n",
      " - 1s - loss: 617.5816 - mean_absolute_error: 617.5816 - mean_squared_error: 709470.8125 - val_loss: 616.9345 - val_mean_absolute_error: 616.9345 - val_mean_squared_error: 711738.3125\n",
      "Epoch 54/250\n",
      " - 1s - loss: 617.4736 - mean_absolute_error: 617.4739 - mean_squared_error: 709653.9375 - val_loss: 616.9015 - val_mean_absolute_error: 616.9015 - val_mean_squared_error: 711445.5625\n",
      "Epoch 55/250\n",
      " - 1s - loss: 617.3539 - mean_absolute_error: 617.3538 - mean_squared_error: 709130.7500 - val_loss: 616.9173 - val_mean_absolute_error: 616.9175 - val_mean_squared_error: 712182.3125\n",
      "Epoch 56/250\n",
      " - 1s - loss: 617.3027 - mean_absolute_error: 617.3029 - mean_squared_error: 709744.6250 - val_loss: 616.8965 - val_mean_absolute_error: 616.8965 - val_mean_squared_error: 710647.2500\n",
      "Epoch 57/250\n",
      " - 1s - loss: 617.1192 - mean_absolute_error: 617.1193 - mean_squared_error: 709454.3125 - val_loss: 617.1239 - val_mean_absolute_error: 617.1240 - val_mean_squared_error: 710490.8125\n",
      "Epoch 58/250\n",
      " - 1s - loss: 616.9411 - mean_absolute_error: 616.9412 - mean_squared_error: 708920.8750 - val_loss: 617.4588 - val_mean_absolute_error: 617.4590 - val_mean_squared_error: 710552.1875\n",
      "Epoch 59/250\n",
      " - 1s - loss: 616.8153 - mean_absolute_error: 616.8154 - mean_squared_error: 708761.6250 - val_loss: 617.0783 - val_mean_absolute_error: 617.0784 - val_mean_squared_error: 710220.7500\n",
      "Epoch 60/250\n",
      " - 1s - loss: 616.9443 - mean_absolute_error: 616.9443 - mean_squared_error: 708775.9375 - val_loss: 617.1776 - val_mean_absolute_error: 617.1774 - val_mean_squared_error: 710199.3125\n",
      "Epoch 61/250\n",
      " - 1s - loss: 616.6799 - mean_absolute_error: 616.6799 - mean_squared_error: 708642.5000 - val_loss: 616.8988 - val_mean_absolute_error: 616.8987 - val_mean_squared_error: 709983.8750\n",
      "Epoch 62/250\n",
      " - 1s - loss: 616.6300 - mean_absolute_error: 616.6297 - mean_squared_error: 708226.7500 - val_loss: 617.1544 - val_mean_absolute_error: 617.1546 - val_mean_squared_error: 710255.5625\n",
      "Epoch 63/250\n",
      " - 1s - loss: 616.6134 - mean_absolute_error: 616.6133 - mean_squared_error: 708058.0625 - val_loss: 616.5596 - val_mean_absolute_error: 616.5594 - val_mean_squared_error: 710176.2500\n",
      "Epoch 64/250\n",
      " - 1s - loss: 616.3301 - mean_absolute_error: 616.3297 - mean_squared_error: 707798.7500 - val_loss: 616.4449 - val_mean_absolute_error: 616.4448 - val_mean_squared_error: 712658.6250\n",
      "Epoch 65/250\n",
      " - 1s - loss: 616.4186 - mean_absolute_error: 616.4188 - mean_squared_error: 708247.2500 - val_loss: 616.5339 - val_mean_absolute_error: 616.5339 - val_mean_squared_error: 709933.6250\n",
      "Epoch 66/250\n",
      " - 1s - loss: 616.2570 - mean_absolute_error: 616.2570 - mean_squared_error: 708023.0625 - val_loss: 616.5115 - val_mean_absolute_error: 616.5115 - val_mean_squared_error: 709767.5625\n",
      "Epoch 67/250\n",
      " - 1s - loss: 616.0816 - mean_absolute_error: 616.0814 - mean_squared_error: 707241.0000 - val_loss: 616.6787 - val_mean_absolute_error: 616.6786 - val_mean_squared_error: 709771.2500\n",
      "Epoch 68/250\n",
      " - 1s - loss: 616.0731 - mean_absolute_error: 616.0734 - mean_squared_error: 706990.6250 - val_loss: 616.0249 - val_mean_absolute_error: 616.0251 - val_mean_squared_error: 711606.0000\n",
      "Epoch 69/250\n",
      " - 1s - loss: 616.0875 - mean_absolute_error: 616.0872 - mean_squared_error: 707269.8750 - val_loss: 616.4361 - val_mean_absolute_error: 616.4362 - val_mean_squared_error: 709460.5625\n",
      "Epoch 70/250\n",
      " - 1s - loss: 615.9500 - mean_absolute_error: 615.9500 - mean_squared_error: 706672.0000 - val_loss: 616.0289 - val_mean_absolute_error: 616.0288 - val_mean_squared_error: 710734.4375\n",
      "Epoch 71/250\n",
      " - 1s - loss: 615.9453 - mean_absolute_error: 615.9453 - mean_squared_error: 707384.3125 - val_loss: 615.9831 - val_mean_absolute_error: 615.9833 - val_mean_squared_error: 709434.4375\n",
      "Epoch 72/250\n",
      " - 1s - loss: 615.7455 - mean_absolute_error: 615.7455 - mean_squared_error: 706513.1250 - val_loss: 615.7056 - val_mean_absolute_error: 615.7057 - val_mean_squared_error: 710170.9375\n",
      "Epoch 73/250\n",
      " - 1s - loss: 615.6955 - mean_absolute_error: 615.6954 - mean_squared_error: 706489.5000 - val_loss: 615.9882 - val_mean_absolute_error: 615.9882 - val_mean_squared_error: 708991.8750\n",
      "Epoch 74/250\n",
      " - 1s - loss: 615.5935 - mean_absolute_error: 615.5935 - mean_squared_error: 706262.5000 - val_loss: 616.6826 - val_mean_absolute_error: 616.6826 - val_mean_squared_error: 709124.9375\n",
      "Epoch 75/250\n",
      " - 1s - loss: 615.4932 - mean_absolute_error: 615.4932 - mean_squared_error: 706687.5625 - val_loss: 615.7340 - val_mean_absolute_error: 615.7341 - val_mean_squared_error: 708859.7500\n",
      "Epoch 76/250\n",
      " - 1s - loss: 615.4990 - mean_absolute_error: 615.4988 - mean_squared_error: 706195.4375 - val_loss: 615.5663 - val_mean_absolute_error: 615.5662 - val_mean_squared_error: 709677.6250\n",
      "Epoch 77/250\n",
      " - 1s - loss: 615.2659 - mean_absolute_error: 615.2662 - mean_squared_error: 705860.7500 - val_loss: 616.0856 - val_mean_absolute_error: 616.0856 - val_mean_squared_error: 708916.1250\n",
      "Epoch 78/250\n",
      " - 1s - loss: 615.2768 - mean_absolute_error: 615.2767 - mean_squared_error: 705971.8125 - val_loss: 615.4349 - val_mean_absolute_error: 615.4348 - val_mean_squared_error: 709785.7500\n",
      "Epoch 79/250\n",
      " - 1s - loss: 615.2300 - mean_absolute_error: 615.2305 - mean_squared_error: 705745.6250 - val_loss: 615.5976 - val_mean_absolute_error: 615.5976 - val_mean_squared_error: 708773.4375\n",
      "Epoch 80/250\n",
      " - 1s - loss: 615.0415 - mean_absolute_error: 615.0419 - mean_squared_error: 705232.3125 - val_loss: 615.5917 - val_mean_absolute_error: 615.5916 - val_mean_squared_error: 711794.9375\n",
      "Epoch 81/250\n",
      " - 1s - loss: 615.0185 - mean_absolute_error: 615.0186 - mean_squared_error: 705814.5625 - val_loss: 615.2381 - val_mean_absolute_error: 615.2380 - val_mean_squared_error: 709055.5000\n",
      "Epoch 82/250\n",
      " - 1s - loss: 614.9540 - mean_absolute_error: 614.9541 - mean_squared_error: 705576.6875 - val_loss: 615.6433 - val_mean_absolute_error: 615.6433 - val_mean_squared_error: 708101.6250\n",
      "Epoch 83/250\n",
      " - 1s - loss: 614.7827 - mean_absolute_error: 614.7830 - mean_squared_error: 705083.1875 - val_loss: 615.1923 - val_mean_absolute_error: 615.1921 - val_mean_squared_error: 708701.3125\n",
      "Epoch 84/250\n",
      " - 1s - loss: 614.7314 - mean_absolute_error: 614.7315 - mean_squared_error: 705256.3125 - val_loss: 615.1479 - val_mean_absolute_error: 615.1476 - val_mean_squared_error: 708238.0625\n"
     ]
    },
    {
     "name": "stdout",
     "output_type": "stream",
     "text": [
      "Epoch 85/250\n",
      " - 1s - loss: 614.6869 - mean_absolute_error: 614.6870 - mean_squared_error: 705416.0000 - val_loss: 615.4520 - val_mean_absolute_error: 615.4518 - val_mean_squared_error: 707679.5625\n",
      "Epoch 86/250\n",
      " - 1s - loss: 614.6377 - mean_absolute_error: 614.6379 - mean_squared_error: 704776.2500 - val_loss: 615.9820 - val_mean_absolute_error: 615.9821 - val_mean_squared_error: 708071.5000\n",
      "Epoch 87/250\n",
      " - 1s - loss: 614.5248 - mean_absolute_error: 614.5245 - mean_squared_error: 704664.8125 - val_loss: 615.0618 - val_mean_absolute_error: 615.0616 - val_mean_squared_error: 708238.9375\n",
      "Epoch 88/250\n",
      " - 1s - loss: 614.4162 - mean_absolute_error: 614.4163 - mean_squared_error: 704636.4375 - val_loss: 615.1275 - val_mean_absolute_error: 615.1275 - val_mean_squared_error: 708186.5000\n",
      "Epoch 89/250\n",
      " - 1s - loss: 614.3886 - mean_absolute_error: 614.3887 - mean_squared_error: 704887.0000 - val_loss: 615.0615 - val_mean_absolute_error: 615.0616 - val_mean_squared_error: 707882.8125\n",
      "Epoch 90/250\n",
      " - 1s - loss: 614.3353 - mean_absolute_error: 614.3354 - mean_squared_error: 704381.1875 - val_loss: 614.8676 - val_mean_absolute_error: 614.8675 - val_mean_squared_error: 708566.5625\n",
      "Epoch 91/250\n",
      " - 1s - loss: 614.2941 - mean_absolute_error: 614.2943 - mean_squared_error: 704461.8125 - val_loss: 614.7805 - val_mean_absolute_error: 614.7805 - val_mean_squared_error: 708064.5000\n",
      "Epoch 92/250\n",
      " - 1s - loss: 614.2017 - mean_absolute_error: 614.2017 - mean_squared_error: 703846.1250 - val_loss: 614.9013 - val_mean_absolute_error: 614.9014 - val_mean_squared_error: 708367.2500\n",
      "Epoch 93/250\n",
      " - 1s - loss: 614.0741 - mean_absolute_error: 614.0742 - mean_squared_error: 703844.7500 - val_loss: 614.9284 - val_mean_absolute_error: 614.9283 - val_mean_squared_error: 708009.6875\n",
      "Epoch 94/250\n",
      " - 1s - loss: 614.0197 - mean_absolute_error: 614.0200 - mean_squared_error: 704431.5625 - val_loss: 615.7262 - val_mean_absolute_error: 615.7263 - val_mean_squared_error: 707892.5625\n",
      "Epoch 95/250\n",
      " - 1s - loss: 613.9153 - mean_absolute_error: 613.9156 - mean_squared_error: 704083.5000 - val_loss: 614.9194 - val_mean_absolute_error: 614.9194 - val_mean_squared_error: 708103.7500\n",
      "Epoch 96/250\n",
      " - 1s - loss: 613.8807 - mean_absolute_error: 613.8807 - mean_squared_error: 703810.3125 - val_loss: 614.8706 - val_mean_absolute_error: 614.8704 - val_mean_squared_error: 707871.9375\n",
      "Epoch 97/250\n",
      " - 1s - loss: 613.8197 - mean_absolute_error: 613.8198 - mean_squared_error: 703706.0000 - val_loss: 614.8033 - val_mean_absolute_error: 614.8035 - val_mean_squared_error: 708575.4375\n",
      "Epoch 98/250\n",
      " - 1s - loss: 613.6486 - mean_absolute_error: 613.6486 - mean_squared_error: 703576.3125 - val_loss: 614.8125 - val_mean_absolute_error: 614.8123 - val_mean_squared_error: 708017.3125\n",
      "Epoch 99/250\n",
      " - 1s - loss: 613.6747 - mean_absolute_error: 613.6746 - mean_squared_error: 703495.6250 - val_loss: 614.6777 - val_mean_absolute_error: 614.6776 - val_mean_squared_error: 708678.3750\n",
      "Epoch 100/250\n",
      " - 1s - loss: 613.6608 - mean_absolute_error: 613.6613 - mean_squared_error: 704142.0000 - val_loss: 614.5867 - val_mean_absolute_error: 614.5869 - val_mean_squared_error: 707264.4375\n",
      "Epoch 101/250\n",
      " - 1s - loss: 613.4075 - mean_absolute_error: 613.4076 - mean_squared_error: 703345.9375 - val_loss: 614.6233 - val_mean_absolute_error: 614.6231 - val_mean_squared_error: 708067.3750\n",
      "Epoch 102/250\n",
      " - 1s - loss: 613.5592 - mean_absolute_error: 613.5593 - mean_squared_error: 703815.3750 - val_loss: 614.6524 - val_mean_absolute_error: 614.6523 - val_mean_squared_error: 707826.5000\n",
      "Epoch 103/250\n",
      " - 1s - loss: 613.3118 - mean_absolute_error: 613.3119 - mean_squared_error: 703589.5625 - val_loss: 615.2045 - val_mean_absolute_error: 615.2045 - val_mean_squared_error: 707322.8125\n",
      "Epoch 104/250\n",
      " - 1s - loss: 613.2857 - mean_absolute_error: 613.2858 - mean_squared_error: 703256.8750 - val_loss: 615.0871 - val_mean_absolute_error: 615.0870 - val_mean_squared_error: 707263.9375\n",
      "Epoch 105/250\n",
      " - 1s - loss: 613.3610 - mean_absolute_error: 613.3612 - mean_squared_error: 703263.8125 - val_loss: 614.6896 - val_mean_absolute_error: 614.6897 - val_mean_squared_error: 707413.6250\n",
      "Epoch 106/250\n",
      " - 1s - loss: 613.1261 - mean_absolute_error: 613.1264 - mean_squared_error: 703083.0000 - val_loss: 614.5196 - val_mean_absolute_error: 614.5195 - val_mean_squared_error: 708557.0625\n",
      "Epoch 107/250\n",
      " - 1s - loss: 613.0635 - mean_absolute_error: 613.0636 - mean_squared_error: 703282.6250 - val_loss: 614.7426 - val_mean_absolute_error: 614.7424 - val_mean_squared_error: 707267.2500\n",
      "Epoch 108/250\n",
      " - 1s - loss: 613.0486 - mean_absolute_error: 613.0486 - mean_squared_error: 702991.0000 - val_loss: 614.5663 - val_mean_absolute_error: 614.5662 - val_mean_squared_error: 707522.6250\n",
      "Epoch 109/250\n",
      " - 1s - loss: 612.9616 - mean_absolute_error: 612.9616 - mean_squared_error: 702432.7500 - val_loss: 614.3809 - val_mean_absolute_error: 614.3808 - val_mean_squared_error: 708695.1250\n",
      "Epoch 110/250\n",
      " - 1s - loss: 612.8973 - mean_absolute_error: 612.8972 - mean_squared_error: 702205.0625 - val_loss: 614.4837 - val_mean_absolute_error: 614.4835 - val_mean_squared_error: 708639.9375\n",
      "Epoch 111/250\n",
      " - 1s - loss: 612.8952 - mean_absolute_error: 612.8950 - mean_squared_error: 703023.5000 - val_loss: 614.7289 - val_mean_absolute_error: 614.7289 - val_mean_squared_error: 706722.5625\n",
      "Epoch 112/250\n",
      " - 1s - loss: 612.8458 - mean_absolute_error: 612.8458 - mean_squared_error: 702615.0000 - val_loss: 614.6410 - val_mean_absolute_error: 614.6407 - val_mean_squared_error: 706410.0625\n",
      "Epoch 113/250\n",
      " - 1s - loss: 612.8028 - mean_absolute_error: 612.8027 - mean_squared_error: 702267.0625 - val_loss: 614.3228 - val_mean_absolute_error: 614.3229 - val_mean_squared_error: 706975.2500\n",
      "Epoch 114/250\n",
      " - 1s - loss: 612.6740 - mean_absolute_error: 612.6738 - mean_squared_error: 702131.8750 - val_loss: 614.3202 - val_mean_absolute_error: 614.3203 - val_mean_squared_error: 706621.6875\n",
      "Epoch 115/250\n",
      " - 1s - loss: 612.5709 - mean_absolute_error: 612.5707 - mean_squared_error: 701897.6875 - val_loss: 614.3321 - val_mean_absolute_error: 614.3321 - val_mean_squared_error: 706900.0625\n",
      "Epoch 116/250\n",
      " - 1s - loss: 612.5113 - mean_absolute_error: 612.5115 - mean_squared_error: 701653.1875 - val_loss: 614.4641 - val_mean_absolute_error: 614.4641 - val_mean_squared_error: 707624.2500\n",
      "Epoch 117/250\n",
      " - 1s - loss: 612.4232 - mean_absolute_error: 612.4228 - mean_squared_error: 702073.6250 - val_loss: 614.2923 - val_mean_absolute_error: 614.2922 - val_mean_squared_error: 706980.7500\n",
      "Epoch 118/250\n",
      " - 1s - loss: 612.4246 - mean_absolute_error: 612.4246 - mean_squared_error: 701796.3750 - val_loss: 614.3520 - val_mean_absolute_error: 614.3522 - val_mean_squared_error: 707066.1250\n",
      "Epoch 119/250\n",
      " - 1s - loss: 612.2655 - mean_absolute_error: 612.2656 - mean_squared_error: 702007.2500 - val_loss: 614.3952 - val_mean_absolute_error: 614.3951 - val_mean_squared_error: 706936.9375\n",
      "Epoch 120/250\n",
      " - 1s - loss: 612.1761 - mean_absolute_error: 612.1760 - mean_squared_error: 701690.0625 - val_loss: 614.3205 - val_mean_absolute_error: 614.3206 - val_mean_squared_error: 708481.8125\n",
      "Epoch 121/250\n",
      " - 1s - loss: 612.3040 - mean_absolute_error: 612.3036 - mean_squared_error: 701891.5625 - val_loss: 614.3862 - val_mean_absolute_error: 614.3862 - val_mean_squared_error: 707009.1250\n",
      "Epoch 122/250\n",
      " - 1s - loss: 612.1744 - mean_absolute_error: 612.1746 - mean_squared_error: 701669.3750 - val_loss: 614.2588 - val_mean_absolute_error: 614.2587 - val_mean_squared_error: 706840.1250\n",
      "Epoch 123/250\n",
      " - 1s - loss: 611.9781 - mean_absolute_error: 611.9781 - mean_squared_error: 701357.9375 - val_loss: 614.2962 - val_mean_absolute_error: 614.2964 - val_mean_squared_error: 707144.8750\n",
      "Epoch 124/250\n",
      " - 1s - loss: 611.8429 - mean_absolute_error: 611.8428 - mean_squared_error: 701112.0625 - val_loss: 615.0499 - val_mean_absolute_error: 615.0500 - val_mean_squared_error: 706654.3750\n",
      "Epoch 125/250\n",
      " - 1s - loss: 612.0253 - mean_absolute_error: 612.0256 - mean_squared_error: 701012.0625 - val_loss: 614.2076 - val_mean_absolute_error: 614.2076 - val_mean_squared_error: 706752.1875\n",
      "Epoch 126/250\n",
      " - 1s - loss: 611.7930 - mean_absolute_error: 611.7927 - mean_squared_error: 700935.0000 - val_loss: 614.2911 - val_mean_absolute_error: 614.2911 - val_mean_squared_error: 706958.3750\n"
     ]
    },
    {
     "name": "stdout",
     "output_type": "stream",
     "text": [
      "Epoch 127/250\n",
      " - 1s - loss: 611.7975 - mean_absolute_error: 611.7975 - mean_squared_error: 701467.0000 - val_loss: 614.2397 - val_mean_absolute_error: 614.2396 - val_mean_squared_error: 707062.8125\n",
      "Epoch 128/250\n",
      " - 1s - loss: 611.7474 - mean_absolute_error: 611.7476 - mean_squared_error: 701014.5625 - val_loss: 614.2435 - val_mean_absolute_error: 614.2433 - val_mean_squared_error: 706788.1875\n",
      "Epoch 129/250\n",
      " - 1s - loss: 611.6722 - mean_absolute_error: 611.6719 - mean_squared_error: 700780.4375 - val_loss: 614.2642 - val_mean_absolute_error: 614.2640 - val_mean_squared_error: 706918.4375\n",
      "Epoch 130/250\n",
      " - 1s - loss: 611.5827 - mean_absolute_error: 611.5828 - mean_squared_error: 700531.8125 - val_loss: 614.2631 - val_mean_absolute_error: 614.2631 - val_mean_squared_error: 707631.5625\n",
      "Epoch 131/250\n",
      " - 1s - loss: 611.5033 - mean_absolute_error: 611.5031 - mean_squared_error: 700543.0625 - val_loss: 613.9696 - val_mean_absolute_error: 613.9695 - val_mean_squared_error: 707632.1250\n",
      "Epoch 132/250\n",
      " - 1s - loss: 611.4423 - mean_absolute_error: 611.4421 - mean_squared_error: 700602.5000 - val_loss: 613.9299 - val_mean_absolute_error: 613.9297 - val_mean_squared_error: 707382.3750\n",
      "Epoch 133/250\n",
      " - 1s - loss: 611.3762 - mean_absolute_error: 611.3759 - mean_squared_error: 700275.5000 - val_loss: 614.6120 - val_mean_absolute_error: 614.6121 - val_mean_squared_error: 710668.3750\n",
      "Epoch 134/250\n",
      " - 1s - loss: 611.4228 - mean_absolute_error: 611.4227 - mean_squared_error: 700838.8750 - val_loss: 614.3069 - val_mean_absolute_error: 614.3072 - val_mean_squared_error: 706181.0000\n",
      "Epoch 135/250\n",
      " - 1s - loss: 611.1541 - mean_absolute_error: 611.1539 - mean_squared_error: 699969.0000 - val_loss: 614.1419 - val_mean_absolute_error: 614.1419 - val_mean_squared_error: 708722.5625\n",
      "Epoch 136/250\n",
      " - 1s - loss: 611.2261 - mean_absolute_error: 611.2260 - mean_squared_error: 700507.7500 - val_loss: 615.2243 - val_mean_absolute_error: 615.2242 - val_mean_squared_error: 706989.5625\n",
      "Epoch 137/250\n",
      " - 1s - loss: 611.1792 - mean_absolute_error: 611.1790 - mean_squared_error: 700048.7500 - val_loss: 614.1451 - val_mean_absolute_error: 614.1451 - val_mean_squared_error: 707973.0000\n",
      "Epoch 138/250\n",
      " - 1s - loss: 610.8054 - mean_absolute_error: 610.8054 - mean_squared_error: 700454.0625 - val_loss: 614.3155 - val_mean_absolute_error: 614.3157 - val_mean_squared_error: 706173.6250\n",
      "Epoch 139/250\n",
      " - 1s - loss: 610.8825 - mean_absolute_error: 610.8824 - mean_squared_error: 699851.8750 - val_loss: 614.2701 - val_mean_absolute_error: 614.2703 - val_mean_squared_error: 706723.9375\n",
      "Epoch 140/250\n",
      " - 1s - loss: 610.8220 - mean_absolute_error: 610.8221 - mean_squared_error: 699692.6250 - val_loss: 613.9777 - val_mean_absolute_error: 613.9777 - val_mean_squared_error: 707141.6875\n",
      "Epoch 141/250\n",
      " - 1s - loss: 610.9409 - mean_absolute_error: 610.9409 - mean_squared_error: 699798.0000 - val_loss: 614.0262 - val_mean_absolute_error: 614.0263 - val_mean_squared_error: 707222.1875\n",
      "Epoch 142/250\n",
      " - 1s - loss: 610.8365 - mean_absolute_error: 610.8364 - mean_squared_error: 699519.3125 - val_loss: 614.0102 - val_mean_absolute_error: 614.0102 - val_mean_squared_error: 706766.9375\n",
      "----Resultados sobre TRAIN----\n",
      "R2:  0.5443745826341788\n",
      "Adjusted R2:  0.544119651641108\n",
      "MAPE: 49.37070231943782\n",
      "----Resultados sobre TEST----\n",
      "R2:  0.5477759534897512\n",
      "Adjusted R2:  0.5467619982285175\n",
      "MAPE: 51.764822849676264\n"
     ]
    },
    {
     "data": {
      "image/png": "[encoded data removed]",
      "text/plain": [
       "<Figure size 432x288 with 1 Axes>"
      ]
     },
     "metadata": {
      "needs_background": "light"
     },
     "output_type": "display_data"
    },
    {
     "name": "stdout",
     "output_type": "stream",
     "text": [
      "Train on 14378 samples, validate on 7082 samples\n",
      "Epoch 1/250\n",
      " - 1s - loss: 611.8082 - mean_absolute_error: 611.8079 - mean_squared_error: 695825.6875 - val_loss: 613.8010 - val_mean_absolute_error: 613.8012 - val_mean_squared_error: 707469.3125\n",
      "Epoch 2/250\n",
      " - 1s - loss: 611.5182 - mean_absolute_error: 611.5180 - mean_squared_error: 696019.6250 - val_loss: 613.5412 - val_mean_absolute_error: 613.5413 - val_mean_squared_error: 706022.3125\n",
      "Epoch 3/250\n",
      " - 1s - loss: 611.1890 - mean_absolute_error: 611.1888 - mean_squared_error: 694949.9375 - val_loss: 613.5096 - val_mean_absolute_error: 613.5095 - val_mean_squared_error: 706132.4375\n",
      "Epoch 4/250\n",
      " - 1s - loss: 611.0220 - mean_absolute_error: 611.0220 - mean_squared_error: 694846.2500 - val_loss: 613.3768 - val_mean_absolute_error: 613.3766 - val_mean_squared_error: 706101.6250\n",
      "Epoch 5/250\n",
      " - 1s - loss: 610.9091 - mean_absolute_error: 610.9093 - mean_squared_error: 694562.0000 - val_loss: 613.3215 - val_mean_absolute_error: 613.3214 - val_mean_squared_error: 706483.8750\n",
      "Epoch 6/250\n",
      " - 1s - loss: 610.6424 - mean_absolute_error: 610.6428 - mean_squared_error: 693987.3750 - val_loss: 613.5018 - val_mean_absolute_error: 613.5018 - val_mean_squared_error: 707640.5625\n",
      "Epoch 7/250\n",
      " - 1s - loss: 610.5284 - mean_absolute_error: 610.5286 - mean_squared_error: 693946.0000 - val_loss: 613.1559 - val_mean_absolute_error: 613.1560 - val_mean_squared_error: 705038.8750\n",
      "Epoch 8/250\n",
      " - 1s - loss: 610.2139 - mean_absolute_error: 610.2140 - mean_squared_error: 693942.5625 - val_loss: 613.3154 - val_mean_absolute_error: 613.3155 - val_mean_squared_error: 704187.2500\n",
      "Epoch 9/250\n",
      " - 1s - loss: 610.2577 - mean_absolute_error: 610.2579 - mean_squared_error: 693155.3125 - val_loss: 612.9989 - val_mean_absolute_error: 612.9988 - val_mean_squared_error: 704924.8750\n",
      "Epoch 10/250\n",
      " - 1s - loss: 610.1357 - mean_absolute_error: 610.1356 - mean_squared_error: 693182.0625 - val_loss: 613.0310 - val_mean_absolute_error: 613.0308 - val_mean_squared_error: 705907.4375\n",
      "Epoch 11/250\n",
      " - 1s - loss: 610.0019 - mean_absolute_error: 610.0020 - mean_squared_error: 693038.3125 - val_loss: 612.9579 - val_mean_absolute_error: 612.9581 - val_mean_squared_error: 705226.3125\n",
      "Epoch 12/250\n",
      " - 1s - loss: 609.8162 - mean_absolute_error: 609.8164 - mean_squared_error: 692864.2500 - val_loss: 612.9170 - val_mean_absolute_error: 612.9169 - val_mean_squared_error: 705151.8125\n",
      "Epoch 13/250\n",
      " - 1s - loss: 609.7863 - mean_absolute_error: 609.7861 - mean_squared_error: 692659.8125 - val_loss: 612.9788 - val_mean_absolute_error: 612.9788 - val_mean_squared_error: 706591.1875\n",
      "Epoch 14/250\n",
      " - 1s - loss: 609.5995 - mean_absolute_error: 609.5994 - mean_squared_error: 692680.3750 - val_loss: 613.3930 - val_mean_absolute_error: 613.3925 - val_mean_squared_error: 704331.1250\n",
      "Epoch 15/250\n",
      " - 1s - loss: 609.5816 - mean_absolute_error: 609.5816 - mean_squared_error: 692489.3125 - val_loss: 612.7518 - val_mean_absolute_error: 612.7516 - val_mean_squared_error: 704277.2500\n",
      "Epoch 16/250\n",
      " - 1s - loss: 609.5023 - mean_absolute_error: 609.5022 - mean_squared_error: 692274.5625 - val_loss: 612.7108 - val_mean_absolute_error: 612.7107 - val_mean_squared_error: 704905.6250\n",
      "Epoch 17/250\n",
      " - 1s - loss: 609.3064 - mean_absolute_error: 609.3066 - mean_squared_error: 692337.8750 - val_loss: 612.9567 - val_mean_absolute_error: 612.9566 - val_mean_squared_error: 703894.5625\n",
      "Epoch 18/250\n",
      " - 1s - loss: 609.1788 - mean_absolute_error: 609.1788 - mean_squared_error: 691674.6250 - val_loss: 613.4088 - val_mean_absolute_error: 613.4090 - val_mean_squared_error: 704248.7500\n",
      "Epoch 19/250\n",
      " - 1s - loss: 609.1272 - mean_absolute_error: 609.1273 - mean_squared_error: 691620.9375 - val_loss: 612.6659 - val_mean_absolute_error: 612.6660 - val_mean_squared_error: 704769.0625\n",
      "Epoch 20/250\n",
      " - 1s - loss: 609.1027 - mean_absolute_error: 609.1025 - mean_squared_error: 691857.6875 - val_loss: 612.5900 - val_mean_absolute_error: 612.5900 - val_mean_squared_error: 705736.5000\n",
      "Epoch 21/250\n",
      " - 1s - loss: 608.9174 - mean_absolute_error: 608.9176 - mean_squared_error: 691432.6875 - val_loss: 612.6669 - val_mean_absolute_error: 612.6667 - val_mean_squared_error: 705511.6875\n",
      "Epoch 22/250\n",
      " - 1s - loss: 608.9367 - mean_absolute_error: 608.9368 - mean_squared_error: 691466.0000 - val_loss: 612.6976 - val_mean_absolute_error: 612.6974 - val_mean_squared_error: 704268.7500\n",
      "Epoch 23/250\n",
      " - 1s - loss: 608.7953 - mean_absolute_error: 608.7952 - mean_squared_error: 691485.2500 - val_loss: 612.8494 - val_mean_absolute_error: 612.8492 - val_mean_squared_error: 703889.3750\n",
      "Epoch 24/250\n",
      " - 1s - loss: 608.7188 - mean_absolute_error: 608.7189 - mean_squared_error: 691028.9375 - val_loss: 612.5370 - val_mean_absolute_error: 612.5372 - val_mean_squared_error: 704038.6875\n",
      "Epoch 25/250\n",
      " - 1s - loss: 608.5646 - mean_absolute_error: 608.5648 - mean_squared_error: 690929.8750 - val_loss: 612.3612 - val_mean_absolute_error: 612.3612 - val_mean_squared_error: 705021.8125\n",
      "Epoch 26/250\n",
      " - 1s - loss: 608.6417 - mean_absolute_error: 608.6414 - mean_squared_error: 691083.5625 - val_loss: 612.3826 - val_mean_absolute_error: 612.3828 - val_mean_squared_error: 703914.2500\n",
      "Epoch 27/250\n",
      " - 1s - loss: 608.4555 - mean_absolute_error: 608.4555 - mean_squared_error: 690914.0625 - val_loss: 612.4891 - val_mean_absolute_error: 612.4893 - val_mean_squared_error: 704466.6875\n",
      "Epoch 28/250\n",
      " - 1s - loss: 608.2346 - mean_absolute_error: 608.2346 - mean_squared_error: 690478.1250 - val_loss: 612.7403 - val_mean_absolute_error: 612.7402 - val_mean_squared_error: 703787.6250\n",
      "Epoch 29/250\n",
      " - 1s - loss: 608.3129 - mean_absolute_error: 608.3127 - mean_squared_error: 690552.8750 - val_loss: 612.4120 - val_mean_absolute_error: 612.4121 - val_mean_squared_error: 704607.3125\n",
      "Epoch 30/250\n",
      " - 1s - loss: 608.2362 - mean_absolute_error: 608.2364 - mean_squared_error: 690271.3750 - val_loss: 612.3639 - val_mean_absolute_error: 612.3638 - val_mean_squared_error: 704796.9375\n",
      "Epoch 31/250\n",
      " - 1s - loss: 607.8010 - mean_absolute_error: 607.8010 - mean_squared_error: 690185.6875 - val_loss: 612.3499 - val_mean_absolute_error: 612.3497 - val_mean_squared_error: 703938.0000\n",
      "Epoch 32/250\n",
      " - 1s - loss: 608.0292 - mean_absolute_error: 608.0293 - mean_squared_error: 690096.9375 - val_loss: 612.2817 - val_mean_absolute_error: 612.2817 - val_mean_squared_error: 704091.8750\n",
      "Epoch 33/250\n",
      " - 1s - loss: 607.7241 - mean_absolute_error: 607.7241 - mean_squared_error: 689804.2500 - val_loss: 612.3802 - val_mean_absolute_error: 612.3803 - val_mean_squared_error: 704469.8750\n",
      "Epoch 34/250\n",
      " - 1s - loss: 607.8599 - mean_absolute_error: 607.8599 - mean_squared_error: 690425.0625 - val_loss: 612.8098 - val_mean_absolute_error: 612.8099 - val_mean_squared_error: 703716.8125\n",
      "Epoch 35/250\n",
      " - 1s - loss: 607.4624 - mean_absolute_error: 607.4625 - mean_squared_error: 689126.6875 - val_loss: 612.2630 - val_mean_absolute_error: 612.2631 - val_mean_squared_error: 704712.5625\n",
      "Epoch 36/250\n",
      " - 1s - loss: 607.7282 - mean_absolute_error: 607.7282 - mean_squared_error: 689867.0000 - val_loss: 612.3083 - val_mean_absolute_error: 612.3083 - val_mean_squared_error: 705354.8750\n",
      "Epoch 37/250\n",
      " - 1s - loss: 607.5778 - mean_absolute_error: 607.5777 - mean_squared_error: 689406.2500 - val_loss: 612.2167 - val_mean_absolute_error: 612.2168 - val_mean_squared_error: 704456.8125\n",
      "Epoch 38/250\n",
      " - 1s - loss: 607.5723 - mean_absolute_error: 607.5721 - mean_squared_error: 689443.5000 - val_loss: 612.8806 - val_mean_absolute_error: 612.8805 - val_mean_squared_error: 704245.3750\n",
      "Epoch 39/250\n",
      " - 1s - loss: 607.3344 - mean_absolute_error: 607.3345 - mean_squared_error: 689671.8750 - val_loss: 612.3379 - val_mean_absolute_error: 612.3380 - val_mean_squared_error: 706097.3125\n",
      "Epoch 40/250\n",
      " - 1s - loss: 607.3826 - mean_absolute_error: 607.3824 - mean_squared_error: 689709.1250 - val_loss: 612.0606 - val_mean_absolute_error: 612.0607 - val_mean_squared_error: 703489.3125\n",
      "Epoch 41/250\n",
      " - 1s - loss: 607.3675 - mean_absolute_error: 607.3675 - mean_squared_error: 689217.3125 - val_loss: 612.0988 - val_mean_absolute_error: 612.0988 - val_mean_squared_error: 704335.0625\n",
      "Epoch 42/250\n",
      " - 1s - loss: 607.1871 - mean_absolute_error: 607.1873 - mean_squared_error: 688517.3125 - val_loss: 612.3808 - val_mean_absolute_error: 612.3809 - val_mean_squared_error: 704604.0625\n"
     ]
    },
    {
     "name": "stdout",
     "output_type": "stream",
     "text": [
      "Epoch 43/250\n",
      " - 1s - loss: 607.1967 - mean_absolute_error: 607.1967 - mean_squared_error: 689385.3125 - val_loss: 612.2773 - val_mean_absolute_error: 612.2772 - val_mean_squared_error: 705509.5625\n",
      "Epoch 44/250\n",
      " - 1s - loss: 607.1247 - mean_absolute_error: 607.1246 - mean_squared_error: 689307.8125 - val_loss: 612.3962 - val_mean_absolute_error: 612.3963 - val_mean_squared_error: 703950.3125\n",
      "Epoch 45/250\n",
      " - 1s - loss: 607.0333 - mean_absolute_error: 607.0333 - mean_squared_error: 688608.6875 - val_loss: 612.2554 - val_mean_absolute_error: 612.2557 - val_mean_squared_error: 705365.2500\n",
      "Epoch 46/250\n",
      " - 1s - loss: 606.9800 - mean_absolute_error: 606.9797 - mean_squared_error: 689194.9375 - val_loss: 612.2011 - val_mean_absolute_error: 612.2012 - val_mean_squared_error: 705602.7500\n",
      "Epoch 47/250\n",
      " - 1s - loss: 606.8197 - mean_absolute_error: 606.8195 - mean_squared_error: 688683.8125 - val_loss: 612.3530 - val_mean_absolute_error: 612.3533 - val_mean_squared_error: 704245.1250\n",
      "Epoch 48/250\n",
      " - 1s - loss: 606.7120 - mean_absolute_error: 606.7118 - mean_squared_error: 688650.5625 - val_loss: 612.0943 - val_mean_absolute_error: 612.0943 - val_mean_squared_error: 705656.0625\n",
      "Epoch 49/250\n",
      " - 1s - loss: 606.7439 - mean_absolute_error: 606.7438 - mean_squared_error: 688472.3750 - val_loss: 612.2040 - val_mean_absolute_error: 612.2040 - val_mean_squared_error: 703951.3750\n",
      "Epoch 50/250\n",
      " - 1s - loss: 606.6056 - mean_absolute_error: 606.6058 - mean_squared_error: 688388.5625 - val_loss: 612.3434 - val_mean_absolute_error: 612.3435 - val_mean_squared_error: 703780.3125\n",
      "----Resultados sobre TRAIN----\n",
      "R2:  0.5454120575238737\n",
      "Adjusted R2:  0.5451577070175225\n",
      "MAPE: 49.874403254860525\n",
      "----Resultados sobre TEST----\n",
      "R2:  0.5589954887033445\n",
      "Adjusted R2:  0.5580066893506614\n",
      "MAPE: 47.81285999819449\n"
     ]
    },
    {
     "data": {
      "image/png": "[encoded data removed]",
      "text/plain": [
       "<Figure size 432x288 with 1 Axes>"
      ]
     },
     "metadata": {
      "needs_background": "light"
     },
     "output_type": "display_data"
    },
    {
     "name": "stdout",
     "output_type": "stream",
     "text": [
      "Train on 14378 samples, validate on 7082 samples\n",
      "Epoch 1/250\n",
      " - 1s - loss: 611.3069 - mean_absolute_error: 611.3069 - mean_squared_error: 694182.3125 - val_loss: 612.6296 - val_mean_absolute_error: 612.6297 - val_mean_squared_error: 707456.6250\n",
      "Epoch 2/250\n",
      " - 1s - loss: 611.1597 - mean_absolute_error: 611.1594 - mean_squared_error: 694685.4375 - val_loss: 612.2647 - val_mean_absolute_error: 612.2645 - val_mean_squared_error: 704576.5000\n",
      "Epoch 3/250\n",
      " - 1s - loss: 610.9265 - mean_absolute_error: 610.9263 - mean_squared_error: 693673.3750 - val_loss: 612.6112 - val_mean_absolute_error: 612.6109 - val_mean_squared_error: 707785.1875\n",
      "Epoch 4/250\n",
      " - 1s - loss: 610.8149 - mean_absolute_error: 610.8152 - mean_squared_error: 694123.5000 - val_loss: 612.5412 - val_mean_absolute_error: 612.5414 - val_mean_squared_error: 705899.4375\n",
      "Epoch 5/250\n",
      " - 1s - loss: 610.6801 - mean_absolute_error: 610.6805 - mean_squared_error: 693683.4375 - val_loss: 612.6853 - val_mean_absolute_error: 612.6855 - val_mean_squared_error: 706347.6250\n",
      "Epoch 6/250\n",
      " - 1s - loss: 610.5881 - mean_absolute_error: 610.5880 - mean_squared_error: 694210.5625 - val_loss: 612.6379 - val_mean_absolute_error: 612.6379 - val_mean_squared_error: 704904.0625\n",
      "Epoch 7/250\n",
      " - 1s - loss: 610.4826 - mean_absolute_error: 610.4826 - mean_squared_error: 692849.2500 - val_loss: 612.8910 - val_mean_absolute_error: 612.8909 - val_mean_squared_error: 708113.9375\n",
      "Epoch 8/250\n",
      " - 1s - loss: 610.3570 - mean_absolute_error: 610.3571 - mean_squared_error: 693762.1875 - val_loss: 612.6309 - val_mean_absolute_error: 612.6307 - val_mean_squared_error: 706616.4375\n",
      "Epoch 9/250\n",
      " - 1s - loss: 610.2726 - mean_absolute_error: 610.2724 - mean_squared_error: 693290.1875 - val_loss: 612.8549 - val_mean_absolute_error: 612.8550 - val_mean_squared_error: 705532.4375\n",
      "Epoch 10/250\n",
      " - 1s - loss: 610.2185 - mean_absolute_error: 610.2184 - mean_squared_error: 693243.3750 - val_loss: 612.5464 - val_mean_absolute_error: 612.5463 - val_mean_squared_error: 706411.8125\n",
      "Epoch 11/250\n",
      " - 1s - loss: 610.1066 - mean_absolute_error: 610.1068 - mean_squared_error: 693006.7500 - val_loss: 612.4884 - val_mean_absolute_error: 612.4884 - val_mean_squared_error: 705407.3750\n",
      "Epoch 12/250\n",
      " - 1s - loss: 609.9852 - mean_absolute_error: 609.9850 - mean_squared_error: 693046.2500 - val_loss: 612.5806 - val_mean_absolute_error: 612.5806 - val_mean_squared_error: 705195.3125\n",
      "----Resultados sobre TRAIN----\n",
      "R2:  0.5472851128268147\n",
      "Adjusted R2:  0.5470318103301448\n",
      "MAPE: 49.09150664406091\n",
      "----Resultados sobre TEST----\n",
      "R2:  0.5497811885472907\n",
      "Adjusted R2:  0.548771729328787\n",
      "MAPE: 48.59979662648865\n"
     ]
    },
    {
     "data": {
      "image/png": "[encoded data removed]",
      "text/plain": [
       "<Figure size 432x288 with 1 Axes>"
      ]
     },
     "metadata": {
      "needs_background": "light"
     },
     "output_type": "display_data"
    },
    {
     "name": "stdout",
     "output_type": "stream",
     "text": [
      "Train on 14378 samples, validate on 7082 samples\n",
      "Epoch 1/250\n",
      " - 1s - loss: 606.3872 - mean_absolute_error: 606.3875 - mean_squared_error: 681720.0625 - val_loss: 615.0252 - val_mean_absolute_error: 615.0252 - val_mean_squared_error: 716509.0625\n",
      "Epoch 2/250\n",
      " - 1s - loss: 606.3449 - mean_absolute_error: 606.3448 - mean_squared_error: 682011.0000 - val_loss: 615.0353 - val_mean_absolute_error: 615.0352 - val_mean_squared_error: 714223.8125\n",
      "Epoch 3/250\n",
      " - 1s - loss: 605.9693 - mean_absolute_error: 605.9691 - mean_squared_error: 681405.8125 - val_loss: 615.1000 - val_mean_absolute_error: 615.0999 - val_mean_squared_error: 716855.8125\n",
      "Epoch 4/250\n",
      " - 1s - loss: 606.0029 - mean_absolute_error: 606.0034 - mean_squared_error: 681624.6875 - val_loss: 614.9090 - val_mean_absolute_error: 614.9089 - val_mean_squared_error: 715907.8125\n",
      "Epoch 5/250\n",
      " - 1s - loss: 605.8103 - mean_absolute_error: 605.8102 - mean_squared_error: 681308.1875 - val_loss: 614.8315 - val_mean_absolute_error: 614.8317 - val_mean_squared_error: 715735.8750\n",
      "Epoch 6/250\n",
      " - 1s - loss: 605.6158 - mean_absolute_error: 605.6158 - mean_squared_error: 680543.0625 - val_loss: 615.3344 - val_mean_absolute_error: 615.3342 - val_mean_squared_error: 714926.6875\n",
      "Epoch 7/250\n",
      " - 1s - loss: 605.6914 - mean_absolute_error: 605.6914 - mean_squared_error: 681032.8125 - val_loss: 614.7795 - val_mean_absolute_error: 614.7794 - val_mean_squared_error: 715467.3125\n",
      "Epoch 8/250\n",
      " - 1s - loss: 605.4203 - mean_absolute_error: 605.4204 - mean_squared_error: 680614.0625 - val_loss: 614.9080 - val_mean_absolute_error: 614.9081 - val_mean_squared_error: 714171.3125\n",
      "Epoch 9/250\n",
      " - 1s - loss: 605.3448 - mean_absolute_error: 605.3448 - mean_squared_error: 680348.5000 - val_loss: 614.8640 - val_mean_absolute_error: 614.8639 - val_mean_squared_error: 716089.1875\n",
      "Epoch 10/250\n",
      " - 1s - loss: 605.2046 - mean_absolute_error: 605.2047 - mean_squared_error: 679939.0000 - val_loss: 614.6788 - val_mean_absolute_error: 614.6787 - val_mean_squared_error: 714186.0625\n",
      "Epoch 11/250\n",
      " - 1s - loss: 605.2005 - mean_absolute_error: 605.2005 - mean_squared_error: 680362.0625 - val_loss: 614.7728 - val_mean_absolute_error: 614.7728 - val_mean_squared_error: 713803.6875\n",
      "Epoch 12/250\n",
      " - 1s - loss: 605.1433 - mean_absolute_error: 605.1434 - mean_squared_error: 680334.1250 - val_loss: 614.8061 - val_mean_absolute_error: 614.8060 - val_mean_squared_error: 714414.8750\n",
      "Epoch 13/250\n",
      " - 1s - loss: 604.9980 - mean_absolute_error: 604.9979 - mean_squared_error: 680113.1875 - val_loss: 614.8363 - val_mean_absolute_error: 614.8362 - val_mean_squared_error: 714367.9375\n",
      "Epoch 14/250\n",
      " - 1s - loss: 604.9108 - mean_absolute_error: 604.9108 - mean_squared_error: 679768.5625 - val_loss: 614.8391 - val_mean_absolute_error: 614.8391 - val_mean_squared_error: 715559.1875\n",
      "Epoch 15/250\n",
      " - 1s - loss: 604.8820 - mean_absolute_error: 604.8819 - mean_squared_error: 679746.0625 - val_loss: 614.9626 - val_mean_absolute_error: 614.9629 - val_mean_squared_error: 714023.1875\n",
      "Epoch 16/250\n",
      " - 1s - loss: 604.6548 - mean_absolute_error: 604.6549 - mean_squared_error: 679360.0625 - val_loss: 614.7681 - val_mean_absolute_error: 614.7679 - val_mean_squared_error: 713978.9375\n",
      "Epoch 17/250\n",
      " - 1s - loss: 604.6465 - mean_absolute_error: 604.6464 - mean_squared_error: 678991.8125 - val_loss: 614.8217 - val_mean_absolute_error: 614.8218 - val_mean_squared_error: 715129.3750\n",
      "Epoch 18/250\n",
      " - 1s - loss: 604.4761 - mean_absolute_error: 604.4759 - mean_squared_error: 678980.3750 - val_loss: 615.1732 - val_mean_absolute_error: 615.1733 - val_mean_squared_error: 717421.2500\n",
      "Epoch 19/250\n",
      " - 1s - loss: 604.5947 - mean_absolute_error: 604.5946 - mean_squared_error: 679347.9375 - val_loss: 615.0724 - val_mean_absolute_error: 615.0724 - val_mean_squared_error: 714301.4375\n",
      "Epoch 20/250\n",
      " - 1s - loss: 604.3124 - mean_absolute_error: 604.3123 - mean_squared_error: 678654.9375 - val_loss: 614.9411 - val_mean_absolute_error: 614.9413 - val_mean_squared_error: 716120.3750\n",
      "----Resultados sobre TRAIN----\n",
      "R2:  0.5485478444181984\n",
      "Adjusted R2:  0.5482952484436108\n",
      "MAPE: 48.456432899239175\n",
      "----Resultados sobre TEST----\n",
      "R2:  0.5403772757054977\n",
      "Adjusted R2:  0.5393467314806222\n",
      "MAPE: 48.06038038886374\n"
     ]
    },
    {
     "data": {
      "image/png": "[encoded data removed]",
      "text/plain": [
       "<Figure size 432x288 with 1 Axes>"
      ]
     },
     "metadata": {
      "needs_background": "light"
     },
     "output_type": "display_data"
    },
    {
     "name": "stdout",
     "output_type": "stream",
     "text": [
      "Train on 14378 samples, validate on 7082 samples\n",
      "Epoch 1/250\n",
      " - 1s - loss: 604.3883 - mean_absolute_error: 604.3882 - mean_squared_error: 679112.5625 - val_loss: 610.0781 - val_mean_absolute_error: 610.0781 - val_mean_squared_error: 700890.3750\n",
      "Epoch 2/250\n",
      " - 1s - loss: 604.2981 - mean_absolute_error: 604.2983 - mean_squared_error: 678806.5000 - val_loss: 610.2213 - val_mean_absolute_error: 610.2212 - val_mean_squared_error: 702004.9375\n",
      "Epoch 3/250\n",
      " - 1s - loss: 604.2511 - mean_absolute_error: 604.2512 - mean_squared_error: 678612.4375 - val_loss: 610.2972 - val_mean_absolute_error: 610.2972 - val_mean_squared_error: 701338.6250\n",
      "Epoch 4/250\n",
      " - 1s - loss: 604.0979 - mean_absolute_error: 604.0979 - mean_squared_error: 678678.9375 - val_loss: 610.4566 - val_mean_absolute_error: 610.4568 - val_mean_squared_error: 700689.6875\n",
      "Epoch 5/250\n",
      " - 1s - loss: 604.0651 - mean_absolute_error: 604.0650 - mean_squared_error: 678322.5000 - val_loss: 610.3845 - val_mean_absolute_error: 610.3846 - val_mean_squared_error: 701893.7500\n",
      "Epoch 6/250\n",
      " - 1s - loss: 603.7944 - mean_absolute_error: 603.7944 - mean_squared_error: 678453.0625 - val_loss: 610.5137 - val_mean_absolute_error: 610.5137 - val_mean_squared_error: 700485.2500\n",
      "Epoch 7/250\n",
      " - 1s - loss: 603.7839 - mean_absolute_error: 603.7836 - mean_squared_error: 678042.3125 - val_loss: 610.9276 - val_mean_absolute_error: 610.9277 - val_mean_squared_error: 703717.5625\n",
      "Epoch 8/250\n",
      " - 1s - loss: 603.8798 - mean_absolute_error: 603.8799 - mean_squared_error: 677933.8750 - val_loss: 610.6811 - val_mean_absolute_error: 610.6810 - val_mean_squared_error: 703231.1250\n",
      "Epoch 9/250\n",
      " - 1s - loss: 603.8584 - mean_absolute_error: 603.8584 - mean_squared_error: 678162.1250 - val_loss: 610.5951 - val_mean_absolute_error: 610.5952 - val_mean_squared_error: 702369.0625\n",
      "Epoch 10/250\n",
      " - 1s - loss: 603.6469 - mean_absolute_error: 603.6469 - mean_squared_error: 677962.6875 - val_loss: 610.6727 - val_mean_absolute_error: 610.6726 - val_mean_squared_error: 702369.9375\n",
      "Epoch 11/250\n",
      " - 1s - loss: 603.4311 - mean_absolute_error: 603.4312 - mean_squared_error: 676884.6250 - val_loss: 610.7561 - val_mean_absolute_error: 610.7560 - val_mean_squared_error: 702423.4375\n",
      "----Resultados sobre TRAIN----\n",
      "R2:  0.5539454191278855\n",
      "Adjusted R2:  0.5536958431978969\n",
      "MAPE: 48.27603196632292\n",
      "----Resultados sobre TEST----\n",
      "R2:  0.5266367961611412\n",
      "Adjusted R2:  0.5255754436861663\n",
      "MAPE: 50.21026591952816\n"
     ]
    },
    {
     "data": {
      "image/png": "[encoded data removed]",
      "text/plain": [
       "<Figure size 432x288 with 1 Axes>"
      ]
     },
     "metadata": {
      "needs_background": "light"
     },
     "output_type": "display_data"
    },
    {
     "name": "stdout",
     "output_type": "stream",
     "text": [
      "----Resultados sobre TRAIN----\n",
      "R2:  0.5485190972111544\n",
      "Adjusted R2:  0.5483170320599734\n",
      "MAPE: 48.66287875696397\n",
      "----Resultados sobre TEST----\n",
      "R2:  0.5361567966272305\n",
      "Adjusted R2:  0.535533421283914\n",
      "MAPE: 49.18123009381437\n"
     ]
    },
    {
     "data": {
      "image/png": "[encoded data removed]",
      "text/plain": [
       "<Figure size 432x288 with 1 Axes>"
      ]
     },
     "metadata": {
      "needs_background": "light"
     },
     "output_type": "display_data"
    }
   ],
   "source": [
    "#Darwin\n",
    "model = get_model(train_dataset)\n",
    "ep.KFold_train_model(model, train_dataset, train_labels, test_dataset, test_labels, 250, 5, lin_lin=True)"
   ]
  },
  {
   "cell_type": "markdown",
   "metadata": {},
   "source": [
    "Guardamos el modelo en un fichero"
   ]
  },
  {
   "cell_type": "code",
   "execution_count": 10,
   "metadata": {},
   "outputs": [],
   "source": [
    "model.save('./modelo_definitivo.h5')"
   ]
  },
  {
   "cell_type": "markdown",
   "metadata": {},
   "source": [
    "## Evaluación"
   ]
  },
  {
   "cell_type": "code",
   "execution_count": 2,
   "metadata": {},
   "outputs": [
    {
     "name": "stdout",
     "output_type": "stream",
     "text": [
      "WARNING:tensorflow:From c:\\users\\amct2\\appdata\\local\\programs\\python\\python36\\lib\\site-packages\\tensorflow\\python\\ops\\resource_variable_ops.py:435: colocate_with (from tensorflow.python.framework.ops) is deprecated and will be removed in a future version.\n",
      "Instructions for updating:\n",
      "Colocations handled automatically by placer.\n",
      "WARNING:tensorflow:From c:\\users\\amct2\\appdata\\local\\programs\\python\\python36\\lib\\site-packages\\tensorflow\\python\\ops\\math_ops.py:3066: to_int32 (from tensorflow.python.ops.math_ops) is deprecated and will be removed in a future version.\n",
      "Instructions for updating:\n",
      "Use tf.cast instead.\n"
     ]
    }
   ],
   "source": [
    "model_definitivo = tf.keras.models.load_model('./modelo_definitivo.h5')"
   ]
  },
  {
   "cell_type": "code",
   "execution_count": 3,
   "metadata": {},
   "outputs": [
    {
     "name": "stderr",
     "output_type": "stream",
     "text": [
      "c:\\users\\amct2\\appdata\\local\\programs\\python\\python36\\lib\\site-packages\\IPython\\core\\interactiveshell.py:3254: DtypeWarning: Columns (140,141,142,143) have mixed types.Specify dtype option on import or set low_memory=False.\n",
      "  if (await self.run_code(code, result,  async_=asy)):\n"
     ]
    },
    {
     "name": "stdout",
     "output_type": "stream",
     "text": [
      "(35767, 13)\n"
     ]
    },
    {
     "name": "stderr",
     "output_type": "stream",
     "text": [
      "C:\\Users\\amct2\\PycharmProjects\\tfg\\data_preprocessing.py:102: UserWarning: Boolean Series key will be reindexed to match DataFrame index.\n",
      "  x = x[(y > q1 - IQR)]\n"
     ]
    }
   ],
   "source": [
    "literatura_corr1 = ['NOCHES', 'PERSONAS_TOTAL', 'INGRESOS', 'EDAD', 'ACTIV_PISCINA',\n",
    "                    'ACTIV_PARQUES_OCIO', 'ALOJ_CATEG_HOTEL4', 'ALOJ_CATEG_HOTEL5',\n",
    "                    'ALOJ_CATEG_PROPIA', 'PAQUETE_TURISTICO_ALGUNO_GRATIS',\n",
    "                    'PAQUETE_TURISTICO_SI', 'NACIONALIDAD_ESP724']\n",
    "\n",
    "X = dp.load_dataset('./datos/GASTO_TURISTICO_2018_ORIGINAL_2.csv', ';', ',', predictors=literatura_corr1, dummies=True, desglose=False)\n",
    "print(X.shape)\n",
    "scaler = StandardScaler()\n",
    "\n",
    "y = X.pop('GASTO')\n",
    "X = pd.DataFrame(scaler.fit_transform(X.values), columns=X.columns, index=X.index)\n",
    "\n",
    "X['GASTO'] = y"
   ]
  },
  {
   "cell_type": "code",
   "execution_count": 4,
   "metadata": {
    "scrolled": true
   },
   "outputs": [
    {
     "data": {
      "text/plain": [
       "<bound method NDFrame.head of          NOCHES  PERSONAS_TOTAL  INGRESOS      EDAD  ACTIV_PISCINA  \\\n",
       "12726 -0.353816        1.286975  0.743213  1.445783      -1.174340   \n",
       "5732   1.447450       -0.405225  1.345426  0.230306      -1.174340   \n",
       "16321 -0.353816       -0.405225  1.345426  1.108150       0.851542   \n",
       "16983  0.932803       -0.405225  0.743213 -0.242379      -1.174340   \n",
       "9160   0.932803        1.286975  0.743213 -0.580012       0.851542   \n",
       "13657 -0.611139        0.440875 -1.549827 -1.255277      -1.174340   \n",
       "24797  0.160832        1.286975  0.743213 -0.512485       0.851542   \n",
       "35753  1.962098       -1.251326 -0.414888  0.162779      -1.174340   \n",
       "35577  3.248716       -0.405225  0.743213  1.513309      -1.174340   \n",
       "12894 -0.353816       -0.405225 -0.414888 -1.322803       0.851542   \n",
       "\n",
       "       ACTIV_PARQUES_OCIO  ALOJ_CATEG_HOTEL4  ALOJ_CATEG_HOTEL5  \\\n",
       "12726           -0.428341           1.348936          -0.250571   \n",
       "5732            -0.428341          -0.741325          -0.250571   \n",
       "16321            2.334591           1.348936          -0.250571   \n",
       "16983           -0.428341          -0.741325          -0.250571   \n",
       "9160             2.334591          -0.741325          -0.250571   \n",
       "13657           -0.428341          -0.741325          -0.250571   \n",
       "24797           -0.428341           1.348936          -0.250571   \n",
       "35753           -0.428341          -0.741325          -0.250571   \n",
       "35577           -0.428341           1.348936          -0.250571   \n",
       "12894           -0.428341          -0.741325          -0.250571   \n",
       "\n",
       "       ALOJ_CATEG_PROPIA  PAQUETE_TURISTICO_ALGUNO_GRATIS  \\\n",
       "12726          -0.288203                        -0.355047   \n",
       "5732           -0.288203                        -0.355047   \n",
       "16321          -0.288203                        -0.355047   \n",
       "16983          -0.288203                        -0.355047   \n",
       "9160           -0.288203                        -0.355047   \n",
       "13657           3.469780                         2.816526   \n",
       "24797          -0.288203                        -0.355047   \n",
       "35753           3.469780                         2.816526   \n",
       "35577          -0.288203                        -0.355047   \n",
       "12894          -0.288203                        -0.355047   \n",
       "\n",
       "       PAQUETE_TURISTICO_SI  NACIONALIDAD_ESP724  \n",
       "12726              0.933615            -0.455777  \n",
       "5732              -1.071105            -0.455777  \n",
       "16321              0.933615            -0.455777  \n",
       "16983             -1.071105            -0.455777  \n",
       "9160              -1.071105            -0.455777  \n",
       "13657             -1.071105             2.194056  \n",
       "24797              0.933615            -0.455777  \n",
       "35753             -1.071105             2.194056  \n",
       "35577              0.933615            -0.455777  \n",
       "12894              0.933615            -0.455777  >"
      ]
     },
     "metadata": {},
     "output_type": "display_data"
    }
   ],
   "source": [
    "sample = X.sample(10)\n",
    "real = sample.pop('GASTO')\n",
    "display(sample.head)"
   ]
  },
  {
   "cell_type": "code",
   "execution_count": 5,
   "metadata": {},
   "outputs": [
    {
     "name": "stdout",
     "output_type": "stream",
     "text": [
      "[3491.5684] 2685.4345\n",
      "[2512.9355] 1999.7599999999998\n",
      "[2239.277] 1303.8763\n",
      "[2146.086] 1800.0\n",
      "[3626.536] 2918.8799999999997\n",
      "[767.8518] 645.12\n",
      "[3961.3281] 3712.3366\n",
      "[594.7874] 950.08\n",
      "[4117.271] 3800.16\n",
      "[1622.0599] 934.7671\n"
     ]
    }
   ],
   "source": [
    "predicted = model_definitivo.predict(sample)\n",
    "\n",
    "for pv, rv, in zip(predicted, real):\n",
    "    print(pv, rv)"
   ]
  },
  {
   "cell_type": "code",
   "execution_count": 6,
   "metadata": {
    "scrolled": true
   },
   "outputs": [
    {
     "name": "stdout",
     "output_type": "stream",
     "text": [
      "_________________________________________________________________\n",
      "Layer (type)                 Output Shape              Param #   \n",
      "=================================================================\n",
      "dense_8 (Dense)              (None, 27)                351       \n",
      "_________________________________________________________________\n",
      "dense_9 (Dense)              (None, 36)                1008      \n",
      "_________________________________________________________________\n",
      "dense_10 (Dense)             (None, 27)                999       \n",
      "_________________________________________________________________\n",
      "dense_11 (Dense)             (None, 53)                1484      \n",
      "_________________________________________________________________\n",
      "dense_12 (Dense)             (None, 45)                2430      \n",
      "_________________________________________________________________\n",
      "dense_13 (Dense)             (None, 56)                2576      \n",
      "_________________________________________________________________\n",
      "dense_14 (Dense)             (None, 20)                1140      \n",
      "_________________________________________________________________\n",
      "dense_15 (Dense)             (None, 1)                 21        \n",
      "=================================================================\n",
      "Total params: 10,009\n",
      "Trainable params: 10,009\n",
      "Non-trainable params: 0\n",
      "_________________________________________________________________\n",
      "None\n"
     ]
    }
   ],
   "source": [
    "print(model_definitivo.summary())"
   ]
  },
  {
   "cell_type": "code",
   "execution_count": null,
   "metadata": {},
   "outputs": [],
   "source": []
  }
 ],
 "metadata": {
  "kernelspec": {
   "display_name": "Python 3",
   "language": "python",
   "name": "python3"
  },
  "language_info": {
   "codemirror_mode": {
    "name": "ipython",
    "version": 3
   },
   "file_extension": ".py",
   "mimetype": "text/x-python",
   "name": "python",
   "nbconvert_exporter": "python",
   "pygments_lexer": "ipython3",
   "version": "3.6.8"
  }
 },
 "nbformat": 4,
 "nbformat_minor": 4
}
