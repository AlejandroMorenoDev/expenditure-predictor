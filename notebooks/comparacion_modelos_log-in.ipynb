{
 "cells": [
  {
   "cell_type": "code",
   "execution_count": 1,
   "metadata": {},
   "outputs": [],
   "source": [
    "import pandas as pd\n",
    "import tensorflow as tf\n",
    "import custom_metrics as cm\n",
    "import sklearn as sk\n",
    "import numpy as np\n",
    "import math\n",
    "import seaborn as sns\n",
    "import data_preprocessing as dp\n",
    "import expenditure_predictor as ep\n",
    "import matplotlib.pyplot as plt\n",
    "import feature_selection as fs\n",
    "from sklearn import preprocessing\n",
    "from sklearn.ensemble import RandomForestRegressor\n",
    "from tensorflow import keras\n",
    "from tensorflow.python.keras import layers\n",
    "from sklearn.metrics import r2_score\n",
    "from sklearn.preprocessing import MinMaxScaler, StandardScaler\n",
    "from sklearn.linear_model import LinearRegression\n",
    "from sklearn.tree import DecisionTreeRegressor\n",
    "from sklearn import preprocessing\n",
    "from sklearn import svm"
   ]
  },
  {
   "cell_type": "markdown",
   "metadata": {},
   "source": [
    "# Comparación entre modelos - Especificación log-lin\n",
    "\n",
    "En este notebook aprovecharemos para llevar a cabo la comparación entre todos los conjuntos de variables obtenidos en el notebook seleccion_de_caracteristicas usando una especificación log-lin"
   ]
  },
  {
   "cell_type": "markdown",
   "metadata": {},
   "source": [
    "# Subconjunto Literatura con selección por correlación 0.1\n"
   ]
  },
  {
   "cell_type": "markdown",
   "metadata": {},
   "source": [
    "### Subconjunto Literatura correlacion 0.1 - Regresión Lineal con constante"
   ]
  },
  {
   "cell_type": "code",
   "execution_count": 21,
   "metadata": {},
   "outputs": [],
   "source": [
    "literatura_corr1 = ['NOCHES', 'PERSONAS_TOTAL', 'INGRESOS', 'EDAD', 'ACTIV_PISCINA',\n",
    "                    'ACTIV_PARQUES_OCIO', 'ALOJ_CATEG_HOTEL4', 'ALOJ_CATEG_HOTEL5',\n",
    "                    'ALOJ_CATEG_PROPIA', 'PAQUETE_TURISTICO_ALGUNO_GRATIS',\n",
    "                    'PAQUETE_TURISTICO_SI', 'NACIONALIDAD_ESP724']"
   ]
  },
  {
   "cell_type": "markdown",
   "metadata": {},
   "source": [
    "#### Antes de evaluar los modelos con estas variables, vamos a echar un vistazo a su FIV para asegurarnos de que no haya multicolinealidad"
   ]
  },
  {
   "cell_type": "code",
   "execution_count": 17,
   "metadata": {
    "scrolled": true
   },
   "outputs": [
    {
     "name": "stderr",
     "output_type": "stream",
     "text": [
      "c:\\users\\amct2\\appdata\\local\\programs\\python\\python36\\lib\\site-packages\\IPython\\core\\interactiveshell.py:3254: DtypeWarning: Columns (140,141,142,143) have mixed types.Specify dtype option on import or set low_memory=False.\n",
      "  if (await self.run_code(code, result,  async_=asy)):\n",
      "C:\\Users\\amct2\\PycharmProjects\\tfg\\data_preprocessing.py:84: UserWarning: Boolean Series key will be reindexed to match DataFrame index.\n",
      "  x = x[(y > q1 - IQR)]\n"
     ]
    },
    {
     "name": "stdout",
     "output_type": "stream",
     "text": [
      "(35767, 14)\n",
      "         VIF                        variables\n",
      "0   1.111014                           NOCHES\n",
      "1   1.089733                   PERSONAS_TOTAL\n",
      "2   1.077765                         INGRESOS\n",
      "3   1.139802                             EDAD\n",
      "4   1.145408                    ACTIV_PISCINA\n",
      "5   1.056770             ACTIV_EXCURS_ORGANIZ\n",
      "6   1.087288               ACTIV_PARQUES_OCIO\n",
      "7   1.222241                ALOJ_CATEG_HOTEL4\n",
      "8   1.083624                ALOJ_CATEG_HOTEL5\n",
      "9   2.198837                ALOJ_CATEG_PROPIA\n",
      "10  2.235518  PAQUETE_TURISTICO_ALGUNO_GRATIS\n",
      "11  1.353002             PAQUETE_TURISTICO_SI\n",
      "12  1.163010              NACIONALIDAD_ESP724\n"
     ]
    }
   ],
   "source": [
    "X = dp.load_dataset('./datos/GASTO_TURISTICO_2018_ORIGINAL_2.csv', ';', ',', predictors=literatura_corr_log, dummies=True, desglose=False)\n",
    "print(X.shape)\n",
    "scaler = StandardScaler()\n",
    "\n",
    "y = X.pop('GASTO')\n",
    "X = pd.DataFrame(scaler.fit_transform(X.values), columns=X.columns, index=X.index)\n",
    "fs.check_vif(X)"
   ]
  },
  {
   "cell_type": "markdown",
   "metadata": {},
   "source": [
    "En principio parece que no hemos detectado ningún FIV alarmante (en torno a 5), por lo que procederemos a predecir con nuestro subconjunto."
   ]
  },
  {
   "cell_type": "code",
   "execution_count": 18,
   "metadata": {},
   "outputs": [],
   "source": [
    "X['GASTO'] = np.log(y)\n",
    "\n",
    "train_dataset, test_dataset = dp.split_dataset(X)\n",
    "train_labels = train_dataset.pop('GASTO')\n",
    "test_labels = test_dataset.pop('GASTO')"
   ]
  },
  {
   "cell_type": "markdown",
   "metadata": {},
   "source": [
    "### Subconjunto Literatura por correlación 0.1 - Regresión Lineal con constante"
   ]
  },
  {
   "cell_type": "code",
   "execution_count": 5,
   "metadata": {
    "scrolled": true
   },
   "outputs": [
    {
     "name": "stdout",
     "output_type": "stream",
     "text": [
      "----Resultados sobre TRAIN----\n",
      "R2:  0.3878919817956722\n",
      "Adjusted R2:  0.3876180262452301\n",
      "MAPE: 52.17048791368853\n",
      "----Resultados sobre TEST----\n",
      "R2:  0.3363889991987902\n",
      "Adjusted R2:  0.33549714882253134\n",
      "MAPE: 52.37181776727042\n"
     ]
    },
    {
     "data": {
      "image/png": "[encoded data removed]",
      "text/plain": [
       "<Figure size 432x288 with 1 Axes>"
      ]
     },
     "metadata": {
      "needs_background": "light"
     },
     "output_type": "display_data"
    },
    {
     "data": {
      "text/plain": [
       "0.3363889991987902"
      ]
     },
     "execution_count": 5,
     "metadata": {},
     "output_type": "execute_result"
    }
   ],
   "source": [
    "lr = LinearRegression(fit_intercept=True)\n",
    "lr.fit(train_dataset, train_labels)\n",
    "cm.evaluate_log_lin(test_dataset, test_labels, train_dataset, train_labels, lr)"
   ]
  },
  {
   "cell_type": "markdown",
   "metadata": {},
   "source": [
    "### Subconjunto Literatura por correlación 0.1 - Random Forest"
   ]
  },
  {
   "cell_type": "code",
   "execution_count": 6,
   "metadata": {
    "scrolled": true
   },
   "outputs": [
    {
     "name": "stderr",
     "output_type": "stream",
     "text": [
      "[Parallel(n_jobs=4)]: Using backend ThreadingBackend with 4 concurrent workers.\n",
      "[Parallel(n_jobs=4)]: Done  42 tasks      | elapsed:  1.8min\n",
      "[Parallel(n_jobs=4)]: Done 100 out of 100 | elapsed:  4.1min finished\n",
      "[Parallel(n_jobs=4)]: Using backend ThreadingBackend with 4 concurrent workers.\n",
      "[Parallel(n_jobs=4)]: Done  42 tasks      | elapsed:    0.0s\n",
      "[Parallel(n_jobs=4)]: Done 100 out of 100 | elapsed:    0.1s finished\n",
      "[Parallel(n_jobs=4)]: Using backend ThreadingBackend with 4 concurrent workers.\n",
      "[Parallel(n_jobs=4)]: Done  42 tasks      | elapsed:    0.0s\n",
      "[Parallel(n_jobs=4)]: Done 100 out of 100 | elapsed:    0.0s finished\n"
     ]
    },
    {
     "name": "stdout",
     "output_type": "stream",
     "text": [
      "----Resultados sobre TRAIN----\n",
      "R2:  0.8337525380711583\n",
      "Adjusted R2:  0.8336781322251511\n",
      "MAPE: 20.083884649036055\n",
      "----Resultados sobre TEST----\n",
      "R2:  0.4331518951924661\n",
      "Adjusted R2:  0.43239008790635447\n",
      "MAPE: 48.79159846377091\n"
     ]
    },
    {
     "data": {
      "image/png": "[encoded data removed]",
      "text/plain": [
       "<Figure size 432x288 with 1 Axes>"
      ]
     },
     "metadata": {
      "needs_background": "light"
     },
     "output_type": "display_data"
    },
    {
     "data": {
      "text/plain": [
       "0.4331518951924661"
      ]
     },
     "execution_count": 6,
     "metadata": {},
     "output_type": "execute_result"
    }
   ],
   "source": [
    "regressor = RandomForestRegressor(100, criterion=\"mae\", verbose=1, n_jobs=4)\n",
    "regressor.fit(train_dataset, train_labels)\n",
    "cm.evaluate_log_lin(test_dataset, test_labels, train_dataset, train_labels, regressor)"
   ]
  },
  {
   "cell_type": "markdown",
   "metadata": {},
   "source": [
    "### Subconjunto Literatura con correlación 0.1 - Red Neuronal "
   ]
  },
  {
   "cell_type": "code",
   "execution_count": 7,
   "metadata": {
    "scrolled": true
   },
   "outputs": [
    {
     "name": "stdout",
     "output_type": "stream",
     "text": [
      "WARNING:tensorflow:From c:\\users\\amct2\\appdata\\local\\programs\\python\\python36\\lib\\site-packages\\tensorflow\\python\\ops\\resource_variable_ops.py:435: colocate_with (from tensorflow.python.framework.ops) is deprecated and will be removed in a future version.\n",
      "Instructions for updating:\n",
      "Colocations handled automatically by placer.\n",
      "_________________________________________________________________\n",
      "Layer (type)                 Output Shape              Param #   \n",
      "=================================================================\n",
      "dense (Dense)                (None, 64)                832       \n",
      "_________________________________________________________________\n",
      "dense_1 (Dense)              (None, 64)                4160      \n",
      "_________________________________________________________________\n",
      "dense_2 (Dense)              (None, 64)                4160      \n",
      "_________________________________________________________________\n",
      "dense_3 (Dense)              (None, 1)                 65        \n",
      "=================================================================\n",
      "Total params: 9,217\n",
      "Trainable params: 9,217\n",
      "Non-trainable params: 0\n",
      "_________________________________________________________________\n",
      "None\n",
      "Train on 17972 samples, validate on 8853 samples\n",
      "WARNING:tensorflow:From c:\\users\\amct2\\appdata\\local\\programs\\python\\python36\\lib\\site-packages\\tensorflow\\python\\ops\\math_ops.py:3066: to_int32 (from tensorflow.python.ops.math_ops) is deprecated and will be removed in a future version.\n",
      "Instructions for updating:\n",
      "Use tf.cast instead.\n",
      "Epoch 1/250\n",
      " - 1s - loss: 0.6435 - mean_absolute_error: 0.6435 - mean_squared_error: 1.2111 - val_loss: 0.4409 - val_mean_absolute_error: 0.4409 - val_mean_squared_error: 0.3252\n",
      "Epoch 2/250\n",
      " - 1s - loss: 0.3859 - mean_absolute_error: 0.3859 - mean_squared_error: 0.2982 - val_loss: 0.3664 - val_mean_absolute_error: 0.3664 - val_mean_squared_error: 0.2801\n",
      "Epoch 3/250\n",
      " - 1s - loss: 0.3685 - mean_absolute_error: 0.3685 - mean_squared_error: 0.2790 - val_loss: 0.3640 - val_mean_absolute_error: 0.3640 - val_mean_squared_error: 0.2827\n",
      "Epoch 4/250\n",
      " - 1s - loss: 0.3619 - mean_absolute_error: 0.3619 - mean_squared_error: 0.2706 - val_loss: 0.3544 - val_mean_absolute_error: 0.3544 - val_mean_squared_error: 0.2664\n",
      "Epoch 5/250\n",
      " - 1s - loss: 0.3564 - mean_absolute_error: 0.3564 - mean_squared_error: 0.2651 - val_loss: 0.3556 - val_mean_absolute_error: 0.3556 - val_mean_squared_error: 0.2695\n",
      "Epoch 6/250\n",
      " - 1s - loss: 0.3517 - mean_absolute_error: 0.3517 - mean_squared_error: 0.2611 - val_loss: 0.3816 - val_mean_absolute_error: 0.3816 - val_mean_squared_error: 0.2706\n",
      "Epoch 7/250\n",
      " - 1s - loss: 0.3497 - mean_absolute_error: 0.3497 - mean_squared_error: 0.2577 - val_loss: 0.3463 - val_mean_absolute_error: 0.3463 - val_mean_squared_error: 0.2549\n",
      "Epoch 8/250\n",
      " - 1s - loss: 0.3503 - mean_absolute_error: 0.3503 - mean_squared_error: 0.2577 - val_loss: 0.3484 - val_mean_absolute_error: 0.3484 - val_mean_squared_error: 0.2620\n",
      "Epoch 9/250\n",
      " - 1s - loss: 0.3491 - mean_absolute_error: 0.3491 - mean_squared_error: 0.2576 - val_loss: 0.3489 - val_mean_absolute_error: 0.3489 - val_mean_squared_error: 0.2689\n",
      "Epoch 10/250\n",
      " - 1s - loss: 0.3473 - mean_absolute_error: 0.3473 - mean_squared_error: 0.2567 - val_loss: 0.3655 - val_mean_absolute_error: 0.3655 - val_mean_squared_error: 0.2882\n",
      "Epoch 11/250\n",
      " - 1s - loss: 0.3450 - mean_absolute_error: 0.3450 - mean_squared_error: 0.2534 - val_loss: 0.3479 - val_mean_absolute_error: 0.3479 - val_mean_squared_error: 0.2588\n",
      "Epoch 12/250\n",
      " - 1s - loss: 0.3442 - mean_absolute_error: 0.3442 - mean_squared_error: 0.2518 - val_loss: 0.3390 - val_mean_absolute_error: 0.3390 - val_mean_squared_error: 0.2487\n",
      "Epoch 13/250\n",
      " - 1s - loss: 0.3442 - mean_absolute_error: 0.3442 - mean_squared_error: 0.2521 - val_loss: 0.3395 - val_mean_absolute_error: 0.3395 - val_mean_squared_error: 0.2422\n",
      "Epoch 14/250\n",
      " - 1s - loss: 0.3417 - mean_absolute_error: 0.3417 - mean_squared_error: 0.2496 - val_loss: 0.3459 - val_mean_absolute_error: 0.3459 - val_mean_squared_error: 0.2445\n",
      "Epoch 15/250\n",
      " - 1s - loss: 0.3416 - mean_absolute_error: 0.3416 - mean_squared_error: 0.2485 - val_loss: 0.3580 - val_mean_absolute_error: 0.3580 - val_mean_squared_error: 0.2791\n",
      "Epoch 16/250\n",
      " - 1s - loss: 0.3411 - mean_absolute_error: 0.3411 - mean_squared_error: 0.2498 - val_loss: 0.3405 - val_mean_absolute_error: 0.3405 - val_mean_squared_error: 0.2435\n",
      "Epoch 17/250\n",
      " - 1s - loss: 0.3398 - mean_absolute_error: 0.3398 - mean_squared_error: 0.2481 - val_loss: 0.3424 - val_mean_absolute_error: 0.3424 - val_mean_squared_error: 0.2589\n",
      "Epoch 18/250\n",
      " - 1s - loss: 0.3404 - mean_absolute_error: 0.3404 - mean_squared_error: 0.2483 - val_loss: 0.3446 - val_mean_absolute_error: 0.3446 - val_mean_squared_error: 0.2414\n",
      "Epoch 19/250\n",
      " - 1s - loss: 0.3393 - mean_absolute_error: 0.3393 - mean_squared_error: 0.2462 - val_loss: 0.3458 - val_mean_absolute_error: 0.3458 - val_mean_squared_error: 0.2515\n",
      "Epoch 20/250\n",
      " - 1s - loss: 0.3393 - mean_absolute_error: 0.3393 - mean_squared_error: 0.2467 - val_loss: 0.3405 - val_mean_absolute_error: 0.3405 - val_mean_squared_error: 0.2564\n",
      "Epoch 21/250\n",
      " - 1s - loss: 0.3381 - mean_absolute_error: 0.3381 - mean_squared_error: 0.2454 - val_loss: 0.3546 - val_mean_absolute_error: 0.3546 - val_mean_squared_error: 0.2742\n",
      "Epoch 22/250\n",
      " - 1s - loss: 0.3380 - mean_absolute_error: 0.3380 - mean_squared_error: 0.2458 - val_loss: 0.3427 - val_mean_absolute_error: 0.3427 - val_mean_squared_error: 0.2571\n",
      "----Resultados sobre TRAIN----\n",
      "R2:  0.5327843883391045\n",
      "Adjusted R2:  0.5325752809491324\n",
      "MAPE: 51.921914200734584\n",
      "----Resultados sobre TEST----\n",
      "R2:  0.5031666017104585\n",
      "Adjusted R2:  0.5024988896733351\n",
      "MAPE: 53.26916673362659\n"
     ]
    },
    {
     "data": {
      "image/png": "[encoded data removed]",
      "text/plain": [
       "<Figure size 432x288 with 1 Axes>"
      ]
     },
     "metadata": {
      "needs_background": "light"
     },
     "output_type": "display_data"
    },
    {
     "data": {
      "text/plain": [
       "0.5031666017104585"
      ]
     },
     "execution_count": 7,
     "metadata": {},
     "output_type": "execute_result"
    }
   ],
   "source": [
    "model = ep.build_model(train_dataset)\n",
    "print(model.summary())\n",
    "ep.train_model(model, train_dataset, train_labels, 250)\n",
    "cm.evaluate_log_lin(test_dataset, test_labels, train_dataset, train_labels, model)"
   ]
  },
  {
   "cell_type": "markdown",
   "metadata": {},
   "source": [
    "### Subconjunto Literatura - Regresión de Soporte Vectorial"
   ]
  },
  {
   "cell_type": "code",
   "execution_count": 8,
   "metadata": {
    "scrolled": true
   },
   "outputs": [
    {
     "name": "stdout",
     "output_type": "stream",
     "text": [
      "----Resultados sobre TRAIN----\n",
      "R2:  0.3927923863670211\n",
      "Adjusted R2:  0.39252062404553834\n",
      "MAPE: 56.95779848398582\n",
      "----Resultados sobre TEST----\n",
      "R2:  0.33661562690560476\n",
      "Adjusted R2:  0.3357240811023644\n",
      "MAPE: 57.18917427371195\n"
     ]
    },
    {
     "data": {
      "image/png": "[encoded data removed]",
      "text/plain": [
       "<Figure size 432x288 with 1 Axes>"
      ]
     },
     "metadata": {
      "needs_background": "light"
     },
     "output_type": "display_data"
    },
    {
     "data": {
      "text/plain": [
       "0.33661562690560476"
      ]
     },
     "execution_count": 8,
     "metadata": {},
     "output_type": "execute_result"
    }
   ],
   "source": [
    "svr = svm.SVR(kernel='linear')\n",
    "svr.fit(train_dataset, train_labels)\n",
    "cm.evaluate_log_lin(test_dataset, test_labels, train_dataset, train_labels, svr)"
   ]
  },
  {
   "cell_type": "markdown",
   "metadata": {},
   "source": [
    "# Subconjunto Literatura con RFE DecisionTreee\n"
   ]
  },
  {
   "cell_type": "markdown",
   "metadata": {},
   "source": [
    "### Subconjunto Literatura - Regresión Lineal con constante"
   ]
  },
  {
   "cell_type": "code",
   "execution_count": 9,
   "metadata": {},
   "outputs": [],
   "source": [
    "literatura_rfe = ['NOCHES', 'PERSONAS_TOTAL', 'INGRESOS', 'EDAD', 'ACTIV_PISCINA',\n",
    "                  'ACTIV_PASEAR', 'ACTIV_ISLA', 'SEXO', 'ACTIV_GASTRONOMIA_CANARIA',\n",
    "                  'ISLA_ES705', 'ISLA_ES709', 'PAQUETE_TURISTICO_PAGADO_POR_SEPARADO']"
   ]
  },
  {
   "cell_type": "markdown",
   "metadata": {},
   "source": [
    "#### Antes de evaluar los modelos con estas variables, vamos a echar un vistazo a su FIV para asegurarnos de que no haya multicolinealidad"
   ]
  },
  {
   "cell_type": "code",
   "execution_count": 10,
   "metadata": {},
   "outputs": [
    {
     "name": "stderr",
     "output_type": "stream",
     "text": [
      "c:\\users\\amct2\\appdata\\local\\programs\\python\\python36\\lib\\site-packages\\IPython\\core\\interactiveshell.py:3254: DtypeWarning: Columns (140,141,142,143) have mixed types.Specify dtype option on import or set low_memory=False.\n",
      "  if (await self.run_code(code, result,  async_=asy)):\n",
      "C:\\Users\\amct2\\PycharmProjects\\tfg\\data_preprocessing.py:84: UserWarning: Boolean Series key will be reindexed to match DataFrame index.\n",
      "  x = x[(y > q1 - IQR)]\n"
     ]
    },
    {
     "name": "stdout",
     "output_type": "stream",
     "text": [
      "(35767, 13)\n",
      "         VIF                              variables\n",
      "0   1.048762                                 NOCHES\n",
      "1   1.064137                         PERSONAS_TOTAL\n",
      "2   1.047677                               INGRESOS\n",
      "3   1.122442                                   EDAD\n",
      "4   1.090171                          ACTIV_PISCINA\n",
      "5   1.113979                           ACTIV_PASEAR\n",
      "6   1.148693                             ACTIV_ISLA\n",
      "7   1.024825                                   SEXO\n",
      "8   1.093536              ACTIV_GASTRONOMIA_CANARIA\n",
      "9   1.282467                             ISLA_ES705\n",
      "10  1.292805                             ISLA_ES709\n",
      "11  1.034764  PAQUETE_TURISTICO_PAGADO_POR_SEPARADO\n"
     ]
    }
   ],
   "source": [
    "X = dp.load_dataset('./datos/GASTO_TURISTICO_2018_ORIGINAL_2.csv', ';', ',', predictors=literatura_rfe, dummies=True, desglose=False)\n",
    "print(X.shape)\n",
    "scaler = StandardScaler()\n",
    "\n",
    "y = X.pop('GASTO')\n",
    "X = pd.DataFrame(scaler.fit_transform(X.values), columns=X.columns, index=X.index)\n",
    "fs.check_vif(X)"
   ]
  },
  {
   "cell_type": "markdown",
   "metadata": {},
   "source": [
    "En principio parece que no hemos detectado ningún FIV alarmante (en torno a 5), por lo que procederemos a predecir con nuestro subconjunto."
   ]
  },
  {
   "cell_type": "code",
   "execution_count": 11,
   "metadata": {},
   "outputs": [],
   "source": [
    "X['GASTO'] = np.log(y)\n",
    "\n",
    "train_dataset, test_dataset = dp.split_dataset(X)\n",
    "train_labels = train_dataset.pop('GASTO')\n",
    "test_labels = test_dataset.pop('GASTO')"
   ]
  },
  {
   "cell_type": "markdown",
   "metadata": {},
   "source": [
    "### Subconjunto Literatura RFE - Red Neuronal "
   ]
  },
  {
   "cell_type": "code",
   "execution_count": 12,
   "metadata": {
    "scrolled": true
   },
   "outputs": [
    {
     "name": "stdout",
     "output_type": "stream",
     "text": [
      "Train on 17972 samples, validate on 8853 samples\n",
      "Epoch 1/250\n",
      " - 1s - loss: 0.6714 - mean_absolute_error: 0.6714 - mean_squared_error: 1.1308 - val_loss: 0.4792 - val_mean_absolute_error: 0.4792 - val_mean_squared_error: 0.4285\n",
      "Epoch 2/250\n",
      " - 1s - loss: 0.4425 - mean_absolute_error: 0.4425 - mean_squared_error: 0.3699 - val_loss: 0.4247 - val_mean_absolute_error: 0.4247 - val_mean_squared_error: 0.3560\n",
      "Epoch 3/250\n",
      " - 1s - loss: 0.4225 - mean_absolute_error: 0.4225 - mean_squared_error: 0.3481 - val_loss: 0.4268 - val_mean_absolute_error: 0.4268 - val_mean_squared_error: 0.3778\n",
      "Epoch 4/250\n",
      " - 1s - loss: 0.4123 - mean_absolute_error: 0.4123 - mean_squared_error: 0.3342 - val_loss: 0.4085 - val_mean_absolute_error: 0.4085 - val_mean_squared_error: 0.3361\n",
      "Epoch 5/250\n",
      " - 1s - loss: 0.4062 - mean_absolute_error: 0.4062 - mean_squared_error: 0.3257 - val_loss: 0.4099 - val_mean_absolute_error: 0.4099 - val_mean_squared_error: 0.3510\n",
      "Epoch 6/250\n",
      " - 1s - loss: 0.4025 - mean_absolute_error: 0.4025 - mean_squared_error: 0.3227 - val_loss: 0.4057 - val_mean_absolute_error: 0.4057 - val_mean_squared_error: 0.3443\n",
      "Epoch 7/250\n",
      " - 1s - loss: 0.3995 - mean_absolute_error: 0.3995 - mean_squared_error: 0.3198 - val_loss: 0.4025 - val_mean_absolute_error: 0.4025 - val_mean_squared_error: 0.3227\n",
      "Epoch 8/250\n",
      " - 1s - loss: 0.3972 - mean_absolute_error: 0.3972 - mean_squared_error: 0.3175 - val_loss: 0.4224 - val_mean_absolute_error: 0.4224 - val_mean_squared_error: 0.3780\n",
      "Epoch 9/250\n",
      " - 1s - loss: 0.3954 - mean_absolute_error: 0.3954 - mean_squared_error: 0.3148 - val_loss: 0.4197 - val_mean_absolute_error: 0.4197 - val_mean_squared_error: 0.3700\n",
      "Epoch 10/250\n",
      " - 1s - loss: 0.3948 - mean_absolute_error: 0.3948 - mean_squared_error: 0.3143 - val_loss: 0.3976 - val_mean_absolute_error: 0.3976 - val_mean_squared_error: 0.3174\n",
      "Epoch 11/250\n",
      " - 1s - loss: 0.3931 - mean_absolute_error: 0.3931 - mean_squared_error: 0.3145 - val_loss: 0.3986 - val_mean_absolute_error: 0.3986 - val_mean_squared_error: 0.3233\n",
      "Epoch 12/250\n",
      " - 1s - loss: 0.3913 - mean_absolute_error: 0.3913 - mean_squared_error: 0.3093 - val_loss: 0.4020 - val_mean_absolute_error: 0.4020 - val_mean_squared_error: 0.3193\n",
      "Epoch 13/250\n",
      " - 1s - loss: 0.3907 - mean_absolute_error: 0.3907 - mean_squared_error: 0.3109 - val_loss: 0.4081 - val_mean_absolute_error: 0.4081 - val_mean_squared_error: 0.3466\n",
      "Epoch 14/250\n",
      " - 1s - loss: 0.3897 - mean_absolute_error: 0.3897 - mean_squared_error: 0.3093 - val_loss: 0.3979 - val_mean_absolute_error: 0.3979 - val_mean_squared_error: 0.3180\n",
      "Epoch 15/250\n",
      " - 1s - loss: 0.3888 - mean_absolute_error: 0.3888 - mean_squared_error: 0.3076 - val_loss: 0.3985 - val_mean_absolute_error: 0.3985 - val_mean_squared_error: 0.3249\n",
      "Epoch 16/250\n",
      " - 1s - loss: 0.3888 - mean_absolute_error: 0.3888 - mean_squared_error: 0.3064 - val_loss: 0.3993 - val_mean_absolute_error: 0.3993 - val_mean_squared_error: 0.3290\n",
      "Epoch 17/250\n",
      " - 1s - loss: 0.3864 - mean_absolute_error: 0.3864 - mean_squared_error: 0.3053 - val_loss: 0.4039 - val_mean_absolute_error: 0.4039 - val_mean_squared_error: 0.3236\n",
      "Epoch 18/250\n",
      " - 1s - loss: 0.3869 - mean_absolute_error: 0.3869 - mean_squared_error: 0.3060 - val_loss: 0.4019 - val_mean_absolute_error: 0.4019 - val_mean_squared_error: 0.3196\n",
      "Epoch 19/250\n",
      " - 1s - loss: 0.3850 - mean_absolute_error: 0.3850 - mean_squared_error: 0.3039 - val_loss: 0.4144 - val_mean_absolute_error: 0.4144 - val_mean_squared_error: 0.3615\n",
      "Epoch 20/250\n",
      " - 1s - loss: 0.3855 - mean_absolute_error: 0.3855 - mean_squared_error: 0.3041 - val_loss: 0.4003 - val_mean_absolute_error: 0.4003 - val_mean_squared_error: 0.3387\n",
      "----Resultados sobre TRAIN----\n",
      "R2:  0.38063175076363187\n",
      "Adjusted R2:  0.38035454581842687\n",
      "MAPE: 62.3659253175456\n",
      "----Resultados sobre TEST----\n",
      "R2:  0.35167475765571254\n",
      "Adjusted R2:  0.3508034503527523\n",
      "MAPE: 63.44024432854493\n"
     ]
    },
    {
     "data": {
      "image/png": "[encoded data removed]",
      "text/plain": [
       "<Figure size 432x288 with 1 Axes>"
      ]
     },
     "metadata": {
      "needs_background": "light"
     },
     "output_type": "display_data"
    },
    {
     "data": {
      "text/plain": [
       "0.35167475765571254"
      ]
     },
     "execution_count": 12,
     "metadata": {},
     "output_type": "execute_result"
    }
   ],
   "source": [
    "model = ep.build_model(train_dataset)\n",
    "ep.train_model(model, train_dataset, train_labels, 250)\n",
    "cm.evaluate_log_lin(test_dataset, test_labels, train_dataset, train_labels, model)"
   ]
  },
  {
   "cell_type": "markdown",
   "metadata": {},
   "source": [
    "### Subconjunto Literatura RFE - Regresión Lineal con constante"
   ]
  },
  {
   "cell_type": "code",
   "execution_count": 13,
   "metadata": {
    "scrolled": true
   },
   "outputs": [
    {
     "name": "stdout",
     "output_type": "stream",
     "text": [
      "----Resultados sobre TRAIN----\n",
      "R2:  0.146017329092487\n",
      "Adjusted R2:  0.14563511993051137\n",
      "MAPE: 66.12913646464254\n",
      "----Resultados sobre TEST----\n",
      "R2:  0.17282215621830566\n",
      "Adjusted R2:  0.17171048255659882\n",
      "MAPE: 65.4672470955939\n"
     ]
    },
    {
     "data": {
      "image/png": "[encoded data removed]",
      "text/plain": [
       "<Figure size 432x288 with 1 Axes>"
      ]
     },
     "metadata": {
      "needs_background": "light"
     },
     "output_type": "display_data"
    },
    {
     "data": {
      "text/plain": [
       "0.17282215621830566"
      ]
     },
     "execution_count": 13,
     "metadata": {},
     "output_type": "execute_result"
    }
   ],
   "source": [
    "lr = LinearRegression(fit_intercept=True)\n",
    "lr.fit(train_dataset, train_labels)\n",
    "cm.evaluate_log_lin(test_dataset, test_labels, train_dataset, train_labels, lr)"
   ]
  },
  {
   "cell_type": "markdown",
   "metadata": {},
   "source": [
    "### Subconjunto Literatura RFE - Random Forest"
   ]
  },
  {
   "cell_type": "code",
   "execution_count": 22,
   "metadata": {
    "scrolled": true
   },
   "outputs": [
    {
     "name": "stderr",
     "output_type": "stream",
     "text": [
      "[Parallel(n_jobs=4)]: Using backend ThreadingBackend with 4 concurrent workers.\n",
      "[Parallel(n_jobs=4)]: Done  42 tasks      | elapsed:  2.0min\n",
      "[Parallel(n_jobs=4)]: Done 100 out of 100 | elapsed:  4.9min finished\n",
      "[Parallel(n_jobs=4)]: Using backend ThreadingBackend with 4 concurrent workers.\n",
      "[Parallel(n_jobs=4)]: Done  42 tasks      | elapsed:    0.0s\n",
      "[Parallel(n_jobs=4)]: Done 100 out of 100 | elapsed:    0.1s finished\n",
      "[Parallel(n_jobs=4)]: Using backend ThreadingBackend with 4 concurrent workers.\n",
      "[Parallel(n_jobs=4)]: Done  42 tasks      | elapsed:    0.0s\n",
      "[Parallel(n_jobs=4)]: Done 100 out of 100 | elapsed:    0.0s finished\n"
     ]
    },
    {
     "name": "stdout",
     "output_type": "stream",
     "text": [
      "----Resultados sobre TRAIN----\n",
      "R2:  0.8507370944081585\n",
      "Adjusted R2:  0.8506647204656463\n",
      "MAPE: 18.95138335125427\n",
      "----Resultados sobre TEST----\n",
      "R2:  0.43500807930932106\n",
      "Adjusted R2:  0.4341853984212186\n",
      "MAPE: 48.58911163177503\n"
     ]
    },
    {
     "data": {
      "image/png": "[encoded data removed]",
      "text/plain": [
       "<Figure size 432x288 with 1 Axes>"
      ]
     },
     "metadata": {
      "needs_background": "light"
     },
     "output_type": "display_data"
    },
    {
     "data": {
      "text/plain": [
       "0.43500807930932106"
      ]
     },
     "execution_count": 22,
     "metadata": {},
     "output_type": "execute_result"
    }
   ],
   "source": [
    "regressor = RandomForestRegressor(100, criterion=\"mae\", verbose=1, n_jobs=4)\n",
    "regressor.fit(train_dataset, train_labels)\n",
    "cm.evaluate_log_lin(test_dataset, test_labels, train_dataset, train_labels, regressor)"
   ]
  },
  {
   "cell_type": "markdown",
   "metadata": {},
   "source": [
    "### Subconjunto Literatura RFE - Regresión de Soporte Vectorial"
   ]
  },
  {
   "cell_type": "code",
   "execution_count": 23,
   "metadata": {
    "scrolled": true
   },
   "outputs": [
    {
     "name": "stdout",
     "output_type": "stream",
     "text": [
      "----Resultados sobre TRAIN----\n",
      "R2:  0.3930079330313213\n",
      "Adjusted R2:  0.3927136173821254\n",
      "MAPE: 56.93739357496366\n",
      "----Resultados sobre TEST----\n",
      "R2:  0.3373683823890531\n",
      "Adjusted R2:  0.3364035290031949\n",
      "MAPE: 57.18141873101895\n"
     ]
    },
    {
     "data": {
      "image/png": "[encoded data removed]",
      "text/plain": [
       "<Figure size 432x288 with 1 Axes>"
      ]
     },
     "metadata": {
      "needs_background": "light"
     },
     "output_type": "display_data"
    },
    {
     "data": {
      "text/plain": [
       "0.3373683823890531"
      ]
     },
     "execution_count": 23,
     "metadata": {},
     "output_type": "execute_result"
    }
   ],
   "source": [
    "svr = svm.SVR(kernel='linear')\n",
    "svr.fit(train_dataset, train_labels)\n",
    "cm.evaluate_log_lin(test_dataset, test_labels, train_dataset, train_labels, svr)"
   ]
  },
  {
   "cell_type": "markdown",
   "metadata": {},
   "source": [
    "# Subconjunto Literatura con RF\n"
   ]
  },
  {
   "cell_type": "markdown",
   "metadata": {},
   "source": [
    "### Subconjunto Literatura - Regresión Lineal con constante"
   ]
  },
  {
   "cell_type": "code",
   "execution_count": 24,
   "metadata": {},
   "outputs": [],
   "source": [
    "literatura_rf100 = ['EDAD', 'NOCHES', 'PERSONAS_TOTAL', 'INGRESOS', 'SEXO', 'ACTIV_PLAYA', 'ACTIV_ISLA', 'PRIMERA_VISITA_CANARIAS',\n",
    "                    'ACTIV_PASEAR', 'ACTIV_PISCINA', 'ACTIV_GASTRONOMIA_CANARIA', 'ACTIV_OCIO']"
   ]
  },
  {
   "cell_type": "markdown",
   "metadata": {},
   "source": [
    "#### Antes de evaluar los modelos con estas variables, vamos a echar un vistazo a su FIV para asegurarnos de que no haya multicolinealidad"
   ]
  },
  {
   "cell_type": "code",
   "execution_count": 25,
   "metadata": {},
   "outputs": [
    {
     "name": "stderr",
     "output_type": "stream",
     "text": [
      "c:\\users\\amct2\\appdata\\local\\programs\\python\\python36\\lib\\site-packages\\IPython\\core\\interactiveshell.py:3254: DtypeWarning: Columns (140,141,142,143) have mixed types.Specify dtype option on import or set low_memory=False.\n",
      "  if (await self.run_code(code, result,  async_=asy)):\n",
      "C:\\Users\\amct2\\PycharmProjects\\tfg\\data_preprocessing.py:84: UserWarning: Boolean Series key will be reindexed to match DataFrame index.\n",
      "  x = x[(y > q1 - IQR)]\n"
     ]
    },
    {
     "name": "stdout",
     "output_type": "stream",
     "text": [
      "(35767, 13)\n",
      "         VIF                  variables\n",
      "0   1.219937                       EDAD\n",
      "1   1.062578                     NOCHES\n",
      "2   1.066991             PERSONAS_TOTAL\n",
      "3   1.053754                   INGRESOS\n",
      "4   1.024180                       SEXO\n",
      "5   1.142317                ACTIV_PLAYA\n",
      "6   1.163508                 ACTIV_ISLA\n",
      "7   1.091509    PRIMERA_VISITA_CANARIAS\n",
      "8   1.132425               ACTIV_PASEAR\n",
      "9   1.114058              ACTIV_PISCINA\n",
      "10  1.099140  ACTIV_GASTRONOMIA_CANARIA\n",
      "11  1.059736                 ACTIV_OCIO\n"
     ]
    }
   ],
   "source": [
    "X = dp.load_dataset('./datos/GASTO_TURISTICO_2018_ORIGINAL_2.csv', ';', ',', predictors=literatura_rf100, dummies=True, desglose=False)\n",
    "print(X.shape)\n",
    "scaler = StandardScaler()\n",
    "\n",
    "y = X.pop('GASTO')\n",
    "X = pd.DataFrame(scaler.fit_transform(X.values), columns=X.columns, index=X.index)\n",
    "fs.check_vif(X)"
   ]
  },
  {
   "cell_type": "markdown",
   "metadata": {},
   "source": [
    "En principio parece que no hemos detectado ningún FIV alarmante (en torno a 5), por lo que procederemos a predecir con nuestro subconjunto."
   ]
  },
  {
   "cell_type": "code",
   "execution_count": 26,
   "metadata": {},
   "outputs": [],
   "source": [
    "X['GASTO'] = np.log(y)\n",
    "\n",
    "train_dataset, test_dataset = dp.split_dataset(X)\n",
    "train_labels = train_dataset.pop('GASTO')\n",
    "test_labels = test_dataset.pop('GASTO')"
   ]
  },
  {
   "cell_type": "markdown",
   "metadata": {},
   "source": [
    "### Subconjunto Literatura con RF - Red Neuronal "
   ]
  },
  {
   "cell_type": "code",
   "execution_count": 27,
   "metadata": {
    "scrolled": true
   },
   "outputs": [
    {
     "name": "stdout",
     "output_type": "stream",
     "text": [
      "Train on 17972 samples, validate on 8853 samples\n",
      "Epoch 1/250\n",
      " - 1s - loss: 0.6975 - mean_absolute_error: 0.6975 - mean_squared_error: 1.4565 - val_loss: 0.5524 - val_mean_absolute_error: 0.5524 - val_mean_squared_error: 0.4635\n",
      "Epoch 2/250\n",
      " - 1s - loss: 0.4457 - mean_absolute_error: 0.4457 - mean_squared_error: 0.3755 - val_loss: 0.4651 - val_mean_absolute_error: 0.4651 - val_mean_squared_error: 0.4250\n",
      "Epoch 3/250\n",
      " - 1s - loss: 0.4253 - mean_absolute_error: 0.4253 - mean_squared_error: 0.3504 - val_loss: 0.4155 - val_mean_absolute_error: 0.4155 - val_mean_squared_error: 0.3354\n",
      "Epoch 4/250\n",
      " - 1s - loss: 0.4174 - mean_absolute_error: 0.4174 - mean_squared_error: 0.3403 - val_loss: 0.4129 - val_mean_absolute_error: 0.4129 - val_mean_squared_error: 0.3492\n",
      "Epoch 5/250\n",
      " - 1s - loss: 0.4111 - mean_absolute_error: 0.4111 - mean_squared_error: 0.3343 - val_loss: 0.4202 - val_mean_absolute_error: 0.4202 - val_mean_squared_error: 0.3645\n",
      "Epoch 6/250\n",
      " - 1s - loss: 0.4083 - mean_absolute_error: 0.4083 - mean_squared_error: 0.3295 - val_loss: 0.4176 - val_mean_absolute_error: 0.4176 - val_mean_squared_error: 0.3504\n",
      "Epoch 7/250\n",
      " - 1s - loss: 0.4057 - mean_absolute_error: 0.4057 - mean_squared_error: 0.3273 - val_loss: 0.4190 - val_mean_absolute_error: 0.4190 - val_mean_squared_error: 0.3597\n",
      "Epoch 8/250\n",
      " - 1s - loss: 0.4046 - mean_absolute_error: 0.4046 - mean_squared_error: 0.3248 - val_loss: 0.4120 - val_mean_absolute_error: 0.4120 - val_mean_squared_error: 0.3455\n",
      "Epoch 9/250\n",
      " - 1s - loss: 0.4028 - mean_absolute_error: 0.4028 - mean_squared_error: 0.3245 - val_loss: 0.4358 - val_mean_absolute_error: 0.4358 - val_mean_squared_error: 0.3342\n",
      "Epoch 10/250\n",
      " - 1s - loss: 0.4005 - mean_absolute_error: 0.4005 - mean_squared_error: 0.3233 - val_loss: 0.4164 - val_mean_absolute_error: 0.4164 - val_mean_squared_error: 0.3555\n",
      "Epoch 11/250\n",
      " - 1s - loss: 0.3997 - mean_absolute_error: 0.3997 - mean_squared_error: 0.3224 - val_loss: 0.4172 - val_mean_absolute_error: 0.4172 - val_mean_squared_error: 0.3590\n",
      "Epoch 12/250\n",
      " - 1s - loss: 0.3987 - mean_absolute_error: 0.3987 - mean_squared_error: 0.3189 - val_loss: 0.4172 - val_mean_absolute_error: 0.4172 - val_mean_squared_error: 0.3584\n",
      "Epoch 13/250\n",
      " - 1s - loss: 0.3967 - mean_absolute_error: 0.3967 - mean_squared_error: 0.3183 - val_loss: 0.4152 - val_mean_absolute_error: 0.4152 - val_mean_squared_error: 0.3240\n",
      "Epoch 14/250\n",
      " - 1s - loss: 0.3963 - mean_absolute_error: 0.3963 - mean_squared_error: 0.3183 - val_loss: 0.4047 - val_mean_absolute_error: 0.4047 - val_mean_squared_error: 0.3361\n",
      "Epoch 15/250\n",
      " - 1s - loss: 0.3948 - mean_absolute_error: 0.3948 - mean_squared_error: 0.3171 - val_loss: 0.4060 - val_mean_absolute_error: 0.4060 - val_mean_squared_error: 0.3248\n",
      "Epoch 16/250\n",
      " - 1s - loss: 0.3955 - mean_absolute_error: 0.3955 - mean_squared_error: 0.3170 - val_loss: 0.4084 - val_mean_absolute_error: 0.4084 - val_mean_squared_error: 0.3257\n",
      "Epoch 17/250\n",
      " - 1s - loss: 0.3942 - mean_absolute_error: 0.3942 - mean_squared_error: 0.3165 - val_loss: 0.4084 - val_mean_absolute_error: 0.4084 - val_mean_squared_error: 0.3376\n",
      "Epoch 18/250\n",
      " - 1s - loss: 0.3924 - mean_absolute_error: 0.3924 - mean_squared_error: 0.3140 - val_loss: 0.4042 - val_mean_absolute_error: 0.4042 - val_mean_squared_error: 0.3304\n",
      "Epoch 19/250\n",
      " - 1s - loss: 0.3923 - mean_absolute_error: 0.3923 - mean_squared_error: 0.3134 - val_loss: 0.4090 - val_mean_absolute_error: 0.4090 - val_mean_squared_error: 0.3431\n",
      "Epoch 20/250\n",
      " - 1s - loss: 0.3918 - mean_absolute_error: 0.3918 - mean_squared_error: 0.3144 - val_loss: 0.4091 - val_mean_absolute_error: 0.4091 - val_mean_squared_error: 0.3387\n",
      "Epoch 21/250\n",
      " - 1s - loss: 0.3919 - mean_absolute_error: 0.3919 - mean_squared_error: 0.3126 - val_loss: 0.4133 - val_mean_absolute_error: 0.4133 - val_mean_squared_error: 0.3270\n",
      "Epoch 22/250\n",
      " - 1s - loss: 0.3903 - mean_absolute_error: 0.3903 - mean_squared_error: 0.3118 - val_loss: 0.4142 - val_mean_absolute_error: 0.4142 - val_mean_squared_error: 0.3559\n",
      "Epoch 23/250\n",
      " - 1s - loss: 0.3893 - mean_absolute_error: 0.3893 - mean_squared_error: 0.3114 - val_loss: 0.4206 - val_mean_absolute_error: 0.4206 - val_mean_squared_error: 0.3619\n",
      "Epoch 24/250\n",
      " - 1s - loss: 0.3890 - mean_absolute_error: 0.3890 - mean_squared_error: 0.3103 - val_loss: 0.4541 - val_mean_absolute_error: 0.4541 - val_mean_squared_error: 0.4201\n",
      "Epoch 25/250\n",
      " - 1s - loss: 0.3889 - mean_absolute_error: 0.3889 - mean_squared_error: 0.3105 - val_loss: 0.4050 - val_mean_absolute_error: 0.4050 - val_mean_squared_error: 0.3252\n",
      "Epoch 26/250\n",
      " - 1s - loss: 0.3886 - mean_absolute_error: 0.3886 - mean_squared_error: 0.3094 - val_loss: 0.4066 - val_mean_absolute_error: 0.4066 - val_mean_squared_error: 0.3362\n",
      "Epoch 27/250\n",
      " - 1s - loss: 0.3878 - mean_absolute_error: 0.3878 - mean_squared_error: 0.3092 - val_loss: 0.4124 - val_mean_absolute_error: 0.4124 - val_mean_squared_error: 0.3536\n",
      "Epoch 28/250\n",
      " - 1s - loss: 0.3873 - mean_absolute_error: 0.3873 - mean_squared_error: 0.3084 - val_loss: 0.4070 - val_mean_absolute_error: 0.4070 - val_mean_squared_error: 0.3294\n",
      "----Resultados sobre TRAIN----\n",
      "R2:  0.4108112462598895\n",
      "Adjusted R2:  0.4105475484736415\n",
      "MAPE: 57.53917584899379\n",
      "----Resultados sobre TEST----\n",
      "R2:  0.36844725265449085\n",
      "Adjusted R2:  0.3675984865028338\n",
      "MAPE: 59.85948371974171\n"
     ]
    },
    {
     "data": {
      "image/png": "[encoded data removed]",
      "text/plain": [
       "<Figure size 432x288 with 1 Axes>"
      ]
     },
     "metadata": {
      "needs_background": "light"
     },
     "output_type": "display_data"
    },
    {
     "data": {
      "text/plain": [
       "0.36844725265449085"
      ]
     },
     "execution_count": 27,
     "metadata": {},
     "output_type": "execute_result"
    }
   ],
   "source": [
    "model = ep.build_model(train_dataset)\n",
    "ep.train_model(model, train_dataset, train_labels, 250)\n",
    "cm.evaluate_log_lin(test_dataset, test_labels, train_dataset, train_labels, model)"
   ]
  },
  {
   "cell_type": "markdown",
   "metadata": {},
   "source": [
    "### Subconjunto Literatura RF - Regresión Lineal con constante"
   ]
  },
  {
   "cell_type": "code",
   "execution_count": 28,
   "metadata": {
    "scrolled": true
   },
   "outputs": [
    {
     "name": "stdout",
     "output_type": "stream",
     "text": [
      "----Resultados sobre TRAIN----\n",
      "R2:  0.15109932916781754\n",
      "Adjusted R2:  0.15071939450982907\n",
      "MAPE: 66.6958379803148\n",
      "----Resultados sobre TEST----\n",
      "R2:  0.1672825453895781\n",
      "Adjusted R2:  0.16616342684827168\n",
      "MAPE: 66.12895787586672\n"
     ]
    },
    {
     "data": {
      "image/png": "[encoded data removed]",
      "text/plain": [
       "<Figure size 432x288 with 1 Axes>"
      ]
     },
     "metadata": {
      "needs_background": "light"
     },
     "output_type": "display_data"
    },
    {
     "data": {
      "text/plain": [
       "0.1672825453895781"
      ]
     },
     "execution_count": 28,
     "metadata": {},
     "output_type": "execute_result"
    }
   ],
   "source": [
    "lr = LinearRegression(fit_intercept=True)\n",
    "lr.fit(train_dataset, train_labels)\n",
    "cm.evaluate_log_lin(test_dataset, test_labels, train_dataset, train_labels, lr)"
   ]
  },
  {
   "cell_type": "markdown",
   "metadata": {},
   "source": [
    "### Subconjunto Literatura RF - Random Forest"
   ]
  },
  {
   "cell_type": "code",
   "execution_count": 29,
   "metadata": {
    "scrolled": true
   },
   "outputs": [
    {
     "name": "stderr",
     "output_type": "stream",
     "text": [
      "[Parallel(n_jobs=4)]: Using backend ThreadingBackend with 4 concurrent workers.\n",
      "[Parallel(n_jobs=4)]: Done  42 tasks      | elapsed:  2.1min\n",
      "[Parallel(n_jobs=4)]: Done 100 out of 100 | elapsed:  4.8min finished\n",
      "[Parallel(n_jobs=4)]: Using backend ThreadingBackend with 4 concurrent workers.\n",
      "[Parallel(n_jobs=4)]: Done  42 tasks      | elapsed:    0.0s\n",
      "[Parallel(n_jobs=4)]: Done 100 out of 100 | elapsed:    0.1s finished\n"
     ]
    },
    {
     "name": "stdout",
     "output_type": "stream",
     "text": [
      "----Resultados sobre TRAIN----\n",
      "R2:  0.8405588846221408\n",
      "Adjusted R2:  0.8404875250299979\n",
      "MAPE: 20.042025925046875\n",
      "----Resultados sobre TEST----\n",
      "R2:  0.2810522450903252\n",
      "Adjusted R2:  0.28008602568625796\n",
      "MAPE: 58.54189720626095\n"
     ]
    },
    {
     "name": "stderr",
     "output_type": "stream",
     "text": [
      "[Parallel(n_jobs=4)]: Using backend ThreadingBackend with 4 concurrent workers.\n",
      "[Parallel(n_jobs=4)]: Done  42 tasks      | elapsed:    0.0s\n",
      "[Parallel(n_jobs=4)]: Done 100 out of 100 | elapsed:    0.0s finished\n"
     ]
    },
    {
     "data": {
      "image/png": "[encoded data removed]",
      "text/plain": [
       "<Figure size 432x288 with 1 Axes>"
      ]
     },
     "metadata": {
      "needs_background": "light"
     },
     "output_type": "display_data"
    },
    {
     "data": {
      "text/plain": [
       "0.2810522450903252"
      ]
     },
     "execution_count": 29,
     "metadata": {},
     "output_type": "execute_result"
    }
   ],
   "source": [
    "regressor = RandomForestRegressor(100, criterion=\"mae\", verbose=1, n_jobs=4)\n",
    "regressor.fit(train_dataset, train_labels)\n",
    "cm.evaluate_log_lin(test_dataset, test_labels, train_dataset, train_labels, regressor)"
   ]
  },
  {
   "cell_type": "markdown",
   "metadata": {},
   "source": [
    "### Subconjunto Literatura RF - Regresión de Soporte Vectorial"
   ]
  },
  {
   "cell_type": "code",
   "execution_count": 30,
   "metadata": {
    "scrolled": false
   },
   "outputs": [
    {
     "name": "stdout",
     "output_type": "stream",
     "text": [
      "----Resultados sobre TRAIN----\n",
      "R2:  0.17586716776390732\n",
      "Adjusted R2:  0.17549831821941853\n",
      "MAPE: 74.66352465939039\n",
      "----Resultados sobre TEST----\n",
      "R2:  0.19004314023593838\n",
      "Adjusted R2:  0.18895461046584439\n",
      "MAPE: 73.9083783488769\n"
     ]
    },
    {
     "data": {
      "image/png": "[encoded data removed]",
      "text/plain": [
       "<Figure size 432x288 with 1 Axes>"
      ]
     },
     "metadata": {
      "needs_background": "light"
     },
     "output_type": "display_data"
    },
    {
     "data": {
      "text/plain": [
       "0.19004314023593838"
      ]
     },
     "execution_count": 30,
     "metadata": {},
     "output_type": "execute_result"
    }
   ],
   "source": [
    "svr = svm.SVR(kernel='linear')\n",
    "svr.fit(train_dataset, train_labels)\n",
    "cm.evaluate_log_lin(test_dataset, test_labels, train_dataset, train_labels, svr)"
   ]
  },
  {
   "cell_type": "markdown",
   "metadata": {},
   "source": [
    "# Subconjunto Todo con filtro correlación 0.1\n"
   ]
  },
  {
   "cell_type": "code",
   "execution_count": 12,
   "metadata": {},
   "outputs": [],
   "source": [
    "todo_corr = ['TRIMESTRE_2018Q3', 'TIPO_PENSION_SOLO_ALOJAMIENTO', 'SERV_TRANSFERS',\n",
    "             'PROPOSITO_NEGOCIOS_TRABAJO', 'PERSONAS_TOTAL',\n",
    "             'PAQUETE_TURISTICO_SI', 'NOCHES_TF', 'NOCHES_LZ', 'NOCHES',\n",
    "             'NACIONALIDAD_ESP724', 'MOTIVACION_1_DISFRUTAR_FAMILIA', 'INGRESOS',\n",
    "             'HORAS_DIA', 'GRATIS_ALOJ', 'EDAD', 'COMPRA_ALOJ_COMPANNIA_ALOJAMIENTO',\n",
    "             'COMPANNIA_SOLO', 'COMPANNIA_OTROS_FAMILIARES', 'COMPANNIA_HIJOS',\n",
    "             'CANAL_TOUROPERADOR_AGENCIA_VIAJE', 'ANTELACION_VIAJE_MAS_DE_6_MESES',\n",
    "             'ANTELACION_VIAJE_1-15_DIAS', 'ALOJ_CATEG_PARTICULAR',\n",
    "             'ALOJ_CATEG_HOTEL5', 'ACTIV_PISCINA', 'ACTIV_PARQUES_OCIO']"
   ]
  },
  {
   "cell_type": "markdown",
   "metadata": {},
   "source": [
    "#### Antes de evaluar los modelos con estas variables, vamos a echar un vistazo a su FIV para asegurarnos de que no haya multicolinealidad"
   ]
  },
  {
   "cell_type": "code",
   "execution_count": 13,
   "metadata": {
    "scrolled": true
   },
   "outputs": [
    {
     "name": "stderr",
     "output_type": "stream",
     "text": [
      "c:\\users\\amct2\\appdata\\local\\programs\\python\\python36\\lib\\site-packages\\IPython\\core\\interactiveshell.py:3254: DtypeWarning: Columns (140,141,142,143) have mixed types.Specify dtype option on import or set low_memory=False.\n",
      "  if (await self.run_code(code, result,  async_=asy)):\n",
      "C:\\Users\\amct2\\PycharmProjects\\tfg\\data_preprocessing.py:84: UserWarning: Boolean Series key will be reindexed to match DataFrame index.\n",
      "  x = x[(y > q1 - IQR)]\n"
     ]
    },
    {
     "name": "stdout",
     "output_type": "stream",
     "text": [
      "(35767, 27)\n",
      "         VIF                          variables\n",
      "0   1.118424                   TRIMESTRE_2018Q3\n",
      "1   1.288767      TIPO_PENSION_SOLO_ALOJAMIENTO\n",
      "2   2.063816                     SERV_TRANSFERS\n",
      "3   1.156468         PROPOSITO_NEGOCIOS_TRABAJO\n",
      "4   1.979072                     PERSONAS_TOTAL\n",
      "5   2.704209               PAQUETE_TURISTICO_SI\n",
      "6   1.278403                          NOCHES_TF\n",
      "7   1.174109                          NOCHES_LZ\n",
      "8   1.327974                             NOCHES\n",
      "9   1.258623                NACIONALIDAD_ESP724\n",
      "10  1.234424     MOTIVACION_1_DISFRUTAR_FAMILIA\n",
      "11  1.092209                           INGRESOS\n",
      "12  1.180330                          HORAS_DIA\n",
      "13  1.509314                        GRATIS_ALOJ\n",
      "14  1.209182                               EDAD\n",
      "15  1.413858  COMPRA_ALOJ_COMPANNIA_ALOJAMIENTO\n",
      "16  1.392374                     COMPANNIA_SOLO\n",
      "17  1.257466         COMPANNIA_OTROS_FAMILIARES\n",
      "18  1.686063                    COMPANNIA_HIJOS\n",
      "19  1.198588   CANAL_TOUROPERADOR_AGENCIA_VIAJE\n",
      "20  1.109407    ANTELACION_VIAJE_MAS_DE_6_MESES\n",
      "21  1.084800         ANTELACION_VIAJE_1-15_DIAS\n",
      "22  1.156966              ALOJ_CATEG_PARTICULAR\n",
      "23  1.057925                  ALOJ_CATEG_HOTEL5\n",
      "24  1.183287                      ACTIV_PISCINA\n",
      "25  1.138011                 ACTIV_PARQUES_OCIO\n"
     ]
    }
   ],
   "source": [
    "X = dp.load_dataset('./datos/GASTO_TURISTICO_2018_ORIGINAL_2.csv', ';', ',', predictors=todo_corr, dummies=True, desglose=False)\n",
    "print(X.shape)\n",
    "scaler = StandardScaler()\n",
    "\n",
    "y = X.pop('GASTO')\n",
    "X = pd.DataFrame(scaler.fit_transform(X.values), columns=X.columns, index=X.index)\n",
    "fs.check_vif(X)"
   ]
  },
  {
   "cell_type": "markdown",
   "metadata": {},
   "source": [
    "En principio parece que no hemos detectado ningún FIV alarmante (en torno a 5), por lo que procederemos a predecir con nuestro subconjunto."
   ]
  },
  {
   "cell_type": "code",
   "execution_count": 14,
   "metadata": {},
   "outputs": [],
   "source": [
    "X['GASTO'] = np.log(y)\n",
    "\n",
    "train_dataset, test_dataset = dp.split_dataset(X)\n",
    "train_labels = train_dataset.pop('GASTO')\n",
    "test_labels = test_dataset.pop('GASTO')"
   ]
  },
  {
   "cell_type": "markdown",
   "metadata": {},
   "source": [
    "### Subconjunto Todo con correlación 0.1 - Red Neuronal "
   ]
  },
  {
   "cell_type": "code",
   "execution_count": 15,
   "metadata": {
    "scrolled": true
   },
   "outputs": [
    {
     "name": "stdout",
     "output_type": "stream",
     "text": [
      "Train on 17972 samples, validate on 8853 samples\n",
      "Epoch 1/250\n",
      " - 1s - loss: 0.6509 - mean_absolute_error: 0.6509 - mean_squared_error: 1.1647 - val_loss: 0.4223 - val_mean_absolute_error: 0.4223 - val_mean_squared_error: 0.3267\n",
      "Epoch 2/250\n",
      " - 1s - loss: 0.3967 - mean_absolute_error: 0.3967 - mean_squared_error: 0.3035 - val_loss: 0.3834 - val_mean_absolute_error: 0.3834 - val_mean_squared_error: 0.2797\n",
      "Epoch 3/250\n",
      " - 1s - loss: 0.3760 - mean_absolute_error: 0.3760 - mean_squared_error: 0.2775 - val_loss: 0.3691 - val_mean_absolute_error: 0.3691 - val_mean_squared_error: 0.2825\n",
      "Epoch 4/250\n",
      " - 1s - loss: 0.3616 - mean_absolute_error: 0.3616 - mean_squared_error: 0.2642 - val_loss: 0.4060 - val_mean_absolute_error: 0.4060 - val_mean_squared_error: 0.3226\n",
      "Epoch 5/250\n",
      " - 1s - loss: 0.3559 - mean_absolute_error: 0.3559 - mean_squared_error: 0.2569 - val_loss: 0.3610 - val_mean_absolute_error: 0.3610 - val_mean_squared_error: 0.2692\n",
      "Epoch 6/250\n",
      " - 1s - loss: 0.3512 - mean_absolute_error: 0.3512 - mean_squared_error: 0.2517 - val_loss: 0.3846 - val_mean_absolute_error: 0.3846 - val_mean_squared_error: 0.2723\n",
      "Epoch 7/250\n",
      " - 1s - loss: 0.3465 - mean_absolute_error: 0.3465 - mean_squared_error: 0.2488 - val_loss: 0.3578 - val_mean_absolute_error: 0.3578 - val_mean_squared_error: 0.2569\n",
      "Epoch 8/250\n",
      " - 1s - loss: 0.3436 - mean_absolute_error: 0.3436 - mean_squared_error: 0.2448 - val_loss: 0.3558 - val_mean_absolute_error: 0.3558 - val_mean_squared_error: 0.2541\n",
      "Epoch 9/250\n",
      " - 1s - loss: 0.3416 - mean_absolute_error: 0.3416 - mean_squared_error: 0.2427 - val_loss: 0.3607 - val_mean_absolute_error: 0.3607 - val_mean_squared_error: 0.2586\n",
      "Epoch 10/250\n",
      " - 1s - loss: 0.3388 - mean_absolute_error: 0.3388 - mean_squared_error: 0.2396 - val_loss: 0.3549 - val_mean_absolute_error: 0.3549 - val_mean_squared_error: 0.2542\n",
      "Epoch 11/250\n",
      " - 1s - loss: 0.3372 - mean_absolute_error: 0.3372 - mean_squared_error: 0.2384 - val_loss: 0.3667 - val_mean_absolute_error: 0.3667 - val_mean_squared_error: 0.2616\n",
      "Epoch 12/250\n",
      " - 1s - loss: 0.3353 - mean_absolute_error: 0.3353 - mean_squared_error: 0.2372 - val_loss: 0.3548 - val_mean_absolute_error: 0.3548 - val_mean_squared_error: 0.2549\n",
      "Epoch 13/250\n",
      " - 1s - loss: 0.3341 - mean_absolute_error: 0.3341 - mean_squared_error: 0.2354 - val_loss: 0.3587 - val_mean_absolute_error: 0.3586 - val_mean_squared_error: 0.2707\n",
      "Epoch 14/250\n",
      " - 1s - loss: 0.3328 - mean_absolute_error: 0.3328 - mean_squared_error: 0.2335 - val_loss: 0.3538 - val_mean_absolute_error: 0.3538 - val_mean_squared_error: 0.2568\n",
      "Epoch 15/250\n",
      " - 1s - loss: 0.3305 - mean_absolute_error: 0.3305 - mean_squared_error: 0.2326 - val_loss: 0.3628 - val_mean_absolute_error: 0.3628 - val_mean_squared_error: 0.2770\n",
      "Epoch 16/250\n",
      " - 1s - loss: 0.3289 - mean_absolute_error: 0.3289 - mean_squared_error: 0.2306 - val_loss: 0.3529 - val_mean_absolute_error: 0.3529 - val_mean_squared_error: 0.2550\n",
      "Epoch 17/250\n",
      " - 1s - loss: 0.3280 - mean_absolute_error: 0.3280 - mean_squared_error: 0.2303 - val_loss: 0.3547 - val_mean_absolute_error: 0.3547 - val_mean_squared_error: 0.2530\n",
      "Epoch 18/250\n",
      " - 1s - loss: 0.3277 - mean_absolute_error: 0.3277 - mean_squared_error: 0.2291 - val_loss: 0.3584 - val_mean_absolute_error: 0.3584 - val_mean_squared_error: 0.2569\n",
      "Epoch 19/250\n",
      " - 1s - loss: 0.3262 - mean_absolute_error: 0.3262 - mean_squared_error: 0.2288 - val_loss: 0.3528 - val_mean_absolute_error: 0.3528 - val_mean_squared_error: 0.2530\n",
      "Epoch 20/250\n",
      " - 1s - loss: 0.3251 - mean_absolute_error: 0.3251 - mean_squared_error: 0.2272 - val_loss: 0.3524 - val_mean_absolute_error: 0.3524 - val_mean_squared_error: 0.2570\n",
      "Epoch 21/250\n",
      " - 1s - loss: 0.3244 - mean_absolute_error: 0.3244 - mean_squared_error: 0.2253 - val_loss: 0.3573 - val_mean_absolute_error: 0.3573 - val_mean_squared_error: 0.2565\n",
      "Epoch 22/250\n",
      " - 1s - loss: 0.3224 - mean_absolute_error: 0.3224 - mean_squared_error: 0.2243 - val_loss: 0.3565 - val_mean_absolute_error: 0.3565 - val_mean_squared_error: 0.2650\n",
      "Epoch 23/250\n",
      " - 1s - loss: 0.3218 - mean_absolute_error: 0.3218 - mean_squared_error: 0.2247 - val_loss: 0.3602 - val_mean_absolute_error: 0.3602 - val_mean_squared_error: 0.2702\n",
      "Epoch 24/250\n",
      " - 1s - loss: 0.3199 - mean_absolute_error: 0.3199 - mean_squared_error: 0.2218 - val_loss: 0.3540 - val_mean_absolute_error: 0.3540 - val_mean_squared_error: 0.2599\n",
      "Epoch 25/250\n",
      " - 1s - loss: 0.3191 - mean_absolute_error: 0.3191 - mean_squared_error: 0.2213 - val_loss: 0.3539 - val_mean_absolute_error: 0.3539 - val_mean_squared_error: 0.2588\n",
      "Epoch 26/250\n",
      " - 1s - loss: 0.3187 - mean_absolute_error: 0.3187 - mean_squared_error: 0.2206 - val_loss: 0.3682 - val_mean_absolute_error: 0.3682 - val_mean_squared_error: 0.2602\n",
      "Epoch 27/250\n",
      " - 1s - loss: 0.3173 - mean_absolute_error: 0.3173 - mean_squared_error: 0.2191 - val_loss: 0.3748 - val_mean_absolute_error: 0.3748 - val_mean_squared_error: 0.2871\n",
      "Epoch 28/250\n",
      " - 1s - loss: 0.3161 - mean_absolute_error: 0.3161 - mean_squared_error: 0.2183 - val_loss: 0.3549 - val_mean_absolute_error: 0.3549 - val_mean_squared_error: 0.2621\n",
      "Epoch 29/250\n",
      " - 1s - loss: 0.3159 - mean_absolute_error: 0.3159 - mean_squared_error: 0.2179 - val_loss: 0.3610 - val_mean_absolute_error: 0.3610 - val_mean_squared_error: 0.2559\n",
      "Epoch 30/250\n",
      " - 1s - loss: 0.3150 - mean_absolute_error: 0.3150 - mean_squared_error: 0.2157 - val_loss: 0.3540 - val_mean_absolute_error: 0.3540 - val_mean_squared_error: 0.2612\n",
      "----Resultados sobre TRAIN----\n",
      "R2:  0.5501917973382606\n",
      "Adjusted R2:  0.5497553836779425\n",
      "MAPE: 46.32844522922087\n",
      "----Resultados sobre TEST----\n",
      "R2:  0.23273658690669685\n",
      "Adjusted R2:  0.23049891458584137\n",
      "MAPE: 50.87545322239148\n"
     ]
    },
    {
     "data": {
      "image/png": "[encoded data removed]",
      "text/plain": [
       "<Figure size 432x288 with 1 Axes>"
      ]
     },
     "metadata": {
      "needs_background": "light"
     },
     "output_type": "display_data"
    },
    {
     "data": {
      "text/plain": [
       "0.23273658690669685"
      ]
     },
     "execution_count": 15,
     "metadata": {},
     "output_type": "execute_result"
    }
   ],
   "source": [
    "model = ep.build_model(train_dataset)\n",
    "ep.train_model(model, train_dataset, train_labels, 250)\n",
    "cm.evaluate_log_lin(test_dataset, test_labels, train_dataset, train_labels, model)"
   ]
  },
  {
   "cell_type": "markdown",
   "metadata": {},
   "source": [
    "### SubconjuntoTodo por correlación 0.1 - Regresión Lineal con constante"
   ]
  },
  {
   "cell_type": "code",
   "execution_count": 37,
   "metadata": {
    "scrolled": true
   },
   "outputs": [
    {
     "name": "stdout",
     "output_type": "stream",
     "text": [
      "----Resultados sobre TRAIN----\n",
      "R2:  0.4690252266377003\n",
      "Adjusted R2:  0.46851006341255585\n",
      "MAPE: 46.98812260730937\n",
      "----Resultados sobre TEST----\n",
      "R2:  0.4521904698356166\n",
      "Adjusted R2:  0.450592820056113\n",
      "MAPE: 47.57983904831183\n"
     ]
    },
    {
     "data": {
      "image/png": "[encoded data removed]",
      "text/plain": [
       "<Figure size 432x288 with 1 Axes>"
      ]
     },
     "metadata": {
      "needs_background": "light"
     },
     "output_type": "display_data"
    },
    {
     "data": {
      "text/plain": [
       "0.4521904698356166"
      ]
     },
     "execution_count": 37,
     "metadata": {},
     "output_type": "execute_result"
    }
   ],
   "source": [
    "lr = LinearRegression(fit_intercept=True)\n",
    "lr.fit(train_dataset, train_labels)\n",
    "cm.evaluate_log_lin(test_dataset, test_labels, train_dataset, train_labels, lr)"
   ]
  },
  {
   "cell_type": "markdown",
   "metadata": {},
   "source": [
    "### Subconjunto Todo por correlación 0.1 - Random Forest"
   ]
  },
  {
   "cell_type": "code",
   "execution_count": 38,
   "metadata": {
    "scrolled": true
   },
   "outputs": [
    {
     "name": "stderr",
     "output_type": "stream",
     "text": [
      "[Parallel(n_jobs=4)]: Using backend ThreadingBackend with 4 concurrent workers.\n",
      "[Parallel(n_jobs=4)]: Done  42 tasks      | elapsed:  5.7min\n",
      "[Parallel(n_jobs=4)]: Done 100 out of 100 | elapsed: 12.2min finished\n",
      "[Parallel(n_jobs=4)]: Using backend ThreadingBackend with 4 concurrent workers.\n",
      "[Parallel(n_jobs=4)]: Done  42 tasks      | elapsed:    0.0s\n",
      "[Parallel(n_jobs=4)]: Done 100 out of 100 | elapsed:    0.2s finished\n",
      "[Parallel(n_jobs=4)]: Using backend ThreadingBackend with 4 concurrent workers.\n",
      "[Parallel(n_jobs=4)]: Done  42 tasks      | elapsed:    0.0s\n",
      "[Parallel(n_jobs=4)]: Done 100 out of 100 | elapsed:    0.0s finished\n"
     ]
    },
    {
     "name": "stdout",
     "output_type": "stream",
     "text": [
      "----Resultados sobre TRAIN----\n",
      "R2:  0.9073159711553271\n",
      "Adjusted R2:  0.9072260471031605\n",
      "MAPE: 13.996735615290836\n",
      "----Resultados sobre TEST----\n",
      "R2:  0.48806245061750275\n",
      "Adjusted R2:  0.48656941906574225\n",
      "MAPE: 43.590879506749296\n"
     ]
    },
    {
     "data": {
      "image/png": "[encoded data removed]",
      "text/plain": [
       "<Figure size 432x288 with 1 Axes>"
      ]
     },
     "metadata": {
      "needs_background": "light"
     },
     "output_type": "display_data"
    },
    {
     "data": {
      "text/plain": [
       "0.48806245061750275"
      ]
     },
     "execution_count": 38,
     "metadata": {},
     "output_type": "execute_result"
    }
   ],
   "source": [
    "regressor = RandomForestRegressor(100, criterion=\"mae\", verbose=1, n_jobs=4)\n",
    "regressor.fit(train_dataset, train_labels)\n",
    "cm.evaluate_log_lin(test_dataset, test_labels, train_dataset, train_labels, regressor)"
   ]
  },
  {
   "cell_type": "markdown",
   "metadata": {},
   "source": [
    "### Subconjunto Todo por correlación 0.1 - Regresión de Soporte Vectorial"
   ]
  },
  {
   "cell_type": "code",
   "execution_count": 39,
   "metadata": {
    "scrolled": false
   },
   "outputs": [
    {
     "name": "stdout",
     "output_type": "stream",
     "text": [
      "----Resultados sobre TRAIN----\n",
      "R2:  0.48731465029850374\n",
      "Adjusted R2:  0.4868172318683135\n",
      "MAPE: 51.649728864433996\n",
      "----Resultados sobre TEST----\n",
      "R2:  0.4683630478029953\n",
      "Adjusted R2:  0.46681256426321716\n",
      "MAPE: 52.136896025833565\n"
     ]
    },
    {
     "data": {
      "image/png": "[encoded data removed]",
      "text/plain": [
       "<Figure size 432x288 with 1 Axes>"
      ]
     },
     "metadata": {
      "needs_background": "light"
     },
     "output_type": "display_data"
    },
    {
     "data": {
      "text/plain": [
       "0.4683630478029953"
      ]
     },
     "execution_count": 39,
     "metadata": {},
     "output_type": "execute_result"
    }
   ],
   "source": [
    "svr = svm.SVR(kernel='linear')\n",
    "svr.fit(train_dataset, train_labels)\n",
    "cm.evaluate_log_lin(test_dataset, test_labels, train_dataset, train_labels, svr)"
   ]
  },
  {
   "cell_type": "markdown",
   "metadata": {},
   "source": [
    "### Subconjunto Todo por correlación 0.1 - Regresión de Soporte Vectorial rbf"
   ]
  },
  {
   "cell_type": "code",
   "execution_count": 40,
   "metadata": {
    "scrolled": false
   },
   "outputs": [
    {
     "name": "stdout",
     "output_type": "stream",
     "text": [
      "----Resultados sobre TRAIN----\n",
      "R2:  0.6590703111642804\n",
      "Adjusted R2:  0.6587395337962033\n",
      "MAPE: 38.84179431041076\n",
      "----Resultados sobre TEST----\n",
      "R2:  0.5306575849429708\n",
      "Adjusted R2:  0.5292887792456648\n",
      "MAPE: 46.89430484740063\n"
     ]
    },
    {
     "data": {
      "image/png": "[encoded data removed]",
      "text/plain": [
       "<Figure size 432x288 with 1 Axes>"
      ]
     },
     "metadata": {
      "needs_background": "light"
     },
     "output_type": "display_data"
    },
    {
     "data": {
      "text/plain": [
       "0.5306575849429708"
      ]
     },
     "execution_count": 40,
     "metadata": {},
     "output_type": "execute_result"
    }
   ],
   "source": [
    "svr = svm.SVR(kernel='rbf')\n",
    "svr.fit(train_dataset, train_labels)\n",
    "cm.evaluate_log_lin(test_dataset, test_labels, train_dataset, train_labels, svr)"
   ]
  },
  {
   "cell_type": "markdown",
   "metadata": {},
   "source": [
    "# Subconjunto Todo con RF\n"
   ]
  },
  {
   "cell_type": "code",
   "execution_count": 42,
   "metadata": {},
   "outputs": [],
   "source": [
    "todo_rf = ['IMPORTANCIA_OFERTA_CULTURAL', 'IMPORTANCIA_AUTENTICIDAD', 'IMPORTANCIA_VIAJE_SENCILLO', 'IMPORTANCIA_EXOTISMO',\n",
    "           'NOCHES_TF', 'IMPORTANCIA_OFERTA_COMERCIAL', 'VISITAS_TOTAL_FV', 'IMPORTANCIA_EUROPA', 'IMPORTANCIA_DIVERSION',\n",
    "           'RECOMENDAR_CANARIAS', 'IMPORTANCIA_GASTRONOMIA', 'VISITAS_TOTAL_LZ', 'INGRESOS', 'VISITAS_TOTAL_GC',\n",
    "           'VOLVER_A_CANARIAS', 'PERSONAS_HOGAR', 'VISITAS_CANARIAS_5_ANNOS', 'NOCHES', 'HORAS_DIA', 'EDAD']"
   ]
  },
  {
   "cell_type": "markdown",
   "metadata": {},
   "source": [
    "#### Antes de evaluar los modelos con estas variables, vamos a echar un vistazo a su FIV para asegurarnos de que no haya multicolinealidad"
   ]
  },
  {
   "cell_type": "code",
   "execution_count": 43,
   "metadata": {
    "scrolled": true
   },
   "outputs": [
    {
     "name": "stderr",
     "output_type": "stream",
     "text": [
      "c:\\users\\amct2\\appdata\\local\\programs\\python\\python36\\lib\\site-packages\\IPython\\core\\interactiveshell.py:3254: DtypeWarning: Columns (140,141,142,143) have mixed types.Specify dtype option on import or set low_memory=False.\n",
      "  if (await self.run_code(code, result,  async_=asy)):\n",
      "C:\\Users\\amct2\\PycharmProjects\\tfg\\data_preprocessing.py:84: UserWarning: Boolean Series key will be reindexed to match DataFrame index.\n",
      "  x = x[(y > q1 - IQR)]\n"
     ]
    },
    {
     "name": "stdout",
     "output_type": "stream",
     "text": [
      "(35767, 13)\n",
      "         VIF                 variables\n",
      "0   1.127910                 NOCHES_TF\n",
      "1   1.093254          VISITAS_TOTAL_FV\n",
      "2   2.814314       RECOMENDAR_CANARIAS\n",
      "3   1.091927          VISITAS_TOTAL_LZ\n",
      "4   1.057066                  INGRESOS\n",
      "5   1.224232          VISITAS_TOTAL_GC\n",
      "6   2.860595         VOLVER_A_CANARIAS\n",
      "7   1.041735            PERSONAS_HOGAR\n",
      "8   1.349950  VISITAS_CANARIAS_5_ANNOS\n",
      "9   1.170067                    NOCHES\n",
      "10  1.022599                 HORAS_DIA\n",
      "11  1.116687                      EDAD\n"
     ]
    }
   ],
   "source": [
    "X = dp.load_dataset('./datos/GASTO_TURISTICO_2018_ORIGINAL_2.csv', ';', ',', predictors=todo_rf, dummies=True, desglose=False)\n",
    "print(X.shape)\n",
    "scaler = StandardScaler()\n",
    "\n",
    "y = X.pop('GASTO')\n",
    "X = pd.DataFrame(scaler.fit_transform(X.values), columns=X.columns, index=X.index)\n",
    "fs.check_vif(X)"
   ]
  },
  {
   "cell_type": "markdown",
   "metadata": {},
   "source": [
    "En principio parece que no hemos detectado ningún FIV alarmante (en torno a 5), por lo que procederemos a predecir con nuestro subconjunto."
   ]
  },
  {
   "cell_type": "code",
   "execution_count": 44,
   "metadata": {},
   "outputs": [],
   "source": [
    "X['GASTO'] = np.log(y)\n",
    "\n",
    "train_dataset, test_dataset = dp.split_dataset(X)\n",
    "train_labels = train_dataset.pop('GASTO')\n",
    "test_labels = test_dataset.pop('GASTO')"
   ]
  },
  {
   "cell_type": "markdown",
   "metadata": {},
   "source": [
    "### Subconjunto Todo con Rf - Red Neuronal "
   ]
  },
  {
   "cell_type": "code",
   "execution_count": 45,
   "metadata": {
    "scrolled": true
   },
   "outputs": [
    {
     "name": "stdout",
     "output_type": "stream",
     "text": [
      "Train on 17972 samples, validate on 8853 samples\n",
      "Epoch 1/250\n",
      " - 1s - loss: 0.7506 - mean_absolute_error: 0.7506 - mean_squared_error: 1.7067 - val_loss: 0.5486 - val_mean_absolute_error: 0.5486 - val_mean_squared_error: 0.5738\n",
      "Epoch 2/250\n",
      " - 1s - loss: 0.4839 - mean_absolute_error: 0.4839 - mean_squared_error: 0.4518 - val_loss: 0.4840 - val_mean_absolute_error: 0.4840 - val_mean_squared_error: 0.4172\n",
      "Epoch 3/250\n",
      " - 1s - loss: 0.4686 - mean_absolute_error: 0.4686 - mean_squared_error: 0.4303 - val_loss: 0.4626 - val_mean_absolute_error: 0.4626 - val_mean_squared_error: 0.4101\n",
      "Epoch 4/250\n",
      " - 1s - loss: 0.4590 - mean_absolute_error: 0.4590 - mean_squared_error: 0.4178 - val_loss: 0.4498 - val_mean_absolute_error: 0.4498 - val_mean_squared_error: 0.3999\n",
      "Epoch 5/250\n",
      " - 1s - loss: 0.4544 - mean_absolute_error: 0.4544 - mean_squared_error: 0.4095 - val_loss: 0.4542 - val_mean_absolute_error: 0.4542 - val_mean_squared_error: 0.4191\n",
      "Epoch 6/250\n",
      " - 1s - loss: 0.4515 - mean_absolute_error: 0.4515 - mean_squared_error: 0.4062 - val_loss: 0.4481 - val_mean_absolute_error: 0.4481 - val_mean_squared_error: 0.3932\n",
      "Epoch 7/250\n",
      " - 1s - loss: 0.4490 - mean_absolute_error: 0.4490 - mean_squared_error: 0.4019 - val_loss: 0.4755 - val_mean_absolute_error: 0.4755 - val_mean_squared_error: 0.4040\n",
      "Epoch 8/250\n",
      " - 1s - loss: 0.4471 - mean_absolute_error: 0.4471 - mean_squared_error: 0.4010 - val_loss: 0.4581 - val_mean_absolute_error: 0.4581 - val_mean_squared_error: 0.3935\n",
      "Epoch 9/250\n",
      " - 1s - loss: 0.4450 - mean_absolute_error: 0.4450 - mean_squared_error: 0.3980 - val_loss: 0.4636 - val_mean_absolute_error: 0.4636 - val_mean_squared_error: 0.3956\n",
      "Epoch 10/250\n",
      " - 1s - loss: 0.4441 - mean_absolute_error: 0.4441 - mean_squared_error: 0.3977 - val_loss: 0.4471 - val_mean_absolute_error: 0.4471 - val_mean_squared_error: 0.4002\n",
      "Epoch 11/250\n",
      " - 1s - loss: 0.4425 - mean_absolute_error: 0.4425 - mean_squared_error: 0.3965 - val_loss: 0.4647 - val_mean_absolute_error: 0.4647 - val_mean_squared_error: 0.4407\n",
      "Epoch 12/250\n",
      " - 1s - loss: 0.4426 - mean_absolute_error: 0.4426 - mean_squared_error: 0.3954 - val_loss: 0.4485 - val_mean_absolute_error: 0.4485 - val_mean_squared_error: 0.4027\n",
      "Epoch 13/250\n",
      " - 1s - loss: 0.4399 - mean_absolute_error: 0.4399 - mean_squared_error: 0.3921 - val_loss: 0.4482 - val_mean_absolute_error: 0.4482 - val_mean_squared_error: 0.3989\n",
      "Epoch 14/250\n",
      " - 1s - loss: 0.4397 - mean_absolute_error: 0.4397 - mean_squared_error: 0.3920 - val_loss: 0.4582 - val_mean_absolute_error: 0.4582 - val_mean_squared_error: 0.3924\n",
      "Epoch 15/250\n",
      " - 1s - loss: 0.4371 - mean_absolute_error: 0.4371 - mean_squared_error: 0.3878 - val_loss: 0.4487 - val_mean_absolute_error: 0.4487 - val_mean_squared_error: 0.4035\n",
      "Epoch 16/250\n",
      " - 1s - loss: 0.4368 - mean_absolute_error: 0.4368 - mean_squared_error: 0.3887 - val_loss: 0.4544 - val_mean_absolute_error: 0.4544 - val_mean_squared_error: 0.3894\n",
      "Epoch 17/250\n",
      " - 1s - loss: 0.4364 - mean_absolute_error: 0.4364 - mean_squared_error: 0.3877 - val_loss: 0.4499 - val_mean_absolute_error: 0.4499 - val_mean_squared_error: 0.4072\n",
      "Epoch 18/250\n",
      " - 1s - loss: 0.4359 - mean_absolute_error: 0.4359 - mean_squared_error: 0.3858 - val_loss: 0.4547 - val_mean_absolute_error: 0.4547 - val_mean_squared_error: 0.4210\n",
      "Epoch 19/250\n",
      " - 1s - loss: 0.4347 - mean_absolute_error: 0.4347 - mean_squared_error: 0.3854 - val_loss: 0.4580 - val_mean_absolute_error: 0.4580 - val_mean_squared_error: 0.3931\n",
      "Epoch 20/250\n",
      " - 1s - loss: 0.4343 - mean_absolute_error: 0.4343 - mean_squared_error: 0.3851 - val_loss: 0.4505 - val_mean_absolute_error: 0.4505 - val_mean_squared_error: 0.3972\n",
      "----Resultados sobre TRAIN----\n",
      "R2:  0.25835904068851956\n",
      "Adjusted R2:  0.2580271112721486\n",
      "MAPE: 67.60355503745149\n",
      "----Resultados sobre TEST----\n",
      "R2:  0.2002848302187672\n",
      "Adjusted R2:  0.19921006461933\n",
      "MAPE: 68.95232140057782\n"
     ]
    },
    {
     "data": {
      "image/png": "[encoded data removed]",
      "text/plain": [
       "<Figure size 432x288 with 1 Axes>"
      ]
     },
     "metadata": {
      "needs_background": "light"
     },
     "output_type": "display_data"
    },
    {
     "data": {
      "text/plain": [
       "0.2002848302187672"
      ]
     },
     "execution_count": 45,
     "metadata": {},
     "output_type": "execute_result"
    }
   ],
   "source": [
    "model = ep.build_model(train_dataset)\n",
    "ep.train_model(model, train_dataset, train_labels, 250)\n",
    "cm.evaluate_log_lin(test_dataset, test_labels, train_dataset, train_labels, model)"
   ]
  },
  {
   "cell_type": "markdown",
   "metadata": {},
   "source": [
    "### SubconjuntoTodo con RF - Regresión Lineal con constante"
   ]
  },
  {
   "cell_type": "code",
   "execution_count": 46,
   "metadata": {
    "scrolled": true
   },
   "outputs": [
    {
     "name": "stdout",
     "output_type": "stream",
     "text": [
      "----Resultados sobre TRAIN----\n",
      "R2:  0.07361318270604666\n",
      "Adjusted R2:  0.07319856828684901\n",
      "MAPE: 77.89096949397423\n",
      "----Resultados sobre TEST----\n",
      "R2:  0.0380038607996096\n",
      "Adjusted R2:  0.03671100004584038\n",
      "MAPE: 77.17212055151188\n"
     ]
    },
    {
     "data": {
      "image/png": "[encoded data removed]",
      "text/plain": [
       "<Figure size 432x288 with 1 Axes>"
      ]
     },
     "metadata": {
      "needs_background": "light"
     },
     "output_type": "display_data"
    },
    {
     "data": {
      "text/plain": [
       "0.0380038607996096"
      ]
     },
     "execution_count": 46,
     "metadata": {},
     "output_type": "execute_result"
    }
   ],
   "source": [
    "lr = LinearRegression(fit_intercept=True)\n",
    "lr.fit(train_dataset, train_labels)\n",
    "cm.evaluate_log_lin(test_dataset, test_labels, train_dataset, train_labels, lr)"
   ]
  },
  {
   "cell_type": "markdown",
   "metadata": {},
   "source": [
    "### Subconjunto Todo con RF - Random Forest"
   ]
  },
  {
   "cell_type": "code",
   "execution_count": 47,
   "metadata": {
    "scrolled": true
   },
   "outputs": [
    {
     "name": "stderr",
     "output_type": "stream",
     "text": [
      "[Parallel(n_jobs=4)]: Using backend ThreadingBackend with 4 concurrent workers.\n",
      "[Parallel(n_jobs=4)]: Done  42 tasks      | elapsed:  4.3min\n",
      "[Parallel(n_jobs=4)]: Done 100 out of 100 | elapsed:  9.0min finished\n",
      "[Parallel(n_jobs=4)]: Using backend ThreadingBackend with 4 concurrent workers.\n",
      "[Parallel(n_jobs=4)]: Done  42 tasks      | elapsed:    0.0s\n",
      "[Parallel(n_jobs=4)]: Done 100 out of 100 | elapsed:    0.2s finished\n",
      "[Parallel(n_jobs=4)]: Using backend ThreadingBackend with 4 concurrent workers.\n",
      "[Parallel(n_jobs=4)]: Done  42 tasks      | elapsed:    0.0s\n",
      "[Parallel(n_jobs=4)]: Done 100 out of 100 | elapsed:    0.0s finished\n"
     ]
    },
    {
     "name": "stdout",
     "output_type": "stream",
     "text": [
      "----Resultados sobre TRAIN----\n",
      "R2:  0.8342745389416508\n",
      "Adjusted R2:  0.8342003667227675\n",
      "MAPE: 19.290040127676278\n",
      "----Resultados sobre TEST----\n",
      "R2:  0.1597448972033323\n",
      "Adjusted R2:  0.15861564854910892\n",
      "MAPE: 64.60550832703579\n"
     ]
    },
    {
     "data": {
      "image/png": "[encoded data removed]",
      "text/plain": [
       "<Figure size 432x288 with 1 Axes>"
      ]
     },
     "metadata": {
      "needs_background": "light"
     },
     "output_type": "display_data"
    },
    {
     "data": {
      "text/plain": [
       "0.1597448972033323"
      ]
     },
     "execution_count": 47,
     "metadata": {},
     "output_type": "execute_result"
    }
   ],
   "source": [
    "regressor = RandomForestRegressor(100, criterion=\"mae\", verbose=1, n_jobs=4)\n",
    "regressor.fit(train_dataset, train_labels)\n",
    "cm.evaluate_log_lin(test_dataset, test_labels, train_dataset, train_labels, regressor)"
   ]
  },
  {
   "cell_type": "markdown",
   "metadata": {},
   "source": [
    "### Subconjunto Todo con RF - Regresión de Soporte Vectorial"
   ]
  },
  {
   "cell_type": "code",
   "execution_count": 48,
   "metadata": {
    "scrolled": true
   },
   "outputs": [
    {
     "name": "stdout",
     "output_type": "stream",
     "text": [
      "----Resultados sobre TRAIN----\n",
      "R2:  0.037008332503728036\n",
      "Adjusted R2:  0.03657733518872153\n",
      "MAPE: 87.00995629583892\n",
      "----Resultados sobre TEST----\n",
      "R2:  -0.05029254223872481\n",
      "Adjusted R2:  -0.05170406766227331\n",
      "MAPE: 85.95288097551061\n"
     ]
    },
    {
     "data": {
      "image/png": "[encoded data removed]",
      "text/plain": [
       "<Figure size 432x288 with 1 Axes>"
      ]
     },
     "metadata": {
      "needs_background": "light"
     },
     "output_type": "display_data"
    },
    {
     "data": {
      "text/plain": [
       "-0.05029254223872481"
      ]
     },
     "execution_count": 48,
     "metadata": {},
     "output_type": "execute_result"
    }
   ],
   "source": [
    "svr = svm.SVR(kernel='linear')\n",
    "svr.fit(train_dataset, train_labels)\n",
    "cm.evaluate_log_lin(test_dataset, test_labels, train_dataset, train_labels, svr)"
   ]
  },
  {
   "cell_type": "code",
   "execution_count": null,
   "metadata": {},
   "outputs": [],
   "source": []
  }
 ],
 "metadata": {
  "kernelspec": {
   "display_name": "Python 3",
   "language": "python",
   "name": "python3"
  },
  "language_info": {
   "codemirror_mode": {
    "name": "ipython",
    "version": 3
   },
   "file_extension": ".py",
   "mimetype": "text/x-python",
   "name": "python",
   "nbconvert_exporter": "python",
   "pygments_lexer": "ipython3",
   "version": "3.6.8"
  }
 },
 "nbformat": 4,
 "nbformat_minor": 4
}
