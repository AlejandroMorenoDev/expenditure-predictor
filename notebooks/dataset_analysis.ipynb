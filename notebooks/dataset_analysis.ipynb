{
 "cells": [
  {
   "cell_type": "code",
   "execution_count": 1,
   "metadata": {},
   "outputs": [],
   "source": [
    "import pandas as pd\n",
    "import tensorflow as tf\n",
    "import custom_metrics as cm\n",
    "import sklearn as sk\n",
    "import numpy as np\n",
    "import math\n",
    "import data_preprocessing as dp\n",
    "import expenditure_predictor as ep\n",
    "import matplotlib.pyplot as plt\n",
    "import feature_selection as fs\n",
    "import data_analysis as da\n",
    "import seaborn as sns\n",
    "from sklearn import preprocessing\n",
    "from sklearn.ensemble import RandomForestRegressor\n",
    "from tensorflow import keras\n",
    "from tensorflow.python.keras import layers\n",
    "from tensorflow.keras.models import load_model\n",
    "from sklearn.metrics import r2_score\n",
    "from sklearn.preprocessing import MinMaxScaler, StandardScaler\n",
    "from sklearn.feature_selection import SelectKBest\n",
    "from sklearn.feature_selection import f_regression\n",
    "from sklearn import svm\n",
    "from sklearn.linear_model import LinearRegression\n",
    "from statsmodels.stats.diagnostic import het_breuschpagan\n",
    "from statsmodels.stats.diagnostic import het_white\n",
    "from statsmodels.stats.diagnostic import kstest_normal\n",
    "import statsmodels.api as sm\n",
    "from statsmodels.formula.api import ols\n",
    "from sklearn import preprocessing"
   ]
  },
  {
   "cell_type": "markdown",
   "metadata": {},
   "source": [
    "# ¿Nuestro dataset sigue una distribución normal?  \n",
    "\n",
    "Antes de plantearnos qué tipo de escalado usar en los datos, debemos dar respuesta a esta pregunta.  \n",
    "Para ello recurriremos tanto a un análisis visual como a los tests pertinentes, como en este caso será el test de Kolmogorov-Smirnof"
   ]
  },
  {
   "cell_type": "code",
   "execution_count": 2,
   "metadata": {},
   "outputs": [
    {
     "name": "stderr",
     "output_type": "stream",
     "text": [
      "c:\\users\\amct2\\appdata\\local\\programs\\python\\python36\\lib\\site-packages\\IPython\\core\\interactiveshell.py:3254: DtypeWarning: Columns (140,141,142,143) have mixed types.Specify dtype option on import or set low_memory=False.\n",
      "  if (await self.run_code(code, result,  async_=asy)):\n",
      "C:\\Users\\amct2\\PycharmProjects\\tfg\\data_preprocessing.py:102: UserWarning: Boolean Series key will be reindexed to match DataFrame index.\n",
      "  x = x[(y > q1 - IQR)]\n"
     ]
    }
   ],
   "source": [
    "X = dp.load_dataset('./datos/GASTO_TURISTICO_2018_ORIGINAL_2.csv', ';', ',', predictors=None, dummies=False, desglose=False)\n",
    "X = pd.get_dummies(X)"
   ]
  },
  {
   "cell_type": "code",
   "execution_count": 3,
   "metadata": {},
   "outputs": [
    {
     "name": "stderr",
     "output_type": "stream",
     "text": [
      "c:\\users\\amct2\\appdata\\local\\programs\\python\\python36\\lib\\site-packages\\statsmodels\\stats\\_lilliefors.py:272: FutureWarning: The default pvalmethod will change from \"approx\" to \"table\" after 0.11. The \"table\" method uses values from a very large simulation and is more accurate.  Explicitly set this parameter to \"approx\" or \"table\" to silence this warning\n",
      "  warnings.warn(msg, FutureWarning)\n"
     ]
    }
   ],
   "source": [
    "y = X.pop('GASTO')\n",
    "normality_test = kstest_normal(y, dist='norm')"
   ]
  },
  {
   "cell_type": "markdown",
   "metadata": {},
   "source": [
    "H0: La muestra sigue una distribución normal  \n",
    "H1: La muestra NO sigue una distribución normal"
   ]
  },
  {
   "cell_type": "markdown",
   "metadata": {},
   "source": [
    "0.0 < 0.05 -> Rechazamos la hipótesis nula, la muestra no se distribuye siguiendo una normal"
   ]
  },
  {
   "cell_type": "code",
   "execution_count": 4,
   "metadata": {},
   "outputs": [
    {
     "name": "stdout",
     "output_type": "stream",
     "text": [
      "---Test de Kolmogorov-Smirnnof---\n",
      "{'KS Stat': 0.05886676258187584, 'KS-Test p-value': 0.0}\n",
      "Fallamos al aceptar la hipótesis nula, ergo la variable no se distribuye según una normal.\n"
     ]
    },
    {
     "data": {
      "image/png": "[encoded data removed]",
      "text/plain": [
       "<Figure size 432x288 with 1 Axes>"
      ]
     },
     "metadata": {
      "needs_background": "light"
     },
     "output_type": "display_data"
    }
   ],
   "source": [
    "da.normality_test(y)"
   ]
  },
  {
   "cell_type": "markdown",
   "metadata": {},
   "source": [
    "# Evaluación de la heterocedasticidad del modelo definitivo"
   ]
  },
  {
   "cell_type": "code",
   "execution_count": 7,
   "metadata": {
    "scrolled": true
   },
   "outputs": [
    {
     "name": "stderr",
     "output_type": "stream",
     "text": [
      "c:\\users\\amct2\\appdata\\local\\programs\\python\\python36\\lib\\site-packages\\IPython\\core\\interactiveshell.py:3254: DtypeWarning: Columns (140,141,142,143) have mixed types.Specify dtype option on import or set low_memory=False.\n",
      "  if (await self.run_code(code, result,  async_=asy)):\n"
     ]
    },
    {
     "name": "stdout",
     "output_type": "stream",
     "text": [
      "(35767, 13)\n",
      "(35767, 13)\n",
      "<bound method NDFrame.head of          NOCHES  PERSONAS_TOTAL  INGRESOS      EDAD  ACTIV_PISCINA  \\\n",
      "0      0.200000        0.071429     0.000  0.341772            1.0   \n",
      "1      0.233333        0.142857     0.392  0.316456            1.0   \n",
      "2      0.300000        0.071429     0.000  0.683544            0.0   \n",
      "3      0.100000        0.071429     0.392  0.164557            0.0   \n",
      "4      0.200000        0.214286     0.792  0.278481            1.0   \n",
      "...         ...             ...       ...       ...            ...   \n",
      "37899  0.133333        0.071429     0.792  0.556962            1.0   \n",
      "37900  0.433333        0.142857     1.000  0.417722            1.0   \n",
      "37901  0.333333        0.071429     0.392  0.164557            1.0   \n",
      "37902  0.200000        0.071429     0.392  0.139241            1.0   \n",
      "37903  0.433333        0.214286     0.392  0.468354            1.0   \n",
      "\n",
      "       ACTIV_PARQUES_OCIO  ALOJ_CATEG_HOTEL4  ALOJ_CATEG_HOTEL5  \\\n",
      "0                     0.0                0.0                0.0   \n",
      "1                     0.0                1.0                0.0   \n",
      "2                     0.0                0.0                0.0   \n",
      "3                     0.0                1.0                0.0   \n",
      "4                     0.0                0.0                0.0   \n",
      "...                   ...                ...                ...   \n",
      "37899                 1.0                1.0                0.0   \n",
      "37900                 0.0                1.0                0.0   \n",
      "37901                 0.0                1.0                0.0   \n",
      "37902                 1.0                0.0                0.0   \n",
      "37903                 1.0                0.0                0.0   \n",
      "\n",
      "       PAQUETE_TURISTICO_ALGUNO_GRATIS  ALOJ_CATEG_PROPIA  \\\n",
      "0                                  1.0                1.0   \n",
      "1                                  0.0                0.0   \n",
      "2                                  0.0                0.0   \n",
      "3                                  0.0                0.0   \n",
      "4                                  0.0                0.0   \n",
      "...                                ...                ...   \n",
      "37899                              0.0                0.0   \n",
      "37900                              0.0                0.0   \n",
      "37901                              0.0                0.0   \n",
      "37902                              0.0                0.0   \n",
      "37903                              0.0                0.0   \n",
      "\n",
      "       PAQUETE_TURISTICO_SI  NACIONALIDAD_ESP724  \n",
      "0                       0.0                  1.0  \n",
      "1                       0.0                  0.0  \n",
      "2                       0.0                  0.0  \n",
      "3                       0.0                  0.0  \n",
      "4                       0.0                  1.0  \n",
      "...                     ...                  ...  \n",
      "37899                   1.0                  0.0  \n",
      "37900                   0.0                  0.0  \n",
      "37901                   1.0                  0.0  \n",
      "37902                   1.0                  0.0  \n",
      "37903                   0.0                  0.0  \n",
      "\n",
      "[35767 rows x 12 columns]>\n",
      "GASTO~+NOCHES+PERSONAS_TOTAL+INGRESOS+EDAD+ACTIV_PISCINA+ACTIV_PARQUES_OCIO+ALOJ_CATEG_HOTEL4+ALOJ_CATEG_HOTEL5+PAQUETE_TURISTICO_ALGUNO_GRATIS+ALOJ_CATEG_PROPIA+PAQUETE_TURISTICO_SI+NACIONALIDAD_ESP724\n"
     ]
    },
    {
     "name": "stderr",
     "output_type": "stream",
     "text": [
      "C:\\Users\\amct2\\PycharmProjects\\tfg\\data_preprocessing.py:102: UserWarning: Boolean Series key will be reindexed to match DataFrame index.\n",
      "  x = x[(y > q1 - IQR)]\n"
     ]
    }
   ],
   "source": [
    "literatura_corr1 = ['NOCHES', 'PERSONAS_TOTAL', 'INGRESOS', 'EDAD', 'ACTIV_PISCINA',\n",
    "                    'ACTIV_PARQUES_OCIO', 'ALOJ_CATEG_HOTEL4', 'ALOJ_CATEG_HOTEL5',\n",
    "                    'PAQUETE_TURISTICO_ALGUNO_GRATIS', 'ALOJ_CATEG_PROPIA',\n",
    "                    'PAQUETE_TURISTICO_SI','NACIONALIDAD_ESP724' ]\n",
    "\n",
    "\n",
    "X = dp.load_dataset('./datos/GASTO_TURISTICO_2018_ORIGINAL_2.csv', ';', ',', predictors=literatura_corr1, dummies=True, desglose=False)\n",
    "\n",
    "print(X.shape)\n",
    "\n",
    "for col in X.columns:\n",
    "        if col.endswith('NO_SABE') or col.endswith('NO_CONTESTA') or col.endswith('-1'):\n",
    "            X = X.loc[X[col] == 0]\n",
    "            X.pop(col)\n",
    "print(X.shape)\n",
    "\n",
    "y = X.pop('GASTO')\n",
    "\n",
    "\n",
    "scaler = MinMaxScaler()\n",
    "X = pd.DataFrame(scaler.fit_transform(X.values), columns=X.columns, index=X.index)\n",
    "print(X.head)\n",
    "\n",
    "form ='GASTO~' \n",
    "for col in X.columns:\n",
    "    form +='+'+col\n",
    "print(form)\n",
    "X['GASTO'] = y\n"
   ]
  },
  {
   "cell_type": "code",
   "execution_count": 8,
   "metadata": {},
   "outputs": [
    {
     "name": "stdout",
     "output_type": "stream",
     "text": [
      "---Test de White---\n",
      "{'LM Statistic': 4145.6350160004595, 'LM-Test p-value': 0.0, 'F-Statistic': 59.98436399822094, 'F-Test p-value': 0.0}\n",
      "---Test de BP---\n",
      "{'LM Statistic': 3209.8799664602025, 'LM-Test p-value': 0.0, 'F-Statistic': 293.75563164726066, 'F-Test p-value': 0.0}\n"
     ]
    }
   ],
   "source": [
    "expenditure_model = ols(formula=form, data=X).fit()\n",
    "da.heteroskedasticity_test(X, form)"
   ]
  },
  {
   "cell_type": "code",
   "execution_count": 9,
   "metadata": {
    "scrolled": true
   },
   "outputs": [
    {
     "data": {
      "text/html": [
       "<table class=\"simpletable\">\n",
       "<caption>OLS Regression Results</caption>\n",
       "<tr>\n",
       "  <th>Dep. Variable:</th>          <td>GASTO</td>      <th>  R-squared:         </th>  <td>   0.506</td>  \n",
       "</tr>\n",
       "<tr>\n",
       "  <th>Model:</th>                   <td>OLS</td>       <th>  Adj. R-squared:    </th>  <td>   0.506</td>  \n",
       "</tr>\n",
       "<tr>\n",
       "  <th>Method:</th>             <td>Least Squares</td>  <th>  F-statistic:       </th>  <td>   3051.</td>  \n",
       "</tr>\n",
       "<tr>\n",
       "  <th>Date:</th>             <td>Tue, 15 Sep 2020</td> <th>  Prob (F-statistic):</th>   <td>  0.00</td>   \n",
       "</tr>\n",
       "<tr>\n",
       "  <th>Time:</th>                 <td>20:49:55</td>     <th>  Log-Likelihood:    </th> <td>-2.9286e+05</td>\n",
       "</tr>\n",
       "<tr>\n",
       "  <th>No. Observations:</th>      <td> 35767</td>      <th>  AIC:               </th>  <td>5.857e+05</td> \n",
       "</tr>\n",
       "<tr>\n",
       "  <th>Df Residuals:</th>          <td> 35754</td>      <th>  BIC:               </th>  <td>5.859e+05</td> \n",
       "</tr>\n",
       "<tr>\n",
       "  <th>Df Model:</th>              <td>    12</td>      <th>                     </th>      <td> </td>     \n",
       "</tr>\n",
       "<tr>\n",
       "  <th>Covariance Type:</th>      <td>nonrobust</td>    <th>                     </th>      <td> </td>     \n",
       "</tr>\n",
       "</table>\n",
       "<table class=\"simpletable\">\n",
       "<tr>\n",
       "                 <td></td>                    <th>coef</th>     <th>std err</th>      <th>t</th>      <th>P>|t|</th>  <th>[0.025</th>    <th>0.975]</th>  \n",
       "</tr>\n",
       "<tr>\n",
       "  <th>Intercept</th>                       <td>   18.9643</td> <td>   18.216</td> <td>    1.041</td> <td> 0.298</td> <td>  -16.739</td> <td>   54.668</td>\n",
       "</tr>\n",
       "<tr>\n",
       "  <th>NOCHES</th>                          <td> 3054.3607</td> <td>   37.460</td> <td>   81.536</td> <td> 0.000</td> <td> 2980.938</td> <td> 3127.784</td>\n",
       "</tr>\n",
       "<tr>\n",
       "  <th>PERSONAS_TOTAL</th>                  <td> 6466.5808</td> <td>   56.919</td> <td>  113.611</td> <td> 0.000</td> <td> 6355.018</td> <td> 6578.143</td>\n",
       "</tr>\n",
       "<tr>\n",
       "  <th>INGRESOS</th>                        <td>  377.5077</td> <td>   13.828</td> <td>   27.300</td> <td> 0.000</td> <td>  350.404</td> <td>  404.611</td>\n",
       "</tr>\n",
       "<tr>\n",
       "  <th>EDAD</th>                            <td>  430.6135</td> <td>   26.194</td> <td>   16.439</td> <td> 0.000</td> <td>  379.273</td> <td>  481.954</td>\n",
       "</tr>\n",
       "<tr>\n",
       "  <th>ACTIV_PISCINA</th>                   <td>   97.1014</td> <td>    9.971</td> <td>    9.739</td> <td> 0.000</td> <td>   77.558</td> <td>  116.644</td>\n",
       "</tr>\n",
       "<tr>\n",
       "  <th>ACTIV_PARQUES_OCIO</th>              <td>  144.5378</td> <td>   13.215</td> <td>   10.937</td> <td> 0.000</td> <td>  118.635</td> <td>  170.441</td>\n",
       "</tr>\n",
       "<tr>\n",
       "  <th>ALOJ_CATEG_HOTEL4</th>               <td>  234.0030</td> <td>   10.637</td> <td>   21.998</td> <td> 0.000</td> <td>  213.154</td> <td>  254.852</td>\n",
       "</tr>\n",
       "<tr>\n",
       "  <th>ALOJ_CATEG_HOTEL5</th>               <td>  749.3462</td> <td>   20.323</td> <td>   36.871</td> <td> 0.000</td> <td>  709.512</td> <td>  789.181</td>\n",
       "</tr>\n",
       "<tr>\n",
       "  <th>PAQUETE_TURISTICO_ALGUNO_GRATIS</th> <td> -592.4266</td> <td>   21.831</td> <td>  -27.137</td> <td> 0.000</td> <td> -635.216</td> <td> -549.637</td>\n",
       "</tr>\n",
       "<tr>\n",
       "  <th>ALOJ_CATEG_PROPIA</th>               <td> -142.6173</td> <td>   25.645</td> <td>   -5.561</td> <td> 0.000</td> <td> -192.883</td> <td>  -92.352</td>\n",
       "</tr>\n",
       "<tr>\n",
       "  <th>PAQUETE_TURISTICO_SI</th>            <td>  505.4982</td> <td>   10.635</td> <td>   47.533</td> <td> 0.000</td> <td>  484.654</td> <td>  526.342</td>\n",
       "</tr>\n",
       "<tr>\n",
       "  <th>NACIONALIDAD_ESP724</th>             <td> -108.4058</td> <td>   13.155</td> <td>   -8.241</td> <td> 0.000</td> <td> -134.190</td> <td>  -82.622</td>\n",
       "</tr>\n",
       "</table>\n",
       "<table class=\"simpletable\">\n",
       "<tr>\n",
       "  <th>Omnibus:</th>       <td>1496.471</td> <th>  Durbin-Watson:     </th> <td>   2.016</td>\n",
       "</tr>\n",
       "<tr>\n",
       "  <th>Prob(Omnibus):</th>  <td> 0.000</td>  <th>  Jarque-Bera (JB):  </th> <td>2823.286</td>\n",
       "</tr>\n",
       "<tr>\n",
       "  <th>Skew:</th>           <td> 0.324</td>  <th>  Prob(JB):          </th> <td>    0.00</td>\n",
       "</tr>\n",
       "<tr>\n",
       "  <th>Kurtosis:</th>       <td> 4.214</td>  <th>  Cond. No.          </th> <td>    19.5</td>\n",
       "</tr>\n",
       "</table><br/><br/>Warnings:<br/>[1] Standard Errors assume that the covariance matrix of the errors is correctly specified."
      ],
      "text/plain": [
       "<class 'statsmodels.iolib.summary.Summary'>\n",
       "\"\"\"\n",
       "                            OLS Regression Results                            \n",
       "==============================================================================\n",
       "Dep. Variable:                  GASTO   R-squared:                       0.506\n",
       "Model:                            OLS   Adj. R-squared:                  0.506\n",
       "Method:                 Least Squares   F-statistic:                     3051.\n",
       "Date:                Tue, 15 Sep 2020   Prob (F-statistic):               0.00\n",
       "Time:                        20:49:55   Log-Likelihood:            -2.9286e+05\n",
       "No. Observations:               35767   AIC:                         5.857e+05\n",
       "Df Residuals:                   35754   BIC:                         5.859e+05\n",
       "Df Model:                          12                                         \n",
       "Covariance Type:            nonrobust                                         \n",
       "===================================================================================================\n",
       "                                      coef    std err          t      P>|t|      [0.025      0.975]\n",
       "---------------------------------------------------------------------------------------------------\n",
       "Intercept                          18.9643     18.216      1.041      0.298     -16.739      54.668\n",
       "NOCHES                           3054.3607     37.460     81.536      0.000    2980.938    3127.784\n",
       "PERSONAS_TOTAL                   6466.5808     56.919    113.611      0.000    6355.018    6578.143\n",
       "INGRESOS                          377.5077     13.828     27.300      0.000     350.404     404.611\n",
       "EDAD                              430.6135     26.194     16.439      0.000     379.273     481.954\n",
       "ACTIV_PISCINA                      97.1014      9.971      9.739      0.000      77.558     116.644\n",
       "ACTIV_PARQUES_OCIO                144.5378     13.215     10.937      0.000     118.635     170.441\n",
       "ALOJ_CATEG_HOTEL4                 234.0030     10.637     21.998      0.000     213.154     254.852\n",
       "ALOJ_CATEG_HOTEL5                 749.3462     20.323     36.871      0.000     709.512     789.181\n",
       "PAQUETE_TURISTICO_ALGUNO_GRATIS  -592.4266     21.831    -27.137      0.000    -635.216    -549.637\n",
       "ALOJ_CATEG_PROPIA                -142.6173     25.645     -5.561      0.000    -192.883     -92.352\n",
       "PAQUETE_TURISTICO_SI              505.4982     10.635     47.533      0.000     484.654     526.342\n",
       "NACIONALIDAD_ESP724              -108.4058     13.155     -8.241      0.000    -134.190     -82.622\n",
       "==============================================================================\n",
       "Omnibus:                     1496.471   Durbin-Watson:                   2.016\n",
       "Prob(Omnibus):                  0.000   Jarque-Bera (JB):             2823.286\n",
       "Skew:                           0.324   Prob(JB):                         0.00\n",
       "Kurtosis:                       4.214   Cond. No.                         19.5\n",
       "==============================================================================\n",
       "\n",
       "Warnings:\n",
       "[1] Standard Errors assume that the covariance matrix of the errors is correctly specified.\n",
       "\"\"\""
      ]
     },
     "execution_count": 9,
     "metadata": {},
     "output_type": "execute_result"
    }
   ],
   "source": [
    "# Con literatura corr 0,1\n",
    "expenditure_model.summary()"
   ]
  },
  {
   "cell_type": "code",
   "execution_count": null,
   "metadata": {},
   "outputs": [],
   "source": []
  }
 ],
 "metadata": {
  "kernelspec": {
   "display_name": "Python 3",
   "language": "python",
   "name": "python3"
  },
  "language_info": {
   "codemirror_mode": {
    "name": "ipython",
    "version": 3
   },
   "file_extension": ".py",
   "mimetype": "text/x-python",
   "name": "python",
   "nbconvert_exporter": "python",
   "pygments_lexer": "ipython3",
   "version": "3.6.8"
  }
 },
 "nbformat": 4,
 "nbformat_minor": 4
}
